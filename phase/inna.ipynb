{
 "cells": [
  {
   "cell_type": "code",
   "execution_count": null,
   "metadata": {
    "collapsed": true
   },
   "outputs": [],
   "source": [
    "%matplotlib inline"
   ]
  },
  {
   "cell_type": "code",
   "execution_count": null,
   "metadata": {
    "collapsed": false
   },
   "outputs": [],
   "source": [
    "import os\n",
    "import glob\n",
    "\n",
    "import numpy as np\n",
    "import pylab as plt\n",
    "\n",
    "import astra\n",
    "import tomopy\n",
    "import cv2\n",
    "from pprint import pprint\n",
    "import h5py\n",
    "\n",
    "import astra"
   ]
  },
  {
   "cell_type": "code",
   "execution_count": null,
   "metadata": {
    "collapsed": true
   },
   "outputs": [],
   "source": [
    "def log_progress(sequence, every=None, size=None):\n",
    "    from ipywidgets import IntProgress, HTML, VBox\n",
    "    from IPython.display import display\n",
    "\n",
    "    is_iterator = False\n",
    "    if size is None:\n",
    "        try:\n",
    "            size = len(sequence)\n",
    "        except TypeError:\n",
    "            is_iterator = True\n",
    "    if size is not None:\n",
    "        if every is None:\n",
    "            if size <= 200:\n",
    "                every = 1\n",
    "            else:\n",
    "                every = size / 200     # every 0.5%\n",
    "    else:\n",
    "        assert every is not None, 'sequence is iterator, set every'\n",
    "\n",
    "    if is_iterator:\n",
    "        progress = IntProgress(min=0, max=1, value=1)\n",
    "        progress.bar_style = 'info'\n",
    "    else:\n",
    "        progress = IntProgress(min=0, max=size, value=0)\n",
    "    label = HTML()\n",
    "    box = VBox(children=[label, progress])\n",
    "    display(box)\n",
    "\n",
    "    index = 0\n",
    "    try:\n",
    "        for index, record in enumerate(sequence, 1):\n",
    "            if index == 1 or index % every == 0:\n",
    "                if is_iterator:\n",
    "                    label.value = '{index} / ?'.format(index=index)\n",
    "                else:\n",
    "                    progress.value = index\n",
    "                    label.value = u'{index} / {size}'.format(\n",
    "                        index=index,\n",
    "                        size=size\n",
    "                    )\n",
    "            yield record\n",
    "    except:\n",
    "        progress.bar_style = 'danger'\n",
    "        raise\n",
    "    else:\n",
    "        progress.bar_style = 'success'\n",
    "        progress.value = index\n",
    "        label.value = str(index or '?')"
   ]
  },
  {
   "cell_type": "code",
   "execution_count": null,
   "metadata": {
    "collapsed": true
   },
   "outputs": [],
   "source": [
    "working_dir = '/diskmnt/a/makov/tomo_data/bukreeva/ESRF_osso_2016/56A_bone_/'"
   ]
  },
  {
   "cell_type": "code",
   "execution_count": null,
   "metadata": {
    "collapsed": false
   },
   "outputs": [],
   "source": [
    "config_file = glob.glob(os.path.join(working_dir,'*.cfg'))[0]"
   ]
  },
  {
   "cell_type": "code",
   "execution_count": null,
   "metadata": {
    "collapsed": false
   },
   "outputs": [],
   "source": [
    "# %load /diskmnt/a/makov/tomo_data/bukreeva/ESRF_osso_2016/56A_bone_/56A_bone_.cfg\n",
    "local_tmp_dir /tmp\n",
    "default_data_dir /tmp\n",
    "acc_max_expo_time 1\n",
    "disable_motor_poll 0\n",
    "read_srcur 0\n",
    "images_at_end_as_quali 0\n",
    "save_separate_dark_image 0\n",
    "accel_disp -1\n",
    "ref_at_end_after_rotating 0\n",
    "ref_power 0\n",
    "rounding_correction 0\n",
    "secured 0\n",
    "TOMO_DB 1\n",
    "XSHUTTER_TIME 7\n",
    "Z_STEP 0\n",
    "Y_STEP -25\n",
    "DARK_N 10\n",
    "REF_N 10\n",
    "REF_ON 2000\n",
    "TOMO_EXPTIME 1\n",
    "TOMO_N 2000\n",
    "DISTANCE 11000\n",
    "ENERGY 30\n",
    "srcur_stop 92.0568\n",
    "scan_duration 2148.74\n",
    "acc_expo_time 1\n",
    "acc_nb_frames 1\n",
    "display_start_frame 0\n",
    "real_final_angles 180.001016\n",
    "real_start_angles \n",
    "srcur_start 90.8094\n",
    "ccd_acq_mode SINGLE\n",
    "tomo_scan_range 180\n",
    "latency_time 0.005\n",
    "readout_time 2e-05\n",
    "ccd_mode FFM\n",
    "ct_angle 90\n",
    "no_ignore_mi_errors 0\n",
    "use_soft_shutter 0\n",
    "ftm_noshutter 1\n",
    "no_dir_moved_check 0\n",
    "beam_check_thres 20\n",
    "beam_check 0\n",
    "no_return_at_end 1\n",
    "auto_update_ref 0\n",
    "source_sample_distance 145000\n",
    "start_pos 0\n",
    "no_xml_file 0\n",
    "ref_mot_settle_time 2\n",
    "open_slits_on_quali 0\n",
    "quali_images_on_ref 0\n",
    "mono_tune_on_ref_freq 1\n",
    "mono_tune_on_ref 0\n",
    "mono_tune_on_start 0\n",
    "no_check_safshut 0\n",
    "beeps_at_end 5\n",
    "no_ref_at_end 0\n",
    "shifted_images_at_end 0\n",
    "no_images_at_end 1\n",
    "minimum_accel_disp 0.001\n",
    "interlaced 0\n",
    "return_btw_turns 1\n",
    "noref_btw_turns 0\n",
    "shift_turns 1\n",
    "shift_angle 0\n",
    "half_orig_pos 0\n",
    "half_fov_factor 0\n",
    "half_acq 0\n",
    "safe_time 0.005\n",
    "rot_accel_disp -1\n",
    "speed_corr_factor -1\n",
    "icat_on 0\n",
    "use_safshut 1\n",
    "transfer_to_nice 2\n",
    "data_dir /data/visitor/md876/id17/Uccelli\n",
    "focus_is_modifiable 1\n",
    "magnification 20\n",
    "ccd_pixel_size 6.5\n",
    "inited 1\n",
    "optics_name UserOptics\n",
    "optics_type User\n",
    "scintillator GGG_10\n",
    "focus_scan_steps 10\n",
    "focus_scan_range 20\n",
    "focus_lim_neg -1000\n",
    "focus_lim_pos 1000\n",
    "focus_prev_step_size 0\n",
    "focus_step_size 133.333\n",
    "focus_type Rotation\n",
    "focus_mot focus\n",
    "ccd_flip_horz 0\n",
    "ccd_flip_vert 1\n",
    "optics_eyepiece 0\n",
    "optics_objective 20\n",
    "pixel_size_correct_ask 1\n",
    "pixel_size_correct 3.04\n",
    "unbinned_pixel_size 3.04\n",
    "manual_pixel_size 0\n",
    "images_per_step 1\n",
    "no_accel_corr 0\n",
    "scan_type 2\n",
    "live_correction 0\n",
    "distance_macro ftomo_id17_get_distance\n",
    "mono_macro ftomo_id17_mono_control\n",
    "info_macro ftomo_id17_get_info\n",
    "optics_macro ftomo_id17_optics_control\n",
    "opiom_restore_macro ftomo_id17_opiom_restore\n",
    "opiom_setup_macro ftomo_id17_opiom_setup\n",
    "fs_macro ftomo_id17_fastshutter\n",
    "saf_shut exp2\n",
    "def_speed_corr_factor -1\n",
    "cam_x_mot xc\n",
    "lat_align_mot yrot\n",
    "ref_mot yrot\n",
    "rot_mot srot\n",
    "image_pixel_size 3.04\n"
   ]
  },
  {
   "cell_type": "code",
   "execution_count": null,
   "metadata": {
    "collapsed": true
   },
   "outputs": [],
   "source": [
    "# %load /diskmnt/a/makov/tomo_data/bukreeva/ESRF_osso_2016/56A_bone_/56A_bone_.info\n",
    "Energy=                 30\n",
    "Distance=               11000\n",
    "Prefix=                 56A_bone_\n",
    "Directory=              /data/visitor/md876/id17/Uccelli/56A_bone_\n",
    "ScanRange=              180\n",
    "TOMO_N=                 2000\n",
    "REF_ON=                 2000\n",
    "REF_N=                  10\n",
    "DARK_N=                 10\n",
    "Y_STEP=                 -25\n",
    "Z_STEP=                 0\n",
    "Dim_1=                  2560\n",
    "Dim_2=                  2160\n",
    "Count_time=             1\n",
    "Latency_time (s)=       0.005\n",
    "Shutter_time=           7\n",
    "Col_end=                2559\n",
    "Col_beg=                0\n",
    "Row_end=                2159\n",
    "Row_beg=                0\n",
    "Optic_used=             3.04\n",
    "PixelSize=              2.83\n",
    "Date=                   Sat Apr 30 14:24:43 2016\n",
    "Scan_Type=              continuous\n",
    "CCD_Mode=               FFM\n",
    "SrCurrent=              90.8094\n",
    "CTAngle=                90\n",
    "Comment=                \n"
   ]
  },
  {
   "cell_type": "code",
   "execution_count": null,
   "metadata": {
    "collapsed": true
   },
   "outputs": [],
   "source": [
    "# %load /diskmnt/a/makov/tomo_data/bukreeva/ESRF_osso_2016/56A_bone_/56A_bone_.rec\n",
    "Scan_Name radix = 56A_bone_\n",
    "WF_name = ref0005_0000.edf\n",
    "Number_of_WF in the file = 10\n",
    "Number_of_projections = 2000\n",
    "CT_Range (180/360) = 180\n",
    "Sample_Positioning (left/right) = right\n",
    "Half_Acquisition (yes/no)? = no \n",
    "Reconstruction_starts in line = 1\n",
    "Reconstruction_ends in line = 2160\n",
    "Rotation_Axis (H/V) = V\n",
    "\t\t\t\t \n",
    "###DEFINE ROI####\n",
    "\t\t\t\t \n",
    "y_start = 1\n",
    "y_end = 2160\n",
    "Width = 2560\n",
    "Height = 2160\n",
    "Pixel_Size = 3.04\n",
    "BinningXY = 1\n",
    "BinningZ = 1\n",
    "\t\t\t\t \n",
    "###DEFINE PBI PHASE RETRIEVAL###\n",
    "\t\t\t\t \n",
    "Do_Paganin (yes/no)? = yes\n",
    "Paganin_Length = 300 \n",
    "Ring_Correction (yes/no) = no \n",
    "\t\t\t\t \n",
    "###MISCELLANEOUS###\n",
    "Only_CT (yes/no)? = yes\n",
    "\n",
    "Make_Sinos = no\n"
   ]
  },
  {
   "cell_type": "code",
   "execution_count": null,
   "metadata": {
    "collapsed": false
   },
   "outputs": [],
   "source": [
    "ref_files = glob.glob(os.path.join(working_dir,'refHST*.edf'))\n",
    "ref_files = sorted(ref_files)\n",
    "print len(ref_files)\n",
    "pprint(ref_files)\n",
    "\n",
    "dark_files = glob.glob(os.path.join(working_dir,'dark*.edf'))\n",
    "dark_files = sorted(dark_files)\n",
    "print(len(dark_files))\n",
    "pprint(dark_files)\n",
    "\n",
    "data_files = glob.glob(os.path.join(working_dir,'56A_bone*.edf'))\n",
    "data_files = sorted(data_files)\n",
    "print(len(data_files))\n",
    "# pprint(data_files)\n",
    "\n",
    "all_files = glob.glob(os.path.join(working_dir,'*.edf'))\n",
    "other_files = set(all_files)-set(data_files)-set(dark_files)-set(ref_files)\n",
    "\n",
    "# pprint(other_files)\n"
   ]
  },
  {
   "cell_type": "code",
   "execution_count": null,
   "metadata": {
    "collapsed": true
   },
   "outputs": [],
   "source": [
    "def read_edf(x):\n",
    "    return tomopy.io.reader.EdfFile.EdfFile(x).GetData(0)"
   ]
  },
  {
   "cell_type": "code",
   "execution_count": null,
   "metadata": {
    "collapsed": false
   },
   "outputs": [],
   "source": [
    "ref = read_edf(ref_files[0])\n",
    "plt.figure(figsize=(15,10))\n",
    "plt.imshow(ref, cmap=plt.cm.viridis)\n",
    "plt.colorbar()\n",
    "plt.title('reference')\n",
    "plt.show()"
   ]
  },
  {
   "cell_type": "code",
   "execution_count": null,
   "metadata": {
    "collapsed": false
   },
   "outputs": [],
   "source": [
    "dark = read_edf(dark_files[0])\n",
    "\n",
    "plt.figure(figsize=(15,10))\n",
    "plt.imshow(dark, cmap=plt.cm.viridis)\n",
    "plt.colorbar()\n",
    "plt.title('dark')\n",
    "plt.show()"
   ]
  },
  {
   "cell_type": "code",
   "execution_count": null,
   "metadata": {
    "collapsed": false
   },
   "outputs": [],
   "source": [
    "ref = ref-dark\n",
    "ref[ref<0]=0\n",
    "\n",
    "plt.figure(figsize=(15,10))\n",
    "plt.imshow(ref, cmap=plt.cm.viridis)\n",
    "plt.colorbar()\n",
    "plt.title('reference')\n",
    "plt.show()"
   ]
  },
  {
   "cell_type": "code",
   "execution_count": null,
   "metadata": {
    "collapsed": false
   },
   "outputs": [],
   "source": [
    "data  = read_edf(data_files[1000])\n",
    "data = data-dark\n",
    "\n",
    "data = data/ref\n",
    "\n",
    "plt.figure(figsize=(15,10))\n",
    "plt.imshow(data, cmap=plt.cm.viridis)\n",
    "plt.colorbar()\n",
    "plt.title('reference')\n",
    "plt.show()"
   ]
  },
  {
   "cell_type": "code",
   "execution_count": null,
   "metadata": {
    "collapsed": false
   },
   "outputs": [],
   "source": [
    "xt = np.expand_dims(data, axis=0)\n",
    "xp = tomopy.prep.phase.retrieve_phase(xt, pixel_size=3.04e-4, dist=1100, energy=30)"
   ]
  },
  {
   "cell_type": "code",
   "execution_count": null,
   "metadata": {
    "collapsed": false
   },
   "outputs": [],
   "source": [
    "plt.figure(figsize=(15,10))\n",
    "plt.imshow(np.squeeze(xp), cmap=plt.cm.viridis)\n",
    "plt.colorbar()\n",
    "plt.title('reference')\n",
    "plt.show()"
   ]
  },
  {
   "cell_type": "code",
   "execution_count": null,
   "metadata": {
    "collapsed": false
   },
   "outputs": [],
   "source": [
    "small_ref = ref\n",
    "small_dark = dark\n",
    "\n",
    "tmp_sino_file = 'sino.h5'\n",
    "with h5py.File(tmp_sino_file,'w') as h5f:\n",
    "    for idf,f in enumerate(log_progress(data_files)):\n",
    "        d = read_edf(f)\n",
    "        d = (d-small_dark)/small_ref\n",
    "        dt = np.expand_dims(d, axis=0)\n",
    "        xp = tomopy.prep.phase.retrieve_phase(dt, pixel_size=3.04e-4, dist=1100, energy=30)\n",
    "        h5f.create_dataset(str(idf), data=np.squeeze(xp), compression=\"gzip\")"
   ]
  },
  {
   "cell_type": "code",
   "execution_count": null,
   "metadata": {
    "collapsed": false
   },
   "outputs": [],
   "source": [
    "tmp_sino_file = 'sino.h5'\n",
    "sinogram = []\n",
    "raw = 1000\n",
    "with h5py.File(tmp_sino_file) as h5f:\n",
    "    for idk, k in enumerate(log_progress(range(len(h5f.keys())))):\n",
    "        sinogram.append(h5f[str(idk)][raw])\n",
    "sinogram = np.array(sinogram)"
   ]
  },
  {
   "cell_type": "code",
   "execution_count": null,
   "metadata": {
    "collapsed": false
   },
   "outputs": [],
   "source": [
    "plt.figure(figsize=(15,10))\n",
    "plt.imshow(sinogram, cmap=plt.cm.viridis)\n",
    "plt.colorbar()\n",
    "plt.title('reference')\n",
    "plt.show()"
   ]
  },
  {
   "cell_type": "code",
   "execution_count": null,
   "metadata": {
    "collapsed": false
   },
   "outputs": [],
   "source": [
    "sino_pp = sinogram.T/sinogram.sum(axis=-1)*sinogram.sum(axis=-1).mean()\n",
    "sino_pp = sino_pp.T"
   ]
  },
  {
   "cell_type": "code",
   "execution_count": null,
   "metadata": {
    "collapsed": false
   },
   "outputs": [],
   "source": [
    "plt.figure(figsize=(15,10))\n",
    "plt.imshow(sino_pp, cmap=plt.cm.viridis)\n",
    "plt.colorbar()\n",
    "plt.title('normalized')\n",
    "plt.show()"
   ]
  },
  {
   "cell_type": "code",
   "execution_count": null,
   "metadata": {
    "collapsed": false
   },
   "outputs": [],
   "source": [
    "sino_pp_log = -np.log(sino_pp)\n",
    "\n",
    "sino_pp_log[sino_pp_log<0] = 0\n",
    "\n",
    "plt.figure(figsize=(15,10))\n",
    "plt.imshow(sino_pp_log, cmap=plt.cm.viridis)\n",
    "plt.colorbar()\n",
    "plt.title('log')\n",
    "plt.show()"
   ]
  },
  {
   "cell_type": "code",
   "execution_count": null,
   "metadata": {
    "collapsed": false
   },
   "outputs": [],
   "source": [
    "plt.figure(figsize=(15,10))\n",
    "plt.plot(sino_pp_log[0])\n",
    "plt.plot(np.flipud(sino_pp_log[-1]))\n",
    "plt.grid()\n",
    "plt.show()"
   ]
  },
  {
   "cell_type": "code",
   "execution_count": null,
   "metadata": {
    "collapsed": false
   },
   "outputs": [],
   "source": [
    "delta = 9\n",
    "s0 = sino_pp_log[0][delta:][1500:2500]\n",
    "s1 = np.flipud(sino_pp_log[-1][delta:])[1500:2500]\n",
    "plt.figure(figsize=(15,10))\n",
    "plt.plot(s0)\n",
    "plt.plot(s1)\n",
    "plt.plot((s0-s1)*10)\n",
    "plt.grid()\n",
    "plt.show()"
   ]
  },
  {
   "cell_type": "code",
   "execution_count": null,
   "metadata": {
    "collapsed": true
   },
   "outputs": [],
   "source": [
    "def build_reconstruction_geomety(detector_size, angles):\n",
    "    proj_geom = astra.create_proj_geom('parallel', 1.0, detector_size, angles)\n",
    "    return proj_geom"
   ]
  },
  {
   "cell_type": "code",
   "execution_count": null,
   "metadata": {
    "collapsed": true
   },
   "outputs": [],
   "source": [
    "def astra_tomo2d(sinogram, angles):\n",
    "    angles = angles.astype('float64') # hack for astra stability, may be removed in future releases\n",
    "    detector_size = sinogram.shape[1]\n",
    "    \n",
    "\n",
    "    rec_size = detector_size # size of reconstruction region\n",
    "    vol_geom = astra.create_vol_geom(rec_size, rec_size)\n",
    "\n",
    "    proj_geom = build_reconstruction_geomety(detector_size, angles)\n",
    "    \n",
    "    sinogram_id = astra.data2d.create('-sino', proj_geom, data=sinogram)\n",
    "    # Create a data object for the reconstruction\n",
    "    rec_id = astra.data2d.create('-vol', vol_geom)\n",
    "\n",
    "    # Set up the parameters for a reconstruction algorithm using the GPU\n",
    "    cfg = astra.astra_dict('FBP_CUDA')\n",
    "    cfg['ReconstructionDataId'] = rec_id\n",
    "    cfg['ProjectionDataId'] = sinogram_id\n",
    "    cfg['option'] = {}\n",
    "#     cfg['option']['ShortScan'] = True\n",
    "    cfg['option']['MinConstraint'] = 0\n",
    "#     cfg['option']['MaxConstraint'] = 0.02\n",
    "\n",
    "    # Available algorithms:\n",
    "    # SIRT_CUDA, SART_CUDA, EM_CUDA, FBP_CUDA (see the FBP sample)\n",
    "\n",
    "    # Create the algorithm object from the configuration structure\n",
    "    alg_id = astra.algorithm.create(cfg)\n",
    "\n",
    "    # Run 150 iterations of the algorithm\n",
    "    astra.algorithm.run(alg_id, 1000)\n",
    "    # Get the result\n",
    "    rec = astra.data2d.get(rec_id)\n",
    "\n",
    "    # Clean up. Note that GPU memory is tied up in the algorithm object,\n",
    "    # and main RAM in the data objects.\n",
    "    astra.algorithm.delete(alg_id)\n",
    "    astra.data2d.delete(rec_id)\n",
    "    astra.data2d.delete(sinogram_id)\n",
    "    astra.clear()\n",
    "    return rec, proj_geom, cfg"
   ]
  },
  {
   "cell_type": "code",
   "execution_count": null,
   "metadata": {
    "collapsed": true
   },
   "outputs": [],
   "source": [
    "slices = np.arange(sinogram.shape[0]) "
   ]
  },
  {
   "cell_type": "code",
   "execution_count": null,
   "metadata": {
    "collapsed": true
   },
   "outputs": [],
   "source": [
    "angles = slices*180./2000/180.*np.pi"
   ]
  },
  {
   "cell_type": "code",
   "execution_count": null,
   "metadata": {
    "collapsed": false
   },
   "outputs": [],
   "source": [
    "rec, proj_geom, cfg = astra_tomo2d(sino_pp_log[:,delta:], angles)\n",
    "rec= rec/3e-6"
   ]
  },
  {
   "cell_type": "markdown",
   "metadata": {},
   "source": [
    "### Реконструкция FBP"
   ]
  },
  {
   "cell_type": "code",
   "execution_count": null,
   "metadata": {
    "collapsed": false
   },
   "outputs": [],
   "source": [
    "plt.figure(figsize=(15,10))\n",
    "plt.imshow(rec[1000:2000,1000:2000], cmap=plt.cm.viridis,vmin=30,vmax=50)\n",
    "plt.colorbar()\n",
    "plt.title('rec')\n",
    "plt.show()"
   ]
  },
  {
   "cell_type": "markdown",
   "metadata": {},
   "source": [
    "### Реконструкция FBP + коррекция колец"
   ]
  },
  {
   "cell_type": "code",
   "execution_count": null,
   "metadata": {
    "collapsed": false,
    "scrolled": false
   },
   "outputs": [],
   "source": [
    "rc = tomopy.misc.corr.remove_ring(np.expand_dims(rec, axis=0),\n",
    "                                  thresh=100,  theta_min=30, rwidth=50)\n",
    "rc = np.squeeze(rc)\n",
    "plt.figure(figsize=(15,10))\n",
    "# plt.imshow((rc-rec)[1200:1800,1200:1800], cmap=plt.cm.viridis)\n",
    "plt.imshow(rc[1000:2000,1000:2000], cmap=plt.cm.viridis,vmin=0,vmax=200)\n",
    "# plt.imshow(rc[1000:2000,1000:2000])\n",
    "plt.colorbar()\n",
    "plt.title('rec')\n",
    "plt.show()"
   ]
  },
  {
   "cell_type": "code",
   "execution_count": null,
   "metadata": {
    "collapsed": false
   },
   "outputs": [],
   "source": [
    "plt.figure(figsize=(10,10))\n",
    "plt.plot(rc[1500,1800:2000])\n",
    "plt.grid(True)"
   ]
  },
  {
   "cell_type": "markdown",
   "metadata": {
    "collapsed": true
   },
   "source": [
    "### Реконструкция ESRF"
   ]
  },
  {
   "cell_type": "code",
   "execution_count": null,
   "metadata": {
    "collapsed": false
   },
   "outputs": [],
   "source": [
    "r = read_edf(os.path.join(working_dir,'Slices','56A_bone_rec__1000.edf'))\n",
    "plt.figure(figsize=(15,10))\n",
    "plt.imshow(r[1000:2000,1000:2000], cmap=plt.cm.viridis,vmax=0.4)\n",
    "plt.colorbar()\n",
    "plt.title('rec')\n",
    "plt.show()"
   ]
  },
  {
   "cell_type": "markdown",
   "metadata": {},
   "source": [
    "### Реконструкция ESRF + коррекция колец"
   ]
  },
  {
   "cell_type": "code",
   "execution_count": null,
   "metadata": {
    "collapsed": false
   },
   "outputs": [],
   "source": [
    "rc = tomopy.misc.corr.remove_ring(np.expand_dims(r, axis=0),\n",
    "                                  thresh=1, theta_min=30, rwidth=30)\n",
    "rc = np.squeeze(rc)\n",
    "plt.figure(figsize=(15,10))\n",
    "plt.imshow(rc[1000:2000,1000:2000], cmap=plt.cm.viridis, vmax=0.4)\n",
    "plt.colorbar()\n",
    "plt.title('rec')\n",
    "plt.show()"
   ]
  },
  {
   "cell_type": "code",
   "execution_count": null,
   "metadata": {
    "collapsed": true
   },
   "outputs": [],
   "source": []
  }
 ],
 "metadata": {
  "kernelspec": {
   "display_name": "Python 2",
   "language": "python",
   "name": "python2"
  },
  "language_info": {
   "codemirror_mode": {
    "name": "ipython",
    "version": 2
   },
   "file_extension": ".py",
   "mimetype": "text/x-python",
   "name": "python",
   "nbconvert_exporter": "python",
   "pygments_lexer": "ipython2",
   "version": "2.7.11"
  }
 },
 "nbformat": 4,
 "nbformat_minor": 0
}
