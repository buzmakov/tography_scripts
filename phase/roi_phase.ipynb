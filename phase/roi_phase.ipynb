{
 "cells": [
  {
   "cell_type": "code",
   "execution_count": null,
   "metadata": {
    "collapsed": true
   },
   "outputs": [],
   "source": [
    "%matplotlib inline"
   ]
  },
  {
   "cell_type": "code",
   "execution_count": null,
   "metadata": {
    "collapsed": true
   },
   "outputs": [],
   "source": [
    "import os\n",
    "import glob\n",
    "\n",
    "import numpy as np\n",
    "import pylab as plt\n",
    "\n",
    "import astra\n",
    "import tomopy\n",
    "# import cv2\n",
    "from pprint import pprint\n",
    "import h5py\n",
    "\n",
    "import astra"
   ]
  },
  {
   "cell_type": "code",
   "execution_count": null,
   "metadata": {
    "collapsed": true
   },
   "outputs": [],
   "source": [
    "def log_progress(sequence, every=None, size=None):\n",
    "    from ipywidgets import IntProgress, HTML, VBox\n",
    "    from IPython.display import display\n",
    "\n",
    "    is_iterator = False\n",
    "    if size is None:\n",
    "        try:\n",
    "            size = len(sequence)\n",
    "        except TypeError:\n",
    "            is_iterator = True\n",
    "    if size is not None:\n",
    "        if every is None:\n",
    "            if size <= 200:\n",
    "                every = 1\n",
    "            else:\n",
    "                every = size / 200     # every 0.5%\n",
    "    else:\n",
    "        assert every is not None, 'sequence is iterator, set every'\n",
    "\n",
    "    if is_iterator:\n",
    "        progress = IntProgress(min=0, max=1, value=1)\n",
    "        progress.bar_style = 'info'\n",
    "    else:\n",
    "        progress = IntProgress(min=0, max=size, value=0)\n",
    "    label = HTML()\n",
    "    box = VBox(children=[label, progress])\n",
    "    display(box)\n",
    "\n",
    "    index = 0\n",
    "    try:\n",
    "        for index, record in enumerate(sequence, 1):\n",
    "            if index == 1 or index % every == 0:\n",
    "                if is_iterator:\n",
    "                    label.value = '{index} / ?'.format(index=index)\n",
    "                else:\n",
    "                    progress.value = index\n",
    "                    label.value = u'{index} / {size}'.format(\n",
    "                        index=index,\n",
    "                        size=size\n",
    "                    )\n",
    "            yield record\n",
    "    except:\n",
    "        progress.bar_style = 'danger'\n",
    "        raise\n",
    "    else:\n",
    "        progress.bar_style = 'success'\n",
    "        progress.value = index\n",
    "        label.value = str(index or '?')"
   ]
  },
  {
   "cell_type": "code",
   "execution_count": null,
   "metadata": {
    "collapsed": true
   },
   "outputs": [],
   "source": [
    "def build_reconstruction_geomety(detector_size, angles):\n",
    "    proj_geom = astra.create_proj_geom('parallel', 1.0, detector_size, angles)\n",
    "    return proj_geom\n",
    "\n",
    "def astra_tomo2d(sinogram, angles):\n",
    "    angles = angles.astype('float64') # hack for astra stability, may be removed in future releases\n",
    "    detector_size = sinogram.shape[1]\n",
    "    \n",
    "    rec_size = detector_size# size of reconstruction region\n",
    "    vol_geom = astra.create_vol_geom(rec_size, rec_size)\n",
    "\n",
    "    proj_geom = build_reconstruction_geomety(detector_size, angles)\n",
    "    \n",
    "    sinogram_id = astra.data2d.create('-sino', proj_geom, data=sinogram)\n",
    "    # Create a data object for the reconstruction\n",
    "    rec_id = astra.data2d.create('-vol', vol_geom)\n",
    "\n",
    "    # Set up the parameters for a reconstruction algorithm using the GPU\n",
    "    cfg = astra.astra_dict('FBP_CUDA')\n",
    "\n",
    "    cfg['ReconstructionDataId'] = rec_id\n",
    "    cfg['ProjectionDataId'] = sinogram_id\n",
    "    cfg['option'] = {}\n",
    "#     cfg['option']['ShortScan'] = True\n",
    "#     cfg['option']['MinConstraint'] = 0\n",
    "#     cfg['option']['MaxConstraint'] = 0.02\n",
    "\n",
    "    # Available algorithms:\n",
    "    # SIRT_CUDA, SART_CUDA, EM_CUDA, FBP_CUDA (see the FBP sample)\n",
    "\n",
    "    # Create the algorithm object from the configuration structure\n",
    "    alg_id = astra.algorithm.create(cfg)\n",
    "\n",
    "    # Run 150 iterations of the algorithm\n",
    "    astra.algorithm.run(alg_id, 30)\n",
    "    # Get the result\n",
    "    rec = astra.data2d.get(rec_id)\n",
    "\n",
    "    # Clean up. Note that GPU memory is tied up in the algorithm object,\n",
    "    # and main RAM in the data objects.\n",
    "    astra.algorithm.delete(alg_id)\n",
    "    astra.data2d.delete(rec_id)\n",
    "    astra.data2d.delete(sinogram_id)\n",
    "    astra.clear()\n",
    "    return rec, proj_geom, cfg\n",
    "\n",
    "def astra_build_sinogram(rec, angles):\n",
    "    angles = angles.astype('float64') # hack for astra stability, may be removed in future releases\n",
    "    detector_size = rec.shape[1]\n",
    "    \n",
    "    rec_size = detector_size# size of reconstruction region\n",
    "    vol_geom = astra.create_vol_geom(rec_size, rec_size)\n",
    "\n",
    "    proj_geom = build_reconstruction_geomety(detector_size, angles)\n",
    "    \n",
    "    proj_id = astra.create_projector('cuda',proj_geom,vol_geom)\n",
    "    sinogram_id, sinogram = astra.create_sino(rec, proj_id)\n",
    "    \n",
    "    astra.data2d.delete(sinogram_id)\n",
    "    astra.clear()\n",
    "    return sinogram"
   ]
  },
  {
   "cell_type": "code",
   "execution_count": null,
   "metadata": {
    "collapsed": true
   },
   "outputs": [],
   "source": [
    "from skimage.io import imread"
   ]
  },
  {
   "cell_type": "code",
   "execution_count": null,
   "metadata": {
    "collapsed": true
   },
   "outputs": [],
   "source": [
    "sinogram = imread('test_data/sino_Marina_0852.tif').astype('float32')[:-1,:]\n",
    "sinogram/=sinogram.max()\n",
    "sinogram = -np.log(sinogram)"
   ]
  },
  {
   "cell_type": "code",
   "execution_count": null,
   "metadata": {},
   "outputs": [],
   "source": [
    "sinogram.shape"
   ]
  },
  {
   "cell_type": "code",
   "execution_count": null,
   "metadata": {},
   "outputs": [],
   "source": [
    "np.percentile(sinogram,95)"
   ]
  },
  {
   "cell_type": "code",
   "execution_count": null,
   "metadata": {},
   "outputs": [],
   "source": [
    "plt.figure(figsize=(10,10))\n",
    "plt.imshow(sinogram, cmap=plt.cm.gray, interpolation='nearest')\n",
    "plt.colorbar(orientation='horizontal')\n",
    "plt.show()"
   ]
  },
  {
   "cell_type": "code",
   "execution_count": null,
   "metadata": {
    "collapsed": true
   },
   "outputs": [],
   "source": [
    "shift = 432\n",
    "pad_size =1024*2\n",
    "sinogram_fixed=np.zeros((sinogram.shape[0],sinogram.shape[1]+shift+pad_size*2),dtype='float32')\n",
    "mask=np.zeros_like(sinogram)\n",
    "sinogram_fixed[:,pad_size:-shift-pad_size] = sinogram"
   ]
  },
  {
   "cell_type": "code",
   "execution_count": null,
   "metadata": {
    "collapsed": true
   },
   "outputs": [],
   "source": [
    "angles = np.linspace(0,180, sinogram_fixed.shape[0],False)*np.pi/180"
   ]
  },
  {
   "cell_type": "code",
   "execution_count": null,
   "metadata": {},
   "outputs": [],
   "source": [
    "plt.figure(figsize=(10,10))\n",
    "plt.imshow(sinogram_fixed, cmap=plt.cm.gray, interpolation='nearest')\n",
    "plt.colorbar(orientation='horizontal')\n",
    "plt.axis('tight')\n",
    "plt.show()\n",
    "\n",
    "rec, proj_geom, cfg = astra_tomo2d(sinogram_fixed, angles)\n",
    "\n",
    "plt.figure(figsize=(10,10))\n",
    "# plt.imshow(rec,vmin=0.1, vmax=0.2)\n",
    "plt.imshow(rec[pad_size:-pad_size,pad_size:-pad_size], vmin=0, vmax=0.003, interpolation='nearest', cmap=plt.cm.gray)\n",
    "plt.colorbar(orientation='horizontal')\n",
    "plt.show()\n",
    "\n",
    "plt.figure(figsize=(10,10))\n",
    "# plt.imshow(rec,vmin=0.1, vmax=0.2)\n",
    "plt.imshow(rec, vmin=0, vmax=0.003, interpolation='nearest', cmap=plt.cm.gray)\n",
    "plt.colorbar(orientation='horizontal')\n",
    "plt.show()"
   ]
  },
  {
   "cell_type": "code",
   "execution_count": null,
   "metadata": {},
   "outputs": [],
   "source": [
    "data = imread('test_data/slice_0000_proj=1600_col=2344_off=-0216.tif').astype('float32')\n",
    "plt.figure(figsize=(12,12))\n",
    "# plt.imshow(rec,vmin=0.1, vmax=0.2)\n",
    "plt.imshow(-data, interpolation='nearest', vmin=-0.001, vmax=0.001, cmap=plt.cm.gray)\n",
    "# plt.colorbar(orientation='horizontal')\n",
    "plt.show()"
   ]
  },
  {
   "cell_type": "code",
   "execution_count": null,
   "metadata": {
    "collapsed": true
   },
   "outputs": [],
   "source": [
    "import scipy.ndimage\n",
    "def my_rc(sino0, level):\n",
    "    def get_my_b(level):\n",
    "        t= np.mean(sino0, axis=0)\n",
    "        gt = scipy.ndimage.filters.gaussian_filter1d(t,level/2.)\n",
    "        return gt-t\n",
    "    \n",
    "    def get_my_a(level):\n",
    "        my_b = get_my_b(level)\n",
    "        return np.mean(my_b)/my_b.shape[0]\n",
    "    \n",
    "    my_a = get_my_a(level)\n",
    "    my_b = get_my_b(level)\n",
    "    \n",
    "    res = sino0.copy()\n",
    "    if not level==0:\n",
    "        res+= sino0*my_a+my_b\n",
    "    \n",
    "    return res"
   ]
  },
  {
   "cell_type": "code",
   "execution_count": null,
   "metadata": {},
   "outputs": [],
   "source": [
    "angles_t = angles+angles[1]/3. # to remove spikes in sinogram (delete 0 and 90)\n",
    "sino = sinogram_fixed\n",
    "\n",
    "max_radon=sino.sum(axis=1).max()\n",
    "\n",
    "MU = rec.sum()*2\n",
    "X,Y = np.meshgrid(np.arange(rec.shape[0]),np.arange(rec.shape[1]))\n",
    "\n",
    "X-=rec_pad.shape[0]//2\n",
    "Y-=rec_pad.shape[1]//2\n",
    "mask = (X**2+Y**2)<(rec.shape[0]//2)**2-20\n",
    "\n",
    "for i in log_progress(range(50)):\n",
    "    rec_pad, proj_geom, cfg = astra_tomo2d(sino, angles_t)\n",
    "    \n",
    "    rec_pad*=rec_pad>0\n",
    "    rec_pad*=mask\n",
    "    rec_pad[rec_pad>1] = 1\n",
    "    \n",
    "#     if rec_pad.sum()>MU:\n",
    "#         rec_pad = rec_pad/rec_pad.sum()*MU\n",
    "\n",
    "    sino = astra_build_sinogram(rec_pad, angles_t)\n",
    "#     sino*=sino>0\n",
    "#     if i < 150:\n",
    "#         sino = my_rc(sino, 150-i)\n",
    "    \n",
    "\n",
    "    sino = (sino.T/sino.sum(axis=1)*max_radon).T\n",
    "#   t = sino[:,pad_size:-shift-pad_size]\n",
    "    sino[:,pad_size:-shift-pad_size] = sinogram\n",
    "    \n",
    "# rec_pad, proj_geom, cfg = astra_tomo2d(sino, angles)\n",
    "\n",
    "plt.figure(figsize=(12,12))\n",
    "plt.imshow(sino, cmap=plt.cm.gray, interpolation='nearest')\n",
    "plt.colorbar(orientation='horizontal')\n",
    "plt.axis('tight')\n",
    "plt.show()\n",
    "\n",
    "plt.figure(figsize=(12,12))\n",
    "# plt.imshow(rec,vmin=0.1, vmax=0.2)\n",
    "plt.imshow(rec_pad[pad_size:-pad_size,pad_size:-pad_size],\n",
    "           interpolation='nearest', cmap=plt.cm.gray)\n",
    "# plt.colorbar(orientation='horizontal')\n",
    "plt.show()\n",
    "\n",
    "plt.figure(figsize=(10,5))\n",
    "plt.plot(sino.sum(axis=0))\n",
    "plt.grid()\n",
    "plt.show()"
   ]
  },
  {
   "cell_type": "code",
   "execution_count": null,
   "metadata": {},
   "outputs": [],
   "source": [
    "\n",
    "plt.figure(figsize=(12,12))\n",
    "# plt.imshow(rec,vmin=0.1, vmax=0.2)\n",
    "plt.imshow(rec_pad, vmax=0.0015,\n",
    "           interpolation='nearest', cmap=plt.cm.gray)\n",
    "# plt.colorbar(orientation='horizontal')\n",
    "plt.show()\n",
    "\n",
    "plt.figure(figsize=(12,12))\n",
    "# plt.imshow(rec,vmin=0.1, vmax=0.2)\n",
    "plt.imshow(rec_pad[pad_size:-pad_size,pad_size:-pad_size], vmax=0.0015,\n",
    "           interpolation='nearest', cmap=plt.cm.gray)\n",
    "# plt.colorbar(orientation='horizontal')\n",
    "plt.show()\n"
   ]
  },
  {
   "cell_type": "code",
   "execution_count": null,
   "metadata": {},
   "outputs": [],
   "source": [
    "plt.figure(figsize=(10,5))\n",
    "plt.plot(sino.sum(axis=1))\n",
    "plt.grid()"
   ]
  },
  {
   "cell_type": "code",
   "execution_count": null,
   "metadata": {},
   "outputs": [],
   "source": [
    "# rec_plot = np.zeros_like(rec_pad)\n",
    "# rec_plot[150:-150,150:-150] = data\n",
    "plt.figure(figsize=(10,5))\n",
    "plt.plot(rec_pad0[:,rec_pad0.shape[1]//2], label='rec_pad0')\n",
    "plt.plot(rec_pad[:,rec_pad.shape[1]//2], label='rec_pad')\n",
    "# plt.plot(rec_plot[:,rec_plot.shape[1]//2], label='rec_orig')\n",
    "plt.grid()\n",
    "plt.legend(loc=0)\n",
    "plt.show()\n",
    "\n",
    "# rec_plot = np.zeros_like(rec_pad)\n",
    "# rec_plot[150:-150,150:-150] = data\n",
    "plt.figure(figsize=(10,5))\n",
    "plt.plot(rec_pad0[rec_pad0.shape[0]//2], label='rec_pad0')\n",
    "plt.plot(rec_pad[rec_pad.shape[0]//2], label='rec_pad')\n",
    "# plt.plot(rec_plot[rec_plot.shape[0]//2], label='rec_orig')\n",
    "plt.grid()\n",
    "plt.legend(loc=0)\n",
    "plt.show()"
   ]
  },
  {
   "cell_type": "code",
   "execution_count": null,
   "metadata": {
    "collapsed": true
   },
   "outputs": [],
   "source": []
  },
  {
   "cell_type": "code",
   "execution_count": null,
   "metadata": {
    "collapsed": true,
    "scrolled": false
   },
   "outputs": [],
   "source": [
    "rec_pad, proj_geom, cfg = astra_tomo2d(sino, angles)\n",
    "\n",
    "plt.figure(figsize=(10,10))\n",
    "plt.imshow(sino, cmap=plt.cm.gray, interpolation='nearest')\n",
    "plt.colorbar(orientation='horizontal')\n",
    "plt.axis('tight')\n",
    "plt.show()\n",
    "\n",
    "\n",
    "plt.figure(figsize=(10,10))\n",
    "# plt.imshow(rec,vmin=0.1, vmax=0.2)\n",
    "plt.imshow(rec_pad, interpolation='nearest', cmap=plt.cm.gray,vmax=1)\n",
    "plt.colorbar(orientation='horizontal')\n",
    "plt.show()"
   ]
  },
  {
   "cell_type": "code",
   "execution_count": null,
   "metadata": {
    "collapsed": true
   },
   "outputs": [],
   "source": []
  }
 ],
 "metadata": {
  "kernelspec": {
   "display_name": "Python 3",
   "language": "python",
   "name": "python3"
  },
  "language_info": {
   "codemirror_mode": {
    "name": "ipython",
    "version": 3
   },
   "file_extension": ".py",
   "mimetype": "text/x-python",
   "name": "python",
   "nbconvert_exporter": "python",
   "pygments_lexer": "ipython3",
   "version": "3.6.2"
  }
 },
 "nbformat": 4,
 "nbformat_minor": 2
}
