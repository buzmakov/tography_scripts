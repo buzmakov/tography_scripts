{
 "cells": [
  {
   "cell_type": "code",
   "execution_count": null,
   "metadata": {
    "collapsed": false
   },
   "outputs": [],
   "source": [
    "%pylab inline"
   ]
  },
  {
   "cell_type": "code",
   "execution_count": null,
   "metadata": {
    "collapsed": false
   },
   "outputs": [],
   "source": [
    "import numpy as np\n",
    "import EdfFile\n",
    "import glob\n",
    "import os\n",
    "import h5py\n",
    "import cv2\n",
    "import cPickle as pickle\n",
    "import pylab as plt\n",
    "from pprint import pprint"
   ]
  },
  {
   "cell_type": "code",
   "execution_count": null,
   "metadata": {
    "collapsed": false
   },
   "outputs": [],
   "source": [
    "#data_fbp_root = './prepFBP_proj_topolamino_Cr7_220_transmission'\n",
    "data_source_root = './proj_topolamino_Cr7_220_transmission/'\n",
    "data_root = data_source_root\n",
    "edf_files = glob.glob(data_root+'/*.edf')\n",
    "out_hdf5 = data_root+'/hdf5/all.h5'\n",
    "print len(edf_files)\n",
    "print edf_files[0]"
   ]
  },
  {
   "cell_type": "code",
   "execution_count": null,
   "metadata": {
    "collapsed": false
   },
   "outputs": [],
   "source": [
    "def print_edf_header(edf_header):\n",
    "    print 'Number of images in EDF file {}'.format(edf_structure.GetNumImages())\n",
    "    print 'EDF header:'\n",
    "    for k,v in edf_header.items():\n",
    "        print '\\t{:20}:\\t{}'.format(k,v)\n",
    "    print edf_structure.GetData(0).dtype\n",
    "    return\n",
    "\n",
    "def get_array_from_edf(edf_file_name):\n",
    "    edf_structure = EdfFile.EdfFile(edf_file_name,'r')\n",
    "    edf_header = edf_structure.GetHeader(0)\n",
    "    #print_edf_header(edf_header)\n",
    "    image_data = edf_structure.GetData(0).astype('float32')\n",
    "    return edf_header, image_data"
   ]
  },
  {
   "cell_type": "code",
   "execution_count": null,
   "metadata": {
    "collapsed": false
   },
   "outputs": [],
   "source": [
    "!mkdir -p {data_root+'/png'}\n",
    "!mkdir -p {data_root+'/hdf5'}"
   ]
  },
  {
   "cell_type": "code",
   "execution_count": null,
   "metadata": {
    "collapsed": false
   },
   "outputs": [],
   "source": [
    "def get_motors_values(header):\n",
    "    motor_names = header['motor_mne'].split(' ')\n",
    "    motor_names = ['motor_'+ motor_name for motor_name in motor_names]\n",
    "    motor_values = header['motor_pos'].split(' ')\n",
    "    motor_values = [np.float32(f) for f in motor_values]\n",
    "    motor_header = dict(zip(motor_names, motor_values))\n",
    "    return motor_header"
   ]
  },
  {
   "cell_type": "code",
   "execution_count": null,
   "metadata": {
    "collapsed": false
   },
   "outputs": [],
   "source": [
    "#Generate HDF5 and PNGs\n",
    "if not os.path.isfile(out_hdf5):\n",
    "    with h5py.File(out_hdf5,'w') as h5f:\n",
    "        for id_edf_file, edf_file in enumerate(edf_files):\n",
    "            header, res = get_array_from_edf(edf_file)\n",
    "            file_prefix = os.path.splitext(os.path.basename(edf_file))[0]\n",
    "            attributes = {}\n",
    "            attributes.update(header)\n",
    "            attributes.update(get_motors_values(header))\n",
    "            del attributes['motor_pos']\n",
    "            del attributes['motor_mne']\n",
    "            ds0 = h5f.create_dataset('/original/'+file_prefix, \n",
    "                               data=res, compression=\"gzip\",compression_opts=4)\n",
    "            for k,v in attributes.iteritems():\n",
    "                ds0.attrs[k] = v\n",
    "            small_image = cv2.resize(res,(res.shape[0]//3,res.shape[1]//3))\n",
    "            ds1 = h5f.create_dataset('/compressed_3/'+file_prefix, \n",
    "                               data=small_image, compression=\"gzip\",compression_opts=4)\n",
    "\n",
    "            plt.imsave(data_root+'/png/'+file_prefix+'.png', small_image, cmap = plt.cm.Greys_r)\n",
    "\n",
    "            for k,v in attributes.iteritems():\n",
    "                ds1.attrs[k] = v\n",
    "\n",
    "            if id_edf_file%100 == 0:\n",
    "                print \n",
    "\n",
    "            if id_edf_file%10 == 0:\n",
    "                print id_edf_file,\n",
    "else:\n",
    "    print 'File {} already exists. Skip.'.format(out_hdf5)"
   ]
  },
  {
   "cell_type": "code",
   "execution_count": null,
   "metadata": {
    "collapsed": false
   },
   "outputs": [],
   "source": [
    "scan_angles = []\n",
    "\n",
    "with h5py.File(out_hdf5 ,'r') as h5f:\n",
    "    h5g = h5f['compressed_3']\n",
    "    for k in h5g:\n",
    "        scan_angles.append(h5g[k].attrs['motor_pmo'])\n",
    "scan_angles = np.array(scan_angles)"
   ]
  },
  {
   "cell_type": "code",
   "execution_count": null,
   "metadata": {
    "collapsed": false
   },
   "outputs": [],
   "source": [
    "plt.plot(scan_angles)"
   ]
  },
  {
   "cell_type": "code",
   "execution_count": null,
   "metadata": {
    "collapsed": false
   },
   "outputs": [],
   "source": [
    "from ipywidgets import interact"
   ]
  },
  {
   "cell_type": "code",
   "execution_count": null,
   "metadata": {
    "collapsed": false
   },
   "outputs": [],
   "source": [
    "def find_angles(h5g):\n",
    "    scan_angles = []\n",
    "    for k in h5g:\n",
    "        scan_angles.append((k.encode(), h5g[k].attrs['motor_pmo']))\n",
    "    scan_angles = dict(scan_angles)\n",
    "    return scan_angles \n",
    "\n",
    "def get_key(d, angle):\n",
    "    for k,v in d.iteritems():\n",
    "        if np.isclose(v, angle):\n",
    "            return k\n",
    "\n",
    "def browse_hdf5():\n",
    "    with h5py.File(out_hdf5,'r') as h5f:\n",
    "        h5g = h5f['compressed_3']\n",
    "        angles_dict = find_angles(h5g)\n",
    "        angles_list=sorted(np.array(angles_dict.values())) \n",
    "\n",
    "    def show_key(i):\n",
    "        angle = angles_list[i]\n",
    "#        print angle, get_key(angles_dict, angle)\n",
    "        plt.figure(figsize=(15,7))\n",
    "        plt.subplot(121)\n",
    "        plt.plot(sorted(angles_list))\n",
    "        plt.hold(True)\n",
    "        plt.plot(i, angle, 'r*')\n",
    "        plt.subplot(122)\n",
    "        \n",
    "        image_key = filter(lambda item: np.isclose(item[1], angle), angles_dict.iteritems())[0][0]\n",
    "        \n",
    "        with h5py.File(out_hdf5,'r') as h5f:\n",
    "            h5g = h5f['compressed_3']\n",
    "            image = h5g[image_key].value\n",
    "            #print image_key\n",
    "        image = image[100:-60, 100:-150]  # Remove overlap regions \n",
    "        plt.imshow(image, cmap=plt.cm.gray)\n",
    "        plt.show()\n",
    "        \n",
    "    interact(show_key, i=(0, len(angles_list)-1))\n",
    "             \n",
    "\n",
    "browse_hdf5()    \n",
    "        "
   ]
  },
  {
   "cell_type": "code",
   "execution_count": null,
   "metadata": {
    "collapsed": false
   },
   "outputs": [],
   "source": [
    "data = None\n",
    "with h5py.File(out_hdf5,'r') as h5f:\n",
    "    name_ang = []\n",
    "    for k,v in h5f['compressed_3'].iteritems():\n",
    "        name_ang.append([k, v.attrs['motor_pmo']])\n",
    "    angles = [x[1] for x in name_ang]\n",
    "    keys = [x[0] for x in name_ang]\n",
    "    angles_indexes = np.argsort(angles)\n",
    "    \n",
    "    for ai in angles_indexes:\n",
    "        frame = h5f['compressed_3'][keys[ai]].value\n",
    "        if data is None:\n",
    "            data = np.zeros(shape=(len(angles),frame.shape[0],frame.shape[1]), dtype='float32')\n",
    "        data[ai]=frame"
   ]
  },
  {
   "cell_type": "code",
   "execution_count": null,
   "metadata": {
    "collapsed": false
   },
   "outputs": [],
   "source": [
    "def show_array(data3d, axis_numb=0):\n",
    "    def show_slice(i):\n",
    "        plt.figure(figsize=(10,10))\n",
    "        plt.imshow(local_data.take(i,axis=axis_numb))\n",
    "        plt.colorbar(orientation='horizontal')\n",
    "        plt.show()\n",
    "    \n",
    "    local_data = data3d\n",
    "    interact(show_slice, i=(0,data3d.shape[axis_numb]-1))\n",
    "\n",
    "# data_filtered = np.array(data[240:488:5,120:-100, int(1006.5/3)-230:int(1006.5/3)+230])\n",
    "data_filtered = np.array(data[::5,120:-100, int(1006.5/3)-230:int(1006.5/3)+230])\n",
    "\n",
    "data_filtered[data_filtered<0] = 0\n",
    "dfs = data_filtered.shape\n",
    "zp = 200\n",
    "data_filtered_zeros = np.zeros(shape=(dfs[0], dfs[1],dfs[2]+zp))\n",
    "data_filtered_zeros[:,:,zp/2+30:dfs[2]+zp/2]= np.log(1+data_filtered[:,:,30:])-4.0\n",
    "data_filtered_zeros[data_filtered_zeros<0] = 0\n",
    "# angles_filtered = np.array(angles[240:488:5])\n",
    "angles_filtered = np.array(angles[::5])\n",
    "\n",
    "show_array(data_filtered_zeros, 0)"
   ]
  },
  {
   "cell_type": "code",
   "execution_count": null,
   "metadata": {
    "collapsed": true
   },
   "outputs": [],
   "source": [
    "import astra\n",
    "def astra_tomo2d_parallel(sinogram, angles):\n",
    "    angles = angles.astype('float64')\n",
    "    detector_size = sinogram.shape[1]\n",
    "    \n",
    "\n",
    "    rec_size = detector_size\n",
    "    vol_geom = astra.create_vol_geom(rec_size, rec_size)\n",
    "    proj_geom = astra.create_proj_geom('parallel', 1.0, detector_size, angles)\n",
    "\n",
    "\n",
    "    sinogram_id = astra.data2d.create('-sino', proj_geom, data=sinogram)\n",
    "    # Create a data object for the reconstruction\n",
    "    rec_id = astra.data2d.create('-vol', vol_geom)\n",
    "#     proj_id = astra.create_projector('strip', proj_geom, vol_geom) # for CPU reconstruction only\n",
    "    # Set up the parameters for a reconstruction algorithm using the GPU\n",
    "    cfg = astra.astra_dict('SIRT_CUDA')\n",
    "    cfg['ReconstructionDataId'] = rec_id\n",
    "    cfg['ProjectionDataId'] = sinogram_id\n",
    "#     cfg['ProjectorId'] = proj_id # for CPU reconstruction only\n",
    "    cfg['option'] = {}\n",
    "    cfg['option']['MinConstraint'] = 0\n",
    "    # cfg['option']['MaxConstraint'] = 5\n",
    "\n",
    "    # Available algorithms:\n",
    "    # SIRT_CUDA, SART_CUDA, EM_CUDA, FBP_CUDA (see the FBP sample)\n",
    "\n",
    "    # Create the algorithm object from the configuration structure\n",
    "    alg_id = astra.algorithm.create(cfg)\n",
    "\n",
    "    # Run 150 iterations of the algorithm\n",
    "    astra.algorithm.run(alg_id, 150)\n",
    "\n",
    "    # Get the result\n",
    "    rec = astra.data2d.get(rec_id)\n",
    "\n",
    "    # Clean up. Note that GPU memory is tied up in the algorithm object,\n",
    "    # and main RAM in the data objects.\n",
    "    astra.algorithm.delete(alg_id)\n",
    "    astra.data2d.delete(rec_id)\n",
    "    astra.data2d.delete(sinogram_id)\n",
    "    astra.clear()\n",
    "    return rec\n",
    "\n",
    "def astra_tomo3d_parallel(sinogram, angles):\n",
    "    angles = angles.astype('float64')\n",
    "    detector_size = sinogram.shape[-1]\n",
    "    slices_number = sinogram.shape[0]\n",
    "\n",
    "    rec_size = detector_size\n",
    "    vol_geom = astra.create_vol_geom(rec_size, rec_size, slices_number)\n",
    "    proj_geom = astra.create_proj_geom('parallel3d', 1.0, 1.0,  slices_number, detector_size, angles)\n",
    "\n",
    "#     print proj_geom\n",
    "#     print sinogram.shape\n",
    "    sinogram_id = astra.data3d.create('-sino', proj_geom, data=sinogram)\n",
    "    # Create a data object for the reconstruction\n",
    "    rec_id = astra.data3d.create('-vol', vol_geom)\n",
    "#     proj_id = astra.create_projector('strip', proj_geom, vol_geom) # for CPU reconstruction only\n",
    "    # Set up the parameters for a reconstruction algorithm using the GPU\n",
    "    cfg = astra.astra_dict('SIRT3D_CUDA')\n",
    "    cfg['ReconstructionDataId'] = rec_id\n",
    "    cfg['ProjectionDataId'] = sinogram_id\n",
    "#     cfg['ProjectorId'] = proj_id # for CPU reconstruction only\n",
    "    cfg['option'] = {}\n",
    "    cfg['option']['MinConstraint'] = 0\n",
    "    # cfg['option']['MaxConstraint'] = 5\n",
    "\n",
    "    # Available algorithms:\n",
    "    # SIRT_CUDA, SART_CUDA, EM_CUDA, FBP_CUDA (see the FBP sample)\n",
    "\n",
    "    # Create the algorithm object from the configuration structure\n",
    "    alg_id = astra.algorithm.create(cfg)\n",
    "\n",
    "    # Run 150 iterations of the algorithm\n",
    "    astra.algorithm.run(alg_id, 150)\n",
    "\n",
    "    # Get the result\n",
    "    rec = astra.data3d.get(rec_id)\n",
    "\n",
    "    # Clean up. Note that GPU memory is tied up in the algorithm object,\n",
    "    # and main RAM in the data objects.\n",
    "    astra.algorithm.delete(alg_id)\n",
    "    astra.data3d.delete(rec_id)\n",
    "    astra.data3d.delete(sinogram_id)\n",
    "    astra.clear()\n",
    "    return rec\n",
    "\n",
    "def astra_topotomo3d(sinogram, angles):\n",
    "    astra_angles = angles.astype('float64')\n",
    "    detector_size = sinogram.shape[-1]\n",
    "    slices_number = sinogram.shape[0]\n",
    "\n",
    "    rec_size = detector_size\n",
    "    vol_geom = astra.create_vol_geom(rec_size, rec_size, slices_number)\n",
    "    \n",
    "    # We generate the same geometry as the circular one above.\n",
    "    vectors = np.zeros((len(astra_angles), 12))\n",
    "    alpha = 4.637*np.pi/180\n",
    "    for i in range(len(astra_angles)):\n",
    "        # ray direction\n",
    "        vectors[i,0] = np.sin(astra_angles[i])*np.cos(alpha)\n",
    "        vectors[i,1] = -np.cos(astra_angles[i])*np.cos(alpha)\n",
    "        vectors[i,2] = np.sin(alpha)\n",
    "\n",
    "        # center of detector\n",
    "        vectors[i,3:6] = 0\n",
    "\n",
    "        # vector from detector pixel (0,0) to (0,1)\n",
    "        vectors[i,6] = np.cos(astra_angles[i])\n",
    "        vectors[i,7] = np.sin(astra_angles[i])\n",
    "        vectors[i,8] = 0;\n",
    "\n",
    "        # vector from detector pixel (0,0) to (1,0)\n",
    "        vectors[i,9] = 0\n",
    "        vectors[i,10] = 0\n",
    "        vectors[i,11] = 1\n",
    "\n",
    "    # Parameters: #rows, #columns, vectors\n",
    "    proj_geom = astra.create_proj_geom('parallel3d_vec', slices_number, detector_size, vectors)\n",
    "#     proj_geom = astra.create_proj_geom('parallel3d', 1.0, 1.0,  slices_number, detector_size, angles)\n",
    "\n",
    "#     print proj_geom\n",
    "#     print sinogram.shape\n",
    "    sinogram_id = astra.data3d.create('-sino', proj_geom, data=sinogram)\n",
    "    # Create a data object for the reconstruction\n",
    "    rec_id = astra.data3d.create('-vol', vol_geom)\n",
    "#     proj_id = astra.create_projector('strip', proj_geom, vol_geom) # for CPU reconstruction only\n",
    "    # Set up the parameters for a reconstruction algorithm using the GPU\n",
    "    cfg = astra.astra_dict('SIRT3D_CUDA')\n",
    "    cfg['ReconstructionDataId'] = rec_id\n",
    "    cfg['ProjectionDataId'] = sinogram_id\n",
    "#     cfg['ProjectorId'] = proj_id # for CPU reconstruction only\n",
    "    cfg['option'] = {}\n",
    "    cfg['option']['MinConstraint'] = 0\n",
    "    # cfg['option']['MaxConstraint'] = 5\n",
    "\n",
    "    # Available algorithms:\n",
    "    # SIRT_CUDA, SART_CUDA, EM_CUDA, FBP_CUDA (see the FBP sample)\n",
    "\n",
    "    # Create the algorithm object from the configuration structure\n",
    "    alg_id = astra.algorithm.create(cfg)\n",
    "\n",
    "    # Run 150 iterations of the algorithm\n",
    "    astra.algorithm.run(alg_id, 150)\n",
    "\n",
    "    # Get the result\n",
    "    rec = astra.data3d.get(rec_id)\n",
    "\n",
    "    # Clean up. Note that GPU memory is tied up in the algorithm object,\n",
    "    # and main RAM in the data objects.\n",
    "    astra.algorithm.delete(alg_id)\n",
    "    astra.data3d.delete(rec_id)\n",
    "    astra.data3d.delete(sinogram_id)\n",
    "    astra.clear()\n",
    "    return rec"
   ]
  },
  {
   "cell_type": "code",
   "execution_count": null,
   "metadata": {
    "collapsed": true
   },
   "outputs": [],
   "source": [
    "s1 = np.require(data_filtered_zeros[:,:,:].swapaxes(0,1),dtype=np.float32, requirements=['C'])"
   ]
  },
  {
   "cell_type": "code",
   "execution_count": null,
   "metadata": {
    "collapsed": false
   },
   "outputs": [],
   "source": [
    "rec_3d = astra_topotomo3d(s1, angles_filtered*np.pi/180)"
   ]
  },
  {
   "cell_type": "code",
   "execution_count": null,
   "metadata": {
    "collapsed": false
   },
   "outputs": [],
   "source": [
    "show_array(rec_3d,0)"
   ]
  },
  {
   "cell_type": "code",
   "execution_count": null,
   "metadata": {
    "collapsed": false
   },
   "outputs": [],
   "source": [
    "data_file_parts = os.path.join(data_root,'result.h5')\n",
    "out_file = '{}_reconstruction.h5'.format(''.join(data_file_parts[:-1]))\n",
    "print out_file\n",
    "with h5py.File(out_file,'w') as h5f:\n",
    "    h5f.create_dataset('Result', data=rec_3d, dtype=np.float32)"
   ]
  },
  {
   "cell_type": "code",
   "execution_count": null,
   "metadata": {
    "collapsed": true
   },
   "outputs": [],
   "source": [
    "def save_amira(result_file):\n",
    "    \"\"\"\n",
    "    Функция сохраняет реконструированные слои в формате Amira raw file\n",
    "\n",
    "    Inputs:\n",
    "        data_path - путь к директории, где находиться файл res_tomo.hdf5 в формате HDF5\n",
    "            в этом файде должен быть раздел (node) /Results в котором в виде 3D массива\n",
    "            записаны реконструированный объём\n",
    "    Outputs:\n",
    "        Файлы amira.raw и tomo.hx. Если файлы уже существуют, то они перезаписываются.\n",
    "        Тип данных: float32 little endian\n",
    "    \"\"\"\n",
    "    data_path = os.path.dirname(result_file)\n",
    "    with open(os.path.join(data_path, 'amira.raw'), 'wb') as amira_file:\n",
    "        with h5py.File(result_file, 'r') as h5f:\n",
    "            x = h5f['Result']\n",
    "            for i in range(x.shape[0]):\n",
    "                numpy.array(x[i, :, :]).tofile(amira_file)\n",
    "\n",
    "            file_shape = x.shape\n",
    "\n",
    "            with open(os.path.join(data_path, 'tomo.hx'), 'w') as af:\n",
    "                af.write('# Amira Script\\n')\n",
    "                af.write('remove -all\\n')\n",
    "                af.write(r'[ load -raw ${SCRIPTDIR}/amira.raw little xfastest float 1 '+\n",
    "                         str(file_shape[1])+' '+str(file_shape[2])+' '+str(file_shape[0])+\n",
    "                         ' 0 '+str(file_shape[1]-1)+' 0 '+str(file_shape[2]-1)+' 0 '+str(file_shape[0]-1)+\n",
    "                         ' ] setLabel tomo.raw\\n')"
   ]
  },
  {
   "cell_type": "code",
   "execution_count": null,
   "metadata": {
    "collapsed": true
   },
   "outputs": [],
   "source": [
    "save_amira(out_file)"
   ]
  },
  {
   "cell_type": "code",
   "execution_count": null,
   "metadata": {
    "collapsed": false
   },
   "outputs": [],
   "source": [
    "image_key = 'TL_CR7_pos1_int1_0466'\n",
    "with h5py.File(out_hdf5,'r') as h5f:\n",
    "        h5g = h5f['compressed_3']\n",
    "        image = h5g[image_key].value\n",
    "        print image_key\n",
    "        image = image[100:-60, 100:-150]\n",
    "\n",
    "\n",
    "plt.figure(figsize=(10,10))\n",
    "plt.imshow(image, cmap=plt.cm.gray);\n",
    "plt.colorbar()"
   ]
  },
  {
   "cell_type": "code",
   "execution_count": null,
   "metadata": {
    "collapsed": false,
    "scrolled": false
   },
   "outputs": [],
   "source": [
    "def find_angles(h5g):\n",
    "    scan_angles = []\n",
    "    for k in h5g:\n",
    "        scan_angles.append((k.encode(), h5g[k].attrs['motor_pmo']))\n",
    "    scan_angles = dict(scan_angles)\n",
    "    return scan_angles \n",
    "\n",
    "def get_data_by_angle(h5g, angle):\n",
    "    for k,v in h5g.iteritems():\n",
    "        if np.isclose(angle,v.attrs['motor_pmo']):\n",
    "            return v.value[100:-60, 100:-150]\n",
    "        \n",
    "with h5py.File(out_hdf5,'r') as h5f:\n",
    "    h5g = h5f['compressed_3']\n",
    "    angles_dict = find_angles(h5g)\n",
    "    angles_list=sorted(np.array(angles_dict.values())) \n",
    "\n",
    "angles_list = filter(lambda x: x >-20 and x<40, angles_list)\n",
    "angles_list = np.array(angles_list)"
   ]
  },
  {
   "cell_type": "code",
   "execution_count": null,
   "metadata": {
    "collapsed": false
   },
   "outputs": [],
   "source": [
    "with h5py.File(out_hdf5,'r') as h5f:\n",
    "    h5g = h5f['compressed_3']\n",
    "    d = get_data_by_angle(h5g, angles_list[0])\n",
    "d.shape"
   ]
  },
  {
   "cell_type": "code",
   "execution_count": null,
   "metadata": {
    "collapsed": true
   },
   "outputs": [],
   "source": [
    "import astra"
   ]
  },
  {
   "cell_type": "code",
   "execution_count": null,
   "metadata": {
    "collapsed": false
   },
   "outputs": [],
   "source": [
    "# vol_geom = astra.create_vol_geom(d.shape[1], d.shape[0], d.shape[0])"
   ]
  },
  {
   "cell_type": "code",
   "execution_count": null,
   "metadata": {
    "collapsed": false
   },
   "outputs": [],
   "source": [
    "tomo_angles = angles_list[::10]\n",
    "len(tomo_angles)\n",
    "sinogram_volume = np.zeros(shape=(d.shape[0],len(tomo_angles),d.shape[1]), dtype='float32')\n",
    "print sinogram_volume.shape\n",
    "with h5py.File(out_hdf5,'r') as h5f:\n",
    "    h5g = h5f['compressed_3']\n",
    "    for iang,ang in enumerate(tomo_angles):\n",
    "        raw_sinogram = get_data_by_angle(h5g, ang)\n",
    "        raw_sinogram = (raw_sinogram - raw_sinogram.min())/(raw_sinogram.max() - raw_sinogram.min())\n",
    "        sinogram_volume[:,iang,:] = raw_sinogram"
   ]
  },
  {
   "cell_type": "code",
   "execution_count": null,
   "metadata": {
    "collapsed": false
   },
   "outputs": [],
   "source": [
    "def show_sinogram(i):\n",
    "    plt.imshow(sinogram_volume[i,:,:], cmap=plt.cm.gray)\n",
    "    plt.axis('tight')\n",
    "    plt.colorbar()\n",
    "    \n",
    "interact(show_sinogram, i=(0, sinogram_volume.shape[0]-1))"
   ]
  },
  {
   "cell_type": "code",
   "execution_count": null,
   "metadata": {
    "collapsed": true
   },
   "outputs": [],
   "source": [
    "# We generate the same geometry as the circular one above.\n",
    "astra_angles = tomo_angles/180*np.pi\n",
    "vectors = np.zeros((len(astra_angles), 12))\n",
    "for i in range(len(astra_angles)):\n",
    "    # ray direction\n",
    "    vectors[i,0] = np.sin(astra_angles[i])\n",
    "    vectors[i,1] = -np.cos(astra_angles[i])\n",
    "    vectors[i,2] = 0\n",
    "\n",
    "    # center of detector\n",
    "    vectors[i,3:6] = 0\n",
    "\n",
    "    # vector from detector pixel (0,0) to (0,1)\n",
    "    vectors[i,6] = np.cos(astra_angles[i])\n",
    "    vectors[i,7] = np.sin(astra_angles[i])\n",
    "    vectors[i,8] = 0;\n",
    "\n",
    "    # vector from detector pixel (0,0) to (1,0)\n",
    "    vectors[i,9] = 0\n",
    "    vectors[i,10] = 0\n",
    "    vectors[i,11] = 1\n",
    "\n",
    "# Parameters: #rows, #columns, vectors\n",
    "proj_geom = astra.create_proj_geom('parallel3d_vec', sinogram_volume.shape[0], sinogram_volume.shape[-1], vectors)"
   ]
  },
  {
   "cell_type": "code",
   "execution_count": null,
   "metadata": {
    "collapsed": false
   },
   "outputs": [],
   "source": [
    "# Create a data object for the reconstruction\n",
    "sinogram_id = astra.data3d.create('-sino', proj_geom, data=sinogram_volume)\n",
    "\n",
    "vol_geom = astra.create_vol_geom(d.shape[1], d.shape[1], d.shape[0])\n",
    "rec_id = astra.data3d.create('-vol', vol_geom)"
   ]
  },
  {
   "cell_type": "code",
   "execution_count": null,
   "metadata": {
    "collapsed": false
   },
   "outputs": [],
   "source": [
    "# Set up the parameters for a reconstruction algorithm using the GPU\n",
    "cfg = astra.astra_dict('SIRT3D_CUDA')\n",
    "cfg['ReconstructionDataId'] = rec_id\n",
    "cfg['ProjectionDataId'] = sinogram_id\n",
    "\n",
    "\n",
    "# Create the algorithm object from the configuration structure\n",
    "alg_id = astra.algorithm.create(cfg)\n",
    "\n",
    "# Run 150 iterations of the algorithm\n",
    "# Note that this requires about 750MB of GPU memory, and has a runtime\n",
    "# in the order of 10 seconds.\n",
    "astra.algorithm.run(alg_id, 150)\n",
    "\n",
    "# Get the result\n",
    "rec = astra.data3d.get(rec_id)\n",
    "\n",
    "astra.algorithm.info()  \n",
    "astra.data3d.info()\n",
    "astra.projector.info()\n",
    "astra.matrix.info()\n",
    "\n",
    "astra.data3d.clear()"
   ]
  },
  {
   "cell_type": "code",
   "execution_count": null,
   "metadata": {
    "collapsed": false
   },
   "outputs": [],
   "source": [
    "pylab.figure(figsize=(5,5))\n",
    "\n",
    "def show_rec(i):\n",
    "    plt.imshow(rec[i,:,:], cmap=plt.cm.gray)\n",
    "    plt.colorbar()\n",
    "    \n",
    "interact(show_rec, i=(0, rec.shape[0]-1))"
   ]
  },
  {
   "cell_type": "code",
   "execution_count": null,
   "metadata": {
    "collapsed": false
   },
   "outputs": [],
   "source": [
    "# print tmp_sino.shape\n",
    "print vol_geom\n",
    "print proj_geom\n",
    "print sinogram_volume.shape"
   ]
  },
  {
   "cell_type": "code",
   "execution_count": null,
   "metadata": {
    "collapsed": false
   },
   "outputs": [],
   "source": [
    "vol_geom = astra.create_vol_geom(128, 128, 128)\n",
    "\n",
    "angles = np.linspace(0, np.pi, 180,False)\n",
    "proj_geom = astra.create_proj_geom('parallel3d', 1.0, 1.0, 128, 192, angles)\n",
    "\n",
    "# Create a simple hollow cube phantom\n",
    "cube = np.zeros((128,128,128))\n",
    "cube[17:113,17:113,17:113] = 1\n",
    "cube[33:97,33:97,33:97] = 0\n",
    "\n",
    "# Create projection data from this\n",
    "proj_id, proj_data = astra.create_sino3d_gpu(cube, proj_geom, vol_geom)\n",
    "\n",
    "sinogram_id = astra.data3d.create('-sino', proj_geom, data=proj_data)"
   ]
  },
  {
   "cell_type": "code",
   "execution_count": null,
   "metadata": {
    "collapsed": false
   },
   "outputs": [],
   "source": [
    "plt.imshow(proj_data[64,:,:], cmap=plt.cm.gray)\n",
    "plt.colorbar()"
   ]
  },
  {
   "cell_type": "code",
   "execution_count": null,
   "metadata": {
    "collapsed": false
   },
   "outputs": [],
   "source": [
    "proj_data.shape"
   ]
  },
  {
   "cell_type": "code",
   "execution_count": null,
   "metadata": {
    "collapsed": false
   },
   "outputs": [],
   "source": [
    "astra.algorithm.info()  \n",
    "astra.data3d.info()\n",
    "astra.projector.info()\n",
    "astra.matrix.info()\n",
    "\n",
    "# astra.data3d.clear()"
   ]
  },
  {
   "cell_type": "code",
   "execution_count": null,
   "metadata": {
    "collapsed": false
   },
   "outputs": [],
   "source": [
    "1006.5/3"
   ]
  },
  {
   "cell_type": "code",
   "execution_count": null,
   "metadata": {
    "collapsed": true
   },
   "outputs": [],
   "source": []
  }
 ],
 "metadata": {
  "kernelspec": {
   "display_name": "Python 2",
   "language": "python",
   "name": "python2"
  },
  "language_info": {
   "codemirror_mode": {
    "name": "ipython",
    "version": 2
   },
   "file_extension": ".py",
   "mimetype": "text/x-python",
   "name": "python",
   "nbconvert_exporter": "python",
   "pygments_lexer": "ipython2",
   "version": "2.7.11"
  }
 },
 "nbformat": 4,
 "nbformat_minor": 0
}
