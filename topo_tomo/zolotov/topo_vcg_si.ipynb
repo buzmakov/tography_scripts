{
 "cells": [
  {
   "cell_type": "code",
   "execution_count": null,
   "metadata": {
    "collapsed": true
   },
   "outputs": [],
   "source": [
    "%matplotlib inline\n",
    "%load_ext autoreload\n",
    "%autoreload 2"
   ]
  },
  {
   "cell_type": "markdown",
   "metadata": {},
   "source": [
    "# Измерения кристалла кремния с дислокациями                                                                                                                               \n",
    "                                                                                                                                                                          \n",
    "1. Трубка - Mo,режим 40 Кв, 30 мА (без монохроматора)                                                                                                                     \n",
    "                                                                                                                                                                          \n",
    "2. Геометрия эксперимента.                                                                                                                                                \n",
    "Угол Брэгга - 10.66 (по факту 8.392)                                                                                                                                      \n",
    "Угол детектора - 21.32                                                                                                                                                    \n",
    "Углы поворота (для томографии) 0-185 с шагом 1 градус                                                                                                                     \n",
    "                                                                                                                                                                          \n",
    "3. Данные *.fit                                                                                                                                                           \n",
    "20 кадров на поворот, экспозиция - 30 сек.                                                                                                                                \n",
    "                                                                                                                                                                          \n",
    "4. Темновой ток *.fit                                                                                                                                                     \n",
    "1 кадр на поворот, экспозиция - 30 сек. (снимались после данных)                                                                                                          \n",
    "                                                                                                                                                                          \n",
    "Итого: 21 кадров на поворот, где 20 - данные и 1 темновой ток.\n",
    "\n"
   ]
  },
  {
   "cell_type": "code",
   "execution_count": null,
   "metadata": {
    "collapsed": true
   },
   "outputs": [],
   "source": [
    "import os\n",
    "import glob\n",
    "import numpy as np\n",
    "import pylab as plt\n",
    "import h5py\n",
    "import astra\n",
    "from astropy.io import fits\n",
    "import warnings\n",
    "import ipywidgets\n",
    "# from ipywidgets import interact, interactive, fixed, interact_manual\n",
    "from skimage.restoration import denoise_nl_means\n",
    "# import VarSIRT.vrecon\n"
   ]
  },
  {
   "cell_type": "code",
   "execution_count": null,
   "metadata": {
    "collapsed": true
   },
   "outputs": [],
   "source": [
    "def log_progress(sequence, every=None, size=None):\n",
    "    from ipywidgets import IntProgress, HTML, VBox\n",
    "    from IPython.display import display\n",
    "\n",
    "    is_iterator = False\n",
    "    if size is None:\n",
    "        try:\n",
    "            size = len(sequence)\n",
    "        except TypeError:\n",
    "            is_iterator = True\n",
    "    if size is not None:\n",
    "        if every is None:\n",
    "            if size <= 200:\n",
    "                every = 1\n",
    "            else:\n",
    "                every = size / 200     # every 0.5%\n",
    "    else:\n",
    "        assert every is not None, 'sequence is iterator, set every'\n",
    "\n",
    "    if is_iterator:\n",
    "        progress = IntProgress(min=0, max=1, value=1)\n",
    "        progress.bar_style = 'info'\n",
    "    else:\n",
    "        progress = IntProgress(min=0, max=size, value=0)\n",
    "    label = HTML()\n",
    "    box = VBox(children=[label, progress])\n",
    "    display(box)\n",
    "\n",
    "    index = 0\n",
    "    try:\n",
    "        for index, record in enumerate(sequence, 1):\n",
    "            if index == 1 or index % every == 0:\n",
    "                if is_iterator:\n",
    "                    label.value = '{index} / ?'.format(index=index)\n",
    "                else:\n",
    "                    progress.value = index\n",
    "                    label.value = u'{index} / {size}'.format(\n",
    "                        index=index,\n",
    "                        size=size\n",
    "                    )\n",
    "            yield record\n",
    "    except:\n",
    "        progress.bar_style = 'danger'\n",
    "        raise\n",
    "    else:\n",
    "        progress.bar_style = 'success'\n",
    "        progress.value = index\n",
    "        label.value = str(index or '?')"
   ]
  },
  {
   "cell_type": "code",
   "execution_count": null,
   "metadata": {},
   "outputs": [],
   "source": [
    "plt.gray()"
   ]
  },
  {
   "cell_type": "code",
   "execution_count": null,
   "metadata": {
    "collapsed": true
   },
   "outputs": [],
   "source": [
    "import re\n",
    "def natural_key(string_):\n",
    "    \"\"\"See http://www.codinghorror.com/blog/archives/001018.html\"\"\"\n",
    "    return [int(s) if s.isdigit() else s for s in re.split(r'(\\d+)', string_)]"
   ]
  },
  {
   "cell_type": "code",
   "execution_count": null,
   "metadata": {
    "collapsed": true
   },
   "outputs": [],
   "source": [
    "def read_fit(fit_path):\n",
    "    with warnings.catch_warnings():\n",
    "        warnings.simplefilter(\"ignore\")\n",
    "        with fits.open(fit_path) as fit:\n",
    "            tmp_data = fit[0].data.astype('uint16')\n",
    "    return tmp_data"
   ]
  },
  {
   "cell_type": "code",
   "execution_count": null,
   "metadata": {},
   "outputs": [],
   "source": [
    "#lodad files and sort it ina natural way\n",
    "data_dir = os.path.expanduser('/diskmnt/a/makov/topo_tomo/Si/2018_03_05-07/data/')\n",
    "all_files = glob.glob(os.path.join(data_dir,'*.FITS'))\n",
    "all_files = sorted(all_files, key=natural_key)\n",
    "print(len(all_files))\n",
    "all_files[0:10]"
   ]
  },
  {
   "cell_type": "code",
   "execution_count": null,
   "metadata": {},
   "outputs": [],
   "source": [
    "imcut=100\n",
    "data_range = np.index_exp[220:400,744+imcut:1100-imcut]\n",
    "zero_file = read_fit(all_files[0])[data_range]\n",
    "plt.figure(figsize=(10,10))\n",
    "plt.imshow(zero_file)\n",
    "plt.colorbar(orientation='horizontal')\n",
    "plt.show()"
   ]
  },
  {
   "cell_type": "code",
   "execution_count": null,
   "metadata": {},
   "outputs": [],
   "source": [
    "padding_size=zero_file.shape[1]//2\n",
    "all_data = np.zeros(shape=(len(all_files), zero_file.shape[0], zero_file.shape[1]+2*padding_size), dtype='float32')\n",
    "for i in log_progress(np.arange(len(all_files))):\n",
    "    all_data[i,:,padding_size:-padding_size]=read_fit(all_files[i])[data_range]"
   ]
  },
  {
   "cell_type": "code",
   "execution_count": null,
   "metadata": {},
   "outputs": [],
   "source": [
    "#looking for numbers of free frames\n",
    "free_numbers = np.argwhere(all_data.mean(axis=-1).mean(axis=-1)<50)\n",
    "free_numbers = [x[0] for x in free_numbers]\n",
    "print(len(free_numbers))"
   ]
  },
  {
   "cell_type": "code",
   "execution_count": null,
   "metadata": {
    "collapsed": true
   },
   "outputs": [],
   "source": [
    "clear_frames = np.zeros(shape=(len(free_numbers), all_data.shape[1], all_data.shape[2]), dtype='float32')"
   ]
  },
  {
   "cell_type": "code",
   "execution_count": null,
   "metadata": {
    "collapsed": true
   },
   "outputs": [],
   "source": [
    "std_frames = np.zeros_like(clear_frames)"
   ]
  },
  {
   "cell_type": "code",
   "execution_count": null,
   "metadata": {
    "collapsed": true
   },
   "outputs": [],
   "source": [
    "#remove free frames from data images\n",
    "current_frame = 0\n",
    "for ifn, fn in enumerate(np.asarray(free_numbers)):\n",
    "    zero_frame = all_data[fn]\n",
    "#     tmp_frame = all_data[current_frame:fn].mean(axis=0)-zero_frame\n",
    "    tmp_frame = np.percentile(all_data[current_frame:fn], 50, axis=0)-zero_frame\n",
    "    tmp_frame[tmp_frame<0] = 0\n",
    "    \n",
    "    clear_frames[ifn] = tmp_frame\n",
    "    \n",
    "    tmp_frame_std = (all_data[current_frame:fn]-zero_frame).std(axis=0)\n",
    "    tmp_frame_std[tmp_frame_std<1] = 1\n",
    "    std_frames[ifn] = tmp_frame_std\n",
    "    current_frame = fn+1"
   ]
  },
  {
   "cell_type": "code",
   "execution_count": null,
   "metadata": {
    "scrolled": false
   },
   "outputs": [],
   "source": [
    "current_frame = 0\n",
    "for ifn, fn in enumerate(np.asarray(free_numbers)):\n",
    "    if ifn %100== 0:\n",
    "        zero_frame = all_data[fn]\n",
    "        t_data = all_data[current_frame:fn]-zero_frame\n",
    "        \n",
    "        t_s = np.sort(t_data, axis=0)\n",
    "        tmp_frame_mean_e = np.percentile(t_data, 60, axis=0) #t_s[3:].mean(axis=0)\n",
    "        \n",
    "        tmp_frame_mean = t_data.mean(axis=0)\n",
    "        tmp_frame_mean[tmp_frame_mean<1] = 1\n",
    "        tmp_frame_std = t_data.std(axis=0)\n",
    "        tmp_frame_std[tmp_frame_std<1] = 1\n",
    "        tmp_frame_min = t_data.min(axis=0)\n",
    "        tmp_frame_min[tmp_frame_min<1] = 1\n",
    "        tmp_frame_smooth = np.percentile(t_data, 60, axis=0) \n",
    "        tmp_frame_smooth[tmp_frame_smooth<1] = 1\n",
    "        \n",
    "        vmax = np.max(tmp_frame_mean)\n",
    "        plt.figure(figsize=(14,12))\n",
    "        plt.subplot(221)\n",
    "        plt.title(str(ifn) + ' mean')\n",
    "        plt.imshow(tmp_frame_mean, vmin=0, vmax=vmax)\n",
    "        plt.colorbar(orientation='horizontal')\n",
    "        plt.subplot(222)\n",
    "        plt.title(str(ifn) + ' std')\n",
    "        plt.imshow(tmp_frame_std, vmin=0, vmax=vmax)\n",
    "        plt.colorbar(orientation='horizontal')\n",
    "        plt.subplot(223)\n",
    "        plt.title(str(ifn) + ' median')\n",
    "        plt.imshow(tmp_frame_mean_e, vmin=0, vmax=vmax)\n",
    "        plt.colorbar(orientation='horizontal')\n",
    "        plt.subplot(224)\n",
    "        plt.title(str(ifn) + ' smooth')\n",
    "        plt.imshow(tmp_frame_smooth, vmin=0, vmax=vmax)\n",
    "        plt.colorbar(orientation='horizontal')\n",
    "        plt.show()\n",
    "        \n",
    "#         plt.figure(figsize=(7,5))\n",
    "#         for i in range(1,10):\n",
    "# #             plt.subplot(220+i)\n",
    "#             x,y = np.histogram(t_data[:, 100:102,100+10*i:100+10*i+2], bins=10)\n",
    "#             plt.plot(y[1:], x,label=i)\n",
    "#         plt.legend()\n",
    "#         plt.grid()\n",
    "#         plt.show()\n",
    "    current_frame = fn+1"
   ]
  },
  {
   "cell_type": "code",
   "execution_count": null,
   "metadata": {},
   "outputs": [],
   "source": [
    "t_data.shape"
   ]
  },
  {
   "cell_type": "code",
   "execution_count": null,
   "metadata": {},
   "outputs": [],
   "source": [
    "plt.figure(figsize=(10,10))\n",
    "plt.plot(all_data[:].mean(axis=-1).mean(axis=-1))\n",
    "plt.grid()\n",
    "plt.title('Mean value of all frames')\n",
    "plt.show()"
   ]
  },
  {
   "cell_type": "code",
   "execution_count": null,
   "metadata": {},
   "outputs": [],
   "source": [
    "plt.figure(figsize=(10,10))\n",
    "plt.plot(clear_frames[:].mean(axis=-1).mean(axis=-1))\n",
    "plt.grid()\n",
    "plt.title('Mean value of data frames only')\n",
    "plt.show()"
   ]
  },
  {
   "cell_type": "code",
   "execution_count": null,
   "metadata": {
    "collapsed": true,
    "scrolled": false
   },
   "outputs": [],
   "source": [
    "def show_array(data3d, axis_numb=0, k=0.7):\n",
    "    vmax = data3d.max()\n",
    "    def show_slice(i):\n",
    "        plt.figure(figsize=(10,10))\n",
    "        plt.imshow(local_data.take(i,axis=axis_numb),vmin=0, vmax=vmax*k)\n",
    "        plt.colorbar(orientation='horizontal')\n",
    "        plt.show()\n",
    "    \n",
    "    local_data = data3d\n",
    "    ipywidgets.interact(show_slice, i=(0,data3d.shape[axis_numb]-1))"
   ]
  },
  {
   "cell_type": "code",
   "execution_count": null,
   "metadata": {},
   "outputs": [],
   "source": [
    "show_array(clear_frames)"
   ]
  },
  {
   "cell_type": "code",
   "execution_count": null,
   "metadata": {},
   "outputs": [],
   "source": [
    "#adjusting frame horizontal borders\n",
    "shift = 0\n",
    "plt.figure(figsize=(10,10))\n",
    "plt.imshow(np.roll(clear_frames[0],shift,1)-np.roll(np.fliplr(clear_frames[180]), - shift,1))\n",
    "plt.show()\n",
    "\n",
    "plt.figure(figsize=(10,10))\n",
    "plt.plot(np.roll(clear_frames[0],shift,1).sum(axis=0))\n",
    "plt.plot(np.roll(np.fliplr(clear_frames[180]), -shift ,1).sum(axis=0))\n",
    "plt.grid()\n",
    "plt.show()"
   ]
  },
  {
   "cell_type": "code",
   "execution_count": null,
   "metadata": {
    "collapsed": true
   },
   "outputs": [],
   "source": [
    "angles = np.arange(len(clear_frames))*1.0  # Angles step = 1 deg   "
   ]
  },
  {
   "cell_type": "code",
   "execution_count": null,
   "metadata": {
    "collapsed": true
   },
   "outputs": [],
   "source": [
    "import numpy as np\n",
    "import os\n",
    "import pylab as plt\n",
    "\n",
    "def calculateNonNegative(x):\n",
    "    res = np.zeros_like(x)\n",
    "    res = -1.0 * x[x < 0]\n",
    "    res = np.sign(res)       \n",
    "    return np.sum(res)\n",
    "\n",
    "def compute_regularization(x, reg_params):\n",
    "    res_linear = 0.0\n",
    "    res_exp = 0.0\n",
    "    res_l1 = 0.0\n",
    "    res_l2 = 0.0\n",
    "    res_l1_grad = 0.0\n",
    "    res_l2_grad = 0.0\n",
    "\n",
    "    if reg_params[1] >= 0.000001:\n",
    "        res_linear = np.zeros_like(x)\n",
    "        res_linear[x < 0] = x[x < 0]\n",
    "        res_linear = -1. * np.sum(res_linear)\n",
    "\n",
    "    if reg_params[2] >= 0.000001:\n",
    "        res_exp = np.zeros_like(x)\n",
    "        res_exp[x < 0] = x[x < 0] \n",
    "        res_exp = np.sum(res_exp ** 2)\n",
    "\n",
    "    if reg_params[3] >= 0.000001:\n",
    "        res_l1 = np.sum(np.abs(x))\n",
    "\n",
    "    if reg_params[4] >= 0.000001:\n",
    "        res_l2 = np.sum(x ** 2)\n",
    "\n",
    "    if reg_params[5] >= 0.000001:\n",
    "        res_l1_grad = np.zeros_like(x)\n",
    "        res_l1_grad[:-1, :] = np.abs(np.diff(x, axis=0))\n",
    "        res_l1_grad[:, :-1] += np.abs(np.diff(x, axis=1))\n",
    "        res_l1_grad = np.sum(res_l1_grad)\n",
    "        \n",
    "    if reg_params[6] >= 0.000001:\n",
    "        res_l2_grad = np.zeros_like(x)\n",
    "        res_l2_grad[:-1, :] = np.diff(x, axis=0) ** 2\n",
    "        res_l2_grad[:, :-1] += np.diff(x, axis=1) ** 2\n",
    "        res_l2_grad = np.sum(res_l2_grad)\n",
    "    \n",
    "    sx = x.shape[0]\n",
    "    k = sx / calculateNonNegative(x)\n",
    "    res_linear *= k\n",
    "    res_exp *= k\n",
    "    \n",
    "    res_l1 /= sx\n",
    "    res_l1_grad /= sx\n",
    "    res_l2 /= sx\n",
    "    res_l2_grad /= sx\n",
    "\n",
    "    res_l2 = sx * np.sqrt(res_l2 / sx)\n",
    "    res_l2_grad = sx * np.sqrt(res_l2_grad / sx)\n",
    "    res_exp = sx * np.sqrt(res_exp / sx)\n",
    "    \n",
    "    res = np.zeros_like(x)\n",
    "    if not np.isclose(reg_params[1],0):\n",
    "        res += res_linear * reg_params[1]\n",
    "    if not np.isclose(reg_params[2],0):\n",
    "        res += res_exp * reg_params[2]\n",
    "    if not np.isclose(reg_params[3],0):\n",
    "        res += res_l1 * reg_params[3]\n",
    "    if not np.isclose(reg_params[4],0):\n",
    "        res += res_l2 * reg_params[4]\n",
    "    if not np.isclose(reg_params[5],0):\n",
    "        res += res_l1_grad * reg_params[5]\n",
    "    if not np.isclose(reg_params[6],0):\n",
    "        res += res_l2_grad * reg_params[6]\n",
    "        \n",
    "    return res\n",
    "\n",
    "def compute_functional(D_r, D_g, D_r_grad, x_k, alpha, reg_parameters):\n",
    "    k = 1.0 / (D_r.size)\n",
    "    f = k * np.sum((D_r + alpha * D_r_grad) ** 2)\n",
    "    f = np.sqrt(f) * (1.0 - reg_parameters[0])\n",
    "    if not np.isclose(reg_parameters[0],0):\n",
    "        f += reg_parameters[0] * compute_regularization(x_k + alpha * D_g, reg_parameters)\n",
    "    return f\n",
    "\n",
    "def normilize_gr(g, grad_buffer, reg_params_1, reg_params_2):\n",
    "    norm1 = 1.0 / np.sum(np.abs(grad_buffer))\n",
    "    if norm1 > 1e+6:\n",
    "        norm1 = 1.0\n",
    "    g += grad_buffer * (reg_params_1 * reg_params_2 * norm1)\n",
    "    return g\n",
    "\n",
    "def regularize_gradient(x, g, reg_params):\n",
    "    norm = 1.0 / np.sum(np.abs(g))\n",
    "    if norm < 1e+6:\n",
    "        g *= norm\n",
    "\n",
    "    if reg_params[0] < 0.000001:\n",
    "        return g\n",
    "\n",
    "    g = g * (1. - reg_params[0])\n",
    "    \n",
    "    if np.abs(reg_params[1]) > 0.000001:\n",
    "        grad_buffer = np.zeros_like(g)\n",
    "        grad_buffer[x < 0] = -1. * [x < 0]\n",
    "        g = normilize_gr(g, grad_buffer, reg_params[0], reg_params[1])\n",
    "    if np.abs(reg_params[2]) > 0.000001:\n",
    "        grad_buffer = np.zeros_like(g)\n",
    "        grad_buffer[x < 0] = x[x < 0]\n",
    "        g = normilize_gr(g, grad_buffer, reg_params[0], reg_params[2])\n",
    "    if np.abs(reg_params[3]) > 0.000001:\n",
    "        grad_buffer = np.zeros_like(g)\n",
    "        grad_buffer = np.sign(x)\n",
    "        grad_buffer[grad_buffer == 0.0] = 1.0\n",
    "        g = normilize_gr(g, grad_buffer, reg_params[0], reg_params[3])\n",
    "    if np.abs(reg_params[4]) > 0.000001:\n",
    "        grad_buffer = np.copy(x)\n",
    "        g = normilize_gr(g, grad_buffer, reg_params[0], reg_params[4])\n",
    "    if np.abs(reg_params[5]) > 0.000001:\n",
    "        grad_buffer = np.zeros_like(g)\n",
    "        g_0 = np.diff(x, axis=0)\n",
    "        g_1 = np.diff(x, axis=1)\n",
    "        mask_0 = g_0 == 0.0\n",
    "        mask_1 = g_1 == 0.0\n",
    "        g_0 [mask_0] = -1.0\n",
    "        grad_buffer[:-1, :] = np.sign(-g_0)\n",
    "        g_0 [mask_0] = 1.0\n",
    "        grad_buffer[1:, :] += np.sign(g_0)\n",
    "        g_1 [mask_1] = -1.0\n",
    "        grad_buffer[:, :-1] += np.sign(-g_1)\n",
    "        g_1 [mask_1] = 1.0\n",
    "        grad_buffer[:, 1:] += np.sign(g_1)\n",
    "        g = normilize_gr(g, grad_buffer, reg_params[0], reg_params[5])\n",
    "    if np.abs(reg_params[6]) > 0.000001:\n",
    "        grad_buffer = np.zeros_like(g)\n",
    "        g_0 = np.diff(x, axis=0)\n",
    "        g_1 = np.diff(x, axis=1)\n",
    "        grad_buffer[:-1, :] = -g_0\n",
    "        grad_buffer[1:, :] += g_0\n",
    "        grad_buffer[:, :-1] -= g_1\n",
    "        grad_buffer[:, 1:] += g_1\n",
    "        g = normilize_gr(g, grad_buffer, reg_params[0], reg_params[6])\n",
    "\n",
    "    return g\n",
    "\n",
    "def compute_gradient(A, sino, D, x, reg_parameters):\n",
    "    D_r = D * (A * x).reshape(sino.shape) - sino\n",
    "    D_g = (A.T * (D_r * D)).reshape(x.shape)\n",
    "    D_g = regularize_gradient(x, D_g, reg_parameters)\n",
    "    D_r_grad = D * (A * D_g).reshape(sino.shape)\n",
    "    return D_r, D_g, D_r_grad\n",
    "\n",
    "def ternary_search(D_r, D_g, D_r_grad, x_k, left, right, reg_parameters):\n",
    "    while right - left > np.abs(right+left)/2./10 :  #todo: check it\n",
    "        a = (left * 2 + right) / 3\n",
    "        b = (left + right * 2) / 3\n",
    "        \n",
    "        f1 = compute_functional(D_r, D_g, D_r_grad, x_k, a, reg_parameters)\n",
    "        f2 = compute_functional(D_r, D_g, D_r_grad, x_k, b, reg_parameters)\n",
    "\n",
    "        if f1 < f2:\n",
    "            right = b\n",
    "        else:\n",
    "            left = a\n",
    "\n",
    "    return (left + right) / 2\n",
    "\n",
    "def iterate(A, sino, x0, D=None, reg_parameters=None, n_it=100):\n",
    "    if D is None:\n",
    "        prefix = 'cg'\n",
    "        D = np.ones_like(sino, dtype='float32')\n",
    "    else:\n",
    "        prefix = 'vcg'\n",
    "    reg_param = np.zeros(7)\n",
    "    if reg_parameters is not None:\n",
    "        if 'total' in reg_parameters:\n",
    "            reg_param[0] = reg_parameters['total']\n",
    "        if 'lin' in reg_parameters:\n",
    "            reg_param[1] = reg_parameters['lin']\n",
    "        if 'exp' in reg_parameters:\n",
    "            reg_param[2] = reg_parameters['exp']\n",
    "        if 'l1' in reg_parameters:\n",
    "            reg_param[3] = reg_parameters['l1']\n",
    "        if 'l2' in reg_parameters:\n",
    "            reg_param[4] = reg_parameters['l2']\n",
    "        if 'l1_grad' in reg_parameters:\n",
    "            reg_param[5] = reg_parameters['l1_grad']\n",
    "        if 'l2_grad' in reg_parameters:\n",
    "            reg_param[6] = reg_parameters['l2_grad']\n",
    "        prefix+='_reg'\n",
    "     \n",
    "    sino_d = sino.copy()\n",
    "    sino_d *= D\n",
    "\n",
    "    x_k = x0.copy()\n",
    "    en_ar = []\n",
    "    x_k_ar = []\n",
    "    al_ar = []\n",
    "    it_count = n_it\n",
    "    alpha = -1e6\n",
    "\n",
    "    for it in log_progress(range(0, n_it)):\n",
    "        D_r, D_g, D_r_grad = compute_gradient(A, sino_d, D, x_k, reg_param) \n",
    "\n",
    "        if compute_functional(D_r, D_g, D_r_grad, x_k, 0.0, reg_param) < 1.e-5:\n",
    "            it_count = it - 1\n",
    "            break\n",
    "\n",
    "        alpha = ternary_search(D_r, D_g, D_r_grad, x_k, alpha*1.3,  0, reg_param)\n",
    "        x_k = x_k + alpha * D_g\n",
    "        \n",
    "        eng = np.sum(((A * x_k).reshape(sino.shape) - sino) ** 2)\n",
    "        en_ar.append(np.sqrt(eng))\n",
    "#         x_k_ar.append(x_k)\n",
    "        al_ar.append(alpha)\n",
    "        \n",
    "        #if it % 10 == 0 or it < 20:\n",
    "        #  plt.imsave('{}_{:004}.png'.format(prefix, it), x_k, vmin=0, vmax=0.1, cmap='gray')\n",
    "\n",
    "    return {'rec': x_k,\n",
    "                    'iter': it_count,\n",
    "                    'energy': en_ar,\n",
    "#                     'x_k': x_k_ar,\n",
    "                    'alpha': al_ar\n",
    "                    }\n",
    "\n",
    "def CG(A, sino, x0, reg_parameters=None, n_it=100):\n",
    "    return iterate(A, sino, x0, None, reg_parameters, n_it)\n",
    "\n",
    "def VCG(A, sino, x0, D, reg_parameters=None, n_it=100):\n",
    "    return iterate(A, sino, x0, D, reg_parameters, n_it)\n",
    "                    "
   ]
  },
  {
   "cell_type": "code",
   "execution_count": null,
   "metadata": {
    "collapsed": true
   },
   "outputs": [],
   "source": [
    "def build_geometry(sinogram, angles):\n",
    "    astra_angles = angles.astype('float64')\n",
    "    detector_size = sinogram.shape[-1]\n",
    "    slices_number = sinogram.shape[0]\n",
    "\n",
    "    rec_size = detector_size\n",
    "    vol_geom = astra.create_vol_geom(rec_size, rec_size, slices_number)\n",
    "    \n",
    "    # We generate the same geometry as the circular one above.\n",
    "    vectors = np.zeros((len(astra_angles), 12))\n",
    "    alpha = -21.32/2*np.pi/180  #  define bragg angle\n",
    "    for i in range(len(astra_angles)):\n",
    "        # ray direction\n",
    "        vectors[i,0] = np.sin(astra_angles[i])*np.cos(alpha)\n",
    "        vectors[i,1] = -np.cos(astra_angles[i])*np.cos(alpha)\n",
    "        vectors[i,2] = np.sin(alpha)\n",
    "\n",
    "        # center of detector\n",
    "        vectors[i,3:6] = 0\n",
    "\n",
    "        # vector from detector pixel (0,0) to (0,1)\n",
    "        vectors[i,6] = np.cos(astra_angles[i])\n",
    "        vectors[i,7] = np.sin(astra_angles[i])\n",
    "        vectors[i,8] = 0;\n",
    "\n",
    "        # vector from detector pixel (0,0) to (1,0)\n",
    "        vectors[i,9] = 0\n",
    "        vectors[i,10] = 0\n",
    "        vectors[i,11] = 1\n",
    "\n",
    "    # Parameters: #rows, #columns, vectors\n",
    "    proj_geom = astra.create_proj_geom('parallel3d_vec', slices_number, detector_size, vectors)\n",
    "    return proj_geom, vol_geom\n",
    "\n",
    "def astra_topotomo3d(sinogram, angles, n_iters=10):\n",
    "    proj_geom, vol_geom = build_geometry(sinogram, angles)\n",
    "\n",
    "    sinogram_id = astra.data3d.create('-sino', proj_geom, data=sinogram)\n",
    "    \n",
    "    # Create a data object for the reconstruction\n",
    "    rec_id = astra.data3d.create('-vol', vol_geom)\n",
    "\n",
    "    # Set up the parameters for a reconstruction algorithm using the GPU\n",
    "    cfg = astra.astra_dict('CGLS3D_CUDA')\n",
    "    cfg['ReconstructionDataId'] = rec_id\n",
    "    cfg['ProjectionDataId'] = sinogram_id\n",
    "\n",
    "    # Create the algorithm object from the configuration structure\n",
    "    alg_id = astra.algorithm.create(cfg)\n",
    "\n",
    "    # Run 150 iterations of the algorithm\n",
    "    astra.algorithm.run(alg_id, n_iters)\n",
    "\n",
    "    # Get the result\n",
    "    rec = astra.data3d.get(rec_id)\n",
    "\n",
    "    # Clean up. Note that GPU memory is tied up in the algorithm object,\n",
    "    # and main RAM in the data objects.\n",
    "    astra.algorithm.delete(alg_id)\n",
    "    astra.data3d.delete(rec_id)\n",
    "    astra.data3d.delete(sinogram_id)\n",
    "    astra.clear()\n",
    "    return rec\n",
    "\n",
    "def vcg(sinogram, angles, x0=None, D=None, reg_params=None, n_iters=10):\n",
    "    proj_geom, vol_geom = build_geometry(sinogram, angles)\n",
    "    proj_id = astra.create_projector('cuda3d', proj_geom, vol_geom)\n",
    "    W = astra.OpTomo(proj_id)\n",
    "    detector_size = sinogram.shape[-1]\n",
    "    slices_number = sinogram.shape[0]\n",
    "    if x0 is None:\n",
    "        x0 = np.zeros((slices_number,detector_size,detector_size), dtype='float32')\n",
    "    rec = iterate(W, sinogram, x0, D, reg_parameters=reg_params, n_it=n_iters)\n",
    "    return rec"
   ]
  },
  {
   "cell_type": "code",
   "execution_count": null,
   "metadata": {
    "collapsed": true
   },
   "outputs": [],
   "source": [
    "#normalizing sinogram\n",
    "# data = clear_frames/np.expand_dims(np.expand_dims(clear_frames.mean(axis=-1).mean(axis=-1),-1),-1)\n",
    "# data = data[::2]\n",
    "data = clear_frames.copy()\n",
    "data /= np.expand_dims(np.expand_dims(data.mean(axis=-1).mean(axis=-1),-1),-1)\n",
    "data = np.log(1.+data)\n",
    "data /= np.expand_dims(np.expand_dims(data.mean(axis=-1).mean(axis=-1),-1),-1)\n"
   ]
  },
  {
   "cell_type": "code",
   "execution_count": null,
   "metadata": {},
   "outputs": [],
   "source": [
    "show_array(data,1)"
   ]
  },
  {
   "cell_type": "code",
   "execution_count": null,
   "metadata": {
    "collapsed": true
   },
   "outputs": [],
   "source": [
    "#some fast magic with axis\n",
    "s1 = np.require(data[:,:,:].swapaxes(0,1),dtype=np.float32, requirements=['C'])"
   ]
  },
  {
   "cell_type": "code",
   "execution_count": null,
   "metadata": {
    "collapsed": true
   },
   "outputs": [],
   "source": [
    "D = std_frames.swapaxes(0,1).copy()"
   ]
  },
  {
   "cell_type": "code",
   "execution_count": null,
   "metadata": {},
   "outputs": [],
   "source": [
    "show_array(10./(10+D),1, 0.05)"
   ]
  },
  {
   "cell_type": "code",
   "execution_count": null,
   "metadata": {},
   "outputs": [],
   "source": [
    "np.percentile(D.ravel(),1)"
   ]
  },
  {
   "cell_type": "code",
   "execution_count": null,
   "metadata": {
    "collapsed": true
   },
   "outputs": [],
   "source": [
    "def show_slice(data, axis_numb):\n",
    "    img = data.take(data.shape[axis_numb]//2, axis=axis_numb)\n",
    "    vmax = np.percentile(img.ravel(), 99)\n",
    "    plt.figure(figsize=(10,10))\n",
    "    plt.imshow(img, vmin=0, vmax=vmax)\n",
    "    plt.colorbar(orientation='horizontal')"
   ]
  },
  {
   "cell_type": "code",
   "execution_count": null,
   "metadata": {
    "collapsed": true
   },
   "outputs": [],
   "source": [
    "#trick with sinogram normalization\n",
    "# rec_3d = astra_topotomo3d(np.log(1.+s1), angles*np.pi/180)\n",
    "rec_3d = astra_topotomo3d(s1, angles*np.pi/180,100)"
   ]
  },
  {
   "cell_type": "code",
   "execution_count": null,
   "metadata": {},
   "outputs": [],
   "source": [
    "show_slice(rec_3d,0)"
   ]
  },
  {
   "cell_type": "code",
   "execution_count": null,
   "metadata": {},
   "outputs": [],
   "source": [
    "show_array(rec_3d,0)"
   ]
  },
  {
   "cell_type": "code",
   "execution_count": null,
   "metadata": {},
   "outputs": [],
   "source": [
    "show_slice(rec_3d,2)"
   ]
  },
  {
   "cell_type": "code",
   "execution_count": null,
   "metadata": {},
   "outputs": [],
   "source": [
    "show_array(rec_3d, 0,0.3)"
   ]
  },
  {
   "cell_type": "code",
   "execution_count": null,
   "metadata": {
    "collapsed": true
   },
   "outputs": [],
   "source": [
    "# show_array(rec_3d,0,0.1)"
   ]
  },
  {
   "cell_type": "code",
   "execution_count": null,
   "metadata": {
    "collapsed": true
   },
   "outputs": [],
   "source": [
    "mask = D>600"
   ]
  },
  {
   "cell_type": "code",
   "execution_count": null,
   "metadata": {},
   "outputs": [],
   "source": [
    "show_slice(rec_3d_v['rec'],1)"
   ]
  },
  {
   "cell_type": "code",
   "execution_count": null,
   "metadata": {
    "collapsed": true
   },
   "outputs": [],
   "source": [
    "!mkdir -p pics"
   ]
  },
  {
   "cell_type": "code",
   "execution_count": null,
   "metadata": {
    "scrolled": false
   },
   "outputs": [],
   "source": [
    "alpha = []\n",
    "energy = []\n",
    "for i in range(0,1000):\n",
    "    print(i*10)\n",
    "    if i == 0:\n",
    "        x0 = None\n",
    "    else:\n",
    "        x0 = rec_3d_v['rec'] \n",
    "        \n",
    "    rec_3d_v = vcg(s1, angles*np.pi/180, x0, 1.+s1, [10.,0.,0.,0.,1.,1.,0.], 10) # [1.,0.,0.,0.,1.,1.,0.],\n",
    "    \n",
    "    alpha.extend(rec_3d_v['alpha'])\n",
    "    plt.figure(figsize=(10,5))\n",
    "    plt.semilogy(-np.asarray(alpha))\n",
    "    plt.grid()\n",
    "    plt.show()\n",
    "    \n",
    "    energy.extend(rec_3d_v['energy'])\n",
    "    plt.figure(figsize=(10,5))\n",
    "    plt.semilogy(np.asarray(energy))\n",
    "    plt.grid()\n",
    "    plt.show()\n",
    "    \n",
    "    show_slice(rec_3d_v['rec'],0)\n",
    "    plt.savefig('pics/0_{}.png'.format(i))\n",
    "    plt.show()\n",
    "    show_slice(rec_3d_v['rec'],2)\n",
    "    plt.savefig('pics/2_{}.png'.format(i))\n",
    "    plt.show()"
   ]
  },
  {
   "cell_type": "code",
   "execution_count": null,
   "metadata": {},
   "outputs": [],
   "source": [
    "plt.figure(figsize=(10,5))\n",
    "plt.semilogy(-np.asarray(alpha))\n",
    "plt.grid()"
   ]
  },
  {
   "cell_type": "code",
   "execution_count": null,
   "metadata": {},
   "outputs": [],
   "source": [
    "plt.figure(figsize=(10,5))\n",
    "plt.semilogy(np.asarray(energy))\n",
    "plt.grid()"
   ]
  },
  {
   "cell_type": "code",
   "execution_count": null,
   "metadata": {},
   "outputs": [],
   "source": [
    "show_array(rec_3d_v['rec'],1,0.5)"
   ]
  },
  {
   "cell_type": "code",
   "execution_count": null,
   "metadata": {
    "collapsed": true
   },
   "outputs": [],
   "source": [
    "# rec_3d_smooth = denoise_nl_means(rec_3d,2,1)"
   ]
  },
  {
   "cell_type": "code",
   "execution_count": null,
   "metadata": {
    "collapsed": true
   },
   "outputs": [],
   "source": [
    "# show_array(rec_3d_smooth,0)"
   ]
  },
  {
   "cell_type": "code",
   "execution_count": null,
   "metadata": {
    "collapsed": true
   },
   "outputs": [],
   "source": [
    "# sl = rec_3d[rec_3d.shape[0]/3]\n",
    "# mask = np.zeros_like(sl)\n",
    "# X,Y = meshgrid(np.arange(mask.shape[0]),np.arange(mask.shape[1]))\n",
    "# X = X-mask.shape[0]/2\n",
    "# Y = Y-mask.shape[1]/2\n",
    "# mask = (X*X+Y*Y)**0.5<(mask.shape[0]/2)-3\n",
    "# rec_3d_masked = rec_3d*mask "
   ]
  },
  {
   "cell_type": "code",
   "execution_count": null,
   "metadata": {
    "collapsed": true
   },
   "outputs": [],
   "source": [
    "# show_array(rec_3d_masked)"
   ]
  },
  {
   "cell_type": "code",
   "execution_count": null,
   "metadata": {},
   "outputs": [],
   "source": [
    "# data_file_parts = os.path.join(data_dir,'result.h5')\n",
    "# out_file = '{}_reconstruction.h5'.format(''.join(data_file_parts[:-1]))\n",
    "\n",
    "out_file = os.path.join(data_dir,'result.h5')\n",
    "print(out_file)\n",
    "with h5py.File(out_file,'w') as h5f:\n",
    "    h5f.create_dataset('Result', data=rec_3d[:,padding_size:-padding_size,padding_size:-padding_size],\n",
    "                       dtype=np.float32)\n",
    "#     h5f.create_dataset('Result', data=rec_3d_v['rec'], dtype=np.float32)"
   ]
  },
  {
   "cell_type": "code",
   "execution_count": null,
   "metadata": {
    "collapsed": true
   },
   "outputs": [],
   "source": [
    "def save_amira(result_file):\n",
    "    \"\"\"\n",
    "    Функция сохраняет реконструированные слои в формате Amira raw file\n",
    "\n",
    "    Inputs:\n",
    "        data_path - путь к директории, где находиться файл res_tomo.hdf5 в формате HDF5\n",
    "            в этом файде должен быть раздел (node) /Results в котором в виде 3D массива\n",
    "            записаны реконструированный объём\n",
    "    Outputs:\n",
    "        Файлы amira.raw и tomo.hx. Если файлы уже существуют, то они перезаписываются.\n",
    "        Тип данных: float32 little endian\n",
    "    \"\"\"\n",
    "    data_path = os.path.dirname(result_file)\n",
    "    with open(os.path.join(data_path, 'amira.raw'), 'wb') as amira_file:\n",
    "        with h5py.File(result_file, 'r') as h5f:\n",
    "            x = h5f['Result']\n",
    "            for i in range(x.shape[0]):\n",
    "                np.array(x[i, :, :]).tofile(amira_file)\n",
    "\n",
    "            file_shape = x.shape\n",
    "\n",
    "            with open(os.path.join(data_path, 'tomo.hx'), 'w') as af:\n",
    "                af.write('# Amira Script\\n')\n",
    "                af.write('remove -all\\n')\n",
    "                af.write(r'[ load -raw ${SCRIPTDIR}/amira.raw little xfastest float 1 '+\n",
    "                         str(file_shape[1])+' '+str(file_shape[2])+' '+str(file_shape[0])+\n",
    "                         ' 0 '+str(file_shape[1]-1)+' 0 '+str(file_shape[2]-1)+' 0 '+str(file_shape[0]-1)+\n",
    "                         ' ] setLabel tomo.raw\\n')"
   ]
  },
  {
   "cell_type": "code",
   "execution_count": null,
   "metadata": {
    "collapsed": true
   },
   "outputs": [],
   "source": [
    "save_amira(out_file)"
   ]
  },
  {
   "cell_type": "code",
   "execution_count": null,
   "metadata": {
    "collapsed": true
   },
   "outputs": [],
   "source": []
  }
 ],
 "metadata": {
  "kernelspec": {
   "display_name": "Python 3",
   "language": "python",
   "name": "python3"
  },
  "language_info": {
   "codemirror_mode": {
    "name": "ipython",
    "version": 3
   },
   "file_extension": ".py",
   "mimetype": "text/x-python",
   "name": "python",
   "nbconvert_exporter": "python",
   "pygments_lexer": "ipython3",
   "version": "3.6.2"
  }
 },
 "nbformat": 4,
 "nbformat_minor": 2
}
