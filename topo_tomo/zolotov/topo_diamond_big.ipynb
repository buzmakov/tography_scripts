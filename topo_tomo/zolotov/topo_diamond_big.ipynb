{
 "cells": [
  {
   "cell_type": "code",
   "execution_count": null,
   "metadata": {
    "collapsed": true
   },
   "outputs": [],
   "source": [
    "%matplotlib inline\n",
    "%load_ext autoreload\n",
    "%autoreload 2"
   ]
  },
  {
   "cell_type": "markdown",
   "metadata": {},
   "source": [
    "Измерения кристалла алмаза для Ширяева А.А. (большой)\n",
    "\n",
    "1. Трубка - Mo,режим 50 Кв, 40 мА\n",
    "\n",
    "2. Геометрия эксперимента.\n",
    "\n",
    "Угол Брэгга - 9.9165 (по факту 7.610)\n",
    "\n",
    "Угол детектора - 19.833 \n",
    "\n",
    "Углы поворота (для томографии) 0-185 с шагом 1 градус\n",
    "\n",
    "3. Данные *.fit (папка data)\n",
    "\n",
    "5 кадров на поворот, экспозиция - 60 сек.\n",
    "\n",
    "4. Темновой ток *.fit (папка data)\n",
    "\n",
    "1 кадр на поворот, экспозиция - 60 сек. (снимались после данных)\n",
    "\n",
    "Итого: 6 кадров на поворот, где 5 - данные и 1 темновой ток. "
   ]
  },
  {
   "cell_type": "code",
   "execution_count": null,
   "metadata": {
    "collapsed": true
   },
   "outputs": [],
   "source": [
    "import os\n",
    "import glob\n",
    "import numpy as np\n",
    "import pylab as plt\n",
    "import h5py\n",
    "import astra\n",
    "import cv2\n",
    "from astropy.io import fits\n",
    "from pprint import pprint\n",
    "import warnings\n",
    "import ipywidgets\n",
    "from ipywidgets import interact, interactive, fixed, interact_manual\n"
   ]
  },
  {
   "cell_type": "code",
   "execution_count": null,
   "metadata": {
    "collapsed": true
   },
   "outputs": [],
   "source": [
    "def log_progress(sequence, every=None, size=None):\n",
    "    from ipywidgets import IntProgress, HTML, VBox\n",
    "    from IPython.display import display\n",
    "\n",
    "    is_iterator = False\n",
    "    if size is None:\n",
    "        try:\n",
    "            size = len(sequence)\n",
    "        except TypeError:\n",
    "            is_iterator = True\n",
    "    if size is not None:\n",
    "        if every is None:\n",
    "            if size <= 200:\n",
    "                every = 1\n",
    "            else:\n",
    "                every = size / 200     # every 0.5%\n",
    "    else:\n",
    "        assert every is not None, 'sequence is iterator, set every'\n",
    "\n",
    "    if is_iterator:\n",
    "        progress = IntProgress(min=0, max=1, value=1)\n",
    "        progress.bar_style = 'info'\n",
    "    else:\n",
    "        progress = IntProgress(min=0, max=size, value=0)\n",
    "    label = HTML()\n",
    "    box = VBox(children=[label, progress])\n",
    "    display(box)\n",
    "\n",
    "    index = 0\n",
    "    try:\n",
    "        for index, record in enumerate(sequence, 1):\n",
    "            if index == 1 or index % every == 0:\n",
    "                if is_iterator:\n",
    "                    label.value = '{index} / ?'.format(index=index)\n",
    "                else:\n",
    "                    progress.value = index\n",
    "                    label.value = u'{index} / {size}'.format(\n",
    "                        index=index,\n",
    "                        size=size\n",
    "                    )\n",
    "            yield record\n",
    "    except:\n",
    "        progress.bar_style = 'danger'\n",
    "        raise\n",
    "    else:\n",
    "        progress.bar_style = 'success'\n",
    "        progress.value = index\n",
    "        label.value = str(index or '?')"
   ]
  },
  {
   "cell_type": "code",
   "execution_count": null,
   "metadata": {
    "collapsed": true
   },
   "outputs": [],
   "source": [
    "plt.gray()"
   ]
  },
  {
   "cell_type": "code",
   "execution_count": null,
   "metadata": {
    "collapsed": true
   },
   "outputs": [],
   "source": [
    "import re\n",
    "def natural_key(string_):\n",
    "    \"\"\"See http://www.codinghorror.com/blog/archives/001018.html\"\"\"\n",
    "    return [int(s) if s.isdigit() else s for s in re.split(r'(\\d+)', string_)]"
   ]
  },
  {
   "cell_type": "code",
   "execution_count": null,
   "metadata": {
    "collapsed": true
   },
   "outputs": [],
   "source": [
    "def read_fit(fit_path):\n",
    "    with warnings.catch_warnings():\n",
    "        warnings.simplefilter(\"ignore\")\n",
    "        with fits.open(fit_path) as fit:\n",
    "            tmp_data = fit[0].data.astype('uint16')\n",
    "    return tmp_data"
   ]
  },
  {
   "cell_type": "code",
   "execution_count": null,
   "metadata": {
    "collapsed": true
   },
   "outputs": [],
   "source": [
    "#lodad files and sort it ina natural way\n",
    "data_dir = os.path.expanduser('/diskmnt/a/makov/topo_tomo/big_diamond/2018_04_20/data/')\n",
    "all_files = glob.glob(os.path.join(data_dir,'*.FITS'))\n",
    "all_files = sorted(all_files, key=natural_key)\n",
    "print(len(all_files))\n",
    "all_files[0:10]\n",
    "# print len(data_files)\n",
    "# empty_files = glob.glob(os.path.join(data_dir,'FREE*.fit'))\n",
    "# empty_files = sorted(empty_files, key=natural_key)\n",
    "# print len(empty_files)\n"
   ]
  },
  {
   "cell_type": "code",
   "execution_count": null,
   "metadata": {
    "collapsed": true
   },
   "outputs": [],
   "source": [
    "data_range = np.index_exp[50:600, 390:1150]\n",
    "zero_file = read_fit(all_files[0])[data_range]\n",
    "plt.figure(figsize=(10,10))\n",
    "plt.imshow(cv2.medianBlur(zero_file,3))\n",
    "plt.colorbar(orientation='horizontal')"
   ]
  },
  {
   "cell_type": "code",
   "execution_count": null,
   "metadata": {
    "collapsed": true
   },
   "outputs": [],
   "source": [
    "zero_file = read_fit(all_files[0])[data_range]\n",
    "all_data = np.zeros(shape=(len(all_files), zero_file.shape[0], zero_file.shape[1]), dtype='float32')\n",
    "for i in log_progress(np.arange(len(all_files))):\n",
    "    all_data[i]=read_fit(all_files[i])[data_range]"
   ]
  },
  {
   "cell_type": "code",
   "execution_count": null,
   "metadata": {
    "collapsed": true
   },
   "outputs": [],
   "source": [
    "free_numbers = np.argwhere(all_data.mean(axis=-1).mean(axis=-1)<50)\n",
    "free_numbers = [x[0] for x in free_numbers]\n",
    "print(len(free_numbers))"
   ]
  },
  {
   "cell_type": "code",
   "execution_count": null,
   "metadata": {
    "collapsed": true
   },
   "outputs": [],
   "source": [
    "clear_frames = np.zeros(shape=(len(free_numbers), zero_file.shape[0], zero_file.shape[1]), dtype='float32')"
   ]
  },
  {
   "cell_type": "code",
   "execution_count": null,
   "metadata": {
    "collapsed": true
   },
   "outputs": [],
   "source": [
    "current_frame = 0\n",
    "for ifn, fn in enumerate(np.asarray(free_numbers)):\n",
    "#     print(current_frame,ifn, fn)\n",
    "    zero_frame = all_data[fn]\n",
    "    tmp_frame = all_data[current_frame:fn].mean(axis=0)-zero_frame\n",
    "#     tmp_frame = np.percentile(all_data[current_frame:fn], 50, axis=0)-zero_frame\n",
    "    tmp_frame[tmp_frame<0] = 0\n",
    "    clear_frames[ifn] = tmp_frame\n",
    "    current_frame = fn+1"
   ]
  },
  {
   "cell_type": "code",
   "execution_count": null,
   "metadata": {
    "collapsed": true,
    "scrolled": false
   },
   "outputs": [],
   "source": [
    "current_frame = 0\n",
    "for ifn, fn in enumerate(np.asarray(free_numbers)):\n",
    "    if ifn %10== 0:\n",
    "        zero_frame = all_data[fn]\n",
    "        t_data = all_data[current_frame:fn]-zero_frame\n",
    "        \n",
    "        t_s = np.sort(t_data, axis=0)\n",
    "        tmp_frame_mean_e = np.percentile(t_data, 60, axis=0) #t_s[3:].mean(axis=0)\n",
    "        \n",
    "        tmp_frame_mean = t_data.mean(axis=0)\n",
    "        tmp_frame_mean[tmp_frame_mean<1] = 1\n",
    "        tmp_frame_std = t_data.std(axis=0)\n",
    "        tmp_frame_std[tmp_frame_std<1] = 1\n",
    "        tmp_frame_min = t_data.min(axis=0)\n",
    "        tmp_frame_min[tmp_frame_min<1] = 1\n",
    "        tmp_frame_max = t_data.max(axis=0)\n",
    "        tmp_frame_max[tmp_frame_max<1] = 1\n",
    "        \n",
    "        vmax = np.max(tmp_frame_mean)\n",
    "        plt.figure(figsize=(14,12))\n",
    "        plt.subplot(221)\n",
    "        plt.title(str(ifn) + ' mean')\n",
    "        plt.imshow(tmp_frame_mean, vmin=0, vmax=vmax)\n",
    "        plt.colorbar(orientation='horizontal')\n",
    "        plt.subplot(222)\n",
    "        plt.title(str(ifn) + ' std')\n",
    "        plt.imshow(tmp_frame_std, vmin=0, vmax=vmax)\n",
    "        plt.colorbar(orientation='horizontal')\n",
    "        plt.subplot(223)\n",
    "        plt.title(str(ifn) + ' median')\n",
    "        plt.imshow(tmp_frame_mean_e, vmin=0, vmax=vmax)\n",
    "        plt.colorbar(orientation='horizontal')\n",
    "        plt.subplot(224)\n",
    "        plt.title(str(ifn) + ' min')\n",
    "        plt.imshow(tmp_frame_min, vmin=0, vmax=vmax)\n",
    "        plt.colorbar(orientation='horizontal')\n",
    "        plt.show()\n",
    "        \n",
    "#         plt.figure(figsize=(7,5))\n",
    "#         for i in range(1,10):\n",
    "# #             plt.subplot(220+i)\n",
    "#             x,y = np.histogram(t_data[:, 100:102,100+10*i:100+10*i+2], bins=10)\n",
    "#             plt.plot(y[1:], x,label=i)\n",
    "#         plt.legend()\n",
    "#         plt.grid()\n",
    "#         plt.show()\n",
    "    current_frame = fn+1"
   ]
  },
  {
   "cell_type": "code",
   "execution_count": null,
   "metadata": {
    "collapsed": true
   },
   "outputs": [],
   "source": [
    "plt.figure(figsize=(10,10))\n",
    "plt.plot(all_data[:].mean(axis=-1).mean(axis=-1))\n",
    "plt.grid()\n",
    "plt.show()"
   ]
  },
  {
   "cell_type": "code",
   "execution_count": null,
   "metadata": {
    "collapsed": true
   },
   "outputs": [],
   "source": [
    "plt.figure(figsize=(10,10))\n",
    "plt.plot(clear_frames[:].mean(axis=-1).mean(axis=-1))\n",
    "plt.grid()\n",
    "plt.show()"
   ]
  },
  {
   "cell_type": "code",
   "execution_count": null,
   "metadata": {
    "collapsed": true,
    "scrolled": false
   },
   "outputs": [],
   "source": [
    "def show_array(data3d, axis_numb=0):\n",
    "    vmax = data3d.max()\n",
    "    def show_slice(i):\n",
    "        plt.figure(figsize=(10,10))\n",
    "        plt.imshow(local_data.take(i,axis=axis_numb),vmin=0, vmax=vmax)\n",
    "        plt.colorbar(orientation='horizontal')\n",
    "        plt.show()\n",
    "    \n",
    "    local_data = data3d\n",
    "    ipywidgets.interact(show_slice, i=(0,data3d.shape[axis_numb]-1))"
   ]
  },
  {
   "cell_type": "code",
   "execution_count": null,
   "metadata": {
    "collapsed": true
   },
   "outputs": [],
   "source": [
    "show_array(clear_frames)"
   ]
  },
  {
   "cell_type": "code",
   "execution_count": null,
   "metadata": {
    "collapsed": true
   },
   "outputs": [],
   "source": [
    "# from bokeh.plotting import figure, show\n",
    "# from bokeh.io import  output_notebook\n",
    "# output_notebook()\n",
    "\n",
    "# def show_array_b(data3d, axis_numb=0):\n",
    "#     vmax = data3d.max()\n",
    "#     p = figure(plot_width=data3d.shape[2], plot_height=data3d.shape[1],\n",
    "#               x_range=(0, data3d.shape[2]), y_range=(0, data3d.shape[1]))\n",
    "#     def show_slice(i):\n",
    "#         image = local_data.take(i,axis=axis_numb)\n",
    "#         p.image(image=[image], x=0, y=0, dw=image.shape[1], dh=image.shape[0], palette='Greys9')\n",
    "#         show(p)\n",
    "#     local_data = data3d\n",
    "#     ipywidgets.interact(show_slice, i=(0,data3d.shape[axis_numb]-1))\n",
    "\n",
    "# show_array_b(clear_frames)"
   ]
  },
  {
   "cell_type": "code",
   "execution_count": null,
   "metadata": {
    "collapsed": true
   },
   "outputs": [],
   "source": [
    "shift = 0\n",
    "plt.figure(figsize=(10,10))\n",
    "plt.plot(np.roll(clear_frames[0],shift,1).sum(axis=0))\n",
    "plt.plot(np.roll(np.fliplr(clear_frames[180]),-shift,1).sum(axis=0))\n",
    "plt.grid()"
   ]
  },
  {
   "cell_type": "code",
   "execution_count": null,
   "metadata": {
    "collapsed": true
   },
   "outputs": [],
   "source": [
    "plt.figure(figsize=(10,10))\n",
    "plt.imshow(np.roll(clear_frames[0],shift,1)-np.roll(np.fliplr(clear_frames[180]),-shift,1))"
   ]
  },
  {
   "cell_type": "code",
   "execution_count": null,
   "metadata": {
    "collapsed": true
   },
   "outputs": [],
   "source": [
    "angles = np.arange(len(clear_frames))*1.0  # Angles staep = 2 deg   "
   ]
  },
  {
   "cell_type": "code",
   "execution_count": null,
   "metadata": {
    "collapsed": true
   },
   "outputs": [],
   "source": [
    "import astra\n",
    "def astra_tomo2d_parallel(sinogram, angles):\n",
    "    angles = angles.astype('float64')\n",
    "    detector_size = sinogram.shape[1]\n",
    "    \n",
    "\n",
    "    rec_size = detector_size\n",
    "    vol_geom = astra.create_vol_geom(rec_size, rec_size)\n",
    "    proj_geom = astra.create_proj_geom('parallel', 1.0, detector_size, angles)\n",
    "\n",
    "\n",
    "    sinogram_id = astra.data2d.create('-sino', proj_geom, data=sinogram)\n",
    "    # Create a data object for the reconstruction\n",
    "    rec_id = astra.data2d.create('-vol', vol_geom)\n",
    "#     proj_id = astra.create_projector('strip', proj_geom, vol_geom) # for CPU reconstruction only\n",
    "\n",
    "    # Set up the parameters for a reconstruction algorithm using the GPU\n",
    "    cfg = astra.astra_dict('CGLS_CUDA')\n",
    "    cfg['ReconstructionDataId'] = rec_id\n",
    "    cfg['ProjectionDataId'] = sinogram_id\n",
    "#     cfg['ProjectorId'] = proj_id # for CPU reconstruction only\n",
    "    cfg['option'] = {}\n",
    "    cfg['option']['MinConstraint'] = 0\n",
    "    # cfg['option']['MaxConstraint'] = 5\n",
    "\n",
    "    # Available algorithms:\n",
    "    # SIRT_CUDA, SART_CUDA, EM_CUDA, FBP_CUDA (see the FBP sample)\n",
    "\n",
    "    # Create the algorithm object from the configuration structure\n",
    "    alg_id = astra.algorithm.create(cfg)\n",
    "\n",
    "    # Run 150 iterations of the algorithm\n",
    "    astra.algorithm.run(alg_id, 10)\n",
    "\n",
    "    # Get the result\n",
    "    rec = astra.data2d.get(rec_id)\n",
    "\n",
    "    # Clean up. Note that GPU memory is tied up in the algorithm object,\n",
    "    # and main RAM in the data objects.\n",
    "    astra.algorithm.delete(alg_id)\n",
    "    astra.data2d.delete(rec_id)\n",
    "    astra.data2d.delete(sinogram_id)\n",
    "    astra.clear()\n",
    "    return rec\n",
    "\n",
    "def astra_tomo3d_parallel(sinogram, angles):\n",
    "    angles = angles.astype('float64')\n",
    "    detector_size = sinogram.shape[-1]\n",
    "    slices_number = sinogram.shape[0]\n",
    "\n",
    "    rec_size = detector_size\n",
    "    vol_geom = astra.create_vol_geom(rec_size, rec_size, slices_number)\n",
    "    proj_geom = astra.create_proj_geom('parallel3d', 1.0, 1.0,  slices_number, detector_size, angles)\n",
    "\n",
    "    sinogram_id = astra.data3d.create('-sino', proj_geom, data=sinogram)\n",
    "    \n",
    "    # Create a data object for the reconstruction\n",
    "    rec_id = astra.data3d.create('-vol', vol_geom)\n",
    "#     proj_id = astra.create_projector('strip', proj_geom, vol_geom) # for CPU reconstruction only\n",
    "\n",
    "    # Set up the parameters for a reconstruction algorithm using the GPU\n",
    "    cfg = astra.astra_dict('CGLS3D_CUDA')\n",
    "    cfg['ReconstructionDataId'] = rec_id\n",
    "    cfg['ProjectionDataId'] = sinogram_id\n",
    "#     cfg['ProjectorId'] = proj_id # for CPU reconstruction only\n",
    "    cfg['option'] = {}\n",
    "    cfg['option']['MinConstraint'] = 0\n",
    "    # cfg['option']['MaxConstraint'] = 5\n",
    "\n",
    "    # Available algorithms:\n",
    "    # SIRT_CUDA, SART_CUDA, EM_CUDA, FBP_CUDA (see the FBP sample)\n",
    "\n",
    "    # Create the algorithm object from the configuration structure\n",
    "    alg_id = astra.algorithm.create(cfg)\n",
    "\n",
    "    # Run 150 iterations of the algorithm\n",
    "    astra.algorithm.run(alg_id, 10)\n",
    "\n",
    "    # Get the result\n",
    "    rec = astra.data3d.get(rec_id)\n",
    "\n",
    "    # Clean up. Note that GPU memory is tied up in the algorithm object,\n",
    "    # and main RAM in the data objects.\n",
    "    astra.algorithm.delete(alg_id)\n",
    "    astra.data3d.delete(rec_id)\n",
    "    astra.data3d.delete(sinogram_id)\n",
    "    astra.clear()\n",
    "    return rec\n",
    "\n",
    "def astra_topotomo3d(sinogram, angles):\n",
    "    astra_angles = angles.astype('float64')\n",
    "    detector_size = sinogram.shape[-1]\n",
    "    slices_number = sinogram.shape[0]\n",
    "\n",
    "    rec_size = detector_size\n",
    "    vol_geom = astra.create_vol_geom(rec_size, rec_size, slices_number)\n",
    "    \n",
    "    # We generate the same geometry as the circular one above.\n",
    "    vectors = np.zeros((len(astra_angles), 12))\n",
    "    alpha = -19.833/2*np.pi/180  #  define bragg angle\n",
    "    for i in range(len(astra_angles)):\n",
    "        # ray direction\n",
    "        vectors[i,0] = np.sin(astra_angles[i])*np.cos(alpha)\n",
    "        vectors[i,1] = -np.cos(astra_angles[i])*np.cos(alpha)\n",
    "        vectors[i,2] = np.sin(alpha)\n",
    "\n",
    "        # center of detector\n",
    "        vectors[i,3:6] = 0\n",
    "\n",
    "        # vector from detector pixel (0,0) to (0,1)\n",
    "        vectors[i,6] = np.cos(astra_angles[i])\n",
    "        vectors[i,7] = np.sin(astra_angles[i])\n",
    "        vectors[i,8] = 0;\n",
    "\n",
    "        # vector from detector pixel (0,0) to (1,0)\n",
    "        vectors[i,9] = 0\n",
    "        vectors[i,10] = 0\n",
    "        vectors[i,11] = 1\n",
    "\n",
    "    # Parameters: #rows, #columns, vectors\n",
    "    proj_geom = astra.create_proj_geom('parallel3d_vec', slices_number, detector_size, vectors)\n",
    "#     proj_geom = astra.create_proj_geom('parallel3d', 1.0, 1.0,  slices_number, detector_size, angles)\n",
    "\n",
    "    sinogram_id = astra.data3d.create('-sino', proj_geom, data=sinogram)\n",
    "    \n",
    "    # Create a data object for the reconstruction\n",
    "    rec_id = astra.data3d.create('-vol', vol_geom)\n",
    "#     proj_id = astra.create_projector('strip', proj_geom, vol_geom) # for CPU reconstruction only\n",
    "\n",
    "    # Set up the parameters for a reconstruction algorithm using the GPU\n",
    "    cfg = astra.astra_dict('CGLS3D_CUDA')\n",
    "    cfg['ReconstructionDataId'] = rec_id\n",
    "    cfg['ProjectionDataId'] = sinogram_id\n",
    "#     cfg['ProjectorId'] = proj_id # for CPU reconstruction only\n",
    "#     cfg['option'] = {}\n",
    "#     cfg['option']['MinConstraint'] = 0\n",
    "    # cfg['option']['MaxConstraint'] = 5\n",
    "\n",
    "    # Available algorithms:\n",
    "    # SIRT_CUDA, SART_CUDA, EM_CUDA, FBP_CUDA (see the FBP sample)\n",
    "\n",
    "    # Create the algorithm object from the configuration structure\n",
    "    alg_id = astra.algorithm.create(cfg)\n",
    "\n",
    "    # Run 150 iterations of the algorithm\n",
    "    astra.algorithm.run(alg_id, 100)\n",
    "\n",
    "    # Get the result\n",
    "    rec = astra.data3d.get(rec_id)\n",
    "\n",
    "    # Clean up. Note that GPU memory is tied up in the algorithm object,\n",
    "    # and main RAM in the data objects.\n",
    "    astra.algorithm.delete(alg_id)\n",
    "    astra.data3d.delete(rec_id)\n",
    "    astra.data3d.delete(sinogram_id)\n",
    "    astra.clear()\n",
    "    return rec"
   ]
  },
  {
   "cell_type": "code",
   "execution_count": null,
   "metadata": {
    "collapsed": true
   },
   "outputs": [],
   "source": [
    "# rec_slice = astra_tomo2d_parallel(np.log(data[:,150,:]+1), angles*np.pi/180)\n",
    "# rec_slice = astra_tomo2d_parallel(data[:,150,:], angles*np.pi/180)"
   ]
  },
  {
   "cell_type": "code",
   "execution_count": null,
   "metadata": {
    "collapsed": true
   },
   "outputs": [],
   "source": [
    "# plt.imshow(rec_slice)\n",
    "# plt.colorbar()"
   ]
  },
  {
   "cell_type": "code",
   "execution_count": null,
   "metadata": {
    "collapsed": true
   },
   "outputs": [],
   "source": [
    "data = clear_frames/np.expand_dims(np.expand_dims(clear_frames.mean(axis=-1).mean(axis=-1),-1),-1)\n",
    "# data = data[::2]"
   ]
  },
  {
   "cell_type": "code",
   "execution_count": null,
   "metadata": {
    "collapsed": true
   },
   "outputs": [],
   "source": [
    "show_array(data,1)"
   ]
  },
  {
   "cell_type": "code",
   "execution_count": null,
   "metadata": {
    "collapsed": true
   },
   "outputs": [],
   "source": [
    "s1 = np.require(data[:,:,:].swapaxes(0,1),dtype=np.float32, requirements=['C'])"
   ]
  },
  {
   "cell_type": "code",
   "execution_count": null,
   "metadata": {
    "collapsed": true
   },
   "outputs": [],
   "source": [
    "rec_3d = astra_topotomo3d(np.log(1.+s1), angles*np.pi/180)\n",
    "# rec_3d = astra_topotomo3d(s1, angles*np.pi/180)"
   ]
  },
  {
   "cell_type": "code",
   "execution_count": null,
   "metadata": {
    "collapsed": true
   },
   "outputs": [],
   "source": [
    "show_array(rec_3d,1)"
   ]
  },
  {
   "cell_type": "code",
   "execution_count": null,
   "metadata": {
    "collapsed": true
   },
   "outputs": [],
   "source": [
    "# sl = rec_3d[rec_3d.shape[0]/3]\n",
    "# mask = np.zeros_like(sl)\n",
    "# X,Y = meshgrid(np.arange(mask.shape[0]),np.arange(mask.shape[1]))\n",
    "# X = X-mask.shape[0]/2\n",
    "# Y = Y-mask.shape[1]/2\n",
    "# mask = (X*X+Y*Y)**0.5<(mask.shape[0]/2)-3\n",
    "# rec_3d_masked = rec_3d*mask "
   ]
  },
  {
   "cell_type": "code",
   "execution_count": null,
   "metadata": {
    "collapsed": true
   },
   "outputs": [],
   "source": [
    "# show_array(rec_3d_masked)"
   ]
  },
  {
   "cell_type": "code",
   "execution_count": null,
   "metadata": {
    "collapsed": true
   },
   "outputs": [],
   "source": [
    "# data_file_parts = os.path.join(data_dir,'result.h5')\n",
    "# out_file = '{}_reconstruction.h5'.format(''.join(data_file_parts[:-1]))\n",
    "\n",
    "out_file = os.path.join(data_dir,'result.h5')\n",
    "print(out_file)\n",
    "with h5py.File(out_file,'w') as h5f:\n",
    "    h5f.create_dataset('Result', data=rec_3d, dtype=np.float32)"
   ]
  },
  {
   "cell_type": "code",
   "execution_count": null,
   "metadata": {
    "collapsed": true
   },
   "outputs": [],
   "source": [
    "def save_amira(result_file):\n",
    "    \"\"\"\n",
    "    Функция сохраняет реконструированные слои в формате Amira raw file\n",
    "\n",
    "    Inputs:\n",
    "        data_path - путь к директории, где находиться файл res_tomo.hdf5 в формате HDF5\n",
    "            в этом файде должен быть раздел (node) /Results в котором в виде 3D массива\n",
    "            записаны реконструированный объём\n",
    "    Outputs:\n",
    "        Файлы amira.raw и tomo.hx. Если файлы уже существуют, то они перезаписываются.\n",
    "        Тип данных: float32 little endian\n",
    "    \"\"\"\n",
    "    data_path = os.path.dirname(result_file)\n",
    "    with open(os.path.join(data_path, 'amira.raw'), 'wb') as amira_file:\n",
    "        with h5py.File(result_file, 'r') as h5f:\n",
    "            x = h5f['Result']\n",
    "            for i in range(x.shape[0]):\n",
    "                np.array(x[i, :, :]).tofile(amira_file)\n",
    "\n",
    "            file_shape = x.shape\n",
    "\n",
    "            with open(os.path.join(data_path, 'tomo.hx'), 'w') as af:\n",
    "                af.write('# Amira Script\\n')\n",
    "                af.write('remove -all\\n')\n",
    "                af.write(r'[ load -raw ${SCRIPTDIR}/amira.raw little xfastest float 1 '+\n",
    "                         str(file_shape[1])+' '+str(file_shape[2])+' '+str(file_shape[0])+\n",
    "                         ' 0 '+str(file_shape[1]-1)+' 0 '+str(file_shape[2]-1)+' 0 '+str(file_shape[0]-1)+\n",
    "                         ' ] setLabel tomo.raw\\n')"
   ]
  },
  {
   "cell_type": "code",
   "execution_count": null,
   "metadata": {
    "collapsed": true
   },
   "outputs": [],
   "source": [
    "save_amira(out_file)"
   ]
  },
  {
   "cell_type": "code",
   "execution_count": null,
   "metadata": {
    "collapsed": true
   },
   "outputs": [],
   "source": []
  }
 ],
 "metadata": {
  "kernelspec": {
   "display_name": "Python 3",
   "language": "python",
   "name": "python3"
  },
  "language_info": {
   "codemirror_mode": {
    "name": "ipython",
    "version": 3
   },
   "file_extension": ".py",
   "mimetype": "text/x-python",
   "name": "python",
   "nbconvert_exporter": "python",
   "pygments_lexer": "ipython3",
   "version": "3.6.6"
  }
 },
 "nbformat": 4,
 "nbformat_minor": 2
}
