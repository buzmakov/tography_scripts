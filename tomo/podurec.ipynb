{
 "cells": [
  {
   "cell_type": "code",
   "execution_count": null,
   "metadata": {
    "collapsed": true
   },
   "outputs": [],
   "source": [
    "%matplotlib inline"
   ]
  },
  {
   "cell_type": "code",
   "execution_count": null,
   "metadata": {
    "collapsed": true
   },
   "outputs": [],
   "source": [
    "import os\n",
    "import glob\n",
    "\n",
    "import numpy as np\n",
    "from scipy.ndimage import median_filter\n",
    "import pylab as plt\n",
    "from skimage.io import imread\n",
    "\n",
    "import astra\n",
    "import h5py"
   ]
  },
  {
   "cell_type": "code",
   "execution_count": null,
   "metadata": {
    "collapsed": true
   },
   "outputs": [],
   "source": [
    "def log_progress(sequence, every=None, size=None):\n",
    "    from ipywidgets import IntProgress, HTML, VBox\n",
    "    from IPython.display import display\n",
    "\n",
    "    is_iterator = False\n",
    "    if size is None:\n",
    "        try:\n",
    "            size = len(sequence)\n",
    "        except TypeError:\n",
    "            is_iterator = True\n",
    "    if size is not None:\n",
    "        if every is None:\n",
    "            if size <= 200:\n",
    "                every = 1\n",
    "            else:\n",
    "                every = size / 200     # every 0.5%\n",
    "    else:\n",
    "        assert every is not None, 'sequence is iterator, set every'\n",
    "\n",
    "    if is_iterator:\n",
    "        progress = IntProgress(min=0, max=1, value=1)\n",
    "        progress.bar_style = 'info'\n",
    "    else:\n",
    "        progress = IntProgress(min=0, max=size, value=0)\n",
    "    label = HTML()\n",
    "    box = VBox(children=[label, progress])\n",
    "    display(box)\n",
    "\n",
    "    index = 0\n",
    "    try:\n",
    "        for index, record in enumerate(sequence, 1):\n",
    "            if index == 1 or index % every == 0:\n",
    "                if is_iterator:\n",
    "                    label.value = '{index} / ?'.format(index=index)\n",
    "                else:\n",
    "                    progress.value = index\n",
    "                    label.value = u'{index} / {size}'.format(\n",
    "                        index=index,\n",
    "                        size=size\n",
    "                    )\n",
    "            yield record\n",
    "    except:\n",
    "        progress.bar_style = 'danger'\n",
    "        raise\n",
    "    else:\n",
    "        progress.bar_style = 'success'\n",
    "        progress.value = index\n",
    "        label.value = unicode(index or '?')"
   ]
  },
  {
   "cell_type": "code",
   "execution_count": null,
   "metadata": {
    "collapsed": true
   },
   "outputs": [],
   "source": [
    "data_folder = '/diskmnt/a/makov/tomo_data/podurec/krest'"
   ]
  },
  {
   "cell_type": "code",
   "execution_count": null,
   "metadata": {},
   "outputs": [],
   "source": [
    "data_files = glob.glob(os.path.join(data_folder,'data','*.tif'))\n",
    "data_files = sorted(data_files)\n",
    "print len(data_files)"
   ]
  },
  {
   "cell_type": "code",
   "execution_count": null,
   "metadata": {},
   "outputs": [],
   "source": [
    "test_im = imread(data_files[0])\n",
    "sinogram = np.zeros((len(data_files), test_im.shape[0],test_im.shape[1]),dtype='float32')"
   ]
  },
  {
   "cell_type": "code",
   "execution_count": null,
   "metadata": {},
   "outputs": [],
   "source": [
    "for idf, data_file in log_progress(list(enumerate(data_files))):\n",
    "    sinogram[idf] = imread(data_file)"
   ]
  },
  {
   "cell_type": "code",
   "execution_count": null,
   "metadata": {},
   "outputs": [],
   "source": [
    "print sinogram.shape"
   ]
  },
  {
   "cell_type": "code",
   "execution_count": null,
   "metadata": {},
   "outputs": [],
   "source": [
    "plt.figure(figsize=(15,15))\n",
    "plt.imshow(sinogram[300],cmap=plt.cm.viridis)\n",
    "plt.colorbar(orientation='horizontal')"
   ]
  },
  {
   "cell_type": "code",
   "execution_count": null,
   "metadata": {},
   "outputs": [],
   "source": [
    "plt.figure(figsize=(15,15))\n",
    "plt.imshow(sinogram[:,290,:],cmap=plt.cm.viridis)\n",
    "plt.colorbar(orientation='horizontal')"
   ]
  },
  {
   "cell_type": "code",
   "execution_count": null,
   "metadata": {},
   "outputs": [],
   "source": [
    "def build_reconstruction_geomety(detector_size, angles):\n",
    "    proj_geom = astra.create_proj_geom('parallel', 1.0, detector_size, angles)\n",
    "    return proj_geom"
   ]
  },
  {
   "cell_type": "code",
   "execution_count": null,
   "metadata": {},
   "outputs": [],
   "source": [
    "def astra_tomo2d(sinogram, angles):\n",
    "    angles = angles.astype('float64') # hack for astra stability, may be removed in future releases\n",
    "    detector_size = sinogram.shape[1]\n",
    "    \n",
    "\n",
    "    rec_size = detector_size # size of reconstruction region\n",
    "    vol_geom = astra.create_vol_geom(rec_size, rec_size)\n",
    "\n",
    "    proj_geom = build_reconstruction_geomety(detector_size, angles)\n",
    "    \n",
    "    sinogram_id = astra.data2d.create('-sino', proj_geom, data=sinogram)\n",
    "    # Create a data object for the reconstruction\n",
    "    rec_id = astra.data2d.create('-vol', vol_geom)\n",
    "\n",
    "    # Set up the parameters for a reconstruction algorithm using the GPU\n",
    "    cfg = astra.astra_dict('SART_CUDA')\n",
    "    cfg['ReconstructionDataId'] = rec_id\n",
    "    cfg['ProjectionDataId'] = sinogram_id\n",
    "    cfg['option'] = {}\n",
    "#     cfg['option']['ShortScan'] = True\n",
    "    cfg['option']['MinConstraint'] = 0\n",
    "#     cfg['option']['MaxConstraint'] = 0.02\n",
    "\n",
    "    # Available algorithms:\n",
    "    # SIRT_CUDA, SART_CUDA, EM_CUDA, FBP_CUDA (see the FBP sample)\n",
    "\n",
    "    # Create the algorithm object from the configuration structure\n",
    "    alg_id = astra.algorithm.create(cfg)\n",
    "\n",
    "    # Run 150 iterations of the algorithm\n",
    "    astra.algorithm.run(alg_id, 1000)\n",
    "    # Get the result\n",
    "    rec = astra.data2d.get(rec_id)\n",
    "\n",
    "    # Clean up. Note that GPU memory is tied up in the algorithm object,\n",
    "    # and main RAM in the data objects.\n",
    "    astra.algorithm.delete(alg_id)\n",
    "    astra.data2d.delete(rec_id)\n",
    "    astra.data2d.delete(sinogram_id)\n",
    "    astra.clear()\n",
    "    return rec, proj_geom, cfg"
   ]
  },
  {
   "cell_type": "code",
   "execution_count": null,
   "metadata": {},
   "outputs": [],
   "source": [
    "slices = np.arange(sinogram.shape[0]) \n",
    "# slices = np.hstack([slices[:150],slices[220:]])"
   ]
  },
  {
   "cell_type": "code",
   "execution_count": null,
   "metadata": {},
   "outputs": [],
   "source": [
    "angles = slices*0.5/180.*np.pi\n",
    "plt.plot(angles)"
   ]
  },
  {
   "cell_type": "code",
   "execution_count": null,
   "metadata": {},
   "outputs": [],
   "source": [
    "s = np.copy(sinogram[slices,40,:])\n",
    "s = median_filter(s,5)\n",
    "s = (s-s.min())/(s.max()-s.min())+1e-2\n",
    "# s[s<0.001] = 0.001\n",
    "s = -np.log(s)\n",
    "s = (s.T/s.T.sum(axis=0)).T"
   ]
  },
  {
   "cell_type": "code",
   "execution_count": null,
   "metadata": {},
   "outputs": [],
   "source": [
    "plt.figure(figsize=(15,15))\n",
    "plt.imshow(s,cmap=plt.cm.viridis)\n",
    "plt.colorbar(orientation='horizontal')"
   ]
  },
  {
   "cell_type": "code",
   "execution_count": null,
   "metadata": {},
   "outputs": [],
   "source": [
    "plt.plot(s.sum(axis=-1))"
   ]
  },
  {
   "cell_type": "code",
   "execution_count": null,
   "metadata": {},
   "outputs": [],
   "source": [
    "st = s[:,:-28]\n",
    "plt.figure(figsize=(10,5))\n",
    "plt.plot(st[0,:])\n",
    "plt.plot(st[-1,::-1])\n",
    "plt.grid(True)"
   ]
  },
  {
   "cell_type": "code",
   "execution_count": null,
   "metadata": {},
   "outputs": [],
   "source": [
    "rec = astra_tomo2d(st, angles)"
   ]
  },
  {
   "cell_type": "code",
   "execution_count": null,
   "metadata": {},
   "outputs": [],
   "source": [
    "plt.figure(figsize=(15,15))\n",
    "plt.imshow(rec[0],cmap=plt.cm.gray)\n",
    "plt.colorbar(orientation='horizontal')"
   ]
  },
  {
   "cell_type": "code",
   "execution_count": null,
   "metadata": {},
   "outputs": [],
   "source": [
    "with h5py.File(os.path.join(data_folder,'res','res.h5'),'w') as f:\n",
    "    for slice_id in log_progress(np.arange(sinogram.shape[1])):\n",
    "        s = np.copy(sinogram[slices,slice_id,:])\n",
    "        s = median_filter(s,5)\n",
    "        s = (s-s.min())/(s.max()-s.min())+1e-2\n",
    "        # s[s<0.001] = 0.001\n",
    "        s = -np.log(s)\n",
    "        s = (s.T/s.T.sum(axis=0)).T\n",
    "        \n",
    "        st = s[:,:-28]\n",
    "        rec, proj_geom, cfg = astra_tomo2d(st, angles)\n",
    "        f[str(slice_id)] = rec"
   ]
  },
  {
   "cell_type": "code",
   "execution_count": null,
   "metadata": {},
   "outputs": [],
   "source": [
    "m = 0\n",
    "with h5py.File(os.path.join(data_folder,'res','res.h5'),'r') as f:\n",
    "    for name in log_progress(f.keys()):\n",
    "        x = f[name].value\n",
    "        m = np.maximum(m, x.max())\n",
    "#         plt.imsave(os.path.join(data_folder,'res','{}.tif'.format(name)))"
   ]
  },
  {
   "cell_type": "code",
   "execution_count": null,
   "metadata": {},
   "outputs": [],
   "source": [
    "print m"
   ]
  },
  {
   "cell_type": "code",
   "execution_count": null,
   "metadata": {
    "collapsed": true
   },
   "outputs": [],
   "source": [
    "with h5py.File(os.path.join(data_folder,'res','res.h5'),'r') as f:\n",
    "    for name in log_progress(f.keys()):\n",
    "        x = f[name].value\n",
    "        plt.imsave(os.path.join(data_folder,'res','{}.tif'.format(name)),\n",
    "                                x, vmin=0, vmax=m, cmap=plt.cm.gray)"
   ]
  },
  {
   "cell_type": "code",
   "execution_count": null,
   "metadata": {
    "scrolled": false
   },
   "outputs": [],
   "source": [
    "with h5py.File(os.path.join(data_folder,'res','res.h5'),'r') as f:\n",
    "#     print f.keys()\n",
    "    for name in [290, 590]:\n",
    "        plt.figure(figsize=(15,15))\n",
    "        plt.imshow(f[str(name).decode('utf-8')][500:800,300:1000],cmap=plt.cm.viridis)\n",
    "        plt.title('SART {}'.format(name))\n",
    "        plt.colorbar(orientation='horizontal')\n",
    "        plt.savefig('SART {}.png'.format(name))\n",
    "        plt.show()\n",
    "        \n",
    "        plt.figure(figsize=(15,15))\n",
    "        t = imread(os.path.join(data_folder,str(name)+'.tif'))\n",
    "        plt.imshow(np.flipud(t[400:700,100:800]),cmap=plt.cm.viridis)\n",
    "        plt.title('Podurets {}'.format(name))\n",
    "        plt.colorbar(orientation='horizontal')\n",
    "        plt.savefig('Podurets {}.png'.format(name))\n",
    "        plt.show()\n",
    "        \n",
    "        plt.figure(figsize=(15,15))\n",
    "        t = imread(os.path.join(data_folder,str(name)+'.tif'))\n",
    "        plt.imshow(np.flipud(t[400:700,100:800]),cmap=plt.cm.viridis,vmin=0)\n",
    "        plt.title('Podurets {}_upper_zeros'.format(name))\n",
    "        plt.colorbar(orientation='horizontal')\n",
    "        plt.savefig('Podurets {}_upper_zeros.png'.format(name))\n",
    "        plt.show()"
   ]
  },
  {
   "cell_type": "code",
   "execution_count": null,
   "metadata": {},
   "outputs": [],
   "source": [
    "with open('amira.raw', 'wb') as amira_file:\n",
    "    with h5py.File(os.path.join(data_folder,'res','res.h5'),'r') as h5f:\n",
    "        for i in range(len(h5f.keys())):\n",
    "            x= h5f[str(i).decode('utf-8')].value\n",
    "            np.array(x).tofile(amira_file)\n",
    "\n",
    "        file_shape = x.shape\n",
    "\n",
    "        with open('tomo.hx', 'w') as af:\n",
    "            af.write('# Amira Script\\n')\n",
    "            af.write('remove -all\\n')\n",
    "            af.write(r'[ load -raw ${SCRIPTDIR}/amira.raw little xfastest float 1 '+\n",
    "                     str(file_shape[1])+' '+str(len(h5f.keys()))+' '+str(file_shape[0])+\n",
    "                     ' 0 '+str(file_shape[1]-1)+' 0 '+str(len(h5f.keys())-1)+' 0 '+str(file_shape[0]-1)+\n",
    "                     ' ] setLabel tomo.raw\\n')"
   ]
  },
  {
   "cell_type": "code",
   "execution_count": null,
   "metadata": {},
   "outputs": [],
   "source": [
    "file_shape"
   ]
  },
  {
   "cell_type": "code",
   "execution_count": null,
   "metadata": {},
   "outputs": [],
   "source": [
    "with h5py.File(os.path.join(data_folder,'res','res.h5'),'r') as h5f:\n",
    "    with open('tomo.hx', 'w') as af:\n",
    "            af.write('# Amira Script\\n')\n",
    "            af.write('remove -all\\n')\n",
    "            af.write(r'[ load -raw ${SCRIPTDIR}/amira.raw little xfastest float 1 '+\n",
    "                     str(file_shape[1])+' '+str(len(h5f.keys()))+' '+str(file_shape[0])+\n",
    "                     ' 0 '+str(file_shape[1]-1)+' 0 '+str(len(h5f.keys())-1)+' 0 '+str(file_shape[0]-1)+\n",
    "                     ' ] setLabel tomo.raw\\n')"
   ]
  },
  {
   "cell_type": "code",
   "execution_count": null,
   "metadata": {
    "collapsed": true
   },
   "outputs": [],
   "source": []
  }
 ],
 "metadata": {
  "kernelspec": {
   "display_name": "Python 3",
   "language": "python",
   "name": "python3"
  },
  "language_info": {
   "codemirror_mode": {
    "name": "ipython",
    "version": 3
   },
   "file_extension": ".py",
   "mimetype": "text/x-python",
   "name": "python",
   "nbconvert_exporter": "python",
   "pygments_lexer": "ipython3",
   "version": "3.6.2"
  }
 },
 "nbformat": 4,
 "nbformat_minor": 1
}
