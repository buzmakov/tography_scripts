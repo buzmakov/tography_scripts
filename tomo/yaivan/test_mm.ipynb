{
 "cells": [
  {
   "cell_type": "code",
   "execution_count": 2,
   "metadata": {
    "collapsed": false
   },
   "outputs": [],
   "source": [
    "import numpy as np\n",
    "import os\n",
    "rec_volume = np.memmap(os.path.join('.','test.tmp'),\n",
    "                                dtype='float32', mode='w+', \n",
    "                                shape=(2029,2096, 4000)\n",
    "                           )\n",
    "rec_volume[:] = 0\n",
    "del rec_volume\n",
    "\n",
    "rec_volume = np.memmap(os.path.join('.','test.tmp'),\n",
    "                                dtype='float32', mode='r+', \n",
    "                                shape=(2029,2096, 4000)\n",
    "                           )\n",
    "rec_volume[:] = 1\n",
    "del rec_volume"
   ]
  },
  {
   "cell_type": "code",
   "execution_count": 5,
   "metadata": {
    "collapsed": false
   },
   "outputs": [],
   "source": [
    "!rm test.tmp"
   ]
  },
  {
   "cell_type": "code",
   "execution_count": null,
   "metadata": {
    "collapsed": true
   },
   "outputs": [],
   "source": []
  }
 ],
 "metadata": {
  "anaconda-cloud": {},
  "kernelspec": {
   "display_name": "Python [conda env:astra2-master]",
   "language": "python",
   "name": "conda-env-astra2-master-py"
  },
  "language_info": {
   "codemirror_mode": {
    "name": "ipython",
    "version": 2
   },
   "file_extension": ".py",
   "mimetype": "text/x-python",
   "name": "python",
   "nbconvert_exporter": "python",
   "pygments_lexer": "ipython2",
   "version": "2.7.12"
  }
 },
 "nbformat": 4,
 "nbformat_minor": 1
}
