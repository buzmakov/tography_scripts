{
 "cells": [
  {
   "cell_type": "code",
   "execution_count": null,
   "metadata": {
    "collapsed": true
   },
   "outputs": [],
   "source": [
    "%matplotlib inline"
   ]
  },
  {
   "cell_type": "code",
   "execution_count": null,
   "metadata": {
    "collapsed": false
   },
   "outputs": [],
   "source": [
    "from __future__ import division \n",
    "\n",
    "import os\n",
    "import errno\n",
    "import glob\n",
    "\n",
    "try:\n",
    "    import configparser as ConfigParser\n",
    "except ImportError:\n",
    "    import ConfigParser\n",
    "\n",
    "import numpy as np\n",
    "import pylab as plt\n",
    "\n",
    "import skimage\n",
    "import skimage.io\n",
    "import h5py\n",
    "import astra\n",
    "\n",
    "import json\n",
    "import cv2"
   ]
  },
  {
   "cell_type": "code",
   "execution_count": null,
   "metadata": {
    "collapsed": true
   },
   "outputs": [],
   "source": [
    "def mkdir_p(path):\n",
    "    try:\n",
    "        os.makedirs(path)\n",
    "    except OSError as exc:  # Python >2.5\n",
    "        if exc.errno == errno.EEXIST and os.path.isdir(path):\n",
    "            pass\n",
    "        else:\n",
    "            raise"
   ]
  },
  {
   "cell_type": "code",
   "execution_count": null,
   "metadata": {
    "collapsed": false
   },
   "outputs": [],
   "source": [
    "def log_progress(sequence, every=None, size=None):\n",
    "    from ipywidgets import IntProgress, HTML, VBox\n",
    "    from IPython.display import display\n",
    "\n",
    "    is_iterator = False\n",
    "    if size is None:\n",
    "        try:\n",
    "            size = len(sequence)\n",
    "        except TypeError:\n",
    "            is_iterator = True\n",
    "    if size is not None:\n",
    "        if every is None:\n",
    "            if size <= 200:\n",
    "                every = 1\n",
    "            else:\n",
    "                every = size / 200     # every 0.5%\n",
    "    else:\n",
    "        assert every is not None, 'sequence is iterator, set every'\n",
    "\n",
    "    if is_iterator:\n",
    "        progress = IntProgress(min=0, max=1, value=1)\n",
    "        progress.bar_style = 'info'\n",
    "    else:\n",
    "        progress = IntProgress(min=0, max=size, value=0)\n",
    "    label = HTML()\n",
    "    box = VBox(children=[label, progress])\n",
    "    display(box)\n",
    "\n",
    "    index = 0\n",
    "    try:\n",
    "        for index, record in enumerate(sequence, 1):\n",
    "            if index == 1 or index % every == 0:\n",
    "                if is_iterator:\n",
    "                    label.value = '{index} / ?'.format(index=index)\n",
    "                else:\n",
    "                    progress.value = index\n",
    "                    label.value = u'{index} / {size}'.format(\n",
    "                        index=index,\n",
    "                        size=size\n",
    "                    )\n",
    "            yield record\n",
    "    except:\n",
    "        progress.bar_style = 'danger'\n",
    "        raise\n",
    "    else:\n",
    "        progress.bar_style = 'success'\n",
    "        progress.value = index\n",
    "        label.value = str(index or '?')"
   ]
  },
  {
   "cell_type": "code",
   "execution_count": null,
   "metadata": {
    "collapsed": true
   },
   "outputs": [],
   "source": [
    "def read_config(config_path):\n",
    "    def as_dict(config):\n",
    "        d = dict(config._sections)\n",
    "        for k in d:\n",
    "            d[k] = dict(config._defaults, **d[k])\n",
    "            d[k].pop('__name__', None)\n",
    "        return d\n",
    "    \n",
    "    config = ConfigParser.RawConfigParser()\n",
    "    config.optionxform = str\n",
    "    config.read(config_path)\n",
    "    res = as_dict(config)\n",
    "    return res"
   ]
  },
  {
   "cell_type": "code",
   "execution_count": null,
   "metadata": {
    "collapsed": false
   },
   "outputs": [],
   "source": [
    "corrections = True\n",
    "if corrections:\n",
    "#     data_root = '/home/makov/tmp/yaivan/thermal_only/'\n",
    "    data_root = '/home/makov/tmp/yaivan/all_corrections_bh92_rc16/'\n",
    "else:\n",
    "    data_root = '/home/makov/tmp/yaivan/no_corrections_at_all/'\n",
    "!ls {data_root}"
   ]
  },
  {
   "cell_type": "code",
   "execution_count": null,
   "metadata": {
    "collapsed": false
   },
   "outputs": [],
   "source": [
    "log_file = glob.glob(os.path.join(data_root,'*rec.log'))[0]\n",
    "print(log_file)"
   ]
  },
  {
   "cell_type": "code",
   "execution_count": null,
   "metadata": {
    "collapsed": false
   },
   "outputs": [],
   "source": [
    "read_config(log_file)"
   ]
  },
  {
   "cell_type": "code",
   "execution_count": null,
   "metadata": {
    "collapsed": false
   },
   "outputs": [],
   "source": [
    "from scipy.interpolate import interp2d\n",
    "\n",
    "def load_astra_sinogram(sinogram_number, thermal_correction=False):\n",
    "#     data_root = '/media/makov/buext4/yaivan/MMC_1'\n",
    "    data_root = '/diskmnt/storage0/yaivan/MMC_1'\n",
    "    raw_root = os.path.join(data_root,'Raw')\n",
    "    out_file = os.path.join(data_root, 'raw.h5')\n",
    "    # Without thermal correction\n",
    "    if thermal_correction == False:\n",
    "        with h5py.File(out_file,'r') as h5f:\n",
    "            sinogram = h5f['data'][:,-(sinogram_number+1),:]\n",
    "    else:\n",
    "        #     # With thermal correction \n",
    "#     # Loading geometrical correction map generated by NRecon\n",
    "#     corrections_map = np.loadtxt(os.path.join(raw_root,'MMC1_2.82um__TS.crv'),skiprows=2)\n",
    "#     if thermal_correction == True:\n",
    "#         with h5py.File(out_file,'r') as h5f:\n",
    "#             sinogram = np.zeros_like(h5f['data'][:,-(sinogram_number+1),:])\n",
    "#             for ii in log_progress(range(sinogram.shape[0])):\n",
    "#                 sinogram[ii] = np.roll(\n",
    "#                     h5f['data'][ii,-(sinogram_number+1)-int(corrections_map[ii,2]),:],\n",
    "#                     -int(corrections_map[ii,1])\n",
    "#                 )            \n",
    "    \n",
    "    \n",
    "    # With thermal correction \n",
    "    # Loading geometrical correction map generated by NRecon\n",
    "        corrections_map = np.loadtxt(os.path.join(raw_root,'MMC1_2.82um__TS.crv'),skiprows=2)\n",
    "        with h5py.File(out_file,'r') as h5f:\n",
    "            sinogram = np.zeros_like(h5f['data'][:,-(sinogram_number+1),:]) # fix sinogram numbering with nrecon\n",
    "            for ii in log_progress(range(sinogram.shape[0])):\n",
    "                c1 = int(np.floor(corrections_map[ii,1])) ## correction factor floor (horizontal)\n",
    "                c2 = int(np.floor(corrections_map[ii,2])) ## correction factor floor (vertical)\n",
    "                proj = h5f['data'][ii, -(sinogram_number+1)-c2:-(sinogram_number+1)-c2+2]\n",
    "                original_x, original_y = np.meshgrid(\n",
    "                                                    np.arange(proj.shape[1]),\n",
    "                                                    np.arange(proj.shape[0])\n",
    "                                                )\n",
    "                f = interp2d(proj, original_x, original_y)\n",
    "                new_x = np.arange(proj.shape[1])-c1\n",
    "                new_y = np.ones_like(len(new_x))*c2\n",
    "                proj_interp = f(new_x, new_y)\n",
    "                sinogram[ii] = proj_interp\n",
    "#                 sinogram[ii] = np.roll(proj[0], -c1)\n",
    "                     \n",
    "                \n",
    "    # select only central 180 deg for reconstruction\n",
    "#     sinogram = sinogram[int(sinogram.shape[0]/2-900):1800-int(sinogram.shape[0]/2-900)] \n",
    "#     sinogram = sinogram[:1800]\n",
    "    \n",
    "    sinogram = np.array(sinogram/2.**16)\n",
    "    \n",
    "    return sinogram"
   ]
  },
  {
   "cell_type": "code",
   "execution_count": null,
   "metadata": {
    "collapsed": false
   },
   "outputs": [],
   "source": [
    "sinogram_number = 960\n",
    "ii=500\n",
    "out_file = '/diskmnt/storage0/yaivan/MMC_1/raw.h5'\n",
    "corrections_map = np.loadtxt('/diskmnt/storage0/yaivan/MMC_1/Raw/MMC1_2.82um__TS.crv',skiprows=2)\n",
    "\n",
    "reference = skimage.io.imread(sinogram_file).astype('float32')[ii]\n",
    "\n",
    "with h5py.File(out_file,'r') as h5f:\n",
    "    sinogram_no_fix = h5f['data'][-ii,-(sinogram_number+1),:]\n",
    "    c1 = int(np.floor(corrections_map[-ii,1])) ## correction factor floor (horizontal)\n",
    "    c2 = int(np.floor(corrections_map[-ii,2])) ## correction factor floor (vertical)\n",
    "    \n",
    "    sinogram_simple_fix = np.roll(h5f['data'][-ii,-(sinogram_number+1)-c2,:],-c1)\n",
    "    \n",
    "    frame = h5f['data'][-ii]\n",
    "\n",
    "    original_x, original_y = np.meshgrid(np.arange(frame.shape[1]), np.arange(frame.shape[0]))\n",
    "    f = interp2d(frame, original_x, original_y)\n",
    "    \n",
    "    \n",
    "\n",
    "\n",
    "plt.figure(figsize=(15,5))\n",
    "plt.subplot(121)\n",
    "plt.plot(reference[1900:2100], label='reference')\n",
    "plt.plot(sinogram_no_fix[1900:2100], label='no fix')\n",
    "plt.plot(sinogram_simple_fix[1900:2100], label='simple fix, c1 = {}, c2 ={}'.format(c1,c2))\n",
    "plt.legend(loc=0)\n",
    "plt.grid(True)\n",
    "plt.subplot(122)\n",
    "plt.plot(reference[1900:2100]-sinogram_no_fix[1900:2100], label='diff no fix')\n",
    "plt.plot(reference[1900:2100]-sinogram_simple_fix[1900:2100], label='diff simple fix')\n",
    "plt.legend(loc=0)\n",
    "plt.grid(True)\n",
    "plt.show()"
   ]
  },
  {
   "cell_type": "code",
   "execution_count": null,
   "metadata": {
    "collapsed": true
   },
   "outputs": [],
   "source": [
    "def images_diff(im1, im2):\n",
    "    assert(im1.shape==im2.shape)\n",
    "    rec_diff = np.zeros(shape=(im1.shape[0],im1.shape[1],3), dtype='float32')\n",
    "    im1_t = im1.copy()\n",
    "    im1_t = (im1_t-im1_t.min())/(im1_t.max()-im1_t.min())\n",
    "    \n",
    "    im2_t = im2.copy()\n",
    "    im2_t = (im2_t-im2_t.min())/(im2_t.max()-im2_t.min())\n",
    "    \n",
    "    # nrecon_rec_t[nrecon_rec_t<0] = 0\n",
    "    diff_rec = im1_t-im2_t\n",
    "    rec_diff[...,0] = diff_rec*(diff_rec>0)\n",
    "    rec_diff[...,1] = -diff_rec*(diff_rec<0)\n",
    "    rec_diff[...,2] = rec_diff[...,1]\n",
    "    return rec_diff"
   ]
  },
  {
   "cell_type": "code",
   "execution_count": null,
   "metadata": {
    "collapsed": false
   },
   "outputs": [],
   "source": [
    "sinogram_file = glob.glob(os.path.join(data_root,'*__sinoraw_0960.tif'))[0]\n",
    "sinogram_log_file = glob.glob(os.path.join(data_root,'*__sino0960.tif'))[0]\n",
    "nrecon_rec_file = glob.glob(os.path.join(data_root,'*.png'))[0]"
   ]
  },
  {
   "cell_type": "code",
   "execution_count": null,
   "metadata": {
    "collapsed": false
   },
   "outputs": [],
   "source": [
    "sinogram = skimage.io.imread(sinogram_file).astype('float32')\n",
    "sinogram_log = skimage.io.imread(sinogram_log_file).astype('float32')/2**16\n",
    "\n",
    "nrecon_rec = skimage.io.imread(nrecon_rec_file).astype('float32')\n",
    "\n",
    "nrecon_rec = nrecon_rec*(0.52+0.18)-0.18"
   ]
  },
  {
   "cell_type": "code",
   "execution_count": null,
   "metadata": {
    "collapsed": false
   },
   "outputs": [],
   "source": [
    "astra_sinogram = load_astra_sinogram(960, thermal_correction=corrections)\n",
    "astra_sinogram = np.flipud(astra_sinogram)"
   ]
  },
  {
   "cell_type": "code",
   "execution_count": null,
   "metadata": {
    "collapsed": false
   },
   "outputs": [],
   "source": [
    "plt.figure(figsize=(10,10))\n",
    "plt.imshow(sinogram, cmap=plt.cm.viridis)\n",
    "plt.colorbar(orientation='horizontal');"
   ]
  },
  {
   "cell_type": "code",
   "execution_count": null,
   "metadata": {
    "collapsed": false
   },
   "outputs": [],
   "source": [
    "plt.figure(figsize=(10,10))\n",
    "plt.imshow(sinogram_log, cmap=plt.cm.viridis)\n",
    "plt.colorbar(orientation='horizontal');"
   ]
  },
  {
   "cell_type": "code",
   "execution_count": null,
   "metadata": {
    "collapsed": false
   },
   "outputs": [],
   "source": [
    "plt.figure(figsize=(10,10))\n",
    "plt.imshow(astra_sinogram, cmap=plt.cm.viridis)\n",
    "plt.colorbar(orientation='horizontal');"
   ]
  },
  {
   "cell_type": "code",
   "execution_count": null,
   "metadata": {
    "collapsed": false
   },
   "outputs": [],
   "source": [
    "plt.figure(figsize=(15,10))\n",
    "plt.imshow(images_diff(astra_sinogram,sinogram)*10)"
   ]
  },
  {
   "cell_type": "code",
   "execution_count": null,
   "metadata": {
    "collapsed": false
   },
   "outputs": [],
   "source": [
    "def cogistogram(im1, im2):\n",
    "    def normalize(im):\n",
    "        t = im.copy()\n",
    "        t = (t-t.min())/(t.min()-t.max())\n",
    "        t = (t*256).astype('uint8')\n",
    "        return t\n",
    "\n",
    "    assert(im1.shape == im2.shape)\n",
    "        \n",
    "    t1 = normalize(im1)\n",
    "    t2 = normalize(im2)\n",
    "    res = np.zeros((t1.max(),t2.max()))\n",
    "    \n",
    "    for x in range(res.shape[0]):\n",
    "        for y in range(res.shape[1]):\n",
    "            res[t1[x,y],t2[x,y]] +=1\n",
    "    \n",
    "    return res"
   ]
  },
  {
   "cell_type": "code",
   "execution_count": null,
   "metadata": {
    "collapsed": false
   },
   "outputs": [],
   "source": [
    "res = cogistogram(astra_sinogram,sinogram)[:80,:80]\n",
    "plt.figure(figsize=(15,17))\n",
    "plt.subplot(121)\n",
    "plt.imshow(res, cmap=plt.cm.viridis, interpolation='nearest')\n",
    "plt.subplot(122)\n",
    "res_non_diag = res - np.diag(np.diag(res))\n",
    "plt.imshow(res_non_diag, cmap=plt.cm.viridis, interpolation='nearest')"
   ]
  },
  {
   "cell_type": "code",
   "execution_count": null,
   "metadata": {
    "collapsed": true
   },
   "outputs": [],
   "source": [
    "def build_reconstruction_geomety(detector_size, angles):\n",
    "    \n",
    "    # proj_geom = astra.create_proj_geom('parallel', 1.0, detector_size, angles)\n",
    "    \n",
    "    #Object to Source (mm) = 56.135\n",
    "    #Camera to Source (mm) = 225.082\n",
    "    \n",
    "    # All distances in [pixels]\n",
    "#     pixel_size = 2.82473e-3\n",
    "    pixel_size = 2.82e-3\n",
    "    os_distance = 56.135/pixel_size\n",
    "    ds_distance = 225.082/pixel_size\n",
    "    \n",
    "    proj_geom = astra.create_proj_geom('fanflat', ds_distance/os_distance, detector_size, angles,\n",
    "                                       os_distance, (ds_distance-os_distance))\n",
    "    return proj_geom"
   ]
  },
  {
   "cell_type": "code",
   "execution_count": null,
   "metadata": {
    "collapsed": false
   },
   "outputs": [],
   "source": [
    "def astra_tomo2d_fanflat_fbp(sinogram, angles):\n",
    "    angles = angles.astype('float64') # hack for astra stability, may be removed in future releases\n",
    "    detector_size = sinogram.shape[1]\n",
    "    \n",
    "\n",
    "    rec_size = detector_size # size of reconstruction region\n",
    "    vol_geom = astra.create_vol_geom(rec_size, rec_size)\n",
    "\n",
    "    proj_geom = build_reconstruction_geomety(detector_size, angles)\n",
    "    \n",
    "    sinogram_id = astra.data2d.create('-sino', proj_geom, data=sinogram)\n",
    "    # Create a data object for the reconstruction\n",
    "    rec_id = astra.data2d.create('-vol', vol_geom)\n",
    "\n",
    "    # Set up the parameters for a reconstruction algorithm using the GPU\n",
    "    cfg = astra.astra_dict('FBP_CUDA')\n",
    "    cfg['ReconstructionDataId'] = rec_id\n",
    "    cfg['ProjectionDataId'] = sinogram_id\n",
    "    cfg['option'] = {}\n",
    "    cfg['option']['ShortScan'] = False\n",
    "#     cfg['option']['MinConstraint'] = 0\n",
    "    # cfg['option']['MaxConstraint'] = 5\n",
    "\n",
    "    # Available algorithms:\n",
    "    # SIRT_CUDA, SART_CUDA, EM_CUDA, FBP_CUDA (see the FBP sample)\n",
    "\n",
    "    # Create the algorithm object from the configuration structure\n",
    "    alg_id = astra.algorithm.create(cfg)\n",
    "\n",
    "    # Run 150 iterations of the algorithm\n",
    "    astra.algorithm.run(alg_id,  1)\n",
    "\n",
    "    # Get the result\n",
    "    rec = astra.data2d.get(rec_id)\n",
    "\n",
    "    # Clean up. Note that GPU memory is tied up in the algorithm object,\n",
    "    # and main RAM in the data objects.\n",
    "    astra.algorithm.delete(alg_id)\n",
    "    astra.data2d.delete(rec_id)\n",
    "    astra.data2d.delete(sinogram_id)\n",
    "    astra.clear()\n",
    "    return rec, proj_geom, cfg\n",
    "\n",
    "def astra_tomo2d_fanflat_sirt(sinogram, angles):\n",
    "    angles = angles.astype('float64') # hack for astra stability, may be removed in future releases\n",
    "    detector_size = sinogram.shape[1]\n",
    "    \n",
    "\n",
    "    rec_size = detector_size # size of reconstruction region\n",
    "    vol_geom = astra.create_vol_geom(rec_size, rec_size)\n",
    "\n",
    "    proj_geom = build_reconstruction_geomety(detector_size, angles)\n",
    "    \n",
    "    sinogram_id = astra.data2d.create('-sino', proj_geom, data=sinogram)\n",
    "    # Create a data object for the reconstruction\n",
    "    rec_id = astra.data2d.create('-vol', vol_geom)\n",
    "\n",
    "    # Set up the parameters for a reconstruction algorithm using the GPU\n",
    "    cfg = astra.astra_dict('SIRT_CUDA')\n",
    "    cfg['ReconstructionDataId'] = rec_id\n",
    "    cfg['ProjectionDataId'] = sinogram_id\n",
    "    cfg['option'] = {}\n",
    "#     cfg['option']['MinConstraint'] = 0\n",
    "    # cfg['option']['MaxConstraint'] = 5\n",
    "\n",
    "    # Available algorithms:\n",
    "    # SIRT_CUDA, SART_CUDA, EM_CUDA, FBP_CUDA (see the FBP sample)\n",
    "\n",
    "    # Create the algorithm object from the configuration structure\n",
    "    alg_id = astra.algorithm.create(cfg)\n",
    "\n",
    "    # Run 150 iterations of the algorithm\n",
    "    astra.algorithm.run(alg_id,  20)\n",
    "\n",
    "    # Get the result\n",
    "    rec = astra.data2d.get(rec_id)\n",
    "\n",
    "    # Clean up. Note that GPU memory is tied up in the algorithm object,\n",
    "    # and main RAM in the data objects.\n",
    "    astra.algorithm.delete(alg_id)\n",
    "    astra.data2d.delete(rec_id)\n",
    "    astra.data2d.delete(sinogram_id)\n",
    "    astra.clear()\n",
    "    return rec, proj_geom, cfg\n",
    "\n",
    "def astra_tomo2d_fanflat_sart(sinogram, angles):\n",
    "    angles = angles.astype('float64') # hack for astra stability, may be removed in future releases\n",
    "    detector_size = sinogram.shape[1]\n",
    "    \n",
    "\n",
    "    rec_size = detector_size # size of reconstruction region\n",
    "    vol_geom = astra.create_vol_geom(rec_size, rec_size)\n",
    "\n",
    "    proj_geom = build_reconstruction_geomety(detector_size, angles)\n",
    "    \n",
    "    sinogram_id = astra.data2d.create('-sino', proj_geom, data=sinogram)\n",
    "    # Create a data object for the reconstruction\n",
    "    rec_id = astra.data2d.create('-vol', vol_geom)\n",
    "\n",
    "    # Set up the parameters for a reconstruction algorithm using the GPU\n",
    "    cfg = astra.astra_dict('SART_CUDA')\n",
    "    cfg['ReconstructionDataId'] = rec_id\n",
    "    cfg['ProjectionDataId'] = sinogram_id\n",
    "    cfg['option'] = {}\n",
    "#     cfg['option']['MinConstraint'] = 0\n",
    "    # cfg['option']['MaxConstraint'] = 5\n",
    "\n",
    "    # Available algorithms:\n",
    "    # SIRT_CUDA, SART_CUDA, EM_CUDA, FBP_CUDA (see the FBP sample)\n",
    "\n",
    "    # Create the algorithm object from the configuration structure\n",
    "    alg_id = astra.algorithm.create(cfg)\n",
    "\n",
    "    # Run 150 iterations of the algorithm\n",
    "    astra.algorithm.run(alg_id,  2000)\n",
    "\n",
    "    # Get the result\n",
    "    rec = astra.data2d.get(rec_id)\n",
    "\n",
    "    # Clean up. Note that GPU memory is tied up in the algorithm object,\n",
    "    # and main RAM in the data objects.\n",
    "    astra.algorithm.delete(alg_id)\n",
    "    astra.data2d.delete(rec_id)\n",
    "    astra.data2d.delete(sinogram_id)\n",
    "    astra.clear()\n",
    "    return rec, proj_geom, cfg\n",
    "\n",
    "# Define the plugin class (has to subclass astra.plugin.base)\n",
    "# Note that usually, these will be defined in a separate package/module\n",
    "class SIRTPlugin(astra.plugin.base):\n",
    "    \"\"\"Example of an ASTRA plugin class, implementing a simple 2D SIRT algorithm.\n",
    "\n",
    "    Options:\n",
    "\n",
    "    'rel_factor': relaxation factor (optional)\n",
    "    \"\"\"\n",
    "\n",
    "    # The astra_name variable defines the name to use to\n",
    "    # call the plugin from ASTRA\n",
    "    astra_name = \"SIRT-PLUGIN\"\n",
    "\n",
    "    def initialize(self,cfg, rel_factor = 1):\n",
    "        self.W = astra.OpTomo(cfg['ProjectorId'])\n",
    "        self.vid = cfg['ReconstructionDataId']\n",
    "        self.sid = cfg['ProjectionDataId']\n",
    "        self.rel = rel_factor\n",
    "\n",
    "    def run(self, its):\n",
    "        v = astra.data2d.get_shared(self.vid)\n",
    "        s = astra.data2d.get_shared(self.sid)\n",
    "        print(s.shape)\n",
    "        W = self.W\n",
    "        for i in range(its):\n",
    "            v[:] += self.rel*(W.T*(s - (W*v).reshape(s.shape))).reshape(v.shape)/s.size\n",
    "            \n",
    "# from plugin import SIRTPlugin            \n",
    "def astra_tomo2d_fanflat_plugin(sinogram, angles):\n",
    "    angles = angles.astype('float64') # hack for astra stability, may be removed in future releases\n",
    "    detector_size = sinogram.shape[1]\n",
    "    \n",
    "\n",
    "    rec_size = detector_size # size of reconstruction region\n",
    "    \n",
    "    vol_geom = astra.create_vol_geom(rec_size, rec_size)\n",
    "    proj_geom = build_reconstruction_geomety(detector_size, angles)\n",
    "    proj_id = astra.create_projector('cuda',proj_geom,vol_geom)\n",
    "    \n",
    "    sinogram_id = astra.data2d.create('-sino', proj_geom, data=sinogram)\n",
    "    # Create a data object for the reconstruction\n",
    "    rec_id = astra.data2d.create('-vol', vol_geom)\n",
    "    \n",
    "    astra.plugin.register(SIRTPlugin)\n",
    "    print(astra.plugin.get_registered())\n",
    "    # Set up the parameters for a reconstruction algorithm using the GPU\n",
    "    cfg = astra.astra_dict('SIRT-PLUGIN')\n",
    "    cfg['ProjectorId'] = proj_id\n",
    "    cfg['ReconstructionDataId'] = rec_id\n",
    "    cfg['ProjectionDataId'] = sinogram_id\n",
    "    cfg['option'] = {}\n",
    "    cfg['option']['rel_factor'] = 1.5\n",
    "#     cfg['option']['MinConstraint'] = 0\n",
    "    # cfg['option']['MaxConstraint'] = 5\n",
    "\n",
    "    # Available algorithms:\n",
    "    # SIRT_CUDA, SART_CUDA, EM_CUDA, FBP_CUDA (see the FBP sample)\n",
    "\n",
    "    # Create the algorithm object from the configuration structure\n",
    "    alg_id = astra.algorithm.create(cfg)\n",
    "\n",
    "    # Run 150 iterations of the algorithm\n",
    "    astra.algorithm.run(alg_id,  10)\n",
    "\n",
    "    # Get the result\n",
    "    rec = astra.data2d.get(rec_id)\n",
    "\n",
    "    # Clean up. Note that GPU memory is tied up in the algorithm object,\n",
    "    # and main RAM in the data objects.\n",
    "    astra.algorithm.delete(alg_id)\n",
    "    astra.data2d.delete(rec_id)\n",
    "    astra.data2d.delete(sinogram_id)\n",
    "    astra.clear()\n",
    "    return rec, proj_geom, cfg\n",
    "\n",
    "def create_sinogram(data, angles):  \n",
    "    angles = angles.astype('float64') # hack for astra stability, may be removed in future releases\n",
    "    detector_size = data.shape[1]\n",
    "\n",
    "    rec_size = detector_size # size of reconstruction region\n",
    "    vol_geom = astra.create_vol_geom(rec_size, rec_size)\n",
    "\n",
    "    proj_geom = build_reconstruction_geomety(detector_size, angles)\n",
    "    proj_id = astra.create_projector('cuda',proj_geom,vol_geom)\n",
    "    \n",
    "    W = astra.OpTomo(proj_id)\n",
    "    P = data\n",
    "    sinogram = W * P\n",
    "    sinogram = sinogram.reshape([len(angles), detector_size])\n",
    "    return np.rot90(sinogram,3)\n",
    "\n",
    "def get_reconstruction(sinogram, reconstruction_function, min_level=None):\n",
    "    angles = np.arange(sinogram.shape[0])*0.1#-11.493867*2\n",
    "    angles = angles.astype('float64')/180.*np.pi\n",
    "    if min_level is None:\n",
    "        astra_rec, proj_geom, cfg = reconstruction_function(np.flipud(sinogram), angles)\n",
    "    else:\n",
    "        astra_rec, proj_geom, cfg = reconstruction_function(np.flipud(sinogram), angles, min_level)\n",
    "#     print('Projection geometry: {}'.format(proj_geom))\n",
    "#     print('Reconstruction config: {}'.format(cfg))\n",
    "    astra_rec = np.flipud(astra_rec)\n",
    "    return astra_rec\n",
    "\n",
    "def get_reconstruction_fbp(sinogram):\n",
    "    return get_reconstruction(sinogram, astra_tomo2d_fanflat_fbp)\n",
    "\n",
    "def get_reconstruction_sirt(sinogram):\n",
    "    return get_reconstruction(sinogram, astra_tomo2d_fanflat_sirt)\n",
    "\n",
    "def get_reconstruction_sart(sinogram):\n",
    "    return get_reconstruction(sinogram, astra_tomo2d_fanflat_sart)\n",
    "\n",
    "def get_reconstruction_plugin(sinogram):\n",
    "    return get_reconstruction(sinogram, astra_tomo2d_fanflat_plugin)"
   ]
  },
  {
   "cell_type": "code",
   "execution_count": null,
   "metadata": {
    "collapsed": false
   },
   "outputs": [],
   "source": [
    "plt.figure(figsize=(10,10))\n",
    "plt.plot(sinogram_log[0,:])\n",
    "plt.plot(np.flipud(sinogram_log[1800,:]))\n",
    "plt.grid()\n",
    "plt.show()"
   ]
  },
  {
   "cell_type": "code",
   "execution_count": null,
   "metadata": {
    "collapsed": false,
    "scrolled": false
   },
   "outputs": [],
   "source": [
    "for i in log_progress([12]):\n",
    "    if i>=0:\n",
    "        rec = get_reconstruction_fbp(sinogram_log[-1800:,i:])\n",
    "    else:\n",
    "        rec = get_reconstruction_fbp(sinogram_log[-1800:,:i])\n",
    "#     rec[rec<0] = 0\n",
    "    plt.figure(figsize=(10,10))\n",
    "    plt.imshow(rec, cmap=plt.cm.viridis)\n",
    "    plt.title(i)\n",
    "    plt.show()"
   ]
  },
  {
   "cell_type": "code",
   "execution_count": null,
   "metadata": {
    "collapsed": false
   },
   "outputs": [],
   "source": [
    "plt.figure(figsize=(10,10))\n",
    "tmp_rec = nrecon_rec.copy()\n",
    "tmp_rec[tmp_rec<0]=0\n",
    "plt.imshow(tmp_rec, cmap=plt.cm.viridis)\n",
    "plt.show()"
   ]
  },
  {
   "cell_type": "code",
   "execution_count": null,
   "metadata": {
    "collapsed": false
   },
   "outputs": [],
   "source": [
    "rec_diff = np.zeros(shape=(rec.shape[0],rec.shape[1],3), dtype='float32')\n",
    "rec_t = rec.copy()\n",
    "rec_t = (rec_t-rec_t.min())/(rec_t.max()-rec_t.min())\n",
    "# rec_t[rec<0] = 0\n",
    "nrecon_rec_t = nrecon_rec.copy()\n",
    "nrecon_rec_t = (nrecon_rec_t-nrecon_rec_t.min())/(nrecon_rec_t.max()-nrecon_rec_t.min())\n",
    "# nrecon_rec_t[nrecon_rec_t<0] = 0\n",
    "diff_rec = rec_t-nrecon_rec_t\n",
    "rec_diff[...,0] = diff_rec*(diff_rec>0)\n",
    "rec_diff[...,1] = -diff_rec*(diff_rec<0)\n",
    "rec_diff[...,2] = rec_diff[...,1]"
   ]
  },
  {
   "cell_type": "code",
   "execution_count": null,
   "metadata": {
    "collapsed": false,
    "scrolled": false
   },
   "outputs": [],
   "source": [
    "plt.figure(figsize=(10,10))\n",
    "plt.imshow(rec_diff*8)\n",
    "# plt.colorbar(orientation='horizontal');"
   ]
  },
  {
   "cell_type": "code",
   "execution_count": null,
   "metadata": {
    "collapsed": false
   },
   "outputs": [],
   "source": [
    "# for nrecon_folder in log_progress(nrecon_folders):\n",
    "#     data_file = os.path.join(nrecon_folder, 'MMC1_2.82um__sino0960.tif')\n",
    "    \n",
    "#     logging.info('Sinogram file: {}'.format(data_file))\n",
    "#     sinogram = plt.imread(data_file)\n",
    "#     logging.info('Sinogram angles, length: {}'.format(sinogram.shape))\n",
    "    \n",
    "#     nrecon_config_file = os.path.join(nrecon_folder, 'MMC1_2.82um__rec.log')\n",
    "#     nrecon_config = read_config(nrecon_config_file)\n",
    "    \n",
    "#     rec_sart = get_reconstruction_sart(sinogram)\n",
    "    \n",
    "#     output_folder = os.path.join(astra_root_folder, nrecon_folder[len(nrecon_root_folder)+1:])\n",
    "#     mkdir_p(output_folder)\n",
    "#     astra_sart_file = os.path.join(output_folder, 'MMC1_2.82um__rec0960_astra_sart.png')\n",
    "    \n",
    "    \n",
    "#     logging.info('Output file: {}'.format(astra_sart_file))\n",
    "#     plt.imsave(astra_sart_file, rec_sart, cmap = plt.cm.gray)\n",
    "    \n",
    "#     data_config = os.path.join(output_folder, 'MMC1_2.82um__rec.log')\n",
    "#     logging.info('Output config file: {}'.format(data_config))\n",
    "    \n",
    "#     config = ConfigParser.RawConfigParser()\n",
    "#     config.optionxform = str\n",
    "#     config.add_section('Reconstruction')\n",
    "#     config.set('Reconstruction', 'Minimum for CS to Image Conversion', rec_sart.min())\n",
    "#     config.set('Reconstruction', 'Maximum for CS to Image Conversion', rec_sart.max())\n",
    "    \n",
    "#     bh = nrecon_config['Reconstruction']['Beam Hardening Correction (%)']   \n",
    "#     rc = nrecon_config['Reconstruction']['Ring Artifact Correction']\n",
    "    \n",
    "#     config.set('Reconstruction', 'Beam Hardening Correction (%)', bh)\n",
    "#     config.set('Reconstruction', 'Ring Artifact Correction', rc)\n",
    "    \n",
    "#     with open(data_config, 'wb') as configfile:\n",
    "#         config.write(configfile)\n",
    "# #     # sinogram = sinogram[-1800:] \n",
    "# #     nrecon_rec_file = os.path.join(nrecon_folder,'MMC1_2.82um__rec0960.png')\n",
    "# #     nrecon_rec = plt.imread(nrecon_rec_file)[...,0]"
   ]
  },
  {
   "cell_type": "code",
   "execution_count": null,
   "metadata": {
    "collapsed": false
   },
   "outputs": [],
   "source": [
    "nrecon_folder = [d for d in nrecon_folders if 'bh_92_rc_20' in d][0]\n",
    "nrecon_rec = plt.imread(os.path.join(nrecon_folder, 'MMC1_2.82um__rec0960.png'))[...,0]\n",
    "nrecon_rec = nrecon_rec*(0.52+0.18)-0.18\n",
    "print nrecon_folder"
   ]
  },
  {
   "cell_type": "code",
   "execution_count": null,
   "metadata": {
    "collapsed": false
   },
   "outputs": [],
   "source": [
    "import matplotlib\n",
    "font = {'size'   : 18}\n",
    "matplotlib.rc('font', **font)\n",
    "\n",
    "plt.figure(figsize=(10,12))\n",
    "plt.imshow(nrecon_rec, cmap=plt.cm.gray)\n",
    "plt.colorbar()\n",
    "# plt.colorbar(orientation='horizontal')"
   ]
  },
  {
   "cell_type": "code",
   "execution_count": null,
   "metadata": {
    "collapsed": false
   },
   "outputs": [],
   "source": [
    "# buzmakov\n",
    "from numba import jit\n",
    "import logging\n",
    "from scipy import ndimage\n",
    "import skimage.io\n",
    "\n",
    "def calculate_background(data, zeros_mask):   \n",
    "    labeled_mask, num_features = ndimage.measurements.label(zeros_mask)\n",
    "    logging.info('Found regions: {}'.format(num_features-1))\n",
    "    sigma = []\n",
    "    for nf in range(num_features):\n",
    "        if nf == 0 :\n",
    "            continue\n",
    "        \n",
    "        data_constant = data[labeled_mask==nf]\n",
    "        s = np.std(data_constant)\n",
    "        sigma.append(s)\n",
    "        \n",
    "    logging.info('STD for regions: {}'.format(sigma))\n",
    "    std = np.mean(sigma)\n",
    "    logging.info('Mean STD for regions: {}'.format(std))\n",
    "    mean_value = data.mean()\n",
    "    logging.info('Mean reconstructed value for all data: {}'.format(mean_value))\n",
    "    res = std/mean_value\n",
    "    logging.info('Normalized STD: {}'.format(res))\n",
    "    return  res\n",
    "\n",
    "#ingacheva\n",
    "from scipy import misc\n",
    "from scipy import ndimage\n",
    "\n",
    "@jit\n",
    "def base_value(distance_transform, original):\n",
    "    delta = distance_transform.max() * 0.9\n",
    "    threshold =  distance_transform.max() - delta\n",
    "    xx = 1 * np.logical_and(distance_transform >= threshold, distance_transform > 0)\n",
    "    summ = xx.sum()\n",
    "    base_v = original[distance_transform >= threshold].sum() / summ\n",
    "    return base_v\n",
    "\n",
    "@jit\n",
    "def weighted_variance(mask, distance_transform, original):\n",
    "    base_v = base_value(distance_transform, original)\n",
    "    weight = np.zeros_like(mask)\n",
    "    weight[mask > 0.0] = np.sqrt(distance_transform[mask > 0.0])\n",
    "    threshold = distance_transform.max() * 0.8\n",
    "    xx = 1 * np.logical_and(distance_transform <= threshold, distance_transform > 0.0)\n",
    "    orig = np.zeros_like(mask)\n",
    "    orig = orig.astype('float64')\n",
    "    orig[xx > 0.0] = original[xx > 0.0] - base_v\n",
    "    res = weight[xx > 0.0] * np.power(orig[xx > 0.0], 2)\n",
    "    result = np.sqrt(res.sum() / weight[xx > 0.0].sum())\n",
    "    return result\n",
    "\n",
    "@jit\n",
    "def calck_square(mask, distance_transform, original):\n",
    "    base_v = base_value(distance_transform, original)\n",
    "    iter_max = int(distance_transform.max())\n",
    "    sq = 0\n",
    "    for i in range(1, iter_max):\n",
    "        \n",
    "        value = original[(distance_transform>=i)*(distance_transform< i+1)].sum()\n",
    "        sq += np.abs(base_v - value)\n",
    "    sq =  sq / (base_v * iter_max)\n",
    "    return sq\n",
    "\n",
    "@jit\n",
    "def calculate_cupping(original, mask):\n",
    "    mask[mask > 0.0] = 1.0\n",
    "    labeled, nr_objects = ndimage.label(mask > 0.0)\n",
    "#     ndimage.find_objects(labeled)\n",
    "    logging.info('Number of objects is {}'.format(nr_objects))\n",
    "\n",
    "\n",
    "    result = 0\n",
    "    square = 0\n",
    "    for i in range(1, nr_objects+1):\n",
    "        mask[mask > 0.0] = 0.0\n",
    "        mask[labeled == i] = 1.0\n",
    "        \n",
    "        \n",
    "        sx = mask.sum(axis=0)\n",
    "        sxx = np.argwhere(sx>0)\n",
    "        x_min = sxx.min()\n",
    "        x_max = sxx.max()\n",
    "        \n",
    "        sy = mask.sum(axis=1)\n",
    "        syy = np.argwhere(sy>0)\n",
    "        y_min = syy.min()\n",
    "        y_max = syy.max()\n",
    "        \n",
    "        dist = ndimage.distance_transform_edt(mask[y_min:y_max, x_min:x_max])\n",
    "        \n",
    "\n",
    "        #res = weighted_variance(mask, dist, original)\n",
    "        #result += res\n",
    "        #data['weighted_variance'] = res\n",
    "\n",
    "        sq = calck_square(mask[y_min:y_max, x_min:x_max],\n",
    "                          dist,\n",
    "                          original[y_min:y_max, x_min:x_max])\n",
    "        square += sq\n",
    "        logging.info(\"square {} of the object {}\".format(sq, i))\n",
    "\n",
    "    #result = result / nr_objects\n",
    "    #print 'mean weighted variance ', result\n",
    "\n",
    "    square = square / nr_objects\n",
    "    return square\n",
    "\n",
    "mask_background = skimage.io.imread(\n",
    "    '/diskmnt/a/makov/yaivan/MMC_1/_tmp/binary_masks/MMC1_2.82um__rec0960_MASK_ZEROS_CONERS.png')[...,0]\n",
    "mask_cup = skimage.io.imread(\n",
    "    '/diskmnt/a/makov/yaivan/MMC_1/_tmp/binary_masks/MMC1_2.82um__rec0960_Mask_objects.png')[...,0]"
   ]
  },
  {
   "cell_type": "code",
   "execution_count": null,
   "metadata": {
    "collapsed": false
   },
   "outputs": [],
   "source": [
    "plt.figure(figsize=(10,5))\n",
    "plt.subplot(121)\n",
    "plt.imshow(mask_background, cmap=plt.cm.viridis)\n",
    "plt.subplot(122)\n",
    "plt.imshow(mask_cup, cmap=plt.cm.viridis)"
   ]
  },
  {
   "cell_type": "code",
   "execution_count": null,
   "metadata": {
    "collapsed": false
   },
   "outputs": [],
   "source": [
    "data_file = os.path.join(nrecon_folder, 'MMC1_2.82um__sino0960.tif')\n",
    "sinogram = plt.imread(data_file)"
   ]
  },
  {
   "cell_type": "code",
   "execution_count": null,
   "metadata": {
    "collapsed": false
   },
   "outputs": [],
   "source": [
    "plt.figure(figsize=(12,10))\n",
    "plt.imshow(sinogram, cmap=plt.cm.viridis)\n",
    "plt.colorbar(orientation='horizontal')"
   ]
  },
  {
   "cell_type": "code",
   "execution_count": null,
   "metadata": {
    "collapsed": true
   },
   "outputs": [],
   "source": [
    "rois = []\n",
    "rois.append(np.ix_(np.r_[2100:2350],np.r_[1700:2000]))\n",
    "rois.append(np.ix_(np.r_[2750:3200],np.r_[2350:2900]))\n",
    "rois.append(np.ix_(np.r_[2300:2380],np.r_[1200:1300]))\n",
    "rois.append(np.ix_(np.r_[2600:2750],np.r_[1100:1300]))\n",
    "rois.append(np.ix_(np.r_[2400:2900],np.r_[600:1000]))\n",
    "rois.append(np.ix_(np.r_[2700:3500],np.r_[1300:2100]))\n",
    "rois.append(np.ix_(np.r_[1450:2000],np.r_[600:1150]))\n",
    "rois.append(np.ix_(np.r_[1750:2050],np.r_[2500:2930]))"
   ]
  },
  {
   "cell_type": "code",
   "execution_count": null,
   "metadata": {
    "collapsed": true
   },
   "outputs": [],
   "source": [
    "def astra_my(sinogram, angles, min_level=0):\n",
    "    angles = angles.astype('float64') # hack for astra stability, may be removed in future releases\n",
    "    detector_size = sinogram.shape[1]\n",
    "    \n",
    "\n",
    "    rec_size = detector_size # size of reconstruction region\n",
    "    vol_geom = astra.create_vol_geom(rec_size, rec_size)\n",
    "\n",
    "    proj_geom = build_reconstruction_geomety(detector_size, angles)\n",
    "    \n",
    "    sinogram_id = astra.data2d.create('-sino', proj_geom, data=sinogram)\n",
    "    # Create a data object for the reconstruction\n",
    "    rec_id = astra.data2d.create('-vol', vol_geom)\n",
    "\n",
    "    # Set up the parameters for a reconstruction algorithm using the GPU\n",
    "    cfg = astra.astra_dict('SART_CUDA')\n",
    "    cfg['ReconstructionDataId'] = rec_id\n",
    "    cfg['ProjectionDataId'] = sinogram_id\n",
    "    cfg['option'] = {}\n",
    "    cfg['option']['MinConstraint'] = min_level\n",
    "    # cfg['option']['MaxConstraint'] = 5\n",
    "\n",
    "    # Available algorithms:\n",
    "    # SIRT_CUDA, SART_CUDA, EM_CUDA, FBP_CUDA (see the FBP sample)\n",
    "\n",
    "    # Create the algorithm object from the configuration structure\n",
    "    alg_id = astra.algorithm.create(cfg)\n",
    "\n",
    "    # Run 150 iterations of the algorithm\n",
    "    astra.algorithm.run(alg_id,  10000)\n",
    "\n",
    "    # Get the result\n",
    "    rec = astra.data2d.get(rec_id)\n",
    "\n",
    "    # Clean up. Note that GPU memory is tied up in the algorithm object,\n",
    "    # and main RAM in the data objects.\n",
    "    astra.algorithm.delete(alg_id)\n",
    "    astra.data2d.delete(rec_id)\n",
    "    astra.data2d.delete(sinogram_id)\n",
    "    astra.clear()\n",
    "    return rec, proj_geom, cfg\n",
    "\n",
    "def get_reconstruction_my(sinogram, min_level):\n",
    "    return get_reconstruction(sinogram, astra_my, min_level)"
   ]
  },
  {
   "cell_type": "code",
   "execution_count": null,
   "metadata": {
    "collapsed": false,
    "scrolled": false
   },
   "outputs": [],
   "source": [
    "# rec_my = rec_fbp\n",
    "# plt.figure(figsize=(15,15))\n",
    "# plt.imshow(rec_my/(rec_my.max()-rec_my.min())-nrecon_rec/(nrecon_rec.max()-nrecon_rec.min()), cmap=plt.cm.gray)\n",
    "# plt.title('My')\n",
    "# plt.show()\n",
    "logging.getLogger('').setLevel(logging.ERROR)\n",
    "rec_fbp =  get_reconstruction_fbp(sinogram[-1800:])\n",
    "\n",
    "for min_level in log_progress(np.arange(-3,-1,1)):\n",
    "    print 'Min_level = {}'.format(min_level)\n",
    "    rec_my = get_reconstruction_my(sinogram, min_level)\n",
    "    \n",
    "\n",
    "    artifact_my_bg = calculate_background(rec_my, mask_background)\n",
    "    artifact_my_cup = calculate_cupping(rec_my, mask_cup)\n",
    "    print 'My: bg:{}, cup:{}'.format(artifact_my_bg, artifact_my_cup)\n",
    "\n",
    "    artifact_fbp_bg = calculate_background(rec_fbp, mask_background)\n",
    "    artifact_fbp_cup = calculate_cupping(rec_fbp, mask_cup)\n",
    "    print 'FBP: bg:{}, cup:{}'.format(artifact_fbp_bg, artifact_fbp_cup)\n",
    "\n",
    "    artifact_nrecon_bg = calculate_background(nrecon_rec, mask_background)\n",
    "    artifact_nrecon_cup = calculate_cupping(nrecon_rec, mask_cup)\n",
    "    print 'NRecon: bg:{}, cup:{}'.format(artifact_nrecon_bg, artifact_nrecon_cup)\n",
    "\n",
    "    for roi in rois:\n",
    "        d_my = rec_my[roi]\n",
    "        d_fbp = rec_fbp[roi]\n",
    "        d_nrecon = nrecon_rec[roi]\n",
    "\n",
    "        plt.figure(figsize=(15,15))\n",
    "\n",
    "        plt.subplot(221)\n",
    "        plt.imshow(d_my, cmap=plt.cm.gray, vmin=0)\n",
    "        plt.title('My')\n",
    "\n",
    "        plt.subplot(222)\n",
    "        plt.imshow(d_fbp, cmap=plt.cm.gray, vmin=0)\n",
    "        plt.title('FBP')\n",
    "\n",
    "        plt.subplot(223)\n",
    "        plt.imshow(d_nrecon, cmap=plt.cm.gray, vmin=0)\n",
    "        plt.title('NRecon')\n",
    "\n",
    "        plt.subplot(224)\n",
    "        pos = int(d_my.shape[0]/2)\n",
    "        d_my_1 = d_my[pos]\n",
    "        d_my_1 = d_my_1/ (d_my_1.max()-d_my_1.min())\n",
    "\n",
    "        d_fbp_1 = d_fbp[pos]\n",
    "        d_fbp_1 = d_fbp_1/ (d_fbp_1.max()-d_fbp_1.min())\n",
    "\n",
    "        d_nrecon_1 = d_nrecon[pos]\n",
    "        d_nrecon_1 = d_nrecon_1/ (d_nrecon_1.max()-d_nrecon_1.min())\n",
    "\n",
    "\n",
    "        plt.plot(d_my_1, label='my')\n",
    "        plt.plot(d_fbp_1, label='FBP')\n",
    "        plt.plot(d_nrecon_1, label='NRecon')\n",
    "        plt.grid()\n",
    "        plt.legend(loc=0)\n",
    "        # plt.colorbar(orientation='horizontal')\n",
    "        plt.show()\n",
    "        \n",
    "    plt.figure(figsize=(15,15))\n",
    "    plt.imshow(rec_my, cmap=plt.cm.gray)\n",
    "    plt.title('My')\n",
    "    plt.show()\n",
    "    \n",
    "    plt.figure(figsize=(15,15))\n",
    "    plt.imshow(nrecon_rec, cmap=plt.cm.gray)\n",
    "    plt.title('NRecon')\n",
    "    plt.show()\n",
    "    "
   ]
  },
  {
   "cell_type": "code",
   "execution_count": null,
   "metadata": {
    "collapsed": false
   },
   "outputs": [],
   "source": [
    "np.eye?"
   ]
  },
  {
   "cell_type": "code",
   "execution_count": null,
   "metadata": {
    "collapsed": true
   },
   "outputs": [],
   "source": [
    "import scipy.interpolate"
   ]
  },
  {
   "cell_type": "code",
   "execution_count": null,
   "metadata": {
    "collapsed": true
   },
   "outputs": [],
   "source": [
    "scipy.interpolate.interp2d?"
   ]
  },
  {
   "cell_type": "code",
   "execution_count": null,
   "metadata": {
    "collapsed": true
   },
   "outputs": [],
   "source": [
    "np.trunc?"
   ]
  },
  {
   "cell_type": "code",
   "execution_count": null,
   "metadata": {
    "collapsed": false
   },
   "outputs": [],
   "source": [
    "a = np.array([-1.7, -1.5, -0.2, 0.2, 1.5, 1.7, 2.0])\n",
    "np.floor(a)"
   ]
  },
  {
   "cell_type": "code",
   "execution_count": null,
   "metadata": {
    "collapsed": true
   },
   "outputs": [],
   "source": [
    "cv2."
   ]
  }
 ],
 "metadata": {
  "kernelspec": {
   "display_name": "Python [astra2]",
   "language": "python",
   "name": "Python [astra2]"
  },
  "language_info": {
   "codemirror_mode": {
    "name": "ipython",
    "version": 2
   },
   "file_extension": ".py",
   "mimetype": "text/x-python",
   "name": "python",
   "nbconvert_exporter": "python",
   "pygments_lexer": "ipython2",
   "version": "2.7.12"
  }
 },
 "nbformat": 4,
 "nbformat_minor": 0
}
