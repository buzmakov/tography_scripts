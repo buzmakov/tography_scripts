{
 "cells": [
  {
   "cell_type": "code",
   "execution_count": null,
   "metadata": {
    "collapsed": true
   },
   "outputs": [],
   "source": [
    "%reload_ext autoreload\n",
    "%autoreload 2\n",
    "%matplotlib inline\n",
    "# %xmode verbose"
   ]
  },
  {
   "cell_type": "code",
   "execution_count": null,
   "metadata": {
    "collapsed": true
   },
   "outputs": [],
   "source": [
    "from glob import glob\n",
    "import os\n",
    "\n",
    "import numpy as np\n",
    "import matplotlib.pyplot as plt\n",
    "import astra\n",
    "import alg\n",
    "import RegVarSIRT\n",
    "import pickle\n",
    "import skimage\n",
    "import skimage.io\n",
    "import scipy as sp\n",
    "import ssim\n",
    "import pandas as pd\n",
    "import pickle"
   ]
  },
  {
   "cell_type": "code",
   "execution_count": null,
   "metadata": {
    "collapsed": true
   },
   "outputs": [],
   "source": [
    "import matplotlib\n",
    "font = {'size'   : 18}\n",
    "\n",
    "matplotlib.rc('font', **font)\n"
   ]
  },
  {
   "cell_type": "code",
   "execution_count": null,
   "metadata": {
    "collapsed": true
   },
   "outputs": [],
   "source": [
    "def log_progress(sequence, every=None, size=None, name='Items'):\n",
    "    from ipywidgets import IntProgress, HTML, VBox\n",
    "    from IPython.display import display\n",
    "\n",
    "    is_iterator = False\n",
    "    if size is None:\n",
    "        try:\n",
    "            size = len(sequence)\n",
    "        except TypeError:\n",
    "            is_iterator = True\n",
    "    if size is not None:\n",
    "        if every is None:\n",
    "            if size <= 200:\n",
    "                every = 1\n",
    "            else:\n",
    "                every = int(size / 200)     # every 0.5%\n",
    "    else:\n",
    "        assert every is not None, 'sequence is iterator, set every'\n",
    "\n",
    "    if is_iterator:\n",
    "        progress = IntProgress(min=0, max=1, value=1)\n",
    "        progress.bar_style = 'info'\n",
    "    else:\n",
    "        progress = IntProgress(min=0, max=size, value=0)\n",
    "    label = HTML()\n",
    "    box = VBox(children=[label, progress])\n",
    "    display(box)\n",
    "\n",
    "    index = 0\n",
    "    try:\n",
    "        for index, record in enumerate(sequence, 1):\n",
    "            if index == 1 or index % every == 0:\n",
    "                if is_iterator:\n",
    "                    label.value = '{name}: {index} / ?'.format(\n",
    "                        name=name,\n",
    "                        index=index\n",
    "                    )\n",
    "                else:\n",
    "                    progress.value = index\n",
    "                    label.value = u'{name}: {index} / {size}'.format(\n",
    "                        name=name,\n",
    "                        index=index,\n",
    "                        size=size\n",
    "                    )\n",
    "            yield record\n",
    "    except:\n",
    "        progress.bar_style = 'danger'\n",
    "        raise\n",
    "    else:\n",
    "        progress.bar_style = 'success'\n",
    "        progress.value = index\n",
    "        label.value = \"{name}: {index}\".format(\n",
    "            name=name,\n",
    "            index=str(index or '?')\n",
    "        )"
   ]
  },
  {
   "cell_type": "code",
   "execution_count": null,
   "metadata": {},
   "outputs": [],
   "source": [
    "# make phantom\n",
    "size = 128\n",
    "mu1 = 0.006\n",
    "mu2 = 0.005\n",
    "mu3 = 0.004\n",
    "phantom = np.zeros((size, size))\n",
    "half_s = size / 2\n",
    "\n",
    "y, x = np.meshgrid(range(size), range(size))\n",
    "xx = (x - half_s).astype('float32')\n",
    "yy = (y - half_s).astype('float32')\n",
    "  \n",
    "mask_ell1 = pow(xx + 0.1*size, 2)/np.power(0.35*size, 2) + pow(yy, 2)/np.power(0.15*size, 2) <= 1\n",
    "mask_ell2 = pow(xx - 0.15*size, 2)/np.power(0.3*size, 2) + pow(yy - 0.15*size, 2)/np.power(0.15*size, 2) <= 1 \n",
    "phantom[mask_ell1] = mu1\n",
    "phantom[mask_ell2] = mu2\n",
    "phantom[np.logical_and(mask_ell1, mask_ell2)] = mu3\n",
    "phantom[int(0.15*size):int(0.35*size), int(0.2*size):int(0.5*size)] = mu3 \n",
    "phantom[int(0.20*size):int(0.25*size), int(0.25*size):int(0.3*size)] = 0\n",
    "phantom[int(0.30*size):int(0.35*size), int(0.35*size):int(0.4*size)] = mu1*10\n",
    "phantom = 1e+1 * phantom\n",
    "\n",
    "# make sinogram\n",
    "n_angles = size//2\n",
    "angles = np.arange(0.0, 180.0,  180.0 / n_angles)\n",
    "angles = angles.astype('float32') / 180 * np.pi\n",
    "\n",
    "pg = astra.create_proj_geom('parallel', 1.0, size, angles)\n",
    "vg = astra.create_vol_geom((size, size))\n",
    "sino = alg.gpu_fp(pg, vg, phantom)\n",
    "print(sino.min(), sino.max())"
   ]
  },
  {
   "cell_type": "code",
   "execution_count": null,
   "metadata": {
    "collapsed": true
   },
   "outputs": [],
   "source": [
    "def reshape_sinogram(sinogram, x_resize, angle_resize, order=1):\n",
    "    sinogram = sinogram[::angle_resize,:]\n",
    "    if not x_resize == 1:\n",
    "        sinogram =sp.ndimage.interpolation.zoom(sinogram,[1, 1./x_resize], order=order)\n",
    "#     print(sinogram.shape)\n",
    "    sinogram = sinogram/x_resize\n",
    "    return sinogram\n",
    "    \n",
    "def load_data(path_sino, resize_x=None, resize_angle=None, order=1):\n",
    "    if resize_x is None:\n",
    "        x_resize = 4\n",
    "    else:\n",
    "        x_resize = resize_x\n",
    "    \n",
    "    if resize_angle is None:\n",
    "        angle_resize = 4\n",
    "    else:\n",
    "        angle_resize = resize_angle\n",
    "    \n",
    "    sinogram = plt.imread(path_sino)\n",
    "    if len(sinogram.shape) == 3:\n",
    "        sinogram = sinogram[...,0]\n",
    "    sinogram = np.flipud(sinogram)\n",
    "    old_n_angles = sinogram.shape[0] \n",
    "    sinogram = reshape_sinogram(sinogram, x_resize, angle_resize, order=order)\n",
    "     \n",
    "    \n",
    "    detector_cell = sinogram.shape[1]\n",
    "    n_angles = sinogram.shape[0] \n",
    "\n",
    "    pixel_size = 2.50e-3*x_resize\n",
    "    os_distance = 49.430 / pixel_size\n",
    "    ds_distance = 225.315 / pixel_size\n",
    "    angle_step = 0.2 / 180.0 * np.pi\n",
    "    \n",
    "    angles = np.arange(n_angles) * angle_step * angle_resize  \n",
    "    angles = angles - (angles.max() + angles.min()) / 2\n",
    "\n",
    "    if old_n_angles%angle_resize == 0:\n",
    "        angles = angles - angle_step * (angle_resize-1) / 2.\n",
    "    else:\n",
    "        angles = angles - angle_step * (old_n_angles%angle_resize-1) / 2.\n",
    "#     angles = angles - angle_step * (angle_resize-1) / 2.\n",
    "    angles = angles + np.pi / 2\n",
    "\n",
    "    vol_geom = astra.create_vol_geom(detector_cell, detector_cell)\n",
    "    proj_geom = astra.create_proj_geom('fanflat', ds_distance / os_distance, detector_cell, angles,\n",
    "                                                                        os_distance, (ds_distance - os_distance))\n",
    "    return proj_geom, vol_geom, sinogram"
   ]
  },
  {
   "cell_type": "code",
   "execution_count": null,
   "metadata": {},
   "outputs": [],
   "source": [
    "sinograms = glob('/home/makov/diskmnt/big/yaivan/noisy_data/noised_sino/BHI3_2.49um_*__sino0980.tif')\n",
    "sinograms"
   ]
  },
  {
   "cell_type": "code",
   "execution_count": null,
   "metadata": {},
   "outputs": [],
   "source": [
    "plt.gray()"
   ]
  },
  {
   "cell_type": "code",
   "execution_count": null,
   "metadata": {
    "collapsed": true
   },
   "outputs": [],
   "source": [
    "from functools import lru_cache"
   ]
  },
  {
   "cell_type": "code",
   "execution_count": null,
   "metadata": {
    "collapsed": true,
    "scrolled": false
   },
   "outputs": [],
   "source": [
    "@lru_cache(8)\n",
    "def get_reference_rec():\n",
    "    name = os.path.split(sinograms[0])[-1]\n",
    "    pg, vg , sino_noise = load_data(sinograms[0], 1, 1)\n",
    "    k = sino_noise.shape[0]/pg['DetectorWidth']**2/(np.pi/2)\n",
    "    proj_id = astra.create_projector('cuda', pg, vg)\n",
    "    W = astra.OpTomo(proj_id)\n",
    "    rec_reference = alg.gpu_fbp(pg, vg, sino_noise)*k\n",
    "    return rec_reference"
   ]
  },
  {
   "cell_type": "code",
   "execution_count": null,
   "metadata": {},
   "outputs": [],
   "source": [
    "plt.figure(figsize=(7,5))\n",
    "plt.hist(get_reference_rec().ravel(), bins=1000);\n",
    "plt.vlines(7,0,10000)\n",
    "plt.grid()"
   ]
  },
  {
   "cell_type": "code",
   "execution_count": null,
   "metadata": {
    "collapsed": true
   },
   "outputs": [],
   "source": [
    "def diff(x0,x1,norm):\n",
    "    mask = x1>7\n",
    "    d0 = x0[mask>0].ravel()\n",
    "    d1 = x1[mask>0].ravel()\n",
    "    return (sp.linalg.norm(d0-d1,norm)+sp.linalg.norm(x0[mask==0].ravel(),norm))/x0.size"
   ]
  },
  {
   "cell_type": "code",
   "execution_count": null,
   "metadata": {
    "collapsed": true
   },
   "outputs": [],
   "source": [
    "def l2_grad(data):\n",
    "    g_data = np.gradient(data)\n",
    "    return sp.linalg.norm((g_data[0]**2+g_data[1]**2),1)**0.5/data.size"
   ]
  },
  {
   "cell_type": "code",
   "execution_count": null,
   "metadata": {
    "collapsed": true
   },
   "outputs": [],
   "source": [
    "from skimage.measure import compare_ssim as ssim"
   ]
  },
  {
   "cell_type": "code",
   "execution_count": null,
   "metadata": {
    "collapsed": true
   },
   "outputs": [],
   "source": [
    "X,Y=np.meshgrid(np.arange(4000)-2000, np.arange(4000)-2000)\n",
    "mask = (X**2+Y**2 <2000**2).astype('float32')"
   ]
  },
  {
   "cell_type": "code",
   "execution_count": null,
   "metadata": {},
   "outputs": [],
   "source": [
    "sinograms[0]"
   ]
  },
  {
   "cell_type": "code",
   "execution_count": null,
   "metadata": {
    "collapsed": true
   },
   "outputs": [],
   "source": [
    "# import alg\n",
    "# pg,vg, vsino = load_data(sinogram, 1,1)\n",
    "# vsino = vsino.astype('float32')\n",
    "# proj_id = astra.create_projector('cuda', pg, vg)\n",
    "# rec = alg.gpu_cgls(pg,vg, vsino, 500)\n",
    "# # print()\n",
    "# # D = 1.0 * (0.01+ (vsino/np.percentile(vsino, 90))**2)\n",
    "# # D /= D.mean()"
   ]
  },
  {
   "cell_type": "code",
   "execution_count": null,
   "metadata": {
    "collapsed": true
   },
   "outputs": [],
   "source": [
    "# plt.figure(figsize=(14,10))\n",
    "# # plt.subplot(121)\n",
    "# plt.imshow(rec[1200:1600,800:1200], vmin=0, vmax=75)\n",
    "# plt.colorbar()\n",
    "# # plt.axis('tight')\n",
    "# # plt.subplot(122)\n",
    "# # plt.imshow(vsino)\n",
    "# # plt.colorbar()\n",
    "# # plt.axis('tight')\n",
    "# plt.show()"
   ]
  },
  {
   "cell_type": "code",
   "execution_count": null,
   "metadata": {
    "collapsed": true
   },
   "outputs": [],
   "source": [
    "rec_reference = get_reference_rec()\n",
    "def show_pic(rec_fbp, rec_rec, rec_v, rec_reference, name = None):\n",
    "    plt.figure(figsize=(14,14))\n",
    "    plt.subplot(231)\n",
    "    plt.title('FBP')\n",
    "    plt.imshow(rec_fbp[1200:1600,800:1200], vmin=0, vmax=75)\n",
    "    plt.subplot(232)\n",
    "    plt.title('VCGLS+TV')\n",
    "    plt.imshow(rec_rec[1200:1600,800:1200], vmin=0, vmax=75)\n",
    "    plt.subplot(233)\n",
    "    plt.title('Reference')\n",
    "    plt.imshow(rec_reference[1200:1600,800:1200], vmin=0, vmax=75)\n",
    "    plt.title('Reference image')\n",
    "\n",
    "    plt.subplot(223)\n",
    "    plt.plot(rec_fbp[1200:1600,1000], label='FBP')\n",
    "    plt.plot(rec_rec[1200:1600,1000], label='VCGLS+TV')\n",
    "    plt.plot(rec_reference[1200:1600,1000], label='Reference')\n",
    "    plt.legend(loc=0)\n",
    "    plt.grid()\n",
    "\n",
    "    plt.subplot(224)\n",
    "    plt.plot(rec_fbp[1400,800:1200], label='FBP')\n",
    "    plt.plot(rec_rec[1400,800:1200], label='VCGLS+TV')\n",
    "    plt.plot(rec_reference[1400,800:1200], label='Reference')\n",
    "    plt.legend(loc=0)\n",
    "    plt.grid()\n",
    "    if name is not None:\n",
    "        plt.savefig('{}.png'.format(name))\n",
    "    plt.show()\n",
    "\n",
    "#     plt.figure(figsize=(12,7))\n",
    "#     plt.subplot(121)\n",
    "#     plt.plot(rec_v['alpha'], label='Alpha')\n",
    "#     plt.legend()\n",
    "#     plt.grid()\n",
    "#     plt.subplot(122)\n",
    "#     plt.plot(rec_v['energy'], label='Energy')\n",
    "#     plt.grid()\n",
    "#     plt.legend()\n",
    "#     plt.show()"
   ]
  },
  {
   "cell_type": "code",
   "execution_count": null,
   "metadata": {},
   "outputs": [],
   "source": [
    "from skimage import filters\n",
    "x = get_reference_rec().copy()\n",
    "x[x>np.percentile(x,80)] = 0\n",
    "val = filters.threshold_otsu(x)\n",
    "\n",
    "print(val)"
   ]
  },
  {
   "cell_type": "code",
   "execution_count": null,
   "metadata": {
    "collapsed": true
   },
   "outputs": [],
   "source": [
    "from skimage import filters\n",
    "import alg\n",
    "import RegVarSIRT\n",
    "def make_vcgls_TV(sinogram, x_resize, ang_resize, n_iter=10):\n",
    "    name = os.path.split(sinogram)[-1]\n",
    "    short_name=name.split('_')[2]\n",
    "    pg,vg, vsino = load_data(sinogram, x_resize, ang_resize)\n",
    "    vsino = vsino.astype('float32')\n",
    "    proj_id = astra.create_projector('cuda', pg, vg)\n",
    "    print()\n",
    "    D = 1.0 * (0.1 + (vsino/np.percentile(vsino, 90))**2)\n",
    "    D /= D.mean()\n",
    "#     D = np.ones_like(vsino)\n",
    "    Div = (1.0 / D).astype('float32')\n",
    "    \n",
    "    W = astra.OpTomo(proj_id)\n",
    "    x0 = np.zeros((vsino.shape[1], vsino.shape[1]),dtype='float32')\n",
    "\n",
    "    k = vsino.shape[0]/pg['DetectorWidth']**2/(np.pi/2)\n",
    "    rec_fbp = alg.gpu_fbp(pg, vg, vsino)*k  # fixit\n",
    "    \n",
    "#     x0 = rec_fbp\n",
    "#     x = x0.copy()\n",
    "#     x[x>np.percentile(x,80)] = np.percentile(x,80)\n",
    "#     val = filters.threshold_otsu(x)\n",
    "    \n",
    "    for i in range(50):\n",
    "        rec_v = RegVarSIRT.run(W, vsino, x0, Div, Lambda=0, eps=1.e-10, n_it=n_iter, step='CG', normalize=True)\n",
    "        rec_rec = rec_v['rec']\n",
    "        x0 = rec_rec\n",
    "#         x0[x0<val] = 0\n",
    "        show_pic(rec_fbp, rec_rec, rec_v, get_reference_rec(), '{}_{}'.format(short_name, i))\n",
    "    \n",
    "#     if x_resize>=4 and ang_resize>=2:\n",
    "#         rec_v = RegVarSIRT.run(W, vsino, x0, Lambda=100, eps=1.e-10, n_it=n_iter, step='CG', normalize=True)\n",
    "#         rec_rec = rec_v['rec']\n",
    "\n",
    "\n",
    "#         for l in log_progress([100, 100, 100, 50, 50, 10, 10, 5, 4, 3, 2, 1]):\n",
    "#             rec_v = RegVarSIRT.run(W, vsino, rec_fbp, Div, Lambda=l, eps=1.e-10, n_it=n_iter, step='CG', normalize=True)\n",
    "#             rec_rec = rec_v['rec']\n",
    "#     else:\n",
    "#         rec_rec = np.zeros_like(rec_fbp)\n",
    "    return rec_rec, rec_fbp, rec_v"
   ]
  },
  {
   "cell_type": "code",
   "execution_count": null,
   "metadata": {
    "scrolled": false
   },
   "outputs": [],
   "source": [
    "rec_reference = get_reference_rec()\n",
    "for sinogram in sinograms:\n",
    "    print(sinogram)\n",
    "#     rec_rec, rec_fbp, rec_v = \n",
    "    _, _, _ =make_vcgls_TV(sinogram, 1, 1, n_iter=10)\n",
    "\n",
    "# plt.figure(figsize=(14,14))\n",
    "# plt.subplot(231)\n",
    "# plt.title('FBP')\n",
    "# plt.imshow(rec_fbp[1200:1600,800:1200], vmin=0, vmax=75)\n",
    "# plt.subplot(232)\n",
    "# plt.title('VCGLS+TV')\n",
    "# plt.imshow(rec_rec[1200:1600,800:1200], vmin=0, vmax=75)\n",
    "# plt.subplot(233)\n",
    "# plt.title('Reference')\n",
    "# plt.imshow(rec_reference[1200:1600,800:1200], vmin=0, vmax=75)\n",
    "# plt.title('Reference image')\n",
    "\n",
    "# plt.subplot(223)\n",
    "# plt.plot(rec_fbp[1200:1600,1000], label='FBP')\n",
    "# plt.plot(rec_rec[1200:1600,1000], label='VCGLS+TV')\n",
    "# plt.plot(rec_reference[1200:1600,1000], label='Reference')\n",
    "# plt.legend(loc=0)\n",
    "# plt.grid()\n",
    "\n",
    "# plt.subplot(224)\n",
    "# plt.plot(rec_fbp[1400,800:1200], label='FBP')\n",
    "# plt.plot(rec_rec[1400,800:1200], label='VCGLS+TV')\n",
    "# plt.plot(rec_reference[1400,800:1200], label='Reference')\n",
    "# plt.legend(loc=0)\n",
    "# plt.grid()\n",
    "# plt.show()\n",
    "\n",
    "# plt.figure(figsize=(12,7))\n",
    "# plt.subplot(121)\n",
    "# plt.plot(rec_v['alpha'], label='Alpha')\n",
    "# plt.legend()\n",
    "# plt.grid()\n",
    "# plt.subplot(122)\n",
    "# plt.plot(rec_v['energy'], label='Energy')\n",
    "# plt.grid()\n",
    "# plt.legend()\n",
    "# plt.show()\n",
    "\n",
    "\n",
    "# plt.figure(figsize=(14,10))\n",
    "# plt.subplot(131)\n",
    "# plt.imshow((rec_fbp-rec_rec)[1200:1600,800:1200], vmin=-5, vmax=5)\n",
    "# plt.title('FPB-VCGLS')\n",
    "# plt.subplot(132)\n",
    "# plt.title('REF-VCGLS')\n",
    "# plt.imshow((rec_reference-rec_rec)[1200:1600,800:1200], vmin=-5, vmax=5)\n",
    "# plt.subplot(133)\n",
    "# plt.imshow((rec_reference-rec_fbp)[1200:1600,800:1200], vmin=-5, vmax=5)\n",
    "# plt.title('FBP-REF')\n",
    "# plt.show()\n",
    "\n",
    "# plt.figure(figsize=(10,10))\n",
    "# plt.imshow((rec_fbp-rec_rec), vmin=-5, vmax=5)\n",
    "# plt.title('FPB-VCGLS')\n",
    "# plt.show()\n",
    "\n",
    "# plt.figure(figsize=(10,10))\n",
    "# plt.title('REF-VCGLS')\n",
    "# plt.imshow((rec_reference-rec_rec), vmin=-5, vmax=5)\n",
    "# plt.show()\n",
    "\n",
    "# plt.figure(figsize=(10,10))\n",
    "# plt.imshow((rec_reference-rec_fbp), vmin=-5, vmax=5)\n",
    "# plt.title('FBP-REF')\n",
    "# plt.show()\n",
    "\n",
    "# plt.figure(figsize=(10,10))\n",
    "# plt.imshow(rec_reference, vmin=0, vmax=75)\n",
    "# plt.title('REF')\n",
    "# plt.show()"
   ]
  },
  {
   "cell_type": "code",
   "execution_count": null,
   "metadata": {
    "collapsed": true,
    "scrolled": false
   },
   "outputs": [],
   "source": [
    "# plt.figure(figsize=(14,14))\n",
    "# plt.subplot(231)\n",
    "# plt.title('FBP')\n",
    "# plt.imshow(rec_fbp[1200:1600,800:1200], vmin=0, vmax=75)\n",
    "# plt.subplot(232)\n",
    "# plt.title('VCGLS+TV')\n",
    "# plt.imshow(rec_rec[1200:1600,800:1200], vmin=0, vmax=75)\n",
    "# plt.subplot(233)\n",
    "# plt.title('Reference')\n",
    "# plt.imshow(rec_reference[1200:1600,800:1200], vmin=0, vmax=75)\n",
    "# plt.title('Reference image')\n",
    "\n",
    "# plt.subplot(223)\n",
    "# plt.plot(rec_fbp[1200:1600,1000], label='FBP')\n",
    "# plt.plot(rec_rec[1200:1600,1000], label='VCGLS+TV')\n",
    "# plt.plot(rec_reference[1200:1600,1000], label='Reference')\n",
    "# plt.legend(loc=0)\n",
    "# plt.grid()\n",
    "\n",
    "# plt.subplot(224)\n",
    "# plt.plot(rec_fbp[1400,800:1200], label='FBP')\n",
    "# plt.plot(rec_rec[1400,800:1200], label='VCGLS+TV')\n",
    "# plt.plot(rec_reference[1400,800:1200], label='Reference')\n",
    "# plt.legend(loc=0)\n",
    "# plt.grid()\n",
    "# plt.show()\n",
    "\n",
    "# plt.figure(figsize=(12,7))\n",
    "# plt.subplot(121)\n",
    "# plt.plot(rec_v['alpha'], label='Alpha')\n",
    "# plt.legend()\n",
    "# plt.grid()\n",
    "# plt.subplot(122)\n",
    "# plt.plot(rec_v['energy'], label='Energy')\n",
    "# plt.grid()\n",
    "# plt.legend()\n",
    "# plt.show()\n",
    "\n",
    "\n",
    "# plt.figure(figsize=(14,10))\n",
    "# plt.subplot(131)\n",
    "# plt.imshow((rec_fbp-rec_rec)[1200:1600,800:1200], vmin=-5, vmax=5)\n",
    "# plt.title('FPB-VCGLS')\n",
    "# plt.subplot(132)\n",
    "# plt.title('REF-VCGLS')\n",
    "# plt.imshow((rec_reference-rec_rec)[1200:1600,800:1200], vmin=-5, vmax=5)\n",
    "# plt.subplot(133)\n",
    "# plt.imshow((rec_reference-rec_fbp)[1200:1600,800:1200], vmin=-5, vmax=5)\n",
    "# plt.title('FBP-REF')\n",
    "# plt.show()\n",
    "\n",
    "# plt.figure(figsize=(10,10))\n",
    "# plt.imshow((rec_fbp-rec_rec), vmin=-5, vmax=5)\n",
    "# plt.title('FPB-VCGLS')\n",
    "# plt.show()\n",
    "\n",
    "# plt.figure(figsize=(10,10))\n",
    "# plt.title('REF-VCGLS')\n",
    "# plt.imshow((rec_reference-rec_rec), vmin=-5, vmax=5)\n",
    "# plt.show()\n",
    "\n",
    "# plt.figure(figsize=(10,10))\n",
    "# plt.imshow((rec_reference-rec_fbp), vmin=-5, vmax=5)\n",
    "# plt.title('FBP-REF')\n",
    "# plt.show()\n",
    "\n",
    "plt.figure(figsize=(10,10))\n",
    "plt.imshow(rec[1200:1600,800:1200], vmin=0, vmax=75)\n",
    "plt.title('REC')\n",
    "plt.show()"
   ]
  },
  {
   "cell_type": "code",
   "execution_count": null,
   "metadata": {
    "collapsed": true
   },
   "outputs": [],
   "source": []
  },
  {
   "cell_type": "code",
   "execution_count": null,
   "metadata": {
    "collapsed": true,
    "scrolled": false
   },
   "outputs": [],
   "source": [
    "res={}\n",
    "x_range = [1,]\n",
    "ang_range = [1,]\n",
    "\n",
    "rec_reference = get_reference_rec()*mask\n",
    "for sinogram in log_progress([sinograms[0],]):\n",
    "    name = os.path.split(sinogram)[-1]\n",
    "    short_name=name.split('_')[2]\n",
    "    res[short_name] = {}\n",
    "    for method in ['fbp', 'vcgls']:\n",
    "        res[short_name][method] = {}\n",
    "#         res[short_name][method]['shennon'] = np.zeros((len(x_range), len(ang_range)))\n",
    "        res[short_name][method]['l2'] = np.zeros((len(x_range), len(ang_range)))\n",
    "#         res[short_name][method]['l2_grad'] = np.zeros((len(x_range), len(ang_range)))\n",
    "        res[short_name][method]['ssim'] = np.zeros((len(x_range), len(ang_range)))\n",
    "        res[short_name][method]['corr'] = np.zeros((len(x_range), len(ang_range)))\n",
    "        res[short_name][method]['rec'] = np.zeros((len(x_range), len(ang_range),4000,4000))\n",
    "        \n",
    "    for ix, x_resize  in enumerate(x_range):\n",
    "        for iang, ang_resize in enumerate(ang_range):\n",
    "            print(short_name, x_resize, ang_resize)\n",
    "            \n",
    "            n_iter=10\n",
    "                \n",
    "            rec_rec, rec_fbp = make_vcgls_TV(sinogram, x_resize, ang_resize, n_iter=n_iter)\n",
    "            \n",
    "            if not x_resize == 1:\n",
    "                rec_fbp = sp.ndimage.interpolation.zoom(rec_fbp, x_resize, order=2)\n",
    "            rec_fbp = rec_fbp.astype('float32')\n",
    "            rec_fbp*=mask\n",
    "            \n",
    "            if not x_resize == 1:\n",
    "                rec_rec = sp.ndimage.interpolation.zoom(rec_rec, x_resize, order=2)\n",
    "            rec_rec = rec_rec.astype('float32')\n",
    "            rec_rec*=mask\n",
    "            \n",
    "            for method in ['fbp', 'vcgls']:\n",
    "                if method == 'fbp':\n",
    "                    t_rec = rec_fbp\n",
    "                elif method == 'vcgls':\n",
    "                    t_rec = rec_rec\n",
    "                    \n",
    "#                 res[short_name][method]['shennon'][ix, iang] = skimage.measure.shannon_entropy(\n",
    "#                     (t_rec-t_rec.min())/(t_rec.max()-t_rec.min())) \n",
    "                res[short_name][method]['corr'][ix, iang] = np.correlate(t_rec.ravel(),rec_reference.ravel())\n",
    "                res[short_name][method]['l2'][ix, iang] = diff(t_rec, rec_reference, 2)\n",
    "#                 res[short_name][method]['l2_grad'][ix, iang] = l2_grad(t_rec)\n",
    "                res[short_name][method]['ssim'][ix, iang] = ssim(t_rec, rec_reference)\n",
    "                res[short_name][method]['rec'][ix, iang] = t_rec\n",
    "            \n",
    "            if True:\n",
    "                plt.figure(figsize=(14,14))\n",
    "                plt.subplot(231)\n",
    "                plt.title('FBP')\n",
    "                plt.imshow(rec_fbp[1200:1600,800:1200], vmin=0, vmax=75)\n",
    "                plt.subplot(232)\n",
    "                plt.title('VCGLS+TV')\n",
    "                plt.imshow(rec_rec[1200:1600,800:1200], vmin=0, vmax=75)\n",
    "                plt.subplot(233)\n",
    "                plt.title('Reference')\n",
    "                plt.imshow(rec_reference[1200:1600,800:1200], vmin=0, vmax=75)\n",
    "                plt.title('Reference image')\n",
    "\n",
    "                plt.subplot(223)\n",
    "                plt.plot(rec_fbp[1200:1600,1000], label='FBP')\n",
    "                plt.plot(rec_rec[1200:1600,1000], label='VCGLS+TV')\n",
    "                plt.plot(rec_reference[1200:1600,1000], label='Reference')\n",
    "                plt.legend(loc=0)\n",
    "                plt.grid()\n",
    "\n",
    "                plt.subplot(224)\n",
    "                plt.plot(rec_fbp[1400,800:1200], label='FBP')\n",
    "                plt.plot(rec_rec[1400,800:1200], label='VCGLS+TV')\n",
    "                plt.plot(rec_reference[1400,800:1200], label='Reference')\n",
    "                plt.legend(loc=0)\n",
    "                plt.grid()\n",
    "#                 plt.savefig('view_{}_{}_{}.png'.format(short_name, x_resize, ang_resize))\n",
    "                #     plt.close()\n",
    "                plt.show()\n",
    "            else:\n",
    "                plt.figure(figsize=(14,14))\n",
    "                plt.subplot(221)\n",
    "                plt.title('FBP')\n",
    "                plt.imshow(rec_fbp[1200:1600,800:1200], vmin=0, vmax=75)\n",
    "                plt.subplot(222)\n",
    "                plt.title('Reference')\n",
    "                plt.imshow(rec_reference[1200:1600,800:1200], vmin=0, vmax=75)\n",
    "                plt.title('Reference image')\n",
    "\n",
    "                plt.subplot(223)\n",
    "                plt.plot(rec_fbp[1200:1600,1000], label='FBP')\n",
    "                plt.plot(rec_reference[1200:1600,1000], label='Reference')\n",
    "                plt.legend(loc=0)\n",
    "                plt.grid()\n",
    "\n",
    "                plt.subplot(224)\n",
    "                plt.plot(rec_fbp[1400,800:1200], label='FBP')\n",
    "                plt.plot(rec_reference[1400,800:1200], label='Reference')\n",
    "                plt.legend(loc=0)\n",
    "                plt.grid()\n",
    "#                 plt.savefig('view_{}_{}_{}.png'.format(short_name, x_resize, ang_resize))\n",
    "                #     plt.close()\n",
    "                plt.show()"
   ]
  },
  {
   "cell_type": "code",
   "execution_count": null,
   "metadata": {
    "collapsed": true
   },
   "outputs": [],
   "source": [
    "np.correlate(t_rec.ravel(),rec_reference.ravel())"
   ]
  },
  {
   "cell_type": "code",
   "execution_count": null,
   "metadata": {
    "collapsed": true
   },
   "outputs": [],
   "source": [
    "df = pd.DataFrame(columns=['Name', 'Method', 'Angles reduction', 'Detector reduction',\n",
    "                           'SSIM', 'L2', 'Corr',\n",
    "                           'Time', 'Exposure', 'Data', 'Q'])\n",
    "for k,v  in res.items():\n",
    "    kt = np.prod([float(n) for n in k.split('x')])\n",
    "    exposure = kt\n",
    "    for kk, vv in v.items():\n",
    "        for (x,y), r in np.ndenumerate(vv['ssim']):\n",
    "            if np.mean(vv['rec'][x,y])==0:\n",
    "                continue\n",
    "                \n",
    "            df.loc[len(df)] = ([k, kk, float(ang_range[y]), float(x_range[x]), \n",
    "                                r, vv['l2'][x,y], vv['corr'][x,y],\n",
    "                                kt/ang_range[y], exposure, vv['rec'][x,y],\n",
    "#                                 (r*vv['shennon'][x,y]+1)**0.25-1\n",
    "#                                 -(vv['l2'][x,y])*1e6*vv['l2_grad'][x,y]\n",
    "                                vv['corr'][x,y]*r\n",
    "                               ]\n",
    "                              )"
   ]
  },
  {
   "cell_type": "code",
   "execution_count": null,
   "metadata": {
    "collapsed": true
   },
   "outputs": [],
   "source": [
    "df.to_pickle('big_data.pkl')"
   ]
  },
  {
   "cell_type": "code",
   "execution_count": null,
   "metadata": {
    "collapsed": true,
    "scrolled": false
   },
   "outputs": [],
   "source": [
    "df.sort_values(by='Q', ascending=False, inplace=True);\n",
    "numb = 0\n",
    "for x in list(df.iterrows())[:]:\n",
    "    title = 'Q:{:0.4f} {} {} D:{} A:{}'.format(\n",
    "        x[1]['Q'],\n",
    "        x[1]['Method'],\n",
    "        x[1]['Name'],\n",
    "        int(x[1]['Detector reduction']),\n",
    "        int(x[1]['Angles reduction'])        \n",
    "    )\n",
    "    numb = numb+1\n",
    "#     plt.figure(figsize=(14,14))\n",
    "#     plt.subplot(221)\n",
    "#     plt.title(title)\n",
    "#     plt.imshow(x[1]['Data'][1200:1600,800:1200], vmin=0, vmax=75)\n",
    "#     plt.subplot(222)\n",
    "#     plt.imshow(rec_reference[1200:1600,800:1200], vmin=0, vmax=75)\n",
    "#     plt.title('Reference image')\n",
    "    \n",
    "#     plt.subplot(223)\n",
    "#     plt.plot(x[1]['Data'][1200:1600,1000], label='Reconstruction')\n",
    "#     plt.plot(rec_reference[1200:1600,1000], label='Reference')\n",
    "#     plt.legend(loc=0)\n",
    "#     plt.grid()\n",
    "    \n",
    "#     plt.subplot(224)\n",
    "#     plt.plot(x[1]['Data'][1400,800:1200], label='Reconstruction')\n",
    "#     plt.plot(rec_reference[1400,800:1200], label='Reference')\n",
    "#     plt.legend(loc=0)\n",
    "#     plt.grid()\n",
    "# #     plt.savefig(title+'.png')\n",
    "# #     plt.close()\n",
    "#     plt.show()\n",
    "    skimage.io.imsave('Pic.A1.{}_{}.tif'.format(numb, title.replace(' ','_').replace(':','_')), x[1]['Data'].astype('float32'))"
   ]
  },
  {
   "cell_type": "code",
   "execution_count": null,
   "metadata": {
    "collapsed": true
   },
   "outputs": [],
   "source": [
    "skimage.io.imsave('Pic.5.1.1_refrerence_fbp_rec.tif',rec_reference)"
   ]
  },
  {
   "cell_type": "code",
   "execution_count": null,
   "metadata": {
    "collapsed": true
   },
   "outputs": [],
   "source": [
    "x[1]['Data'].dtype"
   ]
  },
  {
   "cell_type": "code",
   "execution_count": null,
   "metadata": {
    "collapsed": true
   },
   "outputs": [],
   "source": [
    "X,Y=np.meshgrid(np.arange(4000)-2000, np.arange(4000)-2000)\n",
    "mask = X**2+Y**2 <2000**2"
   ]
  },
  {
   "cell_type": "code",
   "execution_count": null,
   "metadata": {
    "collapsed": true
   },
   "outputs": [],
   "source": [
    "plt.figure(figsize=(10,10))\n",
    "plt.imshow(x[1]['Data']*mask, vmin=0, vmax=75)"
   ]
  },
  {
   "cell_type": "code",
   "execution_count": null,
   "metadata": {
    "collapsed": true
   },
   "outputs": [],
   "source": [
    "sinograms"
   ]
  },
  {
   "cell_type": "code",
   "execution_count": null,
   "metadata": {
    "collapsed": true
   },
   "outputs": [],
   "source": [
    "# def make_vcgls_TV(sinogram, x_resize, ang_resize):\n",
    "#     pg,vg, vsino = load_data(sinogram, x_resize, ang_resize)\n",
    "#     proj_id = astra.create_projector('cuda', pg, vg)\n",
    "#     D = 3000.0 * (0.05 + (vsino/vsino.max())**2)\n",
    "#     Div = 1.0 / D\n",
    "\n",
    "#     W = astra.OpTomo(proj_id)\n",
    "#     x0 = np.zeros((vsino.shape[1], vsino.shape[1]))\n",
    "\n",
    "#     k = vsino.shape[0]/pg['DetectorWidth']**2/(np.pi/2)\n",
    "#     rec_fbp = alg.gpu_fbp(pg, vg, vsino)*k  # fixit\n",
    "\n",
    "#     rec_v = RegVarSIRT.run(W, vsino, x0, Lambda=100, eps=1.e-10, n_it=10, step='CG', normalize=True)\n",
    "#     rec_rec = rec_v['rec']\n",
    "\n",
    "\n",
    "#     for l in log_progress([100, 100, 100, 50, 50, 10, 10, 5, 4, 3, 2, 1]):\n",
    "#         rec_v = RegVarSIRT.run(W, vsino, rec_fbp, Div, Lambda=l, eps=1.e-10, n_it=10, step='CG', normalize=True)\n",
    "#         rec_rec = rec_v['rec']\n",
    "\n",
    "#     return rec_rec, rec_fbp\n",
    "\n",
    "# rec_rec, rec_fbp = make_vcgls_TV('/home/makov/diskmnt/big/yaivan/noisy_data/noised_sino/BHI3_2.49um_1x0.7__sino0980.tif',\n",
    "#                                  4,4)\n",
    "\n",
    "# rec_rec = sp.ndimage.interpolation.zoom(rec_rec, 4, order=2)\n",
    "# rec_rec*=mask\n",
    "\n",
    "# rec_fbp = sp.ndimage.interpolation.zoom(rec_fbp, 4, order=2)\n",
    "# rec_fbp*=mask\n",
    "            \n",
    "# plt.figure(figsize=(14,14))\n",
    "# plt.subplot(231)\n",
    "# plt.title('FBP')\n",
    "# plt.imshow(rec_fbp[1200:1600,800:1200], vmin=0, vmax=75)\n",
    "# plt.subplot(232)\n",
    "# plt.title('VCGLS+TV')\n",
    "# plt.imshow(rec_rec[1200:1600,800:1200], vmin=0, vmax=75)\n",
    "# plt.subplot(233)\n",
    "# plt.title('Reference')\n",
    "# plt.imshow(rec_reference[1200:1600,800:1200], vmin=0, vmax=75)\n",
    "# plt.title('Reference image')\n",
    "\n",
    "# plt.subplot(223)\n",
    "# plt.plot(rec_fbp[1200:1600,1000], label='FBP')\n",
    "# plt.plot(rec_rec[1200:1600,1000], label='VCGLS+TV')\n",
    "# plt.plot(rec_reference[1200:1600,1000], label='Reference')\n",
    "# plt.legend(loc=0)\n",
    "# plt.grid()\n",
    "\n",
    "# plt.subplot(224)\n",
    "# plt.plot(rec_fbp[1400,800:1200], label='FBP')\n",
    "# plt.plot(rec_rec[1400,800:1200], label='VCGLS+TV')\n",
    "# plt.plot(rec_reference[1400,800:1200], label='Reference')\n",
    "# plt.legend(loc=0)\n",
    "# plt.grid()\n",
    "# #     plt.savefig(title+'.png')\n",
    "# #     plt.close()\n",
    "# plt.show()"
   ]
  },
  {
   "cell_type": "code",
   "execution_count": null,
   "metadata": {
    "collapsed": true
   },
   "outputs": [],
   "source": [
    "plt.figure(figsize=(10,10))\n",
    "plt.imshow(rec_rec, vmin=0, vmax=75)"
   ]
  },
  {
   "cell_type": "code",
   "execution_count": null,
   "metadata": {
    "collapsed": true
   },
   "outputs": [],
   "source": [
    "from skimage.filters import median"
   ]
  },
  {
   "cell_type": "code",
   "execution_count": null,
   "metadata": {
    "collapsed": true
   },
   "outputs": [],
   "source": [
    "plt.figure(figsize=(10,10))\n",
    "plt.imshow(rec_fbp, vmin=0, vmax=75)"
   ]
  },
  {
   "cell_type": "code",
   "execution_count": null,
   "metadata": {
    "collapsed": true,
    "scrolled": true
   },
   "outputs": [],
   "source": [
    "plt.figure(figsize=(14,14))\n",
    "plt.subplot(221)\n",
    "plt.title('FBP')\n",
    "plt.imshow(rec_fbp[1200:1600,800:1200], vmin=0, vmax=75)\n",
    "plt.subplot(222)\n",
    "plt.title('VCGLS+TV')\n",
    "plt.imshow(rec_rec[1200:1600,800:1200], vmin=0, vmax=75)\n",
    "plt.title('Reference image')\n",
    "\n",
    "plt.subplot(223)\n",
    "plt.plot(rec_fbp[1200:1600,1000], label='FBP')\n",
    "plt.plot(rec_rec[1200:1600,1000], label='CGLS')\n",
    "plt.legend(loc=0)\n",
    "plt.grid()\n",
    "\n",
    "plt.subplot(224)\n",
    "plt.plot(rec_fbp[1400,800:1200], label='FBP')\n",
    "plt.plot(rec_rec[1400,800:1200], label='CGLS')\n",
    "plt.legend(loc=0)\n",
    "plt.grid()\n",
    "#     plt.savefig(title+'.png')\n",
    "#     plt.close()\n",
    "plt.show()"
   ]
  },
  {
   "cell_type": "code",
   "execution_count": null,
   "metadata": {
    "collapsed": true
   },
   "outputs": [],
   "source": [
    "df.sort_values(by='Q', ascending=False, inplace=True);"
   ]
  },
  {
   "cell_type": "code",
   "execution_count": null,
   "metadata": {
    "collapsed": true
   },
   "outputs": [],
   "source": [
    "def df_to_markdown(df, float_format='%.3g'):\n",
    "    \"\"\"\n",
    "    Export a pandas.DataFrame to markdown-formatted text.\n",
    "    DataFrame should not contain any `|` characters.\n",
    "    \"\"\"\n",
    "    from os import linesep\n",
    "    return linesep.join([\n",
    "        '|'.join(df.columns),\n",
    "        '|'.join(4 * '-' for i in df.columns),\n",
    "        df.to_csv(sep='|', index=False, header=False, float_format=float_format)\n",
    "    ]).replace('|', ' | ')"
   ]
  },
  {
   "cell_type": "code",
   "execution_count": null,
   "metadata": {
    "collapsed": true,
    "scrolled": false
   },
   "outputs": [],
   "source": [
    "# pdd = pd.DataFrame(df, columns=['Q', 'Name',  'Angles reduction', 'Detector reduction',\n",
    "#                            'SSIM', 'L2', 'L2_grad', 'Shennon', \n",
    "#                            'Time', 'Exposure'])\n",
    "# print(df_to_markdown(pdd))\n",
    "# pdd"
   ]
  },
  {
   "cell_type": "code",
   "execution_count": null,
   "metadata": {
    "collapsed": true
   },
   "outputs": [],
   "source": [
    "df.sort_values(by='SSIM', ascending=False, inplace=True);\n",
    "\n",
    "plt.figure(figsize=(10,10))\n",
    "tdf = df.loc[df['Method'] == 'fbp']\n",
    "plt.scatter(tdf['Exposure'], tdf['Q'],\n",
    "        c=tdf['Angles reduction'], s = tdf['Detector reduction']*10,\n",
    "        cmap=plt.cm.viridis)\n",
    "\n",
    "tdf = df.loc[df['Method'] == 'vcgls']\n",
    "plt.scatter(tdf['Exposure'], tdf['Q'],\n",
    "        c=tdf['Angles reduction'], s = tdf['Detector reduction']*10,\n",
    "        marker = '<',\n",
    "        cmap=plt.cm.viridis)\n",
    "\n",
    "plt.xlabel('Exposure')\n",
    "plt.ylabel('Quality')\n",
    "plt.grid()\n",
    "plt.colorbar(label = 'Angles reduction')\n",
    "\n",
    "plt.show()"
   ]
  },
  {
   "cell_type": "code",
   "execution_count": null,
   "metadata": {
    "collapsed": true
   },
   "outputs": [],
   "source": [
    "df.sort_values(by='SSIM', ascending=False, inplace=True);\n",
    "plt.gray()\n",
    "plt.figure(figsize=(10,10))\n",
    "ttdf = df.loc[df['Time'] < 1]\n",
    "tdf = ttdf.loc[df['Method'] == 'fbp']\n",
    "plt.scatter(tdf['Time'], tdf['Q'],\n",
    "        c=tdf['Angles reduction'], s = tdf['Detector reduction']*10,\n",
    "        cmap=plt.cm.gray, label = 'FBP')\n",
    "\n",
    "tdf = ttdf.loc[df['Method'] == 'vcgls']\n",
    "plt.scatter(tdf['Time'], tdf['Q'],\n",
    "        c=tdf['Angles reduction'], s = tdf['Detector reduction']*10,\n",
    "        marker = 's',\n",
    "        cmap=plt.cm.gray, label = 'VCGLS+TV')\n",
    "\n",
    "plt.xlabel('Time')\n",
    "plt.ylabel('Quality')\n",
    "plt.grid()\n",
    "plt.colorbar(label = 'Angles reduction')\n",
    "plt.legend(loc=0)\n",
    "plt.savefig('Pic_2.png')\n",
    "plt.show()"
   ]
  },
  {
   "cell_type": "code",
   "execution_count": null,
   "metadata": {
    "collapsed": true
   },
   "outputs": [],
   "source": [
    "df.sort_values(by='SSIM', ascending=False, inplace=True);\n",
    "plt.gray()\n",
    "plt.figure(figsize=(10,10))\n",
    "ttdf = df\n",
    "tdf = ttdf.loc[df['Method'] == 'fbp']\n",
    "plt.scatter(tdf['Time'], tdf['Q'],\n",
    "        c=tdf['Angles reduction'], s = tdf['Detector reduction']*10,\n",
    "        cmap=plt.cm.gray, label = 'FBP')\n",
    "\n",
    "tdf = ttdf.loc[df['Method'] == 'vcgls']\n",
    "plt.scatter(tdf['Time'], tdf['Q'],\n",
    "        c=tdf['Angles reduction'], s = tdf['Detector reduction']*10,\n",
    "        marker = 's',\n",
    "        cmap=plt.cm.gray, label = 'VCGLS+TV')\n",
    "\n",
    "plt.xlabel('Time')\n",
    "plt.ylabel('Quality')\n",
    "plt.grid()\n",
    "plt.colorbar(label = 'Angles reduction')\n",
    "plt.legend(loc=0)\n",
    "plt.savefig('Pic_1.png')\n",
    "plt.show()"
   ]
  },
  {
   "cell_type": "code",
   "execution_count": null,
   "metadata": {
    "collapsed": true
   },
   "outputs": [],
   "source": [
    "df.sort_values(by='SSIM', ascending=False, inplace=True);\n",
    "plt.gray()\n",
    "plt.figure(figsize=(10,10))\n",
    "ttdf = df\n",
    "tdf = ttdf.loc[df['Method'] == 'fbp']\n",
    "plt.scatter(tdf['Exposure'], tdf['Q'],\n",
    "        c=tdf['Angles reduction'], s = tdf['Detector reduction']*10,\n",
    "        cmap=plt.cm.gray, label = 'FBP')\n",
    "\n",
    "tdf = ttdf.loc[df['Method'] == 'vcgls']\n",
    "plt.scatter(tdf['Exposure'], tdf['Q'],\n",
    "        c=tdf['Angles reduction'], s = tdf['Detector reduction']*10,\n",
    "        marker = 's',\n",
    "        cmap=plt.cm.gray, label = 'VCGLS+TV')\n",
    "\n",
    "plt.xlabel('Exposure')\n",
    "plt.ylabel('Quality')\n",
    "plt.grid()\n",
    "plt.colorbar(label = 'Angles reduction')\n",
    "plt.legend(loc=0)\n",
    "plt.show()"
   ]
  },
  {
   "cell_type": "code",
   "execution_count": null,
   "metadata": {
    "collapsed": true
   },
   "outputs": [],
   "source": [
    "df.sort_values(by='SSIM', ascending=False, inplace=True);\n",
    "\n",
    "plt.figure(figsize=(10,10))\n",
    "tdf = df.loc[df['Method'] == 'fbp']\n",
    "for ix,x in tdf.iterrows():\n",
    "    t = df.loc[df['Method'] == 'vcgls']\n",
    "    t = t.loc[t['Name'] == x['Name']]\n",
    "    t = t.loc[t['Angles reduction'] == x['Angles reduction']]\n",
    "    t = t.loc[t['Detector reduction'] == x['Detector reduction']]\n",
    "    if len(t)>0:\n",
    "        plt.scatter(x['Q'], np.asarray(t['Q']), s=50, c=t['Exposure'])\n",
    "        \n",
    "plt.plot(np.arange(15,50),np.arange(15,50))\n",
    "plt.xlabel('FBP quality')\n",
    "plt.ylabel('VCGLS+TV quality')\n",
    "plt.grid()\n",
    "plt.colorbar(label = 'Time')\n",
    "plt.savefig('fbp_vcgls.png')\n",
    "plt.show()\n",
    "# plt.scatter(df['Time'], df['Q'],\n",
    "#         c=df['Angles reduction'], s = df['Detector reduction']*10,\n",
    "#         cmap=plt.cm.viridis)\n",
    "\n",
    "# plt.xlabel('Time')\n",
    "# plt.ylabel('Quality')\n",
    "# plt.grid()\n",
    "# plt.colorbar(label = 'Angles reduction')\n",
    "\n",
    "# plt.show()"
   ]
  },
  {
   "cell_type": "code",
   "execution_count": null,
   "metadata": {
    "collapsed": true
   },
   "outputs": [],
   "source": [
    "np.asarray(t['Q'])"
   ]
  },
  {
   "cell_type": "code",
   "execution_count": null,
   "metadata": {
    "collapsed": true
   },
   "outputs": [],
   "source": [
    "t = df.loc[df['Method'] == 'vcgls']\n",
    "t = t.loc[t['Name'] == x['Name']]\n",
    "t = t.loc[t['Angles reduction'] == x['Angles reduction']]\n",
    "x['Angles reduction']\n",
    "t"
   ]
  },
  {
   "cell_type": "code",
   "execution_count": null,
   "metadata": {
    "collapsed": true
   },
   "outputs": [],
   "source": [
    "tdf."
   ]
  },
  {
   "cell_type": "code",
   "execution_count": null,
   "metadata": {
    "collapsed": true
   },
   "outputs": [],
   "source": [
    "df.sort_values(by='SSIM', ascending=False, inplace=True);\n",
    "\n",
    "plt.figure(figsize=(10,10))\n",
    "plt.scatter(df['SSIM'], df['Q'],\n",
    "            cmap=plt.cm.viridis)\n",
    "\n",
    "plt.xlabel('SSIM quality')\n",
    "plt.ylabel('Q')\n",
    "plt.grid()\n",
    "# plt.colorbar(label = 'Angles reduction')\n",
    "\n",
    "plt.show()"
   ]
  },
  {
   "cell_type": "code",
   "execution_count": null,
   "metadata": {
    "collapsed": true
   },
   "outputs": [],
   "source": [
    "df.sort_values(by='SSIM', ascending=False, inplace=True);\n",
    "\n",
    "plt.figure(figsize=(10,10))\n",
    "plt.scatter(df['SSIM'], df['L2'],\n",
    "            cmap=plt.cm.viridis)\n",
    "\n",
    "plt.xlabel('SSIM quality')\n",
    "plt.ylabel('L2')\n",
    "plt.grid()\n",
    "# plt.colorbar(label = 'Angles reduction')\n",
    "\n",
    "plt.show()"
   ]
  },
  {
   "cell_type": "code",
   "execution_count": null,
   "metadata": {
    "collapsed": true
   },
   "outputs": [],
   "source": [
    "df.sort_values(by='SSIM', ascending=False, inplace=True);\n",
    "\n",
    "plt.figure(figsize=(10,10))\n",
    "plt.scatter(df['SSIM'], df['L2_grad']*1000,\n",
    "            cmap=plt.cm.viridis)\n",
    "\n",
    "plt.xlabel('SSIM quality')\n",
    "plt.ylabel('L2_grad * 1000')\n",
    "plt.grid()\n",
    "# plt.colorbar(label = 'Angles reduction')\n",
    "\n",
    "plt.show()"
   ]
  },
  {
   "cell_type": "code",
   "execution_count": null,
   "metadata": {
    "collapsed": true
   },
   "outputs": [],
   "source": [
    "df.sort_values(by='SSIM', ascending=False, inplace=True);\n",
    "\n",
    "plt.figure(figsize=(10,10))\n",
    "plt.scatter(df['SSIM'], df['Time'],\n",
    "            s=20*df['Detector reduction'], c=df['Angles reduction'],\n",
    "            cmap=plt.cm.viridis)\n",
    "\n",
    "plt.xlabel('SSIM quality')\n",
    "plt.ylabel('Time, a.u.')\n",
    "plt.grid()\n",
    "plt.colorbar(label = 'Angles reduction')\n",
    "\n",
    "plt.show()"
   ]
  },
  {
   "cell_type": "code",
   "execution_count": null,
   "metadata": {
    "collapsed": true
   },
   "outputs": [],
   "source": [
    "import matplotlib\n",
    "font = {'family' : 'normal',\n",
    "        'weight' : 'normal',\n",
    "        'size'   : 18}\n",
    "\n",
    "matplotlib.rc('font', **font)\n",
    "\n",
    "\n",
    "\n",
    "plt.figure(figsize=(10,10))\n",
    "plt.scatter(df['L2'], df['Time'],\n",
    "            s=20*df['Detector reduction'], c=df['Angles reduction'],\n",
    "            cmap=plt.cm.viridis)\n",
    "\n",
    "plt.xlabel('L2 quality')\n",
    "plt.ylabel('Time, a.u.')\n",
    "plt.grid()\n",
    "plt.colorbar(label = 'Angles reduction')\n",
    "\n",
    "plt.show()"
   ]
  },
  {
   "cell_type": "code",
   "execution_count": null,
   "metadata": {
    "collapsed": true
   },
   "outputs": [],
   "source": [
    "df.sort_values(by='Q', ascending=False, inplace=True);"
   ]
  },
  {
   "cell_type": "code",
   "execution_count": null,
   "metadata": {
    "collapsed": true
   },
   "outputs": [],
   "source": [
    "files = glob('Q:*.png')\n",
    "files = sorted(files, reverse=True)\n",
    "# print(files)\n",
    "\n",
    "with open('Appendix.md', 'w') as f:\n",
    "    f.write('#Приложение 1.#Приложение 1. Изображения участка реконструированной области отсортированные по качеству реконструкции.\\n\\n')\n",
    "    for ifile, file in enumerate(files):\n",
    "        Q, method, name, D,A = file.split(' ')\n",
    "        Q = Q[2:]\n",
    "        D = D[2:]\n",
    "        A = A[2:-4]\n",
    "        method = 'FBP' if 'fbp' in method else 'VCGLS+TV'\n",
    "        legend = '![]({})\\n\\n'+\\\n",
    "                'Рисунок A1.{}. Сравнение участка реконструированной области методом {} с опорным восстановлением.'+ \\\n",
    "                '(Верх лево) Название эксперимента: {}. Достигнутое качество: {}. '+ \\\n",
    "                'Прореживание по углам: {}. Усреднение по пикселям детектора: {}. '+ \\\n",
    "                '(Верх право) Опорное восстановление.'+ \\\n",
    "                '(Низ) Вертикальное и горизонтальное сечение приведённых реконструкций.\\n\\n'\n",
    "        f.write(legend.format(file, ifile+1, method,  name, Q, A,D))"
   ]
  },
  {
   "cell_type": "code",
   "execution_count": null,
   "metadata": {
    "collapsed": true,
    "scrolled": false
   },
   "outputs": [],
   "source": [
    "for k,v  in res.items():\n",
    "    for kk, vv in v.items():\n",
    "        name = '{}_{}'.format(k,kk)\n",
    "        plt.figure(figsize=(10,8))\n",
    "        X,Y=np.meshgrid(ang_range, x_range)\n",
    "        plt.pcolormesh(X, Y, vv['ssim']**2*vv['shennon'], cmap=plt.cm.gray_r)\n",
    "        plt.ylabel('Detector reduction')\n",
    "        plt.xlabel('Angles reduction')\n",
    "        plt.title(name)\n",
    "        plt.colorbar(orientation='vertical')"
   ]
  },
  {
   "cell_type": "code",
   "execution_count": null,
   "metadata": {
    "collapsed": true,
    "scrolled": false
   },
   "outputs": [],
   "source": [
    "for sinogram in log_progress(sinograms):\n",
    "    x_resize = 2\n",
    "    ang_resize = 2\n",
    "    name = os.path.split(sinogram)[-1]\n",
    "    print(name)\n",
    "    pg, vg , sino_noise = load_data(sinogram, x_resize, ang_resize)\n",
    "    \n",
    "    # estimate noise\n",
    "    D = 1.0 * (0.05 + (sino_noise/sino_noise.max())**2)\n",
    "    Div = 1.0 / D\n",
    "    \n",
    "    plt.figure(figsize=(15,15))\n",
    "    plt.imshow(sino_noise, cmap='gray')\n",
    "    plt.colorbar(orientation='horizontal')\n",
    "    plt.show()\n",
    "    \n",
    "    proj_id = astra.create_projector('cuda', pg, vg)\n",
    "    W = astra.OpTomo(proj_id)\n",
    "    x0 = np.zeros((sino_noise.shape[1], sino_noise.shape[1]))\n",
    "    \n",
    "    k = sino_noise.shape[0]/pg['DetectorWidth']**2/(np.pi/2)\n",
    "    rec_fbp = alg.gpu_fbp(pg, vg, sino_noise)*k*x_resize * 2  # fixit\n",
    "    \n",
    "    eps = 1e-10\n",
    "    n_iter = 200\n",
    "\n",
    "    Lambda=4.\n",
    "\n",
    "    #SIRT\n",
    "    rec = RegVarSIRT.run(W, sino_noise, np.zeros_like(x0), eps=eps, n_it=n_iter, step='steepest')\n",
    "    rec['fbp'] = rec_fbp\n",
    "    \n",
    "    plt.figure(figsize=(15,10))\n",
    "    plt.subplot(121)\n",
    "    plt.imshow(rec['rec'], interpolation='nearest')\n",
    "    plt.title('SIRT')\n",
    "    plt.subplot(122)\n",
    "    plt.semilogy(rec['energy'])\n",
    "    plt.grid()\n",
    "    plt.show()\n",
    "    \n",
    "    with open('{}_{}_{}_s.pkl'.format(name, x_resize, ang_resize),'wb') as f:\n",
    "        pickle.dump(rec, f)\n",
    "    del rec['x_k']\n",
    "    %xdel rec\n",
    "\n",
    "    #SIRT+TV\n",
    "    rec = RegVarSIRT.run(W, sino_noise, np.zeros_like(x0), Lambda=Lambda, eps=eps, n_it=n_iter, step='steepest')\n",
    "    rec['fbp'] = rec_fbp\n",
    "    \n",
    "    plt.figure(figsize=(15,10))\n",
    "    plt.subplot(121)\n",
    "    plt.imshow(rec['rec'], interpolation='nearest')\n",
    "    plt.title('SIRT+TV')\n",
    "    plt.subplot(122)\n",
    "    plt.semilogy(rec['energy'])\n",
    "    plt.grid()\n",
    "    plt.show()\n",
    "    \n",
    "    with open('{}_{}_{}_s_tv.pkl'.format(name, x_resize, ang_resize),'wb') as f:\n",
    "        pickle.dump(rec, f)\n",
    "    del rec['x_k']\n",
    "    %xdel rec\n",
    "\n",
    "    #CGLS\n",
    "    rec = RegVarSIRT.run(W, sino_noise, np.zeros_like(x0), eps=eps, n_it=n_iter, step='CG')\n",
    "    rec['fbp'] = rec_fbp\n",
    "    \n",
    "    plt.figure(figsize=(15,10))\n",
    "    plt.subplot(121)\n",
    "    plt.imshow(rec['rec'], interpolation='nearest')\n",
    "    plt.title('CGLS')\n",
    "    plt.subplot(122)\n",
    "    plt.semilogy(rec['energy'])\n",
    "    plt.grid()\n",
    "    plt.show()\n",
    "    \n",
    "    with open('{}_{}_{}_cg.pkl'.format(name, x_resize, ang_resize),'wb') as f:\n",
    "        pickle.dump(rec, f)\n",
    "    del rec['x_k']\n",
    "    %xdel rec\n",
    "\n",
    "    #CGLS+TV\n",
    "    rec = RegVarSIRT.run(W, sino_noise, np.zeros_like(x0), Lambda=Lambda, eps=eps, n_it=n_iter, step='CG')\n",
    "    rec['fbp'] = rec_fbp\n",
    "    \n",
    "    plt.figure(figsize=(15,10))\n",
    "    plt.subplot(121)\n",
    "    plt.imshow(rec['rec'], interpolation='nearest')\n",
    "    plt.title('CGLS+TV')\n",
    "    plt.subplot(122)\n",
    "    plt.semilogy(rec['energy'])\n",
    "    plt.grid()\n",
    "    plt.show()\n",
    "    \n",
    "    with open('{}_{}_{}_cg_tv.pkl'.format(name, x_resize, ang_resize),'wb') as f:\n",
    "        pickle.dump(rec, f)\n",
    "    del rec['x_k']\n",
    "    %xdel rec \n",
    "    \n",
    "    rec = RegVarSIRT.run(W, sino_noise, np.zeros_like(x0), eps=eps, n_it=3, step='CG')\n",
    "    x0 = rec['rec']\n",
    "    \n",
    "    #VSIRT\n",
    "    rec = RegVarSIRT.run(W, sino_noise, x0, Div, eps=eps, n_it=n_iter, step='steepest')\n",
    "    rec['fbp'] = rec_fbp\n",
    "    \n",
    "    plt.figure(figsize=(15,10))\n",
    "    plt.subplot(121)\n",
    "    plt.imshow(rec['rec'], interpolation='nearest')\n",
    "    plt.title('VSIRT')\n",
    "    plt.subplot(122)\n",
    "    plt.semilogy(rec['energy'])\n",
    "    plt.grid()\n",
    "    plt.show()\n",
    "    \n",
    "    with open('{}_{}_{}_vs.pkl'.format(name, x_resize, ang_resize),'wb') as f:\n",
    "        pickle.dump(rec, f)\n",
    "        \n",
    "    del rec['x_k']\n",
    "    %xdel rec\n",
    "\n",
    "    #VSIRT+TV\n",
    "    rec = RegVarSIRT.run(W, sino_noise, x0, Div, Lambda=Lambda, eps=eps, n_it=n_iter, step='steepest')\n",
    "    rec['fbp'] = rec_fbp\n",
    "    \n",
    "    plt.figure(figsize=(15,10))\n",
    "    plt.subplot(121)\n",
    "    plt.imshow(rec['rec'], interpolation='nearest')\n",
    "    plt.title('VSIRT+TV')\n",
    "    plt.subplot(122)\n",
    "    plt.semilogy(rec['energy'])\n",
    "    plt.grid()\n",
    "    plt.show()\n",
    "    \n",
    "    with open('{}_{}_{}_vs_tv.pkl'.format(name, x_resize, ang_resize),'wb') as f:\n",
    "        pickle.dump(rec, f)\n",
    "    \n",
    "    del rec['x_k']\n",
    "    %xdel rec\n",
    "\n",
    "    #VCGLS\n",
    "    rec = RegVarSIRT.run(W, sino_noise, x0, Div, eps=eps, n_it=n_iter, step='CG')\n",
    "    rec['fbp'] = rec_fbp\n",
    "    \n",
    "    plt.figure(figsize=(15,10))\n",
    "    plt.subplot(121)\n",
    "    plt.imshow(rec['rec'], interpolation='nearest')\n",
    "    plt.title('VCGLS')\n",
    "    plt.subplot(122)\n",
    "    plt.semilogy(rec['energy'])\n",
    "    plt.grid()\n",
    "    plt.show()\n",
    "    \n",
    "    with open('{}_{}_{}_vcg.pkl'.format(name, x_resize, ang_resize),'wb') as f:\n",
    "        pickle.dump(rec, f)\n",
    "    \n",
    "    del rec['x_k']\n",
    "    %xdel rec\n",
    "\n",
    "    #VCGLS+TV\n",
    "    rec = RegVarSIRT.run(W, sino_noise, x0, Div, Lambda=Lambda, eps=eps, n_it=n_iter, step='CG')\n",
    "    rec['fbp'] = rec_fbp\n",
    "    \n",
    "    plt.figure(figsize=(15,10))\n",
    "    plt.subplot(121)\n",
    "    plt.imshow(rec['rec'], interpolation='nearest')\n",
    "    plt.title('VCGLS+TV')\n",
    "    plt.subplot(122)\n",
    "    plt.semilogy(rec['energy'])\n",
    "    plt.grid()\n",
    "    plt.show()\n",
    "    \n",
    "    with open('{}_{}_{}_vcg_tv.pkl'.format(name, x_resize, ang_resize),'wb') as f:\n",
    "        pickle.dump(rec, f)\n",
    "    \n",
    "    del rec['x_k']\n",
    "    %xdel rec \n"
   ]
  },
  {
   "cell_type": "code",
   "execution_count": null,
   "metadata": {
    "collapsed": true,
    "scrolled": false
   },
   "outputs": [],
   "source": [
    "from cycler import cycler\n",
    "for sinogram in log_progress(sinograms):\n",
    "    plt.figure(figsize=(8,8))\n",
    "    name = os.path.split(sinogram)[-1]\n",
    "    short_name=name.split('_')[2]\n",
    "    prefixes = ['s','cg']\n",
    "    prefixes.extend(['v'+p for p in prefixes])\n",
    "    prefixes.extend([p+'_tv' for p in prefixes])\n",
    "#     prefixes.extend([p+'_n' for p in prefixes])\n",
    "    \n",
    "    plt.rc('axes', prop_cycle=(cycler('color', ['r', 'g', 'b', 'y']*4)+\n",
    "                           cycler('linestyle', ['-']*4+ ['--']*4+['-']*4+ ['--']*4)+\n",
    "                           cycler('lw', [1]*8+ [2]*8)))\n",
    "    \n",
    "    for prefix in log_progress(prefixes):\n",
    "        if not os.path.exists('{}_2_2_{}.pkl'.format(name, prefix)):\n",
    "            print('NOT found {}'.format(prefix))\n",
    "            continue\n",
    "\n",
    "            \n",
    "        with open('{}_2_2_{}.pkl'.format(name, prefix),'rb') as f:\n",
    "            res = pickle.load(f)\n",
    "            \n",
    "        plt.semilogy(res['energy'], label='{}_{}'.format(short_name, prefix))\n",
    "        %xdel res\n",
    "        \n",
    "    plt.title('Energy')\n",
    "    plt.xlabel('Interation number')\n",
    "    plt.ylabel('a.u.')\n",
    "    plt.grid()\n",
    "    plt.legend(loc=0)\n",
    "    plt.savefig('{}_energy.png'.format(short_name))\n",
    "    plt.show()"
   ]
  },
  {
   "cell_type": "code",
   "execution_count": null,
   "metadata": {
    "collapsed": true,
    "scrolled": false
   },
   "outputs": [],
   "source": [
    "\n",
    "\n",
    "quality = {}\n",
    "for sinogram in log_progress(sinograms):    \n",
    "    mask = rec_reference>15\n",
    "    name = os.path.split(sinogram)[-1]\n",
    "    short_name=name.split('_')[2]\n",
    "    quality[short_name] = {}\n",
    "    \n",
    "    prefixes = ['s','cg']\n",
    "    prefixes.extend(['v'+p for p in prefixes])\n",
    "    prefixes.extend([p+'_tv' for p in prefixes])\n",
    "    prefixes.extend([p+'_n' for p in prefixes])\n",
    "    \n",
    "    for prefix in log_progress(prefixes):\n",
    "        quality[short_name][prefix] = {}\n",
    "        if not os.path.exists('{}_2_2_{}.pkl'.format(name, prefix)):\n",
    "            print('NOT found {}'.format(prefix))\n",
    "            continue\n",
    "            \n",
    "        with open('{}_2_2_{}.pkl'.format(name, prefix),'rb') as f:\n",
    "            res = pickle.load(f)\n",
    "            res['fbp'] = res['fbp']/4\n",
    "    \n",
    "        l1 = []\n",
    "        l2 = []\n",
    "        for i in range(len(res['x_k'])):\n",
    "            l1.append(diff(res['x_k'][i], rec_reference, 1))\n",
    "            l2.append(diff(res['x_k'][i], rec_reference, 2))\n",
    "        \n",
    "        quality[short_name][prefix]['l1'] = l1\n",
    "        quality[short_name][prefix]['l2'] = l2\n",
    "        \n",
    "        with open('quality_all.pkl','wb') as f:\n",
    "            pickle.dump(quality, f)\n",
    "            \n",
    "        pos_l1 = np.argmin(l1)\n",
    "        pos_l2 = np.argmin(l2)\n",
    "        \n",
    "        plt.figure(figsize=(10,5))\n",
    "        plt.plot(l1/np.max(l1), label='l1')\n",
    "        # plt.hlines(sp.linalg.norm(res['fbp'].ravel()-rec_reference.ravel(), 1)/np.max(l1), \n",
    "        #            0, len(l1), 'r', label='fbp L1')\n",
    "        plt.plot(l2/np.max(l2), label='l2')\n",
    "        # plt.hlines(sp.linalg.norm(res['fbp'].ravel()-rec_reference.ravel(), 2)/np.max(l2), \n",
    "        #            0, len(l2), label='fbp L2')\n",
    "        plt.legend(loc=0)\n",
    "        plt.ylabel('a.u.')\n",
    "        plt.xlabel('Iteration')\n",
    "        plt.title('{}  {}'.format(short_name, prefix))\n",
    "        plt.grid()\n",
    "        plt.savefig('quality_{}_{}.png'.format(short_name, prefix))\n",
    "        plt.show()\n",
    "        \n",
    "        plt.figure(figsize=(15,15))\n",
    "        plt.subplot(221)\n",
    "        plt.imshow(res['x_k'][pos_l2][600:800,400:600], interpolation='nearest', vmin=0, vmax=150)\n",
    "        plt.title('{}_{}_{}'.format(short_name, prefix,pos_l2))\n",
    "        plt.subplot(222)\n",
    "        plt.imshow(res['x_k'][-1][600:800,400:600], interpolation='nearest', vmin=0, vmax=150)\n",
    "        plt.title('{}_{}_{}'.format(short_name, prefix,len(l2)))\n",
    "        plt.subplot(223)\n",
    "        plt.imshow(res['fbp'][600:800,400:600], interpolation='nearest', vmin=0, vmax=150)\n",
    "        plt.title('{}_{}'.format(short_name, 'fbp'))\n",
    "        plt.subplot(224)\n",
    "        # plt.imshow(res['x_k'][50][600:800,400:600], interpolation='nearest', vmin=0, vmax=300)\n",
    "        plt.imshow(rec_reference[600:800,400:600], interpolation='nearest', vmin=0, vmax=150)\n",
    "        plt.title('{}_{}'.format(short_name, 'reference'))\n",
    "        \n",
    "        plt.savefig(plt.savefig('rec_{}_{}.png'.format(short_name, prefix)))\n",
    "        plt.show()\n",
    "        \n",
    "        \n",
    "        \n",
    "#     plt.title('Energy')\n",
    "#     plt.xtitle('Interation number')\n",
    "#     plt.ytitle('a.u.')\n",
    "#     plt.grid()\n",
    "#     plt.legend(loc=0)\n",
    "#     plt.savefig('{}_energy.png'.format(sinogram))\n",
    "#     plt.show()"
   ]
  },
  {
   "cell_type": "code",
   "execution_count": null,
   "metadata": {
    "collapsed": true,
    "scrolled": false
   },
   "outputs": [],
   "source": [
    "for k,v in quality.items():\n",
    "    plt.figure(figsize=(10,10))\n",
    "    plt.title(k)\n",
    "    for kk,vv in v.items():\n",
    "        if ('l2' in vv) and not (kk.endswith('n')):\n",
    "            plt.plot(vv['l2'], label = kk)\n",
    "        \n",
    "    plt.xlabel('Iterations')\n",
    "    plt.legend(loc=0)\n",
    "    plt.grid()\n",
    "    plt.savefig('quality_plot_l2_{}.png'.format(k))\n",
    "    plt.show()"
   ]
  },
  {
   "cell_type": "code",
   "execution_count": null,
   "metadata": {
    "collapsed": true,
    "scrolled": false
   },
   "outputs": [],
   "source": [
    "for k,v in quality.items():\n",
    "    plt.rc('axes', prop_cycle=(cycler('color', ['r', 'g', 'b', 'y']*2)+\n",
    "                       cycler('marker', ['o']*4+ ['x']*4)\n",
    "                       )\n",
    "          )\n",
    "    \n",
    "    plt.figure(figsize=(10,10))\n",
    "    plt.title(k)\n",
    "    \n",
    "    for kk,vv in v.items():\n",
    "        optimal = []\n",
    "        value = []\n",
    "        labels = []\n",
    "        if ('l2' in vv) and not (kk.endswith('n')):\n",
    "            optimal.append(np.argmin(vv['l2']))\n",
    "            value.append(np.min(vv['l2']))\n",
    "            labels.append(kk)\n",
    "            plt.plot(optimal[-1], value[-1] , label = labels[-1])\n",
    "        \n",
    "    plt.xlabel('Iterations')\n",
    "    plt.ylabel('Reconstruction error')\n",
    "    plt.legend(loc=0)\n",
    "    plt.grid()\n",
    "    plt.savefig('quality_plot_final_{}.png'.format(k))\n",
    "    plt.show()"
   ]
  },
  {
   "cell_type": "code",
   "execution_count": null,
   "metadata": {
    "collapsed": true
   },
   "outputs": [],
   "source": [
    "sinograms"
   ]
  },
  {
   "cell_type": "code",
   "execution_count": null,
   "metadata": {
    "collapsed": true
   },
   "outputs": [],
   "source": [
    "plt.figure(figsize=(12,10))\n",
    "plt.hist(rec_reference.ravel(), bins=1000);\n",
    "plt.vlines(14,0,100000)\n",
    "plt.grid()"
   ]
  },
  {
   "cell_type": "code",
   "execution_count": null,
   "metadata": {
    "collapsed": true
   },
   "outputs": [],
   "source": [
    "mask = rec_reference>15"
   ]
  },
  {
   "cell_type": "code",
   "execution_count": null,
   "metadata": {
    "collapsed": true
   },
   "outputs": [],
   "source": [
    "plt.plot([np.sum(x)*2 for x in res['x_k']])"
   ]
  },
  {
   "cell_type": "code",
   "execution_count": null,
   "metadata": {
    "collapsed": true
   },
   "outputs": [],
   "source": [
    "sino_noise.sum(axis=-1).mean()"
   ]
  },
  {
   "cell_type": "code",
   "execution_count": null,
   "metadata": {
    "collapsed": true
   },
   "outputs": [],
   "source": [
    "pg"
   ]
  },
  {
   "cell_type": "code",
   "execution_count": null,
   "metadata": {
    "collapsed": true
   },
   "outputs": [],
   "source": [
    "l1 = []\n",
    "l2 = []\n",
    "def diff(x0,x1,norm):\n",
    "    d0 = x0[mask>0].ravel()\n",
    "    d1 = x1[mask>0].ravel()\n",
    "    return sp.linalg.norm(d0-d1,norm)+sp.linalg.norm(x0[mask==0].ravel(),norm)\n",
    "                   \n",
    "for i in range(len(res['x_k'])):\n",
    "    l1.append(diff(res['x_k'][i], rec_reference, 1))\n",
    "    l2.append(diff(res['x_k'][i], rec_reference, 2))\n",
    "    \n",
    "plt.figure(figsize=(10,5))\n",
    "plt.plot(l1/np.max(l1), label='l1')\n",
    "# plt.hlines(sp.linalg.norm(res['fbp'].ravel()-rec_reference.ravel(), 1)/np.max(l1), \n",
    "#            0, len(l1), 'r', label='fbp L1')\n",
    "plt.plot(l2/np.max(l2), label='l2')\n",
    "# plt.hlines(sp.linalg.norm(res['fbp'].ravel()-rec_reference.ravel(), 2)/np.max(l2), \n",
    "#            0, len(l2), label='fbp L2')\n",
    "plt.legend(loc=0)\n",
    "plt.ylabel('a.u.')\n",
    "plt.x.label('Iteration')\n",
    "plt.grid()\n",
    "plt.show()\n",
    "\n",
    "pos_l1 = np.argmin(l1)\n",
    "pos_l2 = np.argmin(l2)"
   ]
  },
  {
   "cell_type": "code",
   "execution_count": null,
   "metadata": {
    "collapsed": true
   },
   "outputs": [],
   "source": [
    "skimage.io.imsave('test.tiff', skimage.img_as_float(res['x_k'][30]))"
   ]
  },
  {
   "cell_type": "code",
   "execution_count": null,
   "metadata": {
    "collapsed": true
   },
   "outputs": [],
   "source": [
    "short_name=name.split('_')[2]\n",
    "plt.figure(figsize=(10,10))\n",
    "# plt.imshow(res['x_k'][40], interpolation='nearest', vmin=0, vmax=300)\n",
    "plt.plot(rec_reference[500], label='reference')\n",
    "plt.plot(res['fbp'][500], label='fbp')\n",
    "plt.plot(res['x_k'][3][500], label='40')\n",
    "plt.title('{}_{}'.format(short_name, prefix))\n",
    "plt.legend(loc=0)\n",
    "plt.grid()\n",
    "plt.show()"
   ]
  },
  {
   "cell_type": "code",
   "execution_count": null,
   "metadata": {
    "collapsed": true
   },
   "outputs": [],
   "source": [
    "plt.plot(res['alpha'])\n",
    "plt.grid()"
   ]
  },
  {
   "cell_type": "code",
   "execution_count": null,
   "metadata": {
    "collapsed": true
   },
   "outputs": [],
   "source": [
    "for sinogram in log_progress([sinograms[0],]):    \n",
    "    mask = rec_reference>15\n",
    "    name = os.path.split(sinogram)[-1]\n",
    "    short_name=name.split('_')[2]\n",
    "    quality[short_name] = {}\n",
    "    \n",
    "    prefixes = ['cg',]\n",
    "\n",
    "    for prefix in log_progress(prefixes):\n",
    "        quality[short_name][prefix] = {}\n",
    "        if not os.path.exists('{}_2_2_{}.pkl'.format(name, prefix)):\n",
    "            print('NOT found {}'.format(prefix))\n",
    "            \n",
    "        with open('{}_2_2_{}.pkl'.format(name, prefix),'rb') as f:\n",
    "            res = pickle.load(f)\n",
    "            res['fbp'] = res['fbp']/4"
   ]
  },
  {
   "cell_type": "code",
   "execution_count": null,
   "metadata": {
    "collapsed": true
   },
   "outputs": [],
   "source": [
    "k"
   ]
  },
  {
   "cell_type": "code",
   "execution_count": null,
   "metadata": {
    "collapsed": true
   },
   "outputs": [],
   "source": [
    "import imp"
   ]
  },
  {
   "cell_type": "code",
   "execution_count": null,
   "metadata": {
    "collapsed": true
   },
   "outputs": [],
   "source": [
    "imp.reload(RegVarSIRT)"
   ]
  },
  {
   "cell_type": "code",
   "execution_count": null,
   "metadata": {
    "collapsed": true
   },
   "outputs": [],
   "source": [
    "for sinogram in log_progress([sinograms[-1],]):\n",
    "    x_resize = 2\n",
    "    ang_resize = 2\n",
    "    name = os.path.split(sinogram)[-1]\n",
    "    print(name)\n",
    "    pg, vg , sino_noise = load_data(sinogram, x_resize, ang_resize)\n",
    "    \n",
    "    # estimate noise\n",
    "    D = 1.0 * (0.05 + (sino_noise/65535.)**2)\n",
    "    Div = 1.0 / D\n",
    "    \n",
    "    plt.figure(figsize=(15,15))\n",
    "    plt.imshow(sino_noise, cmap='gray')\n",
    "    plt.colorbar(orientation='horizontal')\n",
    "    plt.show()\n",
    "    \n",
    "    proj_id = astra.create_projector('cuda', pg, vg)\n",
    "    W = astra.OpTomo(proj_id)\n",
    "    x0 = np.zeros((sino_noise.shape[1], sino_noise.shape[1]))\n",
    "    \n",
    "    k = sino_noise.shape[0]/pg['DetectorWidth']**2/(np.pi/2)\n",
    "    rec_fbp = alg.gpu_fbp(pg, vg, sino_noise)*k*x_resize * 2  # fixit\n",
    "    \n",
    "    eps = 1e-10\n",
    "    n_iter = 20\n",
    "\n",
    "    Lambda=4.\n",
    "\n",
    "   \n",
    "    rec = RegVarSIRT.run(W, sino_noise, np.zeros_like(x0), eps=eps, n_it=3, step='CG')\n",
    "    x0 = rec['rec']\n",
    "    \n",
    "    #VCGLS+TV\n",
    "    rec = RegVarSIRT.run(W, sino_noise, x0, Div, Lambda=Lambda, eps=eps, n_it=n_iter, step='CG', normalize=True)\n",
    "    rec['fbp'] = rec_fbp\n",
    "    \n",
    "    plt.figure(figsize=(15,10))\n",
    "    plt.subplot(121)\n",
    "    plt.imshow(rec['rec'][600:800,400:600], interpolation='nearest',vmin=0,vmax=150)\n",
    "    plt.title('VCGLS+TV')\n",
    "    plt.subplot(122)\n",
    "    plt.semilogy(rec['energy'])\n",
    "    plt.grid()\n",
    "    plt.show()\n"
   ]
  },
  {
   "cell_type": "code",
   "execution_count": null,
   "metadata": {
    "collapsed": true
   },
   "outputs": [],
   "source": [
    "    plt.figure(figsize=(15,10))\n",
    "    plt.subplot(121)\n",
    "    plt.imshow(rec['rec'][600:800,400:600], interpolation='nearest',vmin=0,vmax=150)\n",
    "    plt.title('VCGLS+TV')\n",
    "    plt.subplot(122)\n",
    "    plt.semilogy(rec['energy'])\n",
    "    plt.grid()\n",
    "    plt.show()"
   ]
  },
  {
   "cell_type": "code",
   "execution_count": null,
   "metadata": {
    "collapsed": true,
    "scrolled": true
   },
   "outputs": [],
   "source": [
    "for sinogram in log_progress([sinograms[-1],]):\n",
    "    x_resize = 2\n",
    "    ang_resize = 2\n",
    "    name = os.path.split(sinogram)[-1]\n",
    "    print(name)\n",
    "    pg, vg , sino_noise = load_data(sinogram, x_resize, ang_resize)\n",
    "    \n",
    "    # estimate noise\n",
    "    D = 1.0 * (0.05 + (sino_noise/65535.)**2)\n",
    "    Div = 1.0 / D\n",
    "    \n",
    "    plt.figure(figsize=(15,15))\n",
    "    plt.imshow(sino_noise, cmap='gray')\n",
    "    plt.colorbar(orientation='horizontal')\n",
    "    plt.show()\n",
    "    \n",
    "    proj_id = astra.create_projector('cuda', pg, vg)\n",
    "    W = astra.OpTomo(proj_id)\n",
    "    x0 = np.zeros((sino_noise.shape[1], sino_noise.shape[1]))\n",
    "    \n",
    "    k = sino_noise.shape[0]/pg['DetectorWidth']**2/(np.pi/2)\n",
    "    rec_fbp = alg.gpu_fbp(pg, vg, sino_noise)*k*x_resize * 2  # fixit\n",
    "    \n",
    "\n",
    "    eps = 1e-10\n",
    "    n_iter = 200\n",
    "\n",
    "    Lambda=4.\n",
    "\n",
    "    #SIRT\n",
    "    rec = RegVarSIRT.run(W, sino_noise, np.zeros_like(x0), eps=eps, n_it=n_iter,\n",
    "                         step='steepest', normalize=True)\n",
    "    rec['fbp'] = rec_fbp\n",
    "    \n",
    "    plt.figure(figsize=(15,10))\n",
    "    plt.subplot(121)\n",
    "    plt.imshow(rec['rec'], interpolation='nearest')\n",
    "    plt.title('SIRT')\n",
    "    plt.subplot(122)\n",
    "    plt.semilogy(rec['energy'])\n",
    "    plt.grid()\n",
    "    plt.show()\n",
    "    \n",
    "    with open('{}_{}_{}_s_n.pkl'.format(name, x_resize, ang_resize),'wb') as f:\n",
    "        pickle.dump(rec, f)\n",
    "    del rec['x_k']\n",
    "    %xdel rec\n",
    "\n",
    "    #SIRT+TV\n",
    "    rec = RegVarSIRT.run(W, sino_noise, np.zeros_like(x0), Lambda=Lambda, eps=eps, n_it=n_iter,\n",
    "                         step='steepest', normalize=True)\n",
    "    rec['fbp'] = rec_fbp\n",
    "    \n",
    "    plt.figure(figsize=(15,10))\n",
    "    plt.subplot(121)\n",
    "    plt.imshow(rec['rec'], interpolation='nearest')\n",
    "    plt.title('SIRT+TV')\n",
    "    plt.subplot(122)\n",
    "    plt.semilogy(rec['energy'])\n",
    "    plt.grid()\n",
    "    plt.show()\n",
    "    \n",
    "    with open('{}_{}_{}_s_tv_n.pkl'.format(name, x_resize, ang_resize),'wb') as f:\n",
    "        pickle.dump(rec, f)\n",
    "    del rec['x_k']\n",
    "    %xdel rec\n",
    "\n",
    "    #CGLS\n",
    "    rec = RegVarSIRT.run(W, sino_noise, np.zeros_like(x0), eps=eps, n_it=n_iter,\n",
    "                         step='CG', normalize=True)\n",
    "    rec['fbp'] = rec_fbp\n",
    "    \n",
    "    plt.figure(figsize=(15,10))\n",
    "    plt.subplot(121)\n",
    "    plt.imshow(rec['rec'], interpolation='nearest')\n",
    "    plt.title('CGLS')\n",
    "    plt.subplot(122)\n",
    "    plt.semilogy(rec['energy'])\n",
    "    plt.grid()\n",
    "    plt.show()\n",
    "    \n",
    "    with open('{}_{}_{}_cg_n.pkl'.format(name, x_resize, ang_resize),'wb') as f:\n",
    "        pickle.dump(rec, f)\n",
    "    del rec['x_k']\n",
    "    %xdel rec\n",
    "\n",
    "    #CGLS+TV\n",
    "    rec = RegVarSIRT.run(W, sino_noise, np.zeros_like(x0), Lambda=Lambda, eps=eps, n_it=n_iter,\n",
    "                         step='CG', normalize=True)\n",
    "    rec['fbp'] = rec_fbp\n",
    "    \n",
    "    plt.figure(figsize=(15,10))\n",
    "    plt.subplot(121)\n",
    "    plt.imshow(rec['rec'], interpolation='nearest')\n",
    "    plt.title('CGLS+TV')\n",
    "    plt.subplot(122)\n",
    "    plt.semilogy(rec['energy'])\n",
    "    plt.grid()\n",
    "    plt.show()\n",
    "    \n",
    "    with open('{}_{}_{}_cg_tv_n.pkl'.format(name, x_resize, ang_resize),'wb') as f:\n",
    "        pickle.dump(rec, f)\n",
    "    del rec['x_k']\n",
    "    %xdel rec \n",
    "    \n",
    "    rec = RegVarSIRT.run(W, sino_noise, np.zeros_like(x0), eps=eps, n_it=3,\n",
    "                         step='CG', normalize=True)\n",
    "    x0 = rec['rec']\n",
    "    \n",
    "    #VSIRT\n",
    "    rec = RegVarSIRT.run(W, sino_noise, x0, Div, eps=eps, n_it=n_iter,\n",
    "                         step='steepest', normalize=True)\n",
    "    rec['fbp'] = rec_fbp\n",
    "    \n",
    "    plt.figure(figsize=(15,10))\n",
    "    plt.subplot(121)\n",
    "    plt.imshow(rec['rec'], interpolation='nearest')\n",
    "    plt.title('VSIRT')\n",
    "    plt.subplot(122)\n",
    "    plt.semilogy(rec['energy'])\n",
    "    plt.grid()\n",
    "    plt.show()\n",
    "    \n",
    "    with open('{}_{}_{}_vs_n.pkl'.format(name, x_resize, ang_resize),'wb') as f:\n",
    "        pickle.dump(rec, f)\n",
    "        \n",
    "    del rec['x_k']\n",
    "    %xdel rec\n",
    "\n",
    "    #VSIRT+TV\n",
    "    rec = RegVarSIRT.run(W, sino_noise, x0, Div, Lambda=Lambda, eps=eps, n_it=n_iter,\n",
    "                         step='steepest', normalize=True)\n",
    "    rec['fbp'] = rec_fbp\n",
    "    \n",
    "    plt.figure(figsize=(15,10))\n",
    "    plt.subplot(121)\n",
    "    plt.imshow(rec['rec'], interpolation='nearest')\n",
    "    plt.title('VSIRT+TV')\n",
    "    plt.subplot(122)\n",
    "    plt.semilogy(rec['energy'])\n",
    "    plt.grid()\n",
    "    plt.show()\n",
    "    \n",
    "    with open('{}_{}_{}_vs_tv_n.pkl'.format(name, x_resize, ang_resize),'wb') as f:\n",
    "        pickle.dump(rec, f)\n",
    "    \n",
    "    del rec['x_k']\n",
    "    %xdel rec\n",
    "\n",
    "    #VCGLS\n",
    "    rec = RegVarSIRT.run(W, sino_noise, x0, Div, eps=eps, n_it=n_iter,\n",
    "                         step='CG', normalize=True)\n",
    "    rec['fbp'] = rec_fbp\n",
    "    \n",
    "    plt.figure(figsize=(15,10))\n",
    "    plt.subplot(121)\n",
    "    plt.imshow(rec['rec'], interpolation='nearest')\n",
    "    plt.title('VCGLS')\n",
    "    plt.subplot(122)\n",
    "    plt.semilogy(rec['energy'])\n",
    "    plt.grid()\n",
    "    plt.show()\n",
    "    \n",
    "    with open('{}_{}_{}_vcg_n.pkl'.format(name, x_resize, ang_resize),'wb') as f:\n",
    "        pickle.dump(rec, f)\n",
    "    \n",
    "    del rec['x_k']\n",
    "    %xdel rec\n",
    "\n",
    "    #VCGLS+TV\n",
    "    rec = RegVarSIRT.run(W, sino_noise, x0, Div, Lambda=Lambda, eps=eps, n_it=n_iter,\n",
    "                         step='CG', normalize=True)\n",
    "    rec['fbp'] = rec_fbp\n",
    "    \n",
    "    plt.figure(figsize=(15,10))\n",
    "    plt.subplot(121)\n",
    "    plt.imshow(rec['rec'], interpolation='nearest')\n",
    "    plt.title('VCGLS+TV')\n",
    "    plt.subplot(122)\n",
    "    plt.semilogy(rec['energy'])\n",
    "    plt.grid()\n",
    "    plt.show()\n",
    "    \n",
    "    with open('{}_{}_{}_vcg_tv_n.pkl'.format(name, x_resize, ang_resize),'wb') as f:\n",
    "        pickle.dump(rec, f)\n",
    "    \n",
    "    del rec['x_k']\n",
    "    %xdel rec \n"
   ]
  },
  {
   "cell_type": "code",
   "execution_count": null,
   "metadata": {
    "collapsed": true
   },
   "outputs": [],
   "source": [
    "from cycler import cycler\n",
    "for sinogram in log_progress([sinograms[-1],]):\n",
    "    plt.figure(figsize=(8,8))\n",
    "    name = os.path.split(sinogram)[-1]\n",
    "    short_name=name.split('_')[2]\n",
    "    prefixes = ['s','cg']\n",
    "    prefixes.extend(['v'+p for p in prefixes])\n",
    "    prefixes.extend([p+'_tv' for p in prefixes])\n",
    "    prefixes.extend([p+'_n' for p in prefixes])\n",
    "    \n",
    "    plt.rc('axes', prop_cycle=(cycler('color', ['r', 'g', 'b', 'y']*4)+\n",
    "                           cycler('linestyle', ['-']*4+ ['--']*4+['-']*4+ ['--']*4)+\n",
    "                           cycler('lw', [1]*8+ [2]*8)))\n",
    "    \n",
    "    for prefix in log_progress(prefixes):\n",
    "        if not os.path.exists('{}_2_2_{}.pkl'.format(name, prefix)):\n",
    "            print('NOT found {}'.format(prefix))\n",
    "\n",
    "            \n",
    "        with open('{}_2_2_{}.pkl'.format(name, prefix),'rb') as f:\n",
    "            res = pickle.load(f)\n",
    "            \n",
    "        plt.semilogy(res['energy'], label='{}_{}'.format(short_name, prefix))\n",
    "        %xdel res\n",
    "        \n",
    "    plt.title('Energy')\n",
    "    plt.xlabel('Interation number')\n",
    "    plt.ylabel('a.u.')\n",
    "    plt.grid()\n",
    "    plt.legend(loc=0)\n",
    "    plt.savefig('{}_energy.png'.format(short_name))\n",
    "    plt.show()"
   ]
  },
  {
   "cell_type": "code",
   "execution_count": null,
   "metadata": {
    "collapsed": true
   },
   "outputs": [],
   "source": [
    "%%javascript\n",
    "var nb = IPython.notebook;\n",
    "var kernel = IPython.notebook.kernel;\n",
    "var command = \"NOTEBOOK_FULL_PATH = '\" + nb.notebook_path + \"'\";\n",
    "kernel.execute(command);"
   ]
  },
  {
   "cell_type": "code",
   "execution_count": null,
   "metadata": {
    "collapsed": true
   },
   "outputs": [],
   "source": [
    "!git add \"{os.path.split(NOTEBOOK_FULL_PATH)[-1]}\""
   ]
  },
  {
   "cell_type": "code",
   "execution_count": null,
   "metadata": {
    "collapsed": true
   },
   "outputs": [],
   "source": []
  }
 ],
 "metadata": {
  "kernelspec": {
   "display_name": "Python 3",
   "language": "python",
   "name": "python3"
  },
  "language_info": {
   "codemirror_mode": {
    "name": "ipython",
    "version": 3
   },
   "file_extension": ".py",
   "mimetype": "text/x-python",
   "name": "python",
   "nbconvert_exporter": "python",
   "pygments_lexer": "ipython3",
   "version": "3.6.2"
  }
 },
 "nbformat": 4,
 "nbformat_minor": 2
}
