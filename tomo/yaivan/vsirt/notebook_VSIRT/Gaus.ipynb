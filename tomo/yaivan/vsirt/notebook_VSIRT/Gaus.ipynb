{
 "cells": [
  {
   "cell_type": "code",
   "execution_count": null,
   "metadata": {
    "collapsed": true
   },
   "outputs": [],
   "source": [
    "%matplotlib inline\n",
    "# %xmode verbose"
   ]
  },
  {
   "cell_type": "code",
   "execution_count": null,
   "metadata": {
    "collapsed": true
   },
   "outputs": [],
   "source": [
    "import numpy as np\n",
    "import matplotlib.pyplot as plt\n",
    "import astra\n",
    "import alg\n",
    "import RegVarSIRT"
   ]
  },
  {
   "cell_type": "code",
   "execution_count": null,
   "metadata": {
    "collapsed": true
   },
   "outputs": [],
   "source": [
    "def err_l2(img, rec):\n",
    "    return np.sum((img - rec)**2) / (rec.shape[0] * rec.shape[1])"
   ]
  },
  {
   "cell_type": "code",
   "execution_count": null,
   "metadata": {},
   "outputs": [],
   "source": [
    "# make phantom\n",
    "size = 512\n",
    "mu1 = 0.006\n",
    "mu2 = 0.005\n",
    "mu3 = 0.004\n",
    "phantom = np.zeros((size, size))\n",
    "half_s = size / 2\n",
    "\n",
    "y, x = np.meshgrid(range(size), range(size))\n",
    "xx = (x - half_s).astype('float32')\n",
    "yy = (y - half_s).astype('float32')\n",
    "  \n",
    "mask_ell1 = pow(xx + 0.1*size, 2)/np.power(0.35*size, 2) + pow(yy, 2)/np.power(0.15*size, 2) <= 1\n",
    "mask_ell2 = pow(xx - 0.15*size, 2)/np.power(0.3*size, 2) + pow(yy - 0.15*size, 2)/np.power(0.15*size, 2) <= 1 \n",
    "phantom[mask_ell1] = mu1\n",
    "phantom[mask_ell2] = mu2\n",
    "phantom[np.logical_and(mask_ell1, mask_ell2)] = mu3\n",
    "phantom[int(0.15*size):int(0.35*size), int(0.2*size):int(0.5*size)] = mu3 \n",
    "phantom[int(0.20*size):int(0.25*size), int(0.25*size):int(0.3*size)] = 0\n",
    "phantom[int(0.30*size):int(0.35*size), int(0.35*size):int(0.4*size)] = mu1*10\n",
    "phantom = 1e+1 * phantom\n",
    "\n",
    "# make sinogram\n",
    "n_angles = size//2\n",
    "angles = np.arange(0.0, 180.0,  180.0 / n_angles)\n",
    "angles = angles.astype('float32') / 180 * np.pi\n",
    "\n",
    "pg = astra.create_proj_geom('parallel', 1.0, size, angles)\n",
    "vg = astra.create_vol_geom((size, size))\n",
    "sino = alg.gpu_fp(pg, vg, phantom)\n",
    "print(sino.min(), sino.max())"
   ]
  },
  {
   "cell_type": "code",
   "execution_count": null,
   "metadata": {},
   "outputs": [],
   "source": [
    "# estimate noise\n",
    "D = sino.copy()\n",
    "D = 1.0 * (0.05 + sino**2/100.0)\n",
    "sino_noise = np.random.normal(sino, D)\n",
    "print(sino_noise.min(), sino_noise.max())\n",
    "Div = 1.0 / D"
   ]
  },
  {
   "cell_type": "code",
   "execution_count": null,
   "metadata": {},
   "outputs": [],
   "source": [
    "proj_id = astra.create_projector('cuda', pg, vg)\n",
    "W = astra.OpTomo(proj_id)\n",
    "x0 = np.zeros_like(phantom)\n",
    "rec_fbp = alg.gpu_fbp(pg, vg, sino_noise)\n",
    "eps = 1e-10\n",
    "n_iter = 10\n",
    "\n",
    "Lambda=2.\n",
    "\n",
    "#SIRT\n",
    "rec_1 = RegVarSIRT.run(W, sino_noise, x0, eps=eps, n_it=n_iter, step='steepest')\n",
    "al1 = rec_1['alpha']\n",
    "en1 = rec_1['energy']\n",
    "print(rec_1['iter'])\n",
    "rec_s = rec_1['rec']\n",
    "\n",
    "#SIRT+TV\n",
    "rec_4 = RegVarSIRT.run(W, sino_noise, rec_s, Lambda=Lambda, eps=eps, n_it=n_iter, step='steepest')\n",
    "al4 = rec_1['alpha']\n",
    "en4 = rec_1['energy']\n",
    "print(rec_1['iter'])\n",
    "rec_st = rec_1['rec']\n",
    "\n",
    "\n",
    "#VSIRT\n",
    "rec_2 = RegVarSIRT.run(W, sino_noise, rec_st, Div, eps=eps, n_it=n_iter, step='steepest')\n",
    "al2 = rec_2['alpha']\n",
    "en2 = rec_2['energy']\n",
    "print(rec_2['iter'])\n",
    "rec_v = rec_2['rec']\n",
    "\n",
    "#VSIRT+TV\n",
    "rec_3 = RegVarSIRT.run(W, sino_noise, rec_st, Div, Lambda=Lambda, eps=eps, n_it=n_iter*100, step='steepest')\n",
    "al3 = rec_3['alpha']\n",
    "en3 = rec_3['energy']\n",
    "print(rec_3['iter'])\n",
    "rec_vt = rec_3['rec']\n",
    "\n",
    "\n",
    "astra.projector.delete(proj_id)"
   ]
  },
  {
   "cell_type": "code",
   "execution_count": null,
   "metadata": {
    "scrolled": false
   },
   "outputs": [],
   "source": [
    "er_v = err_l2(phantom, rec_v)\n",
    "er_vt = err_l2(phantom, rec_vt)\n",
    "er_s = err_l2(phantom, rec_s)\n",
    "er_st = err_l2(phantom, rec_st)\n",
    "er_fbp = err_l2(phantom, rec_fbp)\n",
    "\n",
    "# miv = rec_1.min()\n",
    "# if (miv > rec_2.min()):\n",
    "#     miv = rec_2.min()\n",
    "    \n",
    "# mav = rec_1.max()\n",
    "# if (mav < rec_2.max()):\n",
    "#     mav = rec_2.max()\n",
    "\n",
    "miv, mav = 0, 0.1\n",
    "\n",
    "sino_new = sino_noise * Div\n",
    "\n",
    "plt.figure(figsize=(15,15))\n",
    "plt.subplot(3,3,1)\n",
    "plt.imshow(sino_noise, interpolation=None, cmap=\"gray\")\n",
    "plt.title('a) Noisy sinogram', loc='left')\n",
    "plt.colorbar(ticks=[sino_noise.min(), sino_noise.max()/3, 2*sino_noise.max()/1, sino_noise.max()], orientation ='horizontal');\n",
    "\n",
    "plt.subplot(3,3,2)\n",
    "plt.imshow(D, interpolation=None, cmap=\"gray\")\n",
    "plt.title('b) STD', loc='left')\n",
    "plt.colorbar(ticks=[D.min(), D.max()/3, 2*D.max()/3, D.max()], orientation ='horizontal');\n",
    "\n",
    "plt.subplot(3,3,3)\n",
    "plt.imshow(sino_new, interpolation=None, cmap=\"gray\")\n",
    "plt.title('c) Sinogram / STD', loc='left')\n",
    "plt.colorbar(ticks=[sino_new.min(), sino_new.max()/3, 2*sino_new.max()/3, sino_new.max()], orientation ='horizontal')\n",
    "\n",
    "plt.subplot(3,3,4)\n",
    "plt.imshow(phantom, interpolation=None, cmap=\"gray\", vmin=miv, vmax=mav)\n",
    "plt.title('d) Phantom', loc='left')\n",
    "plt.colorbar(orientation ='horizontal');\n",
    "\n",
    "plt.subplot(3,3,5)\n",
    "plt.imshow(rec_s, interpolation=None, cmap=\"gray\", vmin=miv, vmax=mav)\n",
    "plt.title('e) SIRT, Err=' + str('{:0.2e}'.format(er_s)), loc='left')\n",
    "plt.colorbar(orientation ='horizontal');\n",
    "\n",
    "plt.subplot(3,3,6)\n",
    "plt.imshow(rec_v, interpolation=None, cmap=\"gray\", vmin=miv, vmax=mav)\n",
    "plt.title('f) VarSIRT, Err=' + str('{:0.2e}'.format(er_v)), loc='left')\n",
    "plt.colorbar(orientation ='horizontal');\n",
    "\n",
    "plt.subplot(3,3,7)\n",
    "plt.imshow(rec_fbp, interpolation=None, cmap=\"gray\", vmin=miv, vmax=mav)\n",
    "plt.title('g) FBP, Err=' + str('{:0.2e}'.format(er_fbp)), loc='left')\n",
    "plt.colorbar(orientation ='horizontal');\n",
    "\n",
    "plt.subplot(3,3,8)\n",
    "plt.imshow(rec_st, interpolation=None, cmap=\"gray\", vmin=miv, vmax=mav)\n",
    "plt.title('g) SIRT+TV, Err=' + str('{:0.2e}'.format(er_st)), loc='left')\n",
    "plt.colorbar(orientation ='horizontal');\n",
    "\n",
    "plt.subplot(3,3,9)\n",
    "plt.imshow(rec_vt, interpolation=None, cmap=\"gray\", vmin=miv, vmax=mav)\n",
    "plt.title('g) VarSIRT+TV, Err=' + str('{:0.2e}'.format(er_vt)), loc='left')\n",
    "plt.colorbar(orientation ='horizontal');"
   ]
  },
  {
   "cell_type": "code",
   "execution_count": null,
   "metadata": {},
   "outputs": [],
   "source": [
    "f2 = plt.figure(figsize=(10,7))    \n",
    "plt.semilogy(en1, label=\"SIRT\", linewidth=1.0)\n",
    "plt.semilogy(en2, label=\"VSIRT\", linewidth=1.0)\n",
    "plt.semilogy(en3, label=\"VSIRT+TV\", linewidth=1.0)\n",
    "plt.semilogy(en4, label=\"SIRT+TV\", linewidth=1.0)\n",
    "\n",
    "plt.grid(True)\n",
    "plt.ylabel('Value, a.u.')\n",
    "plt.xlabel('Iteration number, a.u.')\n",
    "plt.legend(loc='best');\n",
    "# plt.savefig(\"10_sr.png\")\n",
    "# plt.show()"
   ]
  },
  {
   "cell_type": "code",
   "execution_count": null,
   "metadata": {},
   "outputs": [],
   "source": [
    "plt.semilogy(al1, label=\"SIRT\", linewidth=1.0)\n",
    "plt.semilogy(al2, label=\"VSIRT\", linewidth=1.0)\n",
    "plt.semilogy(al3, label=\"VSIRT-TV\", linewidth=1.0)\n",
    "plt.semilogy(al4, label=\"SIRT-TV\", linewidth=1.0)\n",
    "plt.grid(True)\n",
    "plt.ylabel('Value, a.u.')\n",
    "plt.xlabel('Iteration number, a.u.')\n",
    "plt.legend(loc='best');"
   ]
  },
  {
   "cell_type": "code",
   "execution_count": null,
   "metadata": {
    "scrolled": false
   },
   "outputs": [],
   "source": [
    "for i in np.hstack([np.arange(1,20),np.arange(20,100,10),np.arange(100,5000,100)]):\n",
    "    try:\n",
    "        plt.figure(figsize=(15,5))\n",
    "        plt.subplot(151)\n",
    "        plt.imshow(rec_fbp, cmap='gray', vmin=0, vmax=0.1)\n",
    "        plt.title('FBP {}'.format(i))\n",
    "        plt.subplot(152)\n",
    "        plt.imshow(plt.imread('s_{:004}.png'.format(i)).sum(axis=-1), cmap='gray')\n",
    "        plt.title('SIRT {}'.format(i))\n",
    "        plt.subplot(153)\n",
    "        plt.imshow(plt.imread('s_tv_{:004}.png'.format(i)).sum(axis=-1), cmap='gray')\n",
    "        plt.title('SIRT+TV {}'.format(i))\n",
    "        plt.subplot(154)\n",
    "        plt.imshow(plt.imread('v_{:004}.png'.format(i)).sum(axis=-1), cmap='gray')\n",
    "        plt.title('VSIRT {}'.format(i))\n",
    "        plt.subplot(155)\n",
    "        plt.imshow(plt.imread('v_tv_{:004}.png'.format(i)).sum(axis=-1), cmap='gray')\n",
    "        plt.title('VSIRT+TV {}'.format(i))\n",
    "        plt.show()\n",
    "    except:\n",
    "        plt.close()"
   ]
  },
  {
   "cell_type": "code",
   "execution_count": null,
   "metadata": {
    "collapsed": true
   },
   "outputs": [],
   "source": [
    "# !zsh -c \"rm {s,v}_*.png\""
   ]
  }
 ],
 "metadata": {
  "kernelspec": {
   "display_name": "Python 3",
   "language": "python",
   "name": "python3"
  },
  "language_info": {
   "codemirror_mode": {
    "name": "ipython",
    "version": 3
   },
   "file_extension": ".py",
   "mimetype": "text/x-python",
   "name": "python",
   "nbconvert_exporter": "python",
   "pygments_lexer": "ipython3",
   "version": "3.6.2"
  }
 },
 "nbformat": 4,
 "nbformat_minor": 2
}
