{
 "cells": [
  {
   "cell_type": "code",
   "execution_count": null,
   "metadata": {
    "collapsed": true
   },
   "outputs": [],
   "source": [
    "%matplotlib inline"
   ]
  },
  {
   "cell_type": "code",
   "execution_count": null,
   "metadata": {
    "collapsed": true
   },
   "outputs": [],
   "source": [
    "import pylab as plt\n",
    "import numpy as np \n",
    "import astra\n",
    "\n",
    "import alg \n",
    "import VarSIRT"
   ]
  },
  {
   "cell_type": "code",
   "execution_count": null,
   "metadata": {
    "collapsed": true
   },
   "outputs": [],
   "source": [
    "def STD(x):\n",
    "    return 1.1e-7 * x * x + 165.\n",
    "\n",
    "def load_data(path_sino):\n",
    "    sinogram = plt.imread(path_sino)\n",
    "    if len(sinogram.shape) == 3:\n",
    "        sinogram = sinogram[...,0]\n",
    "    sinogram = np.flipud(sinogram)\n",
    "    sinogram = sinogram.astype('float32')\n",
    "    sinogram = sinogram[::, :]\n",
    "    \n",
    "#     fig = plt.figure(figsize=(20,20))\n",
    "#     a=fig.add_subplot(1,1,1)\n",
    "#     imgplot = plt.imshow(sinogram, interpolation=None, cmap=\"gray\")\n",
    "#     plt.colorbar(orientation='horizontal')\n",
    "#     plt.show()\n",
    "#     plt.savefig(\"sinogram.png\")\n",
    "#     plt.close(fig)\n",
    "\n",
    "    detector_cell = sinogram.shape[1]\n",
    "    n_angles = sinogram.shape[0] \n",
    "\n",
    "    '''\n",
    "    Image Pixel Size (um)=11.000435\n",
    "    Object to Source (mm)=54.350\n",
    "    Camera to Source (mm)=225.315\n",
    "    '''\n",
    "    pixel_size = 11.000435e-3\n",
    "    os_distance = 54. / pixel_size\n",
    "    ds_distance = 225.315 / pixel_size\n",
    "\n",
    "    angles = np.arange(n_angles) * 0.4\n",
    "    angles = angles.astype('float32') / 180.0 * np.pi\n",
    "    angles = angles - (angles.max() + angles.min()) / 2\n",
    "    angles = angles + np.pi / 2\n",
    "\n",
    "    vol_geom = astra.create_vol_geom(detector_cell, detector_cell)\n",
    "    proj_geom = astra.create_proj_geom('fanflat', ds_distance / os_distance, detector_cell, angles,\n",
    "                                                                        os_distance, (ds_distance - os_distance))\n",
    "    return proj_geom, vol_geom, sinogram\n",
    "\n",
    "def recontructr(proj_geom, vol_geom, sinogram):\n",
    "    k = sinogram.shape[0]/proj_geom['DetectorWidth']**2/(np.pi/2)\n",
    "    rec_fbp = alg.gpu_fbp(proj_geom, vol_geom, sinogram)\n",
    "    rec_fbp *= k\n",
    "    rec_sirt = alg.gpu_sirt(proj_geom, vol_geom, sinogram, rec_fbp, 3000)\n",
    "    return rec_fbp, rec_sirt\n",
    "\n",
    "def rec_VSIRT(proj_geom, vol_geom, sinogram, rec_fbp, D):\n",
    "#     V = sinogram.copy()\n",
    "    V = 1.0 / D #STD(V) \n",
    "\n",
    "    fig = plt.figure(figsize=(20,20))\n",
    "    a=fig.add_subplot(1,1,1)\n",
    "    imgplot = plt.imshow(V, interpolation=None, cmap=\"gray\")\n",
    "    plt.colorbar(orientation='horizontal');\n",
    "    plt.savefig(\"STD.png\")\n",
    "    plt.close(fig)\n",
    "\n",
    "    sino_new = sinogram * V\n",
    "    proj_id = astra.create_projector('cuda', proj_geom, vol_geom)\n",
    "    W = astra.OpTomo(proj_id)\n",
    "    eps = 1e-30\n",
    "\n",
    "    x0 = np.copy(rec_fbp)\n",
    "    rec_vsirt = VarSIRT.run(W, sino_new, V, x0, eps, 3000, 'steepest')\n",
    "    en_1 = rec_vsirt['energy']\n",
    "    rec_vsirt = rec_vsirt['rec']\n",
    "    \n",
    "    en_1 = np.asarray(en_1)\n",
    "    x = np.arange(0, len(en_1))\n",
    "    fig = plt.figure() \n",
    "    plt.semilogy(x, en_1, label=\"energy\", linewidth=3.0)\n",
    "    plt.grid(True)\n",
    "    plt.ylabel('Value, a.u.')\n",
    "    plt.xlabel('Number of iterations, a.u.')\n",
    "    plt.legend(loc='best');\n",
    "    plt.savefig(\"conv.png\")\n",
    "    return rec_vsirt\n",
    "\n",
    "def plot_result(rec_fbp, rec_sirt, rec_vsirt):\n",
    "    rec_fbp = np.flipud(rec_fbp)\n",
    "    rec_sirt = np.flipud(rec_sirt)\n",
    "    rec_vsirt = np.flipud(rec_vsirt)\n",
    "    \n",
    "    plt.imsave('FBP.png', rec_fbp, cmap=\"gray\")\n",
    "    plt.imsave('SIRT.png', rec_sirt, cmap=\"gray\")\n",
    "    plt.imsave('VarSIRT.png', rec_vsirt, cmap=\"gray\")\n",
    "    \n",
    "    s_x = 500\n",
    "    s_y = 500\n",
    "    e_x = 650\n",
    "    e_y = 650\n",
    "    fig = plt.figure(figsize=(10,4))\n",
    "    a=fig.add_subplot(1,3,1)\n",
    "    imgplot = plt.imshow(rec_vsirt[s_x:e_x, s_y:e_y], interpolation=None, cmap=\"gray\")\n",
    "    a.set_title('VarSIRT')\n",
    "    plt.colorbar(orientation='horizontal');\n",
    "    a=fig.add_subplot(1,3,2)\n",
    "    imgplot = plt.imshow(rec_sirt[s_x:e_x, s_y:e_y], interpolation=None, cmap=\"gray\")\n",
    "    a.set_title('SIRT')\n",
    "    plt.colorbar(orientation ='horizontal');\n",
    "    a=fig.add_subplot(1,3,3)\n",
    "    imgplot = plt.imshow(rec_vsirt[s_x:e_x, s_y:e_y] - rec_sirt[s_x:e_x, s_y:e_y], interpolation=None, cmap=\"gray\")\n",
    "    a.set_title('VarSIRT - SIRT')\n",
    "    plt.colorbar(orientation ='horizontal');\n",
    "    plt.savefig(\"diff_1.png\")\n",
    "    plt.close()\n",
    "\n",
    "\n",
    "    s_x = 620\n",
    "    s_y = 560\n",
    "    e_x = 650\n",
    "    e_y = 600\n",
    "    f1 = plt.figure(figsize=(10,4))\n",
    "    a=f1.add_subplot(1,3,1)\n",
    "    imgplot = plt.imshow(rec_vsirt[s_x:e_x, s_y:e_y], interpolation=None, cmap=\"gray\", vmin=0, vmax=100)\n",
    "    a.set_title('VarSIRT')\n",
    "    plt.colorbar(orientation='horizontal');\n",
    "    a=f1.add_subplot(1,3,2)\n",
    "    imgplot = plt.imshow(rec_sirt[s_x:e_x, s_y:e_y], interpolation=None, cmap=\"gray\",vmin=0, vmax=100)\n",
    "    a.set_title('SIRT')\n",
    "    plt.colorbar(orientation ='horizontal');\n",
    "    a=f1.add_subplot(1,3,3)\n",
    "    imgplot = plt.imshow(rec_vsirt[s_x:e_x, s_y:e_y] - rec_sirt[s_x:e_x, s_y:e_y], interpolation=None, cmap=\"gray\")\n",
    "    a.set_title('VarSIRT - SIRT')\n",
    "    plt.colorbar(orientation ='horizontal');\n",
    "    plt.savefig(\"diff_2.png\")\n",
    "    plt.show()\n",
    "#     plt.close(f1)\n",
    "\n",
    "    num_str = 700\n",
    "    s = 400\n",
    "    e = 600\n",
    "    f2 = plt.figure(figsize=(10,7))    \n",
    "    plt.plot(rec_sirt[num_str, s:e] / np.mean(rec_sirt[num_str, :]), label=\"SIRT\", linewidth=1.0)\n",
    "    plt.plot(rec_vsirt[num_str, s:e] / np.mean(rec_vsirt[num_str, :]), label=\"VarSIRT\", linewidth=1.0)\n",
    "    plt.xticks(np.arange(0, 225, 25), np.arange(s, e+25, 25))\n",
    "    plt.grid(True)\n",
    "    plt.ylabel('Value, a.u.')\n",
    "    plt.xlabel('Pixel number, a.u.')\n",
    "    plt.legend(loc='best');\n",
    "    plt.savefig(\"sr_1.png\")\n",
    "    plt.show()\n",
    "#     plt.close(f2)\n",
    "\n",
    "    f3 = plt.figure(figsize=(10,7))    \n",
    "    plt.plot(rec_fbp[num_str, s:e] / np.mean(rec_fbp[num_str, :]), label=\"FBP\", linewidth=1.0)\n",
    "    plt.plot(rec_vsirt[num_str, s:e] / np.mean(rec_vsirt[num_str, :]), label=\"VarSIRT\", linewidth=1.0)\n",
    "    plt.grid(True)\n",
    "    plt.xticks(np.arange(0, 225, 25), np.arange(s, e+25, 25))\n",
    "    plt.ylabel('Value, a.u.')\n",
    "    plt.xlabel('Pixel number, a.u.')\n",
    "    plt.legend(loc='best');\n",
    "    plt.savefig(\"sr_2.png\")\n",
    "    plt.show()\n",
    "#     plt.close(f3)\n"
   ]
  },
  {
   "cell_type": "code",
   "execution_count": null,
   "metadata": {
    "scrolled": false
   },
   "outputs": [],
   "source": [
    "print(\"Program is started\")\n",
    "# path_sino = './noise_recon/S1S2S3_NoAv_2.74um__sino0245.tif'  #'S1S2S3_2.74um__sino0245.tif'\n",
    "proj_geom, vol_geom, sinogram = load_data(path_sino)\n",
    "noise = np.random.rand(sinogram.shape[0],sinogram.shape[1])*STD(sinogram)*20\n",
    "\n",
    "sinogram[:,200:205] = 65535\n",
    "\n",
    "plt.figure(figsize=(12,9))\n",
    "plt.imshow(sinogram)\n",
    "plt.colorbar(orientation='horizontal')\n",
    "\n",
    "D = STD(sinogram)\n",
    "\n",
    "D[:,200:205] = 65535**2\n",
    "\n",
    "plt.figure(figsize=(12,9))\n",
    "plt.imshow(D)\n",
    "plt.colorbar(orientation='horizontal')\n",
    "\n",
    "rec_fbp, rec_sirt = recontructr(proj_geom, vol_geom, sinogram)\n",
    "rec_vsirt = rec_VSIRT(proj_geom, vol_geom, sinogram, rec_fbp, D)\n",
    "plot_result(rec_fbp, rec_sirt, rec_vsirt)\n",
    "print(\"Completed successfully\")"
   ]
  },
  {
   "cell_type": "code",
   "execution_count": null,
   "metadata": {},
   "outputs": [],
   "source": [
    "plt.figure(figsize=(12,9))\n",
    "plt.imshow(sinogram)\n",
    "plt.colorbar(orientation='horizontal')"
   ]
  },
  {
   "cell_type": "code",
   "execution_count": null,
   "metadata": {},
   "outputs": [],
   "source": [
    "plot_result(rec_fbp, rec_sirt, rec_vsirt)"
   ]
  },
  {
   "cell_type": "code",
   "execution_count": null,
   "metadata": {},
   "outputs": [],
   "source": [
    "plt.figure(figsize=(15,10))\n",
    "plt.subplot(131)\n",
    "plt.imshow(rec_fbp[200:300,500:600], vmin=0, vmax=150, cmap=plt.cm.gray, interpolation='nearest')\n",
    "plt.title('FBP')\n",
    "plt.colorbar(orientation='horizontal')\n",
    "\n",
    "plt.subplot(132)\n",
    "plt.imshow(rec_sirt[200:300,500:600], vmin=0, vmax=150, cmap=plt.cm.gray, interpolation='nearest')\n",
    "plt.title('SIRT')\n",
    "plt.colorbar(orientation='horizontal')\n",
    "\n",
    "plt.subplot(133)\n",
    "plt.imshow(rec_vsirt[200:300,500:600], vmin=0, vmax=150,cmap=plt.cm.gray, interpolation='nearest')\n",
    "plt.title('VSIRT')\n",
    "plt.colorbar(orientation='horizontal')"
   ]
  },
  {
   "cell_type": "code",
   "execution_count": null,
   "metadata": {},
   "outputs": [],
   "source": [
    "plt.figure(figsize=(15,15))\n",
    "plt.imshow(rec_vsirt, cmap=plt.cm.gray, vmin=0, vmax=200)"
   ]
  },
  {
   "cell_type": "code",
   "execution_count": null,
   "metadata": {},
   "outputs": [],
   "source": [
    "plt.figure(figsize=(15,15))\n",
    "plt.imshow(rec_sirt, cmap=plt.cm.gray, vmin=0,vmax=200)"
   ]
  },
  {
   "cell_type": "code",
   "execution_count": null,
   "metadata": {},
   "outputs": [],
   "source": [
    "plt.figure(figsize=(15,15))\n",
    "plt.imshow(rec_fbp, cmap=plt.cm.gray, vmin=0,vmax=200)"
   ]
  },
  {
   "cell_type": "code",
   "execution_count": null,
   "metadata": {
    "collapsed": true
   },
   "outputs": [],
   "source": [
    "def images_diff(im1, im2):\n",
    "    assert(im1.shape==im2.shape)\n",
    "    rec_diff = np.zeros(shape=(im1.shape[0],im1.shape[1],3), dtype='float32')\n",
    "    im1_t = im1.copy()\n",
    "    im1_t = (im1_t-im1_t.min())/(im1_t.max()-im1_t.min())\n",
    "    \n",
    "    im2_t = im2.copy()\n",
    "    im2_t = (im2_t-im2_t.min())/(im2_t.max()-im2_t.min())\n",
    "    \n",
    "    # nrecon_rec_t[nrecon_rec_t<0] = 0\n",
    "    diff_rec = im1_t-im2_t\n",
    "    rec_diff[...,0] = diff_rec*(diff_rec>0)\n",
    "    rec_diff[...,1] = -diff_rec*(diff_rec<0)\n",
    "    rec_diff[...,2] = rec_diff[...,1]\n",
    "    return rec_diff"
   ]
  },
  {
   "cell_type": "code",
   "execution_count": null,
   "metadata": {},
   "outputs": [],
   "source": [
    "plt.figure(figsize=(15,10))\n",
    "plt.subplot(131)\n",
    "plt.imshow(100*images_diff(rec_vsirt[500:650,500:650],rec_fbp[500:650,500:650]))\n",
    "plt.title('VSIRT/FBP')\n",
    "\n",
    "plt.subplot(132)\n",
    "plt.imshow(20*images_diff(rec_vsirt[500:650,500:650],rec_sirt[500:650,500:650]))\n",
    "plt.title('VSIRT/SIRT')\n",
    "\n",
    "plt.subplot(133)\n",
    "plt.imshow(20*images_diff(rec_sirt[500:650,500:650],rec_fbp[500:650,500:650]))\n",
    "plt.title('SIRT/FBP')\n",
    "\n",
    "\n"
   ]
  },
  {
   "cell_type": "code",
   "execution_count": null,
   "metadata": {},
   "outputs": [],
   "source": [
    "plt.gray()\n",
    "plt.figure(figsize=(15,10))\n",
    "plt.subplot(131)\n",
    "plt.imshow((rec_vsirt-rec_fbp)[500:650,500:650])\n",
    "plt.title('VSIRT-FBP')\n",
    "plt.colorbar(orientation='horizontal')\n",
    "\n",
    "plt.subplot(132)\n",
    "plt.imshow((rec_vsirt-rec_sirt)[500:650,500:650])\n",
    "plt.title('VSIRT-SIRT')\n",
    "plt.colorbar(orientation='horizontal')\n",
    "\n",
    "plt.subplot(133)\n",
    "plt.imshow((rec_sirt-rec_fbp)[500:650,500:650])\n",
    "plt.title('SIRT-FBP')\n",
    "plt.colorbar(orientation='horizontal')"
   ]
  },
  {
   "cell_type": "code",
   "execution_count": null,
   "metadata": {
    "collapsed": true
   },
   "outputs": [],
   "source": [
    "proj_id = astra.create_projector('cuda', proj_geom, vol_geom)\n",
    "W = astra.OpTomo(proj_id)"
   ]
  },
  {
   "cell_type": "code",
   "execution_count": null,
   "metadata": {
    "collapsed": true
   },
   "outputs": [],
   "source": [
    "sino_fbp = (W*rec_fbp).reshape(sinogram.shape)\n",
    "sino_vsirt = (W*rec_vsirt).reshape(sinogram.shape)\n",
    "sino_sirt = (W*rec_sirt).reshape(sinogram.shape)"
   ]
  },
  {
   "cell_type": "code",
   "execution_count": null,
   "metadata": {
    "collapsed": true
   },
   "outputs": [],
   "source": [
    "def build_mask(rec):\n",
    "    X,Y = np.meshgrid(np.arange(rec.shape[0])-rec.shape[0]/2,np.arange(rec.shape[1])-rec.shape[1]/2)\n",
    "    mask = X*X+Y*Y < (rec.shape[0]/2)**2\n",
    "    return mask"
   ]
  },
  {
   "cell_type": "code",
   "execution_count": null,
   "metadata": {
    "collapsed": true
   },
   "outputs": [],
   "source": [
    "mask = build_mask(rec_fbp)"
   ]
  },
  {
   "cell_type": "code",
   "execution_count": null,
   "metadata": {},
   "outputs": [],
   "source": [
    "sino_fbp = (W*rec_fbp).reshape(sinogram.shape)\n",
    "sino_vsirt = (W*rec_vsirt).reshape(sinogram.shape)\n",
    "sino_sirt = (W*rec_sirt).reshape(sinogram.shape)\n",
    "\n",
    "for exp_sino in [sino_fbp, sino_sirt, sino_vsirt]:\n",
    "    plt.figure(figsize=(15,15))\n",
    "    plt.imshow(10*images_diff(exp_sino, sinogram))"
   ]
  },
  {
   "cell_type": "code",
   "execution_count": null,
   "metadata": {
    "scrolled": false
   },
   "outputs": [],
   "source": [
    "sino_fbp = (W*(rec_fbp*mask)).reshape(sinogram.shape)\n",
    "sino_vsirt = (W*(rec_vsirt*mask)).reshape(sinogram.shape)\n",
    "sino_sirt = (W*(rec_sirt*mask)).reshape(sinogram.shape)\n",
    "\n",
    "for exp_sino in [sino_fbp, sino_sirt, sino_vsirt]:\n",
    "    plt.figure(figsize=(15,15))\n",
    "    plt.imshow(exp_sino -  sinogram)\n",
    "    plt.colorbar(orientation='horizontal')"
   ]
  },
  {
   "cell_type": "code",
   "execution_count": null,
   "metadata": {},
   "outputs": [],
   "source": [
    "sino_fbp = (W*(rec_fbp*mask)).reshape(sinogram.shape)\n",
    "sino_vsirt = (W*(rec_vsirt*mask)).reshape(sinogram.shape)\n",
    "sino_sirt = (W*(rec_sirt*mask)).reshape(sinogram.shape)\n",
    "\n",
    "for exp_sino in [sino_fbp, sino_sirt, sino_vsirt]:\n",
    "    plt.figure(figsize=(15,15))\n",
    "    plt.imshow(10*images_diff(exp_sino, sinogram))"
   ]
  },
  {
   "cell_type": "code",
   "execution_count": null,
   "metadata": {
    "collapsed": true
   },
   "outputs": [],
   "source": []
  }
 ],
 "metadata": {
  "kernelspec": {
   "display_name": "Python 3",
   "language": "python",
   "name": "python3"
  },
  "language_info": {
   "codemirror_mode": {
    "name": "ipython",
    "version": 3
   },
   "file_extension": ".py",
   "mimetype": "text/x-python",
   "name": "python",
   "nbconvert_exporter": "python",
   "pygments_lexer": "ipython3",
   "version": "3.6.2"
  }
 },
 "nbformat": 4,
 "nbformat_minor": 2
}
