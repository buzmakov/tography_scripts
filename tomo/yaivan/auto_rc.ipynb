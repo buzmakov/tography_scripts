{
 "cells": [
  {
   "cell_type": "code",
   "execution_count": 1,
   "metadata": {
    "collapsed": false
   },
   "outputs": [],
   "source": [
    "%matplotlib inline"
   ]
  },
  {
   "cell_type": "code",
   "execution_count": 2,
   "metadata": {
    "collapsed": false
   },
   "outputs": [],
   "source": [
    "import astra\n",
    "import numpy as np\n",
    "import pylab as plt\n",
    "import os\n",
    "import glob\n",
    "\n",
    "import matplotlib\n",
    "font = {'size'   : 18}\n",
    "matplotlib.rc('font', **font)"
   ]
  },
  {
   "cell_type": "code",
   "execution_count": 3,
   "metadata": {
    "collapsed": true
   },
   "outputs": [],
   "source": [
    "from scipy.signal import medfilt"
   ]
  },
  {
   "cell_type": "code",
   "execution_count": 4,
   "metadata": {
    "collapsed": true
   },
   "outputs": [],
   "source": [
    "def log_progress(sequence, every=None, size=None):\n",
    "    from ipywidgets import IntProgress, HTML, VBox\n",
    "    from IPython.display import display\n",
    "\n",
    "    is_iterator = False\n",
    "    if size is None:\n",
    "        try:\n",
    "            size = len(sequence)\n",
    "        except TypeError:\n",
    "            is_iterator = True\n",
    "    if size is not None:\n",
    "        if every is None:\n",
    "            if size <= 200:\n",
    "                every = 1\n",
    "            else:\n",
    "                every = size / 200     # every 0.5%\n",
    "    else:\n",
    "        assert every is not None, 'sequence is iterator, set every'\n",
    "\n",
    "    if is_iterator:\n",
    "        progress = IntProgress(min=0, max=1, value=1)\n",
    "        progress.bar_style = 'info'\n",
    "    else:\n",
    "        progress = IntProgress(min=0, max=size, value=0)\n",
    "    label = HTML()\n",
    "    box = VBox(children=[label, progress])\n",
    "    display(box)\n",
    "\n",
    "    index = 0\n",
    "    try:\n",
    "        for index, record in enumerate(sequence, 1):\n",
    "            if index == 1 or index % every == 0:\n",
    "                if is_iterator:\n",
    "                    label.value = '{index} / ?'.format(index=index)\n",
    "                else:\n",
    "                    progress.value = index\n",
    "                    label.value = u'{index} / {size}'.format(\n",
    "                        index=index,\n",
    "                        size=size\n",
    "                    )\n",
    "            yield record\n",
    "    except:\n",
    "        progress.bar_style = 'danger'\n",
    "        raise\n",
    "    else:\n",
    "        progress.bar_style = 'success'\n",
    "        progress.value = index\n",
    "        label.value = unicode(index or '?')"
   ]
  },
  {
   "cell_type": "code",
   "execution_count": 5,
   "metadata": {
    "collapsed": true
   },
   "outputs": [],
   "source": [
    "def images_diff(im1, im2):\n",
    "    assert(im1.shape==im2.shape)\n",
    "    rec_diff = np.zeros(shape=(im1.shape[0],im1.shape[1],3), dtype='float32')\n",
    "    im1_t = im1.copy()\n",
    "    im1_t = (im1_t-im1_t.min())/(im1_t.max()-im1_t.min())\n",
    "    \n",
    "    im2_t = im2.copy()\n",
    "    im2_t = (im2_t-im2_t.min())/(im2_t.max()-im2_t.min())\n",
    "    \n",
    "    # nrecon_rec_t[nrecon_rec_t<0] = 0\n",
    "    diff_rec = im1_t-im2_t\n",
    "    rec_diff[...,0] = diff_rec*(diff_rec>0)\n",
    "    rec_diff[...,1] = -diff_rec*(diff_rec<0)\n",
    "    rec_diff[...,2] = rec_diff[...,1]\n",
    "    return rec_diff"
   ]
  },
  {
   "cell_type": "code",
   "execution_count": 34,
   "metadata": {
    "collapsed": false
   },
   "outputs": [
    {
     "name": "stdout",
     "output_type": "stream",
     "text": [
      "bh_92_rc_0   bh_92_rc_14  bh_92_rc_2   bh_92_rc_25  bh_92_rc_30  bh_92_rc_9\r\n",
      "bh_92_rc_1   bh_92_rc_15  bh_92_rc_20  bh_92_rc_26  bh_92_rc_4\r\n",
      "bh_92_rc_10  bh_92_rc_16  bh_92_rc_21  bh_92_rc_27  bh_92_rc_5\r\n",
      "bh_92_rc_11  bh_92_rc_17  bh_92_rc_22  bh_92_rc_28  bh_92_rc_6\r\n",
      "bh_92_rc_12  bh_92_rc_18  bh_92_rc_23  bh_92_rc_29  bh_92_rc_7\r\n",
      "bh_92_rc_13  bh_92_rc_19  bh_92_rc_24  bh_92_rc_3   bh_92_rc_8\r\n"
     ]
    }
   ],
   "source": [
    "!ls /home/makov/diskmnt/big/yaivan/RC/MMC1_2.82um_/"
   ]
  },
  {
   "cell_type": "code",
   "execution_count": 7,
   "metadata": {
    "collapsed": false
   },
   "outputs": [
    {
     "name": "stdout",
     "output_type": "stream",
     "text": [
      "MMC1_2.82um__pp1.tif\t  MMC1_2.82um__rec_spr.bmp\r\n",
      "MMC1_2.82um__pp2.tif\t  MMC1_2.82um__sino0960.tif\r\n",
      "MMC1_2.82um__rec0960.png  MMC1_2.82um__sinoraw_0960.tif\r\n",
      "MMC1_2.82um__rec.log\t  tomo_config.log\r\n"
     ]
    }
   ],
   "source": [
    "!ls /home/makov/diskmnt/big/yaivan/MMC_1/_tmp/nrecon/bh_0_rc_0/"
   ]
  },
  {
   "cell_type": "code",
   "execution_count": 27,
   "metadata": {
    "collapsed": false
   },
   "outputs": [
    {
     "name": "stdout",
     "output_type": "stream",
     "text": [
      "ls: cannot access /home/makov/diskmnt/big/yaivan/Sand/Reconstructed/*.log: No such file or directory\r\n"
     ]
    }
   ],
   "source": [
    "!ls '/home/makov/diskmnt/big/yaivan/Sand/Reconstructed/"
   ]
  },
  {
   "cell_type": "code",
   "execution_count": 8,
   "metadata": {
    "collapsed": true
   },
   "outputs": [],
   "source": [
    "def get_bh_level(nf):\n",
    "    return(int(os.path.split(nf)[-1].split('_')[1]))\n",
    "def get_rc_level(nf):\n",
    "    return(int(os.path.split(nf)[-1].split('_')[3]))"
   ]
  },
  {
   "cell_type": "code",
   "execution_count": 42,
   "metadata": {
    "collapsed": true
   },
   "outputs": [],
   "source": [
    "def get_data(folder):\n",
    "    try:\n",
    "        data_file = glob.glob(os.path.join(folder, '*_sino*.tif'))[0]\n",
    "    #     print(data_file)\n",
    "        sinogram = plt.imread(data_file).astype('float32')\n",
    "        data_file = glob.glob(os.path.join(folder, '*_sinoraw_*.tif'))[0]\n",
    "        sinraw = plt.imread(data_file).astype('float32')\n",
    "        rec_file = glob.glob(os.path.join(folder, '*_rec*.png'))[0]\n",
    "        rec = plt.imread(rec_file).astype('float32')\n",
    "    except e:\n",
    "        print 'folder'\n",
    "        raise e\n",
    "        \n",
    "    return sinogram, sinraw, rec"
   ]
  },
  {
   "cell_type": "code",
   "execution_count": 55,
   "metadata": {
    "collapsed": false
   },
   "outputs": [],
   "source": [
    "objects = []\n",
    "# objects.append({'name':'MMC_1',\n",
    "#                 'data_root':'/home/makov/diskmnt/big/yaivan/RC/MMC1_2.82um_/',\n",
    "#                 'rc_ref':16})\n",
    "# objects.append({'name':'Sand',\n",
    "#                 'data_root':'/home/makov/diskmnt/big/yaivan/RC/Chieftain_Unc_2.8_/',\n",
    "#                 'rc_ref':20})\n",
    "# objects.append({'name':'HP_Stage',\n",
    "#                 'data_root':'/home/makov/diskmnt/big/yaivan/RC/S2-Barnett@HP_P1_2.99um_/',\n",
    "#                 'rc_ref':20})\n",
    "objects.append({'name':'Model object',\n",
    "                'data_root':'/home/makov/diskmnt/big/yaivan/RC/cube_/',\n",
    "                'rc_ref':0})"
   ]
  },
  {
   "cell_type": "code",
   "execution_count": 56,
   "metadata": {
    "collapsed": false,
    "scrolled": false
   },
   "outputs": [
    {
     "name": "stdout",
     "output_type": "stream",
     "text": [
      "31\n",
      "4 0 20 15 12 6 24 29 23 9 30 25 11 19 26 22 1 2 3 27 5 18 21 8 16 14 13 10 28 17 7\n"
     ]
    },
    {
     "data": {
      "image/png": "[encoded data removed]",
      "text/plain": [
       "<matplotlib.figure.Figure at 0x7fefacb1f0d0>"
      ]
     },
     "metadata": {},
     "output_type": "display_data"
    }
   ],
   "source": [
    "for rc_object in objects:# data_root = '/home/makov/diskmnt/big/yaivan/MMC_1/_tmp/nrecon/'\n",
    "    data_root= rc_object['data_root']\n",
    "    # nrecon_root_folder = os.path.join(data_root,'_tmp','nrecon')\n",
    "    nrecon_folders = glob.glob(os.path.join(data_root, 'bh_*_rc_*'))\n",
    "    nrecon_folders = [nf for nf in nrecon_folders if os.path.isdir(nf)]\n",
    "    print len(nrecon_folders)\n",
    "    for nf in nrecon_folders:\n",
    "        print get_rc_level(nf),\n",
    "    print\n",
    "    \n",
    "    sino = {}\n",
    "    sinoraw = {}\n",
    "    rec ={}\n",
    "    for nf in log_progress(nrecon_folders):\n",
    "        rc_level =  get_rc_level(nf)\n",
    "        sino[rc_level], sinoraw[rc_level], rec[rc_level] = get_data(nf)\n",
    "        \n",
    "    h={}\n",
    "    for k, v in log_progress(list(rec.iteritems())):\n",
    "        r = rec[k]\n",
    "        h[k], _ = np.histogram(r,bins=1000)\n",
    "    \n",
    "    x = []\n",
    "    y = []\n",
    "    for k,v in h.iteritems():\n",
    "        x.append(k)\n",
    "        y.append(np.sum(v**2))\n",
    "                 \n",
    "    plt.figure(figsize=(10,7))\n",
    "    plt.title('{}  Reference RC:{}'.format(rc_object['name'],rc_object['rc_ref']))\n",
    "    plt.plot(x,y,'o')\n",
    "    plt.ylabel('Sum of hist^2')\n",
    "    plt.xlabel('RC')\n",
    "    plt.grid(True)\n",
    "    plt.show()"
   ]
  },
  {
   "cell_type": "code",
   "execution_count": 57,
   "metadata": {
    "collapsed": false
   },
   "outputs": [],
   "source": [
    "sino = {}\n",
    "sinoraw = {}\n",
    "rec ={}\n",
    "for nf in log_progress(nrecon_folders):\n",
    "    rc_level =  get_rc_level(nf)\n",
    "    sino[rc_level], sinoraw[rc_level], rec[rc_level] = get_data(nf)"
   ]
  },
  {
   "cell_type": "code",
   "execution_count": 44,
   "metadata": {
    "collapsed": false
   },
   "outputs": [],
   "source": [
    "h={}\n",
    "for k, v in log_progress(list(rec.iteritems())):\n",
    "    r = rec[k]\n",
    "    h[k], _ = np.histogram(r,bins=1000)"
   ]
  },
  {
   "cell_type": "code",
   "execution_count": 45,
   "metadata": {
    "collapsed": false
   },
   "outputs": [],
   "source": [
    "x = []\n",
    "y = []\n",
    "for k,v in h.iteritems():\n",
    "    x.append(k)\n",
    "    y.append(np.sum(v**2))"
   ]
  },
  {
   "cell_type": "code",
   "execution_count": 47,
   "metadata": {
    "collapsed": false
   },
   "outputs": [
    {
     "data": {
      "image/png": "[encoded data removed]",
      "text/plain": [
       "<matplotlib.figure.Figure at 0x7fefaca1aed0>"
      ]
     },
     "metadata": {},
     "output_type": "display_data"
    }
   ],
   "source": [
    "plt.figure(figsize=(10,7))\n",
    "plt.plot(x,y,'o')\n",
    "plt.grid(True)\n",
    "plt.show()"
   ]
  },
  {
   "cell_type": "code",
   "execution_count": null,
   "metadata": {
    "collapsed": true
   },
   "outputs": [],
   "source": []
  }
 ],
 "metadata": {
  "kernelspec": {
   "display_name": "Python 2",
   "language": "python",
   "name": "python2"
  },
  "language_info": {
   "codemirror_mode": {
    "name": "ipython",
    "version": 2
   },
   "file_extension": ".py",
   "mimetype": "text/x-python",
   "name": "python",
   "nbconvert_exporter": "python",
   "pygments_lexer": "ipython2",
   "version": "2.7.12"
  },
  "widgets": {
   "state": {
    "1e5fe669381344d3b7e476c7f843924b": {
     "views": [
      {
       "cell_index": 12
      }
     ]
    },
    "28ca9056fcbe4288851f0d531abf5f3f": {
     "views": [
      {
       "cell_index": 11
      }
     ]
    },
    "3bb8bcd4a31045e49216b0e594f79f62": {
     "views": [
      {
       "cell_index": 11
      }
     ]
    },
    "4a3072bc934446c49d25ee1681f96fb4": {
     "views": [
      {
       "cell_index": 11
      }
     ]
    },
    "65a8e5ea2fd84f47a2340f0757f26c8a": {
     "views": [
      {
       "cell_index": 11
      }
     ]
    },
    "7667be3d06fe45a0ad62279a8961303a": {
     "views": [
      {
       "cell_index": 11
      }
     ]
    },
    "801f4fc7f92d4f38b1be56f7fff0ba9e": {
     "views": [
      {
       "cell_index": 11
      }
     ]
    },
    "9665f788ff464be8befcf88d2db2ec11": {
     "views": [
      {
       "cell_index": 11
      }
     ]
    },
    "ca9e06f6e22944c5a66bec9f2ee0c08c": {
     "views": [
      {
       "cell_index": 11
      }
     ]
    },
    "e121d14e050b44b4ad50b057a24f0265": {
     "views": [
      {
       "cell_index": 12
      }
     ]
    },
    "eb4ba29bb30f46ddbfcd7ca3f2ba7ba4": {
     "views": [
      {
       "cell_index": 11
      }
     ]
    },
    "f4e36c6c37a14414ad50896f3058c1ee": {
     "views": [
      {
       "cell_index": 11
      }
     ]
    },
    "f610d84d05044712b600f78e75388fd8": {
     "views": [
      {
       "cell_index": 11
      }
     ]
    }
   },
   "version": "1.2.0"
  }
 },
 "nbformat": 4,
 "nbformat_minor": 0
}
