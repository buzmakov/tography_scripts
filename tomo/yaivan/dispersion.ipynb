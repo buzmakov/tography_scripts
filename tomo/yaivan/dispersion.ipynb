{
 "cells": [
  {
   "cell_type": "code",
   "execution_count": null,
   "metadata": {
    "collapsed": true
   },
   "outputs": [],
   "source": [
    "%matplotlib inline"
   ]
  },
  {
   "cell_type": "code",
   "execution_count": null,
   "metadata": {
    "collapsed": true
   },
   "outputs": [],
   "source": [
    "import numpy as np\n",
    "import pylab as plt\n",
    "from glob import glob\n",
    "import seaborn as sns\n",
    "from skimage.io import imread\n",
    "import os\n",
    "import pickle\n",
    "# import cPickle as pickle\n",
    "import scipy.stats.mstats"
   ]
  },
  {
   "cell_type": "code",
   "execution_count": null,
   "metadata": {},
   "outputs": [],
   "source": [
    "plt.gray();"
   ]
  },
  {
   "cell_type": "code",
   "execution_count": null,
   "metadata": {
    "collapsed": true
   },
   "outputs": [],
   "source": [
    "def log_progress(sequence, every=None, size=None, name='Items'):\n",
    "    from ipywidgets import IntProgress, HTML, VBox\n",
    "    from IPython.display import display\n",
    "\n",
    "    is_iterator = False\n",
    "    if size is None:\n",
    "        try:\n",
    "            size = len(sequence)\n",
    "        except TypeError:\n",
    "            is_iterator = True\n",
    "    if size is not None:\n",
    "        if every is None:\n",
    "            if size <= 200:\n",
    "                every = 1\n",
    "            else:\n",
    "                every = int(size / 200)     # every 0.5%\n",
    "    else:\n",
    "        assert every is not None, 'sequence is iterator, set every'\n",
    "\n",
    "    if is_iterator:\n",
    "        progress = IntProgress(min=0, max=1, value=1)\n",
    "        progress.bar_style = 'info'\n",
    "    else:\n",
    "        progress = IntProgress(min=0, max=size, value=0)\n",
    "    label = HTML()\n",
    "    box = VBox(children=[label, progress])\n",
    "    display(box)\n",
    "\n",
    "    index = 0\n",
    "    try:\n",
    "        for index, record in enumerate(sequence, 1):\n",
    "            if index == 1 or index % every == 0:\n",
    "                if is_iterator:\n",
    "                    label.value = '{name}: {index} / ?'.format(\n",
    "                        name=name,\n",
    "                        index=index\n",
    "                    )\n",
    "                else:\n",
    "                    progress.value = index\n",
    "                    label.value = u'{name}: {index} / {size}'.format(\n",
    "                        name=name,\n",
    "                        index=index,\n",
    "                        size=size\n",
    "                    )\n",
    "            yield record\n",
    "    except:\n",
    "        progress.bar_style = 'danger'\n",
    "        raise\n",
    "    else:\n",
    "        progress.bar_style = 'success'\n",
    "        progress.value = index\n",
    "        label.value = \"{name}: {index}\".format(\n",
    "            name=name,\n",
    "            index=str(index or '?')\n",
    "        )"
   ]
  },
  {
   "cell_type": "code",
   "execution_count": null,
   "metadata": {
    "collapsed": true
   },
   "outputs": [],
   "source": [
    "def log_sinogram(sino, sino_base=None):\n",
    "    '''\n",
    "    This function convert NRecon sinogram_raw to sinogram.\n",
    "    Searching cut threshold, calculate log and change range to 0 ... 65535.\n",
    "\n",
    "    Inputs:\n",
    "      sino - 2D raw sinogram\n",
    "      sino_base - reference for normalisation\n",
    "    '''\n",
    "    tmp_sino = sino.copy().astype('float32')  # make copy for inplace corrections\n",
    "    tmp_sino[tmp_sino == 0] = 0.1\n",
    "    if sino_base is None:\n",
    "        sino_base = tmp_sino\n",
    "    k1 = sino_base[:, 1:11].mean(axis=-1)  # left range\n",
    "    k2 = sino_base[:, -12:-2].mean(axis=-1)  # right range\n",
    "    trh = np.maximum(k1, k2)  # cut threshold\n",
    "    for i in range(tmp_sino.shape[0]):  # нормируем каждую строку\n",
    "        t = tmp_sino[i]  # указатель на строку\n",
    "        t[t > trh[i]] = trh[i]  # обрезаем по верхнему порогу\n",
    "        t /= trh[i]  # нормируем строку перед логрифмированием\n",
    "\n",
    "    tmp_sino = -np.log(tmp_sino)\n",
    "    tmp_sino = tmp_sino / tmp_sino.max()  # переходим в диапазон 0...65535\n",
    "    return tmp_sino"
   ]
  },
  {
   "cell_type": "code",
   "execution_count": null,
   "metadata": {
    "collapsed": true
   },
   "outputs": [],
   "source": [
    "dirs = {1.00:'/home/makov/diskmnt/big/yaivan/noisy_data/04. FlatField (Av=3)/01. Raw 1.00T/',\n",
    "        0.66:'/home/makov/diskmnt/big/yaivan/noisy_data/04. FlatField (Av=3)/02. Raw 0.66T/',\n",
    "        0.33:'/home/makov/diskmnt/big/yaivan/noisy_data/04. FlatField (Av=3)/03. Raw 0.33T/',\n",
    "        0.17:'/home/makov/diskmnt/big/yaivan/noisy_data/04. FlatField (Av=3)/04. Raw 0.17T/',\n",
    "        0.10:'/home/makov/diskmnt/big/yaivan/noisy_data/04. FlatField (Av=3)/05. Raw 0.1T/',\n",
    "       }"
   ]
  },
  {
   "cell_type": "code",
   "execution_count": null,
   "metadata": {},
   "outputs": [],
   "source": [
    "!ls /home/makov/diskmnt/big/yaivan/noisy_data/04.\\ FlatField\\ \\(Av\\=3\\)"
   ]
  },
  {
   "cell_type": "code",
   "execution_count": null,
   "metadata": {},
   "outputs": [],
   "source": [
    "# if os.path.exists ('stat_data.pkl'):\n",
    "#     raise RuntimeError('Please delete \\\"stat_data.pkl\\\" or comment this block')\n",
    "    \n",
    "for need_log in [True, ]:\n",
    "    out_res = {}\n",
    "    for expose, d in dirs.items():\n",
    "        print('')\n",
    "        if need_log:\n",
    "            print('With Log')\n",
    "        else:\n",
    "            print('Without Log')\n",
    "        \n",
    "        files = glob(os.path.join(d,'*.tif'))\n",
    "        files = sorted(files)[:-1]\n",
    "        n_files = len(files)\n",
    "        print(d, n_files)\n",
    "\n",
    "        data_sample = imread(files[0])\n",
    "        disp_vol = np.zeros((n_files, data_sample.shape[0], data_sample.shape[1]), dtype='float32')\n",
    "\n",
    "        print('loading data')\n",
    "        for idf, f in log_progress(list(enumerate(files))):\n",
    "            data = imread(f)\n",
    "            if need_log == False:\n",
    "                disp_vol[idf] = data\n",
    "            else:\n",
    "                disp_vol[idf] = -np.log(data/65535.)\n",
    "\n",
    "        out_res[expose] = {}\n",
    "        print('calculating std')\n",
    "        data_std = np.std(disp_vol, axis=0)\n",
    "        out_res[expose]['data_std'] = data_std\n",
    "\n",
    "        print('calculating mean')\n",
    "        data_mean = np.mean(disp_vol, axis=0)\n",
    "        out_res[expose]['data_mean'] = data_mean\n",
    "\n",
    "    #     print('calculating norm_test')\n",
    "    #     a, b = scipy.stats.mstats.normaltest(disp_vol, axis=0)\n",
    "    #     out_res[expose]['norm_test'] = {'a':a, 'b': b}\n",
    "\n",
    "        print('prepearing normalized array')\n",
    "        dvn = np.expand_dims(np.expand_dims(disp_vol.sum(axis=-1).sum(axis=1),1),1)/np.sum(disp_vol[0])\n",
    "        disp_vol /= dvn\n",
    "        dvn = np.squeeze(dvn)\n",
    "        out_res[expose]['norm_curve'] = dvn\n",
    "\n",
    "        print('calculating norm std')\n",
    "        data_std = np.std(disp_vol, axis=0)\n",
    "        out_res[expose]['data_norm_std'] = data_std\n",
    "\n",
    "        print('calculating norm mean')\n",
    "        data_mean = np.mean(disp_vol, axis=0)\n",
    "        out_res[expose]['data_norm_mean'] = data_mean\n",
    "\n",
    "    #     print('calculating norm norm_test')\n",
    "    #     a, b = scipy.stats.mstats.normaltest(disp_vol, axis=0)\n",
    "    #     out_res[expose]['norm_norm_test'] = {'a':a, 'b': b}\n",
    "        print(out_res[expose].keys())\n",
    "        del disp_vol\n",
    "        if need_log:\n",
    "            out_file = 'stat_data_log.pkl'\n",
    "        else:\n",
    "            out_file = 'stat_data.pkl'\n",
    "            \n",
    "        with open(out_file,'wb') as pkf:\n",
    "            pickle.dump(out_res, pkf)\n"
   ]
  },
  {
   "cell_type": "code",
   "execution_count": null,
   "metadata": {
    "collapsed": true
   },
   "outputs": [],
   "source": [
    "with open('stat_data_log.pkl','rb') as pkf:\n",
    "    out_res = pickle.load(pkf)"
   ]
  },
  {
   "cell_type": "code",
   "execution_count": null,
   "metadata": {
    "collapsed": true
   },
   "outputs": [],
   "source": [
    "# out_res[out_res.keys()[0]].keys()"
   ]
  },
  {
   "cell_type": "code",
   "execution_count": null,
   "metadata": {},
   "outputs": [],
   "source": [
    "from scipy.optimize import curve_fit\n",
    "def func(x, a, b):\n",
    "    return a *x*x + b\n",
    "\n",
    "for dfn in ['stat_data_log.pkl']:\n",
    "    with open(dfn,'rb') as pkf:\n",
    "        out_res = pickle.load(pkf)\n",
    "    x =[]\n",
    "    y = []\n",
    "    plt.figure(figsize=(10,7))\n",
    "    for time in sorted(out_res.keys()):\n",
    "\n",
    "        y_m = np.mean(out_res[time]['data_std'].ravel())\n",
    "        y_s = np.std(out_res[time]['data_std'].ravel())\n",
    "\n",
    "        x_m = np.mean(out_res[time]['data_mean'].ravel())\n",
    "        x_s = np.std(out_res[time]['data_mean'].ravel())\n",
    "\n",
    "        plt.errorbar(x_m, y_m, xerr=x_s, yerr=y_s, fmt='o')\n",
    "\n",
    "        x.append(x_m)\n",
    "        y.append(y_m)\n",
    "    #     plt.subplot(122)\n",
    "    #     plt.hist2d(out_res[time]['data_norm_std'].ravel(),out_res[time]['data_norm_mean'].ravel(),\n",
    "    #               bins=(500,500))\n",
    "    #     plt.title(time)\n",
    "    #     plt.colorbar(orientation='horizontal')\n",
    "    \n",
    "    x=np.asarray(x)\n",
    "    y=np.asarray(y)\n",
    "\n",
    "    popt, pcov = curve_fit(func, x, y)\n",
    "    print(popt)\n",
    "    \n",
    "    xt=np.linspace(x.min(),x.max(), 100, endpoint=True)\n",
    "    plt.plot(xt , func(xt, *popt), 'r-')\n",
    "\n",
    "    plt.xlabel('Mean')\n",
    "    plt.ylabel('Std')\n",
    "    # plt.xlim([0,1.2])\n",
    "    plt.grid(True)\n",
    "#     plt.title(dfn)\n",
    "    plt.show()"
   ]
  },
  {
   "cell_type": "code",
   "execution_count": null,
   "metadata": {
    "collapsed": true
   },
   "outputs": [],
   "source": [
    "from scipy.optimize import curve_fit\n",
    "def func(x, a, b):\n",
    "    return a *x*x + b"
   ]
  },
  {
   "cell_type": "code",
   "execution_count": null,
   "metadata": {},
   "outputs": [],
   "source": [
    "k = 65535/max(x)\n",
    "x = x*k\n",
    "y = y*k\n",
    "popt, pcov = curve_fit(func, x, y)\n",
    "print(popt)\n",
    "plt.figure(figsize=(10,7))\n",
    "\n",
    "plt.plot(x, y, 'o', label='Data')\n",
    "plt.xlabel('Mean')\n",
    "plt.ylabel('Std')\n",
    "# plt.xlim([0,1.2])\n",
    "plt.grid(True)\n",
    "plt.title(dfn)\n",
    "\n",
    "xt=np.arange(x.min(),x.max(), 100)\n",
    "plt.plot(xt , func(xt, *popt), 'r-', label='Fit')\n",
    "plt.legend(loc=0)\n",
    "\n",
    "plt.show()"
   ]
  },
  {
   "cell_type": "code",
   "execution_count": null,
   "metadata": {
    "collapsed": true
   },
   "outputs": [],
   "source": [
    "STD = 1.1e-7*x*x+165"
   ]
  },
  {
   "cell_type": "code",
   "execution_count": null,
   "metadata": {},
   "outputs": [],
   "source": [
    "from scipy.optimize import curve_fit\n",
    "\n",
    "def func(x, a, b):\n",
    "    return np.sqrt(a *x + b)\n",
    "\n",
    "for dfn in ['stat_data.pkl']:\n",
    "    with open(dfn,'rb') as pkf:\n",
    "        out_res = pickle.load(pkf)\n",
    "    x =[]\n",
    "    y = []\n",
    "    plt.figure(figsize=(10,7))\n",
    "    for time in sorted(out_res.keys()):\n",
    "\n",
    "        y_m = np.mean(out_res[time]['data_std'].ravel())\n",
    "        y_s = np.std(out_res[time]['data_std'].ravel())\n",
    "\n",
    "        x_m = np.mean(out_res[time]['data_mean'].ravel())\n",
    "        x_s = np.std(out_res[time]['data_mean'].ravel())\n",
    "\n",
    "        plt.errorbar(x_m, y_m, xerr=x_s, yerr=y_s, fmt='o')\n",
    "\n",
    "        x.append(x_m)\n",
    "        y.append(y_m)\n",
    "    #     plt.subplot(122)\n",
    "    #     plt.hist2d(out_res[time]['data_norm_std'].ravel(),out_res[time]['data_norm_mean'].ravel(),\n",
    "    #               bins=(500,500))\n",
    "    #     plt.title(time)\n",
    "    #     plt.colorbar(orientation='horizontal')\n",
    "    \n",
    "    x=np.asarray(x)\n",
    "    y=np.asarray(y)\n",
    "\n",
    "    \n",
    "    popt, pcov = curve_fit(func, x, y)\n",
    "    print(popt)\n",
    "    \n",
    "    xt=np.linspace(x.min(),x.max(), 100)\n",
    "    plt.plot(xt , func(xt, *popt), 'r-')\n",
    "    plt.legend(loc=0)\n",
    "\n",
    "    plt.xlabel('Mean')\n",
    "    plt.ylabel('Std')\n",
    "    # plt.xlim([0,1.2])\n",
    "    plt.grid(True)\n",
    "#     plt.title(dfn)\n",
    "    plt.show()"
   ]
  },
  {
   "cell_type": "code",
   "execution_count": null,
   "metadata": {
    "collapsed": true
   },
   "outputs": [],
   "source": [
    "from scipy.optimize import curve_fit\n",
    "def func(x, a, b):\n",
    "    return np.sqrt(a *x + b)"
   ]
  },
  {
   "cell_type": "code",
   "execution_count": null,
   "metadata": {},
   "outputs": [],
   "source": [
    "popt, pcov = curve_fit(func, x, y)\n",
    "print(popt)\n",
    "plt.figure(figsize=(15,10))\n",
    "\n",
    "plt.plot(x, y, 'o', label='Data')\n",
    "plt.xlabel('Mean')\n",
    "plt.ylabel('Std')\n",
    "# plt.xlim([0,1.2])\n",
    "plt.grid(True)\n",
    "plt.title(dfn)\n",
    "\n",
    "xt=np.arange(x.min(),x.max(), 100)\n",
    "plt.plot(xt , func(xt, *popt), 'r-', label='Fit')\n",
    "plt.legend(loc=0)\n",
    "\n",
    "plt.show()"
   ]
  },
  {
   "cell_type": "code",
   "execution_count": null,
   "metadata": {},
   "outputs": [],
   "source": [
    "plt.figure(figsize=(7,7))\n",
    "plt.imshow(log_sinogram(t), interpolation='nearest')\n",
    "plt.colorbar()\n",
    "plt.show()"
   ]
  },
  {
   "cell_type": "code",
   "execution_count": null,
   "metadata": {},
   "outputs": [],
   "source": [
    "\n",
    "plt.figure(figsize=(7,7))\n",
    "plt.imshow(out_res[0.1]['data_mean'], interpolation='nearest')\n",
    "plt.colorbar()\n",
    "plt.show()"
   ]
  },
  {
   "cell_type": "code",
   "execution_count": null,
   "metadata": {},
   "outputs": [],
   "source": [
    "plt.figure(figsize=(15,10))\n",
    "for time in sorted(out_res.keys()):\n",
    "    \n",
    "    k_m = np.mean(out_res[time]['data_std'].ravel()/out_res[time]['data_mean'].ravel())\n",
    "    k_s = np.std(out_res[time]['data_std'].ravel()/out_res[time]['data_mean'].ravel())\n",
    "    plt.errorbar(time, k_m, yerr=k_s, fmt='o')\n",
    "    \n",
    "#     plt.subplot(122)\n",
    "#     plt.hist2d(out_res[time]['data_norm_std'].ravel(),out_res[time]['data_norm_mean'].ravel(),\n",
    "#               bins=(500,500))\n",
    "#     plt.title(time)\n",
    "#     plt.colorbar(orientation='horizontal')\n",
    "\n",
    "plt.xlabel('Exposure, s')\n",
    "plt.ylabel('Relaetive dispersion (std/mean)')\n",
    "plt.xlim([0,1.2])\n",
    "plt.grid(True)\n",
    "plt.show()"
   ]
  },
  {
   "cell_type": "code",
   "execution_count": null,
   "metadata": {},
   "outputs": [],
   "source": [
    "plt.figure(figsize=(15,10))\n",
    "for time in sorted(out_res.keys()):\n",
    "    \n",
    "    k_m = np.mean(out_res[time]['data_mean'].ravel())\n",
    "    k_s = np.std(out_res[time]['data_mean'].ravel())\n",
    "    plt.errorbar(time, k_m, yerr=k_s, fmt='o')\n",
    "    \n",
    "#     plt.subplot(122)\n",
    "#     plt.hist2d(out_res[time]['data_norm_std'].ravel(),out_res[time]['data_norm_mean'].ravel(),\n",
    "#               bins=(500,500))\n",
    "#     plt.title(time)\n",
    "#     plt.colorbar(orientation='horizontal')\n",
    "\n",
    "plt.xlabel('Exposure, s')\n",
    "plt.ylabel('Mean')\n",
    "plt.xlim([0,1.2])\n",
    "plt.grid(True)\n",
    "plt.show()"
   ]
  },
  {
   "cell_type": "code",
   "execution_count": null,
   "metadata": {
    "collapsed": true
   },
   "outputs": [],
   "source": [
    "plt.figure(figsize=(15,10))\n",
    "for time in sorted(out_res.keys()):\n",
    "    \n",
    "    k_m = np.mean(out_res[time]['data_std'].ravel())\n",
    "    k_s = np.std(out_res[time]['data_std'].ravel())\n",
    "    plt.errorbar(time, k_m, yerr=k_s, fmt='o')\n",
    "    \n",
    "#     plt.subplot(122)\n",
    "#     plt.hist2d(out_res[time]['data_norm_std'].ravel(),out_res[time]['data_norm_mean'].ravel(),\n",
    "#               bins=(500,500))\n",
    "#     plt.title(time)\n",
    "#     plt.colorbar(orientation='horizontal')\n",
    "\n",
    "plt.xlabel('Exposure, s')\n",
    "plt.ylabel('Std')\n",
    "plt.xlim([0,1.2])\n",
    "plt.grid(True)\n",
    "plt.show()"
   ]
  },
  {
   "cell_type": "code",
   "execution_count": null,
   "metadata": {
    "scrolled": false
   },
   "outputs": [],
   "source": [
    "for time in sorted(out_res.keys()):\n",
    "    plt.figure(figsize=(15,10))\n",
    "#     plt.subplot(121)\n",
    "    plt.hist2d(out_res[time]['data_std'].ravel(), out_res[time]['data_mean'].ravel(),\n",
    "              bins=(500,500))\n",
    "    plt.title(time)\n",
    "    plt.colorbar(orientation='horizontal')\n",
    "    \n",
    "#     plt.subplot(122)\n",
    "#     plt.hist2d(out_res[time]['data_norm_std'].ravel(),out_res[time]['data_norm_mean'].ravel(),\n",
    "#               bins=(500,500))\n",
    "#     plt.title(time)\n",
    "#     plt.colorbar(orientation='horizontal')\n",
    "    \n",
    "    plt.show()"
   ]
  },
  {
   "cell_type": "code",
   "execution_count": null,
   "metadata": {
    "collapsed": true
   },
   "outputs": [],
   "source": [
    "plt.figure(figsize=(10,10))\n",
    "for time in out_res.keys():\n",
    "    plt.plot(out_res[time]['norm_curve'], label=time)\n",
    "plt.legend(loc=0)\n",
    "plt.grid(True)\n",
    "plt.show()"
   ]
  },
  {
   "cell_type": "code",
   "execution_count": null,
   "metadata": {},
   "outputs": [],
   "source": [
    "out_res[time]['data_mean'for time in sorted(out_res.keys()):\n",
    "    plt.figure(figsize=(15,10))\n",
    "#     plt.subplot(121)\n",
    "    plt.hist2d(out_res[time]['data_std'].ravel(), out_res[time]['data_mean'].ravel(),\n",
    "              bins=(500,500))\n",
    "    plt.title(time)\n",
    "    plt.colorbar(orientation='horizontal')\n",
    "    \n",
    "#     plt.subplot(122)\n",
    "#     plt.hist2d(out_res[time]['data_norm_std'].ravel(),out_res[time]['data_norm_mean'].ravel(),\n",
    "#               bins=(500,500))\n",
    "#     plt.title(time)\n",
    "#     plt.colorbar(orientation='horizontal')\n",
    "    \n",
    "    plt.show()].ravel().shape"
   ]
  },
  {
   "cell_type": "code",
   "execution_count": null,
   "metadata": {
    "collapsed": true
   },
   "outputs": [],
   "source": [
    "for time in out_res.keys():\n",
    "    rel_std = out_res[time]['norm_curve']\n",
    "    plt.figure(figsize=(10,10))\n",
    "    plt.imshow()"
   ]
  },
  {
   "cell_type": "code",
   "execution_count": null,
   "metadata": {},
   "outputs": [],
   "source": [
    "out_res[out_res.keys()[0]].keys()"
   ]
  },
  {
   "cell_type": "code",
   "execution_count": null,
   "metadata": {
    "collapsed": true
   },
   "outputs": [],
   "source": [
    "dvn = np.sum(disp_vol[0])\n",
    "disp_vol_norm = disp_vol/np.expand_dims(np.expand_dims(disp_vol.sum(axis=-1).sum(axis=1),1),1)*dvn"
   ]
  },
  {
   "cell_type": "code",
   "execution_count": null,
   "metadata": {
    "collapsed": true
   },
   "outputs": [],
   "source": [
    "plt.figure(figsize=(10,12))\n",
    "plt.imshow(disp_vol[0], interpolation='nearest', cmap=plt.cm.gray_r)\n",
    "plt.show()"
   ]
  },
  {
   "cell_type": "code",
   "execution_count": null,
   "metadata": {
    "collapsed": true
   },
   "outputs": [],
   "source": [
    "data_mean = np.mean(disp_vol, axis=0)\n",
    "# data_norm_mean = np.mean(disp_vol_norm, axis=0)\n",
    "plt.figure(figsize=(10,12))\n",
    "# plt.subplot(121)\n",
    "plt.imshow(data_mean, interpolation='nearest', cmap=plt.cm.gray_r)\n",
    "plt.colorbar(orientation='horizontal')\n",
    "# plt.subplot(122)\n",
    "# plt.imshow(data_norm_mean, interpolation='nearest')\n",
    "# plt.colorbar(orientation='horizontal')\n",
    "plt.show()"
   ]
  },
  {
   "cell_type": "code",
   "execution_count": null,
   "metadata": {},
   "outputs": [],
   "source": [
    "data_std = np.std(disp_vol, axis=0)\n",
    "# data_norm_std = np.std(disp_vol_norm, axis=0)\n",
    "plt.figure(figsize=(10,12))\n",
    "# plt.subplot(121)\n",
    "plt.imshow(data_std, interpolation='nearest', cmap=plt.cm.gray_r)\n",
    "plt.colorbar(orientation='horizontal')\n",
    "\n",
    "# plt.subplot(122)\n",
    "# plt.imshow(data_norm_std, interpolation='nearest')\n",
    "# plt.colorbar(orientation='horizontal')\n",
    "\n",
    "plt.show()"
   ]
  },
  {
   "cell_type": "code",
   "execution_count": null,
   "metadata": {},
   "outputs": [],
   "source": [
    "plt.figure(figsize=(10,7))\n",
    "for i in range(0,500,500):\n",
    "    for j in range(0,500,500):\n",
    "        plt.errorbar(np.arange(disp_vol.shape[0]), disp_vol[:,i,j],\n",
    "                     yerr = data_std[i,j], fmt='o', ecolor='r',\n",
    "                     label = 'Original mean={}, std={}'.format(\n",
    "                        np.mean(disp_vol[:,i,j]),\n",
    "                        np.std(disp_vol[:,i,j])))\n",
    "#         plt.plot(disp_vol_norm[:,i,j], label = 'Norm mean={}, std={}'.format(\n",
    "#             np.mean(disp_vol_norm[:,i,j]),\n",
    "#             np.std(disp_vol_norm[:,i,j])))\n",
    "plt.grid(True)\n",
    "plt.legend(loc=0)\n",
    "plt.show()"
   ]
  },
  {
   "cell_type": "code",
   "execution_count": null,
   "metadata": {},
   "outputs": [],
   "source": [
    "plt.hist(disp_vol_norm[:,0,0], bins=50);"
   ]
  },
  {
   "cell_type": "code",
   "execution_count": null,
   "metadata": {},
   "outputs": [],
   "source": [
    "plt.hist(disp_vol[:,0,0], bins=50);"
   ]
  },
  {
   "cell_type": "code",
   "execution_count": null,
   "metadata": {
    "collapsed": true
   },
   "outputs": [],
   "source": [
    "plt.hist(data_std[::1000]/data_mean[::1000], bins=50);"
   ]
  },
  {
   "cell_type": "code",
   "execution_count": null,
   "metadata": {},
   "outputs": [],
   "source": [
    "data_set = disp_vol[:,10,10]\n",
    "plt.figure(figsize=(10,7))\n",
    "\n",
    "for step in [50,100,200, 350]:\n",
    "    res = []\n",
    "    for d in range(0,len(data_set), step):\n",
    "        disp = np.std(data_set[d:d+step])\n",
    "        res.append(disp)\n",
    "\n",
    "    base_line = plt.plot(res, 'o', label = step)\n",
    "    plt.hlines(np.mean(res), 0, len(data_set)//50, colors=base_line[0].get_color(), label = step)\n",
    "    \n",
    "plt.grid(True)\n",
    "plt.legend(loc=0)\n",
    "plt.show()"
   ]
  },
  {
   "cell_type": "code",
   "execution_count": null,
   "metadata": {},
   "outputs": [],
   "source": [
    "for i in np.linspace(0, disp_vol.shape[0],10):\n",
    "    print(i)\n",
    "    d = np.std(disp_vol[int(i): int(i+disp_vol.shape[0]/10)], axis=0)\n",
    "    plt.imsave('{}.png'.format(int(i)), d, cmap=plt.cm.gray_r)"
   ]
  },
  {
   "cell_type": "code",
   "execution_count": null,
   "metadata": {
    "collapsed": true
   },
   "outputs": [],
   "source": [
    "import scipy.stats.mstats"
   ]
  },
  {
   "cell_type": "code",
   "execution_count": null,
   "metadata": {
    "collapsed": true
   },
   "outputs": [],
   "source": [
    "a, b = scipy.stats.mstats.normaltest(disp_vol, axis=0)"
   ]
  },
  {
   "cell_type": "code",
   "execution_count": null,
   "metadata": {},
   "outputs": [],
   "source": [
    "plt.figure(figsize=(10,12))\n",
    "\n",
    "plt.imshow(b, interpolation='nearest', cmap=plt.cm.gray_r)\n",
    "plt.colorbar(orientation='horizontal')\n",
    "\n",
    "\n",
    "plt.show()"
   ]
  },
  {
   "cell_type": "code",
   "execution_count": null,
   "metadata": {},
   "outputs": [],
   "source": [
    "!ls -lah st*"
   ]
  },
  {
   "cell_type": "code",
   "execution_count": null,
   "metadata": {},
   "outputs": [],
   "source": [
    "np.sqrt(1400)"
   ]
  },
  {
   "cell_type": "code",
   "execution_count": null,
   "metadata": {
    "collapsed": true
   },
   "outputs": [],
   "source": []
  }
 ],
 "metadata": {
  "kernelspec": {
   "display_name": "Python 3",
   "language": "python",
   "name": "python3"
  },
  "language_info": {
   "codemirror_mode": {
    "name": "ipython",
    "version": 3
   },
   "file_extension": ".py",
   "mimetype": "text/x-python",
   "name": "python",
   "nbconvert_exporter": "python",
   "pygments_lexer": "ipython3",
   "version": "3.6.2"
  }
 },
 "nbformat": 4,
 "nbformat_minor": 2
}
