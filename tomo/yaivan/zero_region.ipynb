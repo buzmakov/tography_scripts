{
 "cells": [
  {
   "cell_type": "code",
   "execution_count": null,
   "metadata": {
    "collapsed": true
   },
   "outputs": [],
   "source": [
    "%matplotlib inline"
   ]
  },
  {
   "cell_type": "code",
   "execution_count": null,
   "metadata": {
    "collapsed": true
   },
   "outputs": [],
   "source": [
    "import numpy as np\n",
    "import pylab as plt\n",
    "import os\n",
    "import ConfigParser\n",
    "from glob import glob"
   ]
  },
  {
   "cell_type": "code",
   "execution_count": null,
   "metadata": {
    "collapsed": true
   },
   "outputs": [],
   "source": [
    "def read_config(config_path):\n",
    "    def as_dict(config):\n",
    "        d = dict(config._sections)\n",
    "        for k in d:\n",
    "            d[k] = dict(config._defaults, **d[k])\n",
    "            d[k].pop('__name__', None)\n",
    "        return d\n",
    "    \n",
    "    config = ConfigParser.RawConfigParser()\n",
    "    config.optionxform = str\n",
    "    config.read(config_path)\n",
    "    res = as_dict(config)\n",
    "    return res"
   ]
  },
  {
   "cell_type": "code",
   "execution_count": null,
   "metadata": {
    "collapsed": false
   },
   "outputs": [],
   "source": [
    "data_dir = '/diskmnt/a/makov/yaivan/MMC_1/_tmp/nrecon/bh_92_rc_20/'\n",
    "file_name = os.path.join(data_dir, 'MMC1_2.82um__rec0960.png')\n",
    "data_config = os.path.join(data_dir, 'MMC1_2.82um__rec.log')\n",
    "\n",
    "data = plt.imread(file_name)\n",
    "data=data[...,0]\n",
    "print(data.shape)"
   ]
  },
  {
   "cell_type": "code",
   "execution_count": null,
   "metadata": {
    "collapsed": false
   },
   "outputs": [],
   "source": [
    "config = read_config(data_config)\n",
    "\n",
    "d_min = config['Reconstruction']['Minimum for CS to Image Conversion']\n",
    "d_min = float(d_min)\n",
    "\n",
    "d_max = config['Reconstruction']['Maximum for CS to Image Conversion']\n",
    "d_max = float(d_max)\n",
    "\n",
    "print(d_min, d_max)"
   ]
  },
  {
   "cell_type": "code",
   "execution_count": null,
   "metadata": {
    "collapsed": false
   },
   "outputs": [],
   "source": [
    "data = data.astype('float32')\n",
    "data = (data-data.min())/(data.max()-data.min())*(d_max-d_min)+d_min\n",
    "\n",
    "assert(data.shape[0]==data.shape[1])\n",
    "radius = data.shape[0]/2+10\n",
    "\n",
    "X,Y = np.meshgrid(np.arange(data.shape[0])-data.shape[0]/2.,np.arange(data.shape[1])-data.shape[1]/2.)\n",
    "disk_mask_big = (X*X+Y*Y)<radius*radius \n",
    "\n",
    "data_zero = data.copy()\n",
    "data_zero[disk_mask_big>0.5] = 0\n",
    "data_zero[disk_mask_big<=0.5] = 1\n",
    "\n",
    "radius = data.shape[0]/2-10\n",
    "\n",
    "disk_mask_small = (X*X+Y*Y)<radius*radius\n",
    "\n",
    "data_not_zero = data.copy()\n",
    "data_not_zero[disk_mask_small<0.5] = 0"
   ]
  },
  {
   "cell_type": "code",
   "execution_count": null,
   "metadata": {
    "collapsed": false
   },
   "outputs": [],
   "source": [
    "plt.figure(figsize=(16,16))\n",
    "plt.title('Pure data')\n",
    "plt.imshow(data, cmap=plt.cm.gray)\n",
    "plt.colorbar(orientation='horizontal')"
   ]
  },
  {
   "cell_type": "code",
   "execution_count": null,
   "metadata": {
    "collapsed": false
   },
   "outputs": [],
   "source": [
    "x = data_zero\n",
    "x = set(x.flatten())\n",
    "print 'Values outside disk: ', x\n",
    "print 'Image discrtisation value: ', (d_max-d_min)/256"
   ]
  },
  {
   "cell_type": "code",
   "execution_count": null,
   "metadata": {
    "collapsed": false
   },
   "outputs": [],
   "source": [
    "plt.figure(figsize=(16,16))\n",
    "plt.title('Zero mask')\n",
    "plt.imshow(data_zero, cmap=plt.cm.gray)\n",
    "plt.colorbar(orientation='horizontal')"
   ]
  },
  {
   "cell_type": "code",
   "execution_count": null,
   "metadata": {
    "collapsed": false
   },
   "outputs": [],
   "source": [
    "plt.figure(figsize=(16,16))\n",
    "plt.title('Zero mask')\n",
    "plt.imshow(data_not_zero, cmap=plt.cm.gray, vmin=0, vmax=(d_max-d_min)/256*10)\n",
    "plt.colorbar(orientation='horizontal')"
   ]
  },
  {
   "cell_type": "code",
   "execution_count": null,
   "metadata": {
    "collapsed": false
   },
   "outputs": [],
   "source": [
    "zeros_mask = plt.imread(\n",
    "    '/diskmnt/a/makov/yaivan/MMC_1/_tmp/binary_masks/MMC1_2.82um__rec0960_MASK_ZEROS.png')[...,0]"
   ]
  },
  {
   "cell_type": "code",
   "execution_count": null,
   "metadata": {
    "collapsed": false
   },
   "outputs": [],
   "source": [
    "plt.figure(figsize=(16,16))\n",
    "plt.title('Zero mask')\n",
    "plt.imshow(zeros_mask, cmap=plt.cm.gray)\n",
    "# plt.colorbar(orientation='horizontal')\n",
    "# plt.savefig('mask.png')"
   ]
  },
  {
   "cell_type": "code",
   "execution_count": null,
   "metadata": {
    "collapsed": false
   },
   "outputs": [],
   "source": [
    "plt.figure(figsize=(16,16))\n",
    "plt.title('Zero mask')\n",
    "plt.imshow(data_zero+zeros_mask, cmap=plt.cm.gray)\n",
    "plt.colorbar()"
   ]
  },
  {
   "cell_type": "code",
   "execution_count": null,
   "metadata": {
    "collapsed": true
   },
   "outputs": [],
   "source": [
    "plt.imsave('/diskmnt/a/makov/yaivan/MMC_1/_tmp/binary_masks/MMC1_2.82um__rec0960_MASK_ZEROS_CONERS.png',\n",
    "          data_zero+zeros_mask, cmap=plt.cm.gray)"
   ]
  },
  {
   "cell_type": "code",
   "execution_count": null,
   "metadata": {
    "collapsed": false
   },
   "outputs": [],
   "source": [
    "data_zeros = data[zeros_mask>0]"
   ]
  },
  {
   "cell_type": "code",
   "execution_count": null,
   "metadata": {
    "collapsed": false
   },
   "outputs": [],
   "source": [
    "mu2=data_zeros.mean()**2\n",
    "d=np.mean(data_zeros**2)"
   ]
  },
  {
   "cell_type": "code",
   "execution_count": null,
   "metadata": {
    "collapsed": false
   },
   "outputs": [],
   "source": [
    "# data_dirs = glob('/diskmnt/storage0/nrecon/bh_*')\n",
    "data_dirs = glob('/diskmnt/a/makov/yaivan/MMC_1/_tmp/astra/bh_*')\n",
    "print len(data_dirs)"
   ]
  },
  {
   "cell_type": "code",
   "execution_count": null,
   "metadata": {
    "collapsed": false
   },
   "outputs": [],
   "source": [
    "!ls {data_dirs[0]}"
   ]
  },
  {
   "cell_type": "code",
   "execution_count": null,
   "metadata": {
    "collapsed": true
   },
   "outputs": [],
   "source": [
    "json_config = {'mask_image': '/diskmnt/a/makov/yaivan/MMC_1/_tmp/binary_masks/MMC1_2.82um__rec0960_MASK_ZEROS_CONERS.png',\n",
    "         'data_image': '/diskmnt/a/makov/yaivan/MMC_1/_tmp/astra/bh_60_rc_10/MMC1_2.82um__rec0960_astra_sart.png',\n",
    "         'tomo_log': '/diskmnt/a/makov/yaivan/MMC_1/_tmp/astra/bh_60_rc_10/MMC1_2.82um__rec.log'}"
   ]
  },
  {
   "cell_type": "code",
   "execution_count": null,
   "metadata": {
    "collapsed": false
   },
   "outputs": [],
   "source": [
    "import scipy.ndimage.measurements\n",
    "import logging\n",
    "import ConfigParser\n",
    "\n",
    "LOG_FILENAME = 'astra_rec.out'\n",
    "\n",
    "my_logger = logging.getLogger('')\n",
    "my_logger.setLevel(logging.DEBUG)\n",
    "handler = logging.handlers.RotatingFileHandler(\n",
    "    LOG_FILENAME,  maxBytes=1e5, backupCount=5)\n",
    "formatter = logging.Formatter('%(asctime)-15s %(levelname)-8s %(message)s')\n",
    "handler.setFormatter(formatter)\n",
    "\n",
    "my_logger.addHandler(handler)\n",
    "\n",
    "def read_config(config_path):\n",
    "    def as_dict(config):\n",
    "        d = dict(config._sections)\n",
    "        for k in d:\n",
    "            d[k] = dict(config._defaults, **d[k])\n",
    "            d[k].pop('__name__', None)\n",
    "        return d\n",
    "    \n",
    "    config = ConfigParser.RawConfigParser()\n",
    "    config.optionxform = str\n",
    "    config.read(config_path)\n",
    "    res = as_dict(config)\n",
    "    return res\n",
    "\n",
    "def read_params(config):\n",
    "    logging.info('Input tomo_log: {}'.format(config))\n",
    "    mask_file = config['mask_image']\n",
    "    if not os.path.exists(mask_file):\n",
    "        logging.error('Mask image not exists: {}'.format(mask_file))\n",
    "        raise IOError('Mask image not exists: {}'.format(mask_file))\n",
    "    else:\n",
    "        logging.info('Mask image found: {}'.format(mask_file))\n",
    "        \n",
    "    data_file = config['data_image']\n",
    "    if not os.path.exists(mask_file):\n",
    "        logging.error('Data image not exists: {}'.format(data_file))\n",
    "        raise IOError('Data image not exists: {}'.format(data_file))\n",
    "    else:\n",
    "        logging.info('Data image found: {}'.format(data_file))\n",
    "    \n",
    "    tomolog_file = config['tomo_log']\n",
    "    if not os.path.exists(mask_file):\n",
    "        log.error('Tomo log not exists: {}'.format(tomolog_file))\n",
    "        raise IOError('Tomo log not exists: {}'.format(tomolog_file))\n",
    "    else:\n",
    "        logging.info('Tomo log found: {}'.format(tomolog_file))\n",
    "                      \n",
    "    zeros_mask = plt.imread(mask_file)\n",
    "    if len(zeros_mask.shape) == 3:\n",
    "        zeros_mask = zeros_mask[...,0]\n",
    "    elif not len(zeros_mask.shape) == 2:\n",
    "        logging.error('Wrong zeros mask dimensions number. Requied 2 or 3, given {}'.format(len(zeros_mask.shape)))\n",
    "        raise ValueError('Wrong zeros mask dimensions number. Requied 2 or 3, given {}'.format(len(zeros_mask.shape))) \n",
    "        \n",
    "    data_image = plt.imread(data_file)\n",
    "    if len(data_image.shape) == 3:\n",
    "        data_image =data_image[...,0]\n",
    "    elif not len(data_image.shape) == 2:\n",
    "        logging.error('Wrong data image dimensions number. Requied 2 or 3, given {}'.format(len(zeros_mask.shape)))\n",
    "        raise ValueError('Wrong data image dimensions number. Requied 2 or 3, given {}'.format(len(zeros_mask.shape))) \n",
    "    \n",
    "    config = read_config(tomolog_file)\n",
    "    logging.info('Config: {}'.format(config))\n",
    "    d_min = config['Reconstruction']['Minimum for CS to Image Conversion']\n",
    "    d_min = float(d_min)\n",
    "    d_max = config['Reconstruction']['Maximum for CS to Image Conversion']\n",
    "    d_max = float(d_max)\n",
    "    data = data_image /(data_image .max()-data_image .min())*(d_max-d_min)+d_min\n",
    "    \n",
    "    return data, zeros_mask, config\n",
    "\n",
    "def calculate_background(data, zeros_mask):   \n",
    "    labeled_mask, num_features = scipy.ndimage.measurements.label(zeros_mask)\n",
    "    logging.info('Found regions: {}'.format(num_features-1))\n",
    "    sigma = []\n",
    "    for nf in range(num_features):\n",
    "        if nf == 0 :\n",
    "            continue\n",
    "        \n",
    "        data_constant = data[labeled_mask==nf]\n",
    "        s = np.std(data_constant)\n",
    "        sigma.append(s)\n",
    "    logging.info('Sigmas for regions: {}'.format(sigma))\n",
    "    std = np.mean(sigma)\n",
    "    logging.info('Mean sigma for regions: {}'.format(std))\n",
    "    mean_value = data.mean()\n",
    "    logging.info('Mean reconstruction value for regions: {}'.format(mean_value))\n",
    "    res = std/mean_value\n",
    "    logging.info('Normalized sigma: {}'.format(res))\n",
    "    return  res\n",
    "\n",
    "def main():\n",
    "    data, zeros_mask, config = read_params(json_config)\n",
    "    calculate_background(data, zeros_mask)\n",
    "    \n",
    "main()"
   ]
  },
  {
   "cell_type": "code",
   "execution_count": null,
   "metadata": {
    "collapsed": false
   },
   "outputs": [],
   "source": [
    "zeros_mask = plt.imread(\n",
    "    '/diskmnt/a/makov/yaivan/MMC_1/_tmp/binary_masks/MMC1_2.82um__rec0960_MASK_ZEROS_CONERS.png')[...,0]\n",
    "\n",
    "for d in data_dirs[0:1]:  \n",
    "    print d,\n",
    "#     file_name = os.path.join(d, 'MMC1_2.82um__rec0960.png')\n",
    "    file_name = os.path.join(d, 'MMC1_2.82um__rec0960_astra_sart.png')\n",
    "    data_config = os.path.join(d, 'MMC1_2.82um__rec.log')\n",
    "\n",
    "\n",
    "    config = read_config(data_config)\n",
    "    \n",
    "    d_min = config['Reconstruction']['Minimum for CS to Image Conversion']\n",
    "    d_min = float(d_min)\n",
    "\n",
    "    d_max = config['Reconstruction']['Maximum for CS to Image Conversion']\n",
    "    d_max = float(d_max)\n",
    "    \n",
    "    bh = config['Reconstruction']['Beam Hardening Correction (%)']\n",
    "    bh = float(bh)\n",
    "    \n",
    "    rc = config['Reconstruction']['Ring Artifact Correction']\n",
    "    rc = float(rc)\n",
    "    \n",
    "    \n",
    "    \n",
    "    data = plt.imread(file_name)\n",
    "    data=data[...,0]\n",
    "    \n",
    "    calculate_background(data, zeros_mask)"
   ]
  },
  {
   "cell_type": "code",
   "execution_count": null,
   "metadata": {
    "collapsed": false
   },
   "outputs": [],
   "source": [
    "zeros_mask = plt.imread(\n",
    "    '/diskmnt/a/makov/yaivan/MMC_1/_tmp/binary_masks/MMC1_2.82um__rec0960_MASK_ZEROS_CONERS.png')[...,0]\n",
    "\n",
    "res = []\n",
    "for d in data_dirs[0:1]:  \n",
    "    print d,\n",
    "#     file_name = os.path.join(d, 'MMC1_2.82um__rec0960.png')\n",
    "    file_name = os.path.join(d, 'MMC1_2.82um__rec0960_astra_sart.png')\n",
    "    data_config = os.path.join(d, 'MMC1_2.82um__rec.log')\n",
    "\n",
    "\n",
    "    config = read_config(data_config)\n",
    "    \n",
    "    d_min = config['Reconstruction']['Minimum for CS to Image Conversion']\n",
    "    d_min = float(d_min)\n",
    "\n",
    "    d_max = config['Reconstruction']['Maximum for CS to Image Conversion']\n",
    "    d_max = float(d_max)\n",
    "    \n",
    "    bh = config['Reconstruction']['Beam Hardening Correction (%)']\n",
    "    bh = float(bh)\n",
    "    \n",
    "    rc = config['Reconstruction']['Ring Artifact Correction']\n",
    "    rc = float(rc)\n",
    "    \n",
    "    \n",
    "    \n",
    "    data = plt.imread(file_name)\n",
    "    data=data[...,0]\n",
    "    \n",
    "    data_zeros = data[zeros_mask>0]\n",
    "    \n",
    "    mu2 = data_zeros.mean()**2\n",
    "    d = np.mean(data_zeros**2)\n",
    "    s = np.std(data_zeros)\n",
    "    res.append([bh, rc, mu2, d ,s])\n",
    "    \n",
    "    print bh, rc, mu2, d, s"
   ]
  },
  {
   "cell_type": "code",
   "execution_count": null,
   "metadata": {
    "collapsed": false
   },
   "outputs": [],
   "source": [
    "bhs = set([x[0] for x in res])\n",
    "bhs = sorted(list(bhs))\n",
    "print bhs\n",
    "\n",
    "rcs = set([x[1] for x in res])\n",
    "rcs = sorted(list(rcs))\n",
    "print rcs\n",
    "\n",
    "B,H = np.meshgrid(bhs, rcs)\n",
    "\n",
    "M2 = np.zeros_like(B)\n",
    "D = np.zeros_like(B)\n",
    "S = np.zeros_like(B)\n",
    "for ib, b in enumerate(B[0]):\n",
    "    for ih, h in enumerate(H[:,0]):\n",
    "        for r in res:\n",
    "            if np.isclose(r[0], b) and np.isclose(r[1], h):\n",
    "                M2[ih,ib] = r[2]\n",
    "                D[ih,ib] = r[3]\n",
    "                S[ih,ib] = r[4]\n",
    "                break"
   ]
  },
  {
   "cell_type": "code",
   "execution_count": null,
   "metadata": {
    "collapsed": false
   },
   "outputs": [],
   "source": [
    "plt.figure(figsize=(15,15))\n",
    "plt.title('M2')\n",
    "plt.pcolor(B,H,M2)\n",
    "plt.colorbar(orientation='horizontal');\n",
    "plt.xlabel('Beam hardering, %')\n",
    "plt.ylabel('Ring correction, au')\n",
    "plt.savefig('M2.png')"
   ]
  },
  {
   "cell_type": "code",
   "execution_count": null,
   "metadata": {
    "collapsed": false
   },
   "outputs": [],
   "source": [
    "plt.figure(figsize=(15,15))\n",
    "plt.title('D')\n",
    "plt.pcolor(B,H,D)\n",
    "plt.colorbar(orientation='horizontal');\n",
    "plt.xlabel('Beam hardering, %')\n",
    "plt.ylabel('Ring correction, au')\n",
    "plt.savefig('D.png')"
   ]
  },
  {
   "cell_type": "code",
   "execution_count": null,
   "metadata": {
    "collapsed": false
   },
   "outputs": [],
   "source": [
    "plt.figure(figsize=(15,15))\n",
    "plt.title('M2+D')\n",
    "plt.pcolor(B,H,M2+D)\n",
    "plt.colorbar(orientation='horizontal');\n",
    "plt.xlabel('Beam hardering, %')\n",
    "plt.ylabel('Ring correction, au')\n",
    "plt.savefig('M2_D.png')"
   ]
  },
  {
   "cell_type": "code",
   "execution_count": null,
   "metadata": {
    "collapsed": false
   },
   "outputs": [],
   "source": [
    "plt.figure(figsize=(15,15))\n",
    "plt.title('Std')\n",
    "plt.pcolor(B,H,S)\n",
    "plt.colorbar(orientation='horizontal');\n",
    "plt.xlabel('Beam hardering, %')\n",
    "plt.ylabel('Ring correction, au')\n",
    "plt.savefig('std.png')"
   ]
  },
  {
   "cell_type": "code",
   "execution_count": null,
   "metadata": {
    "collapsed": true
   },
   "outputs": [],
   "source": [
    "np.std?"
   ]
  },
  {
   "cell_type": "code",
   "execution_count": null,
   "metadata": {
    "collapsed": true
   },
   "outputs": [],
   "source": [
    "import json"
   ]
  },
  {
   "cell_type": "code",
   "execution_count": null,
   "metadata": {
    "collapsed": false
   },
   "outputs": [],
   "source": [
    "with open('bg.json','w') as f:\n",
    "    json.dump(json_config, f)"
   ]
  },
  {
   "cell_type": "code",
   "execution_count": null,
   "metadata": {
    "collapsed": true
   },
   "outputs": [],
   "source": [
    "json.load?"
   ]
  },
  {
   "cell_type": "code",
   "execution_count": null,
   "metadata": {
    "collapsed": true
   },
   "outputs": [],
   "source": []
  }
 ],
 "metadata": {
  "kernelspec": {
   "display_name": "Python 3",
   "language": "python",
   "name": "python3"
  },
  "language_info": {
   "codemirror_mode": {
    "name": "ipython",
    "version": 3
   },
   "file_extension": ".py",
   "mimetype": "text/x-python",
   "name": "python",
   "nbconvert_exporter": "python",
   "pygments_lexer": "ipython3",
   "version": "3.5.1"
  }
 },
 "nbformat": 4,
 "nbformat_minor": 0
}
