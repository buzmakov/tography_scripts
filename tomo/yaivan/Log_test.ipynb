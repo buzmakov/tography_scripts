{
 "cells": [
  {
   "cell_type": "code",
   "execution_count": null,
   "metadata": {},
   "outputs": [],
   "source": [
    "%matplotlib inline"
   ]
  },
  {
   "cell_type": "code",
   "execution_count": null,
   "metadata": {},
   "outputs": [],
   "source": [
    "import astra\n",
    "import numpy as np\n",
    "import pylab as plt\n",
    "import os\n",
    "import glob\n",
    "import scipy.ndimage\n",
    "import skimage.segmentation\n",
    "import matplotlib\n",
    "font = {'size'   : 16}\n",
    "matplotlib.rc('font', **font)"
   ]
  },
  {
   "cell_type": "code",
   "execution_count": null,
   "metadata": {
    "collapsed": true
   },
   "outputs": [],
   "source": [
    "def log_progress(sequence, every=None, size=None):\n",
    "    from ipywidgets import IntProgress, HTML, VBox\n",
    "    from IPython.display import display\n",
    "\n",
    "    is_iterator = False\n",
    "    if size is None:\n",
    "        try:\n",
    "            size = len(sequence)\n",
    "        except TypeError:\n",
    "            is_iterator = True\n",
    "    if size is not None:\n",
    "        if every is None:\n",
    "            if size <= 200:\n",
    "                every = 1\n",
    "            else:\n",
    "                every = size / 200     # every 0.5%\n",
    "    else:\n",
    "        assert every is not None, 'sequence is iterator, set every'\n",
    "\n",
    "    if is_iterator:\n",
    "        progress = IntProgress(min=0, max=1, value=1)\n",
    "        progress.bar_style = 'info'\n",
    "    else:\n",
    "        progress = IntProgress(min=0, max=size, value=0)\n",
    "    label = HTML()\n",
    "    box = VBox(children=[label, progress])\n",
    "    display(box)\n",
    "\n",
    "    index = 0\n",
    "    try:\n",
    "        for index, record in enumerate(sequence, 1):\n",
    "            if index == 1 or index % every == 0:\n",
    "                if is_iterator:\n",
    "                    label.value = '{index} / ?'.format(index=index)\n",
    "                else:\n",
    "                    progress.value = index\n",
    "                    label.value = u'{index} / {size}'.format(\n",
    "                        index=index,\n",
    "                        size=size\n",
    "                    )\n",
    "            yield record\n",
    "    except:\n",
    "        progress.bar_style = 'danger'\n",
    "        raise\n",
    "    else:\n",
    "        progress.bar_style = 'success'\n",
    "        progress.value = index\n",
    "        label.value = unicode(index or '?')"
   ]
  },
  {
   "cell_type": "code",
   "execution_count": null,
   "metadata": {
    "collapsed": true
   },
   "outputs": [],
   "source": [
    "def images_diff(im1, im2):\n",
    "    assert(im1.shape==im2.shape)\n",
    "    rec_diff = np.zeros(shape=(im1.shape[0],im1.shape[1],3), dtype='float32')\n",
    "    im1_t = im1.copy()\n",
    "    im1_t = (im1_t-im1_t.min())/(im1_t.max()-im1_t.min())\n",
    "    \n",
    "    im2_t = im2.copy()\n",
    "    im2_t = (im2_t-im2_t.min())/(im2_t.max()-im2_t.min())\n",
    "    \n",
    "    # nrecon_rec_t[nrecon_rec_t<0] = 0\n",
    "    diff_rec = im1_t-im2_t\n",
    "    rec_diff[...,0] = diff_rec*(diff_rec>0)\n",
    "    rec_diff[...,1] = -diff_rec*(diff_rec<0)\n",
    "    rec_diff[...,2] = rec_diff[...,1]\n",
    "    return rec_diff"
   ]
  },
  {
   "cell_type": "code",
   "execution_count": null,
   "metadata": {},
   "outputs": [],
   "source": [
    "def log_sinogram(sino):\n",
    "    '''\n",
    "    This function convert NRecon sinogram_raw to sinogram.\n",
    "    Searchin cut threshold, calculate log and change range to 0 ... 65535. \n",
    "    \n",
    "    Inputs:\n",
    "      sino - 2D raw sinogram\n",
    "    '''\n",
    "    tmp_sino = sino.copy()  # make copy for inplace corrections\n",
    "    tmp_sino[tmp_sino==0]=0.1\n",
    "    k1 = tmp_sino[:,1:11].mean(axis=-1) # left range\n",
    "    k2 = tmp_sino[:,-12:-2].mean(axis=-1) # right range\n",
    "    trh = np.maximum(k1,k2)  # cut threshold\n",
    "    for i in range(tmp_sino.shape[0]):  # нормируем каждую строку\n",
    "        t=tmp_sino[i]  # указатель на строку\n",
    "        t[t>trh[i]]=trh[i]  # обрезаем по верхнему порогу \n",
    "        t/=trh[i]  # нормируем строку перед логрифмированием\n",
    "    \n",
    "    tmp_sino = -np.log(tmp_sino)\n",
    "    tmp_sino = tmp_sino/tmp_sino.max()*65535  # переходим в диапазон 0...65535\n",
    "    return tmp_sino\n"
   ]
  },
  {
   "cell_type": "code",
   "execution_count": null,
   "metadata": {},
   "outputs": [],
   "source": [
    "# data_root = '/diskmnt/a/makov/yaivan/MMC_1/'\n",
    "# nrecon_root_folder = os.path.join(data_root,'_tmp','nrecon')\n",
    "# nrecon_folders = glob.glob(os.path.join(nrecon_root_folder, '*'))\n",
    "# nrecon_folders = [nf for nf in nrecon_folders if os.path.isdir(nf)]\n",
    "# print len(nrecon_folders)"
   ]
  },
  {
   "cell_type": "code",
   "execution_count": null,
   "metadata": {},
   "outputs": [],
   "source": [
    "# !ls /diskmnt/a/makov/yaivan/Sand/_tmp/nrecon/bh_0_rc_0"
   ]
  },
  {
   "cell_type": "code",
   "execution_count": null,
   "metadata": {},
   "outputs": [],
   "source": [
    "# !ls /diskmnt/a/makov/yaivan/MMC_1/_tmp/nrecon/bh_*_rc_0"
   ]
  },
  {
   "cell_type": "code",
   "execution_count": null,
   "metadata": {},
   "outputs": [],
   "source": [
    "# !md5sum /diskmnt/a/makov/yaivan/MMC_1/_tmp/nrecon/bh_0_rc_0/*"
   ]
  },
  {
   "cell_type": "code",
   "execution_count": null,
   "metadata": {},
   "outputs": [],
   "source": [
    "# bh_images = {}\n",
    "# sr_images  = {}\n",
    "# sl_images = {}\n",
    "# for bh in log_progress(np.arange(0,101,10)):\n",
    "#     nrecon_folder='/diskmnt/a/makov/yaivan/MMC_1/_tmp/nrecon/bh_{}_rc_0/'.format(bh)\n",
    "#     sino_raw = os.path.join(nrecon_folder, 'MMC1_2.82um__sinoraw_0960.tif')\n",
    "#     sino_log = os.path.join(nrecon_folder, 'MMC1_2.82um__sino0960.tif')\n",
    "#     rec_file = os.path.join(nrecon_folder, 'MMC1_2.82um__rec0960.png')\n",
    "#     v_max = 0.52\n",
    "#     v_min = -0.18\n",
    "# #     nrecon_folder='/diskmnt/a/makov/yaivan/Sand/_tmp/nrecon/bh_{}_rc_0/'.format(bh)\n",
    "# #     sino_raw = os.path.join(nrecon_folder, 'Chieftain_Unc_2.8__sinoraw_0980.tif')\n",
    "# #     sino_log = os.path.join(nrecon_folder, 'Chieftain_Unc_2.8__sino0980.tif')\n",
    "# #     rec_file = os.path.join(nrecon_folder, 'Chieftain_Unc_2.8__rec0980.png')\n",
    "# #     v_max = 0.0680\n",
    "# #     v_min = -0.0250\n",
    "#     if os.path.isfile(rec_file):\n",
    "#         bh_images[bh] = np.squeeze(plt.imread(rec_file).astype('float32')[...,0])\n",
    "#         sr_images[bh] = plt.imread(sino_raw).astype('float32')\n",
    "#         sl_images[bh] = plt.imread(sino_log).astype('float32')"
   ]
  },
  {
   "cell_type": "code",
   "execution_count": null,
   "metadata": {
    "collapsed": true
   },
   "outputs": [],
   "source": [
    "# sr = plt.imread('/diskmnt/a/makov/yaivan/Sand/_tmp/nrecon/noTS/Chieftain_Unc_2.8__sinoraw_0980.tif').astype('float32')\n",
    "# sl = plt.imread('/diskmnt/a/makov/yaivan/Sand/_tmp/nrecon/noTS/Chieftain_Unc_2.8__sino0980.tif').astype('float32')\n",
    "# images = sorted(glob.glob(r'/diskmnt/a/makov/yaivan/Sand/Raw/Chieftain_Unc_2.8_????.tif'))"
   ]
  },
  {
   "cell_type": "code",
   "execution_count": null,
   "metadata": {
    "collapsed": true
   },
   "outputs": [],
   "source": [
    "sr = plt.imread('/home/makov/Downloads/nrecon/Chieftain_Unc_2.8__sinoraw_0245.tif').astype('float32')\n",
    "sl = plt.imread('/home/makov/Downloads/nrecon/Chieftain_Unc_2.8__sino0245.tif').astype('float32')"
   ]
  },
  {
   "cell_type": "code",
   "execution_count": null,
   "metadata": {
    "collapsed": true
   },
   "outputs": [],
   "source": [
    "sr = plt.imread('/home/makov/Downloads/nrecon/MMC1_2.82um__sinoraw_0400.tif').astype('float32')\n",
    "sl = plt.imread('/home/makov/Downloads/nrecon/MMC1_2.82um__sino0400.tif').astype('float32')"
   ]
  },
  {
   "cell_type": "code",
   "execution_count": null,
   "metadata": {
    "collapsed": true
   },
   "outputs": [],
   "source": [
    "sr = plt.imread('/home/makov/Downloads/nr/2/Chieftain_Unc_2.8__sinoraw_0491.tif').astype('float32')\n",
    "sl = plt.imread('/home/makov/Downloads/nr/2/Chieftain_Unc_2.8__sino0491.tif').astype('float32')"
   ]
  },
  {
   "cell_type": "code",
   "execution_count": null,
   "metadata": {
    "collapsed": true
   },
   "outputs": [],
   "source": [
    "sl_my = log_sinogram(sr)"
   ]
  },
  {
   "cell_type": "code",
   "execution_count": null,
   "metadata": {
    "scrolled": true
   },
   "outputs": [],
   "source": [
    "plt.figure(figsize=(5,5))\n",
    "plt.imshow(100*images_diff(sl_my,sl))\n",
    "plt.axis('tight')\n",
    "plt.colorbar()"
   ]
  },
  {
   "cell_type": "code",
   "execution_count": null,
   "metadata": {},
   "outputs": [],
   "source": [
    "plt.figure(figsize=(5,5))\n",
    "plt.plot(sl_my.ravel()[::100],sl.ravel()[::100],'*')\n",
    "plt.grid()"
   ]
  },
  {
   "cell_type": "code",
   "execution_count": null,
   "metadata": {},
   "outputs": [],
   "source": []
  },
  {
   "cell_type": "code",
   "execution_count": null,
   "metadata": {
    "collapsed": true
   },
   "outputs": [],
   "source": [
    "sr = plt.imread('/diskmnt/a/makov/yaivan/Sand/_tmp/nrecon/TS/Chieftain_Unc_2.8__sinoraw_0980.tif').astype('float32')\n",
    "sl = plt.imread('/diskmnt/a/makov/yaivan/Sand/_tmp/nrecon/TS/Chieftain_Unc_2.8__sino0980.tif').astype('float32')\n",
    "# images = sorted(glob.glob(r'/diskmnt/a/makov/yaivan/Sand/Raw/Chieftain_Unc_2.8_????.tif'))"
   ]
  },
  {
   "cell_type": "code",
   "execution_count": null,
   "metadata": {
    "collapsed": true
   },
   "outputs": [],
   "source": [
    "sr = plt.imread('/home/makov/Downloads/NRecon_out/test/Chieftain_Unc_2.8__sinoraw_0245.tif').astype('float32')\n",
    "sl = plt.imread('/home/makov/Downloads/NRecon_out/test/Chieftain_Unc_2.8__sino0245.tif').astype('float32')"
   ]
  },
  {
   "cell_type": "code",
   "execution_count": null,
   "metadata": {
    "collapsed": true
   },
   "outputs": [],
   "source": [
    "sr_files = glob.glob('/diskmnt/a/makov/yaivan/Sand/_tmp/nrecon/TS/Chieftain_Unc_2.8__sinoraw_????.tif')\n",
    "sr_files = sorted(sr_files)\n",
    "\n",
    "sl_files = glob.glob('/diskmnt/a/makov/yaivan/Sand/_tmp/nrecon/TS/Chieftain_Unc_2.8__sino????.tif')\n",
    "sl_files = sorted(sl_files)"
   ]
  },
  {
   "cell_type": "code",
   "execution_count": null,
   "metadata": {},
   "outputs": [],
   "source": [
    "sr_files"
   ]
  },
  {
   "cell_type": "code",
   "execution_count": null,
   "metadata": {},
   "outputs": [],
   "source": [
    "sl_files"
   ]
  },
  {
   "cell_type": "code",
   "execution_count": null,
   "metadata": {},
   "outputs": [],
   "source": [
    "sr_shape = sr.shape\n",
    "sl_shape = sl.shape\n",
    "print(sr_shape, sl_shape)"
   ]
  },
  {
   "cell_type": "code",
   "execution_count": null,
   "metadata": {},
   "outputs": [],
   "source": [
    "sr = np.zeros((len(sr_files), sr_shape[0], sr_shape[1]))\n",
    "for isrf, srf in enumerate(sr_files):\n",
    "    sr[isrf]=plt.imread(srf).astype('float32')\n",
    "    \n",
    "sl = np.zeros((len(sl_files), sl_shape[0], sl_shape[1]))\n",
    "for islf, slf in enumerate(sl_files):\n",
    "    sl[islf]=plt.imread(slf).astype('float32')"
   ]
  },
  {
   "cell_type": "code",
   "execution_count": null,
   "metadata": {
    "collapsed": true
   },
   "outputs": [],
   "source": [
    "from numpy import median"
   ]
  },
  {
   "cell_type": "code",
   "execution_count": null,
   "metadata": {
    "scrolled": false
   },
   "outputs": [],
   "source": [
    "for sn in [10,]: #range(sr.shape[0]):\n",
    "    plt.figure(figsize=(10,10))\n",
    "    r=sr[sn].copy()\n",
    "    r[sl[sn]>0]=65535\n",
    "#     plt.plot(sr[sn,:,1:11].mean(axis=-1), label='mean')\n",
    "#     plt.plot(sr[sn,:,-11:-1].mean(axis=-1), label='mean')\n",
    "    plt.plot(np.maximum(sr[sn,:,1:11].mean(axis=-1), sr[sn,:,-12:-2].mean(axis=-1)), label='mean')\n",
    "    plt.plot(r.min(axis=-1), label='cut at {}'.format(sn))\n",
    "    plt.grid()\n",
    "    plt.legend(loc=0)\n",
    "    plt.show()"
   ]
  },
  {
   "cell_type": "code",
   "execution_count": null,
   "metadata": {
    "collapsed": true
   },
   "outputs": [],
   "source": [
    "for sn in range(sr.shape[0]):\n",
    "    plt.figure(figsize=(10,10))\n",
    "#     plt.subplot(121)\n",
    "    r=sr[sn].copy()\n",
    "    r[sl[sn]>0]=65535\n",
    "#     plt.plot(median(sr[sn,:,:11],axis=-1), r.min(axis=-1),'o')\n",
    "    k0 = r.min(axis=-1)\n",
    "    k1 = sr[sn,:,1:11].mean(axis=-1)\n",
    "    k2 = sr[sn,:,-12:-2].mean(axis=-1)\n",
    "    plt.plot(k1, k0,'o')\n",
    "    plt.plot(k2, k0,'o')\n",
    "    plt.plot(np.maximum(k1,k2), k0,'o')\n",
    "    plt.grid()\n",
    "#     plt.subplot(122)\n",
    "#     plt.imshow(sl[sn],cmap=plt.cm.gray)\n",
    "    plt.show()"
   ]
  },
  {
   "cell_type": "code",
   "execution_count": null,
   "metadata": {
    "scrolled": true
   },
   "outputs": [],
   "source": [
    "for sn in range(sr.shape[0]):\n",
    "    plt.figure(figsize=(10,10))\n",
    "    r=sr[sn].copy()\n",
    "    r[sl[sn]>0]=65535\n",
    "    k0 = r.min(axis=-1)\n",
    "    k1 = sr[sn,:,1:11].mean(axis=-1)\n",
    "    k2 = sr[sn,:,-12:-2].mean(axis=-1)\n",
    "    k3 = np.maximum(k1,k2)\n",
    "#     k3 = np.hstack([sr[sn,:,1:11], sr[sn,:,-12:-2]])\n",
    "#     k3= np.mean(k3, axis=-1)\n",
    "    plt.plot(k1, k0,'o')\n",
    "    plt.plot(k2, k0,'o')\n",
    "#     plt.plot(k3, k0,'o')\n",
    "    plt.plot(k3, k0,'o')\n",
    "    plt.grid()\n",
    "    plt.title(sn)\n",
    "    plt.show()"
   ]
  },
  {
   "cell_type": "code",
   "execution_count": null,
   "metadata": {},
   "outputs": [],
   "source": [
    "k3 = np.hstack([sr[sn,:,1:11], sr[sn,:,-12:-2]])"
   ]
  },
  {
   "cell_type": "code",
   "execution_count": null,
   "metadata": {},
   "outputs": [],
   "source": [
    "k3.shape"
   ]
  },
  {
   "cell_type": "code",
   "execution_count": null,
   "metadata": {
    "collapsed": true
   },
   "outputs": [],
   "source": [
    "plt.figure(figsize=(10,10))\n",
    "for sn in range(sr.shape[0]):\n",
    "    r=sr[sn].copy()\n",
    "    r[sl[sn]>0]=65535\n",
    "    plt.plot(sr[sn,:,:11].mean(axis=-1), label='mean')\n",
    "    plt.plot(r.min(axis=-1), label='cut at {}'.format(sn))\n",
    "plt.grid()\n",
    "# plt.legend(loc=0)\n",
    "plt.show()"
   ]
  },
  {
   "cell_type": "code",
   "execution_count": null,
   "metadata": {
    "collapsed": true
   },
   "outputs": [],
   "source": [
    "from cv2 import medianBlur"
   ]
  },
  {
   "cell_type": "code",
   "execution_count": null,
   "metadata": {
    "scrolled": true
   },
   "outputs": [],
   "source": [
    "font = {'size'   : 14}\n",
    "matplotlib.rc('font', **font)\n",
    "for sn in range(sr.shape[0]):\n",
    "    plt.figure(figsize=(15,15))\n",
    "    \n",
    "    y=log_sinogram(sr[sn])\n",
    "    x = sl[sn]\n",
    "    \n",
    "#     plt.subplot(221)\n",
    "#     plt.imshow(x,cmap=plt.cm.gray)\n",
    "#     plt.colorbar(orientation='horizontal')\n",
    "#     plt.title('Original LOG')\n",
    "    \n",
    "#     plt.subplot(222)\n",
    "#     plt.imshow(sr[sn], cmap=plt.cm.gray)\n",
    "#     plt.colorbar(orientation='horizontal')\n",
    "#     plt.title('Original RAW')\n",
    "    \n",
    "#     plt.subplot(223)\n",
    "#     plt.imshow(y,cmap=plt.cm.gray)\n",
    "#     plt.title('My LOG')\n",
    "#     plt.colorbar(orientation='horizontal')\n",
    "    \n",
    "#     plt.subplot(224)\n",
    "    d = y-x\n",
    "    plt.imshow(d,cmap=plt.cm.gray)\n",
    "    plt.title('My-Orginal LOG min: {:03f}, max: {:03f}, pixels {}'.format(\n",
    "                d.min(), d.max(),\n",
    "                np.count_nonzero(np.abs(d>=10)))\n",
    "             )\n",
    "    plt.colorbar(orientation='horizontal')\n",
    "    \n",
    "    plt.show()\n",
    "    "
   ]
  },
  {
   "cell_type": "code",
   "execution_count": null,
   "metadata": {
    "collapsed": true
   },
   "outputs": [],
   "source": [
    "for sn in range(sr.shape[0]):\n",
    "    plt.figure(figsize=(7,7))\n",
    "    y = sr[sn].copy()\n",
    "    x = sl[sn].copy()\n",
    "    y = -np.log(y)\n",
    "    y = y/y.max()*65535\n",
    "    plt.plot(x.ravel()[::1000],y.ravel()[::1000],'o',label='original')\n",
    "    \n",
    "    y=sr[sn].copy()\n",
    "    trh = y[:,:11].mean(axis=-1)\n",
    "    for i in range(y.shape[0]):\n",
    "        t=y[i]\n",
    "        t[t>trh[i]]=trh[i]\n",
    "        t/=trh[i]\n",
    "    y = -np.log(y)\n",
    "    y = y/y.max()*65535\n",
    "    plt.plot(x.ravel()[::1000],y.ravel()[::1000],'o',label='fixed')\n",
    "    plt.title(sn)\n",
    "    plt.grid()\n",
    "    plt.legend(loc=0)\n",
    "    plt.show()"
   ]
  },
  {
   "cell_type": "code",
   "execution_count": null,
   "metadata": {},
   "outputs": [],
   "source": [
    "for im_numb in [0,]:\n",
    "    x = sl[im_numb,100::100,:]\n",
    "    y =sr.copy()[im_numb, 100::100,:]\n",
    "    trh = y[:,:11].mean(axis=-1)\n",
    "    for i in range(y.shape[0]):\n",
    "        t=y[i]\n",
    "        t[t>trh[i]]=trh[i]\n",
    "        t/=trh[i]\n",
    "    y = -np.log(y)\n",
    "    # y = (y.T-y.min(axis=-1)).T\n",
    "    plt.figure(figsize=(10,10))\n",
    "    plt.plot(x, y, 'o')\n",
    "    # plt.plot(x,y)\n",
    "    plt.grid(True)\n",
    "\n",
    "    plt.show()"
   ]
  },
  {
   "cell_type": "code",
   "execution_count": null,
   "metadata": {
    "collapsed": true
   },
   "outputs": [],
   "source": [
    "sr=sr_images[0]\n",
    "sl=sl_images[0]"
   ]
  },
  {
   "cell_type": "code",
   "execution_count": null,
   "metadata": {},
   "outputs": [],
   "source": [
    "mx = []\n",
    "mn = []\n",
    "me = []\n",
    "for im in log_progress(images[::10]):\n",
    "    i =  plt.imread(im).astype('float32')\n",
    "    mx.append(np.max(i))\n",
    "    mn.append(np.min(i))\n",
    "    me.append(np.mean(i))"
   ]
  },
  {
   "cell_type": "code",
   "execution_count": null,
   "metadata": {},
   "outputs": [],
   "source": [
    "plt.figure(figsize=(10,12))\n",
    "plt.imshow(sr, cmap=plt.cm.gray)\n",
    "plt.colorbar(orientation='horizontal')"
   ]
  },
  {
   "cell_type": "code",
   "execution_count": null,
   "metadata": {},
   "outputs": [],
   "source": [
    "plt.figure(figsize=(10,5))\n",
    "plt.plot(mx, label = 'max')\n",
    "# plt.plot(mn, label = 'min')\n",
    "# plt.plot(me, label = 'mean')\n",
    "plt.grid()\n",
    "# plt.legend(loc=0)"
   ]
  },
  {
   "cell_type": "code",
   "execution_count": null,
   "metadata": {
    "collapsed": true
   },
   "outputs": [],
   "source": [
    "srf = sr_images[0]"
   ]
  },
  {
   "cell_type": "code",
   "execution_count": null,
   "metadata": {
    "collapsed": true
   },
   "outputs": [],
   "source": [
    "slf = sl_images[0]"
   ]
  },
  {
   "cell_type": "code",
   "execution_count": null,
   "metadata": {
    "collapsed": true
   },
   "outputs": [],
   "source": [
    "plt.figure(figsize=(10,12))\n",
    "plt.imshow(sr-srf, cmap=plt.cm.gray)\n",
    "plt.colorbar(orientation='horizontal')"
   ]
  },
  {
   "cell_type": "code",
   "execution_count": null,
   "metadata": {
    "collapsed": true
   },
   "outputs": [],
   "source": [
    "plt.figure(figsize=(10,12))\n",
    "plt.imshow(sl-slf, cmap=plt.cm.gray)\n",
    "plt.colorbar(orientation='horizontal')"
   ]
  },
  {
   "cell_type": "code",
   "execution_count": null,
   "metadata": {},
   "outputs": [],
   "source": [
    "plt.figure(figsize=(10,12))\n",
    "plt.imshow(sr, cmap=plt.cm.gray)\n",
    "plt.colorbar(orientation='horizontal')"
   ]
  },
  {
   "cell_type": "code",
   "execution_count": null,
   "metadata": {},
   "outputs": [],
   "source": [
    "print(sr.min(), sr.max() )"
   ]
  },
  {
   "cell_type": "code",
   "execution_count": null,
   "metadata": {},
   "outputs": [],
   "source": [
    "print(np.log(sr.min()), np.log(sr.max()))"
   ]
  },
  {
   "cell_type": "code",
   "execution_count": null,
   "metadata": {},
   "outputs": [],
   "source": [
    "plt.figure(figsize=(10,12))\n",
    "plt.imshow(sl, cmap=plt.cm.gray)\n",
    "plt.colorbar(orientation='horizontal')"
   ]
  },
  {
   "cell_type": "code",
   "execution_count": null,
   "metadata": {},
   "outputs": [],
   "source": [
    "print(sl.min(), sl.max() )"
   ]
  },
  {
   "cell_type": "code",
   "execution_count": null,
   "metadata": {},
   "outputs": [],
   "source": [
    "plt.figure(figsize=(10,12))\n",
    "plt.imshow(-np.log(sr/65535)-(sl/65535), cmap=plt.cm.gray)\n",
    "plt.colorbar(orientation='horizontal')"
   ]
  },
  {
   "cell_type": "code",
   "execution_count": null,
   "metadata": {},
   "outputs": [],
   "source": [
    "r=-np.log(sr/65535)\n",
    "l=sl/65535\n",
    "plt.figure(figsize=(10,12))\n",
    "plt.imshow(100*images_diff(r,l))\n",
    "plt.colorbar(orientation='horizontal')"
   ]
  },
  {
   "cell_type": "code",
   "execution_count": null,
   "metadata": {},
   "outputs": [],
   "source": [
    "plt.figure(figsize=(10,12))\n",
    "plt.imshow(1000*images_diff(sl,log_sinogram(sr)))\n",
    "plt.colorbar(orientation='horizontal')"
   ]
  },
  {
   "cell_type": "code",
   "execution_count": null,
   "metadata": {},
   "outputs": [],
   "source": [
    "r=-np.log(sr/65535)\n",
    "rr = (r-r.min(axis=-1).max())\n",
    "rr[rr<0]=0\n",
    "\n",
    "l=sl/65535\n",
    "plt.figure(figsize=(10,12))\n",
    "plt.imshow(100*images_diff(rr,l))\n",
    "plt.colorbar(orientation='horizontal')"
   ]
  },
  {
   "cell_type": "code",
   "execution_count": null,
   "metadata": {},
   "outputs": [],
   "source": [
    "plt.figure(figsize=(10,10))\n",
    "plt.plot(sr.max(axis=0))\n",
    "plt.plot(sr.min(axis=0))\n",
    "plt.grid(True)"
   ]
  },
  {
   "cell_type": "code",
   "execution_count": null,
   "metadata": {},
   "outputs": [],
   "source": [
    "plt.figure(figsize=(10,10))\n",
    "for s in np.linspace(0, sr.shape[1], 3, endpoint=False):\n",
    "    plt.plot(sr[0,int(s)])\n",
    "plt.grid(True)\n",
    "plt.show()"
   ]
  },
  {
   "cell_type": "code",
   "execution_count": null,
   "metadata": {},
   "outputs": [],
   "source": [
    "sr.shape"
   ]
  },
  {
   "cell_type": "code",
   "execution_count": null,
   "metadata": {},
   "outputs": [],
   "source": [
    "plt.figure(figsize=(10,10))\n",
    "plt.plot(sr.max(axis=-1))\n",
    "plt.plot(sr.min(axis=-1))\n",
    "plt.plot(sr.mean(axis=-1))\n",
    "plt.grid(True)"
   ]
  },
  {
   "cell_type": "code",
   "execution_count": null,
   "metadata": {},
   "outputs": [],
   "source": [
    "2**16*0.9"
   ]
  },
  {
   "cell_type": "code",
   "execution_count": null,
   "metadata": {},
   "outputs": [],
   "source": [
    "x = sl[100::100]\n",
    "y=sr.copy()[100::100]\n",
    "trh = y[:,:10].mean(axis=-1)\n",
    "for i in range(y.shape[0]):\n",
    "    t=y[i]\n",
    "    t[t>trh[i]]=trh[i]\n",
    "    t/=trh[i]\n",
    "y = -np.log(y)\n",
    "# y = (y.T-y.min(axis=-1)).T\n",
    "plt.figure(figsize=(10,10))\n",
    "plt.plot(x, y)\n",
    "# plt.plot(x,y)\n",
    "plt.grid(True)"
   ]
  },
  {
   "cell_type": "code",
   "execution_count": null,
   "metadata": {
    "collapsed": true
   },
   "outputs": [],
   "source": [
    "x = sl.copy()\n",
    "y=sr.copy()\n",
    "trh = y[:,:11].mean(axis=-1)\n",
    "for i in range(y.shape[0]):\n",
    "    t=y[i]\n",
    "    t[t>trh[i]]=trh[i]\n",
    "    t/=trh[i]\n",
    "y = -np.log(y)"
   ]
  },
  {
   "cell_type": "code",
   "execution_count": null,
   "metadata": {},
   "outputs": [],
   "source": [
    "plt.figure(figsize=(10,12))\n",
    "plt.imshow(1000*images_diff(x,y))\n",
    "plt.colorbar(orientation='horizontal')"
   ]
  },
  {
   "cell_type": "code",
   "execution_count": null,
   "metadata": {},
   "outputs": [],
   "source": [
    "plt.figure(figsize=(10,12))\n",
    "plt.imshow(x-y/y.max()*65535)\n",
    "plt.colorbar(orientation='horizontal')"
   ]
  },
  {
   "cell_type": "code",
   "execution_count": null,
   "metadata": {},
   "outputs": [],
   "source": [
    "np.max(x-y/y.max()*65535)"
   ]
  },
  {
   "cell_type": "code",
   "execution_count": null,
   "metadata": {},
   "outputs": [],
   "source": [
    "trh[np.newaxis,:].shape"
   ]
  },
  {
   "cell_type": "code",
   "execution_count": null,
   "metadata": {
    "collapsed": true
   },
   "outputs": [],
   "source": [
    "from scipy.optimize import curve_fit"
   ]
  },
  {
   "cell_type": "code",
   "execution_count": null,
   "metadata": {},
   "outputs": [],
   "source": [
    "p = curve_fit(lambda x,a,b: a*x+b, x.ravel(), y.ravel())\n",
    "print p"
   ]
  },
  {
   "cell_type": "code",
   "execution_count": null,
   "metadata": {},
   "outputs": [],
   "source": [
    "-p[0][1]/p[0][0]"
   ]
  },
  {
   "cell_type": "code",
   "execution_count": null,
   "metadata": {},
   "outputs": [],
   "source": [
    "sr.max()"
   ]
  },
  {
   "cell_type": "code",
   "execution_count": null,
   "metadata": {},
   "outputs": [],
   "source": [
    "sr.max(axis=-1).mean()"
   ]
  },
  {
   "cell_type": "code",
   "execution_count": null,
   "metadata": {},
   "outputs": [],
   "source": [
    "r=sr.copy()\n",
    "r[sl>0]=65535\n",
    "plt.figure(figsize=(10,10))\n",
    "plt.plot(sr[:,:1].mean(axis=-1),r.min(axis=-1),'o')\n",
    "    "
   ]
  },
  {
   "cell_type": "code",
   "execution_count": null,
   "metadata": {},
   "outputs": [],
   "source": [
    "r=sr.copy()\n",
    "r[sl>0]=65535\n",
    "plt.figure(figsize=(10,10))\n",
    "for ss in range(8,13):\n",
    "    # plt.plot(r.min(axis=-1))\n",
    "    # plt.plot(sr.max(axis=-1))\n",
    "    plt.plot(sr[:,:ss].mean(axis=-1),r.min(axis=-1), 'o', label=ss)\n",
    "    \n",
    "plt.grid()\n",
    "plt.legend(loc=0)\n",
    "    # plt.plot(x,y)\n",
    "    # plt.colorbar()"
   ]
  },
  {
   "cell_type": "code",
   "execution_count": null,
   "metadata": {},
   "outputs": [],
   "source": [
    "r=-np.log(sr)\n",
    "rr = ((r.T-r.min(axis=-1))/r.mean(axis=-1)).T*r.mean()\n",
    "rr[rr<0]=0\n",
    "\n",
    "l=sl/60000\n",
    "plt.figure(figsize=(10,12))\n",
    "# plt.imshow(100*images_diff(rr,l))\n",
    "plt.imshow(rr/(1.2*l),cmap=plt.cm.gray,vmin=0.9, vmax=1.1)\n",
    "plt.colorbar(orientation='horizontal')"
   ]
  },
  {
   "cell_type": "code",
   "execution_count": null,
   "metadata": {},
   "outputs": [],
   "source": [
    "x = sl\n",
    "y = -np.log(sr)\n",
    "plt.figure(figsize=(10,10))\n",
    "plt.plot(x[100], y[100],'x')\n",
    "plt.grid(True)"
   ]
  },
  {
   "cell_type": "code",
   "execution_count": null,
   "metadata": {},
   "outputs": [],
   "source": [
    "np.log(55000)"
   ]
  },
  {
   "cell_type": "code",
   "execution_count": null,
   "metadata": {},
   "outputs": [],
   "source": [
    "np.exp(0.05)"
   ]
  },
  {
   "cell_type": "code",
   "execution_count": null,
   "metadata": {},
   "outputs": [],
   "source": [
    "plt.figure(figsize=(10,10))\n",
    "plt.plot(sl.min(axis=-1))\n",
    "plt.grid(True)"
   ]
  },
  {
   "cell_type": "code",
   "execution_count": null,
   "metadata": {},
   "outputs": [],
   "source": [
    "plt.figure(figsize=(10,10))\n",
    "plt.plot(sl.max(axis=-1))\n",
    "plt.grid(True)"
   ]
  },
  {
   "cell_type": "code",
   "execution_count": null,
   "metadata": {},
   "outputs": [],
   "source": [
    "plt.figure(figsize=(10,10))\n",
    "plt.plot(sl.mean(axis=-1))\n",
    "plt.grid(True)"
   ]
  },
  {
   "cell_type": "code",
   "execution_count": null,
   "metadata": {},
   "outputs": [],
   "source": [
    "plt.figure(figsize=(10,10))\n",
    "plt.plot(sr.min(axis=-1))\n",
    "plt.grid(True)"
   ]
  },
  {
   "cell_type": "code",
   "execution_count": null,
   "metadata": {
    "collapsed": true
   },
   "outputs": [],
   "source": []
  },
  {
   "cell_type": "code",
   "execution_count": null,
   "metadata": {},
   "outputs": [],
   "source": [
    "plt.figure(figsize=(10,10))\n",
    "plt.plot(sr.max(axis=-1))\n",
    "plt.grid(True)"
   ]
  },
  {
   "cell_type": "code",
   "execution_count": null,
   "metadata": {},
   "outputs": [],
   "source": [
    "plt.figure(figsize=(10,10))\n",
    "plt.plot(sr.mean(axis=-1))\n",
    "plt.grid(True)"
   ]
  },
  {
   "cell_type": "code",
   "execution_count": null,
   "metadata": {},
   "outputs": [],
   "source": [
    "np.exp(10.9)"
   ]
  },
  {
   "cell_type": "code",
   "execution_count": null,
   "metadata": {},
   "outputs": [],
   "source": [
    "np.min(sl)"
   ]
  },
  {
   "cell_type": "code",
   "execution_count": null,
   "metadata": {
    "collapsed": true
   },
   "outputs": [],
   "source": [
    "from skimage.filter import gaussian"
   ]
  },
  {
   "cell_type": "code",
   "execution_count": null,
   "metadata": {
    "collapsed": true
   },
   "outputs": [],
   "source": []
  },
  {
   "cell_type": "code",
   "execution_count": null,
   "metadata": {
    "collapsed": true
   },
   "outputs": [],
   "source": [
    "# %load /diskmnt/a/makov/yaivan/Sand/Raw/Chieftain_Unc_2.8_.log\n",
    "[System]\n",
    "Scanner=Skyscan1172\n",
    "Instrument S/N=08G01121\n",
    "Hardware version=A\n",
    "Software=Version 1. 5 (build 23)\n",
    "Home directory=C:\\SkyScan\n",
    "Source Type=Hamamatsu 100/250\n",
    "Camera=Hamamatsu 10Mp camera\n",
    "Camera Pixel Size (um)=   11.40\n",
    "CameraXYRatio=1.0010\n",
    "Incl.in lifting (um/mm)=-0.4750\n",
    "[User]\n",
    "User Name=IYakimchuk\n",
    "Computer Name=SLB-6BBX74J\n",
    "[Acquisition]\n",
    "Data directory=E:\\Results\\Yakimchuk\\2016_Digital Fracture Conductivity\\00_Pre-Study\\01. Sands\\01. Chieftain Sand 20-40 Unconfined\\Raw\n",
    "Filename Prefix=Chieftain_Unc_2.8_\n",
    "Configuration=C:\\Skyscan1172A_10MP_Hamamatsu\\std\n",
    "Number of Files= 2031\n",
    "Source Voltage (kV)= 100\n",
    "Source Current (uA)= 100\n",
    "Number of Rows= 2096\n",
    "Number of Columns= 4000\n",
    "Image crop origin X=   0\n",
    "Image crop origin Y=0\n",
    "Camera binning=1x1\n",
    "Image Rotation=0.5200\n",
    "Gantry direction=CC\n",
    "Image Pixel Size (um)=    2.83\n",
    "Object to Source (mm)=56.000\n",
    "Camera to Source (mm)=225.315\n",
    "Vertical Object Position (mm)=37.797\n",
    "Optical Axis (line)= 980\n",
    "Filter=Al 0.5 mm\n",
    "Image Format=TIFF\n",
    "Depth (bits)=16\n",
    "Screen LUT=0\n",
    "Exposure (ms)=  1767\n",
    "Rotation Step (deg)=0.100\n",
    "Frame Averaging=ON (9)\n",
    "Random Movement=OFF (10)\n",
    "Use 360 Rotation=NO\n",
    "Geometrical Correction=ON\n",
    "Camera Offset=OFF\n",
    "Median Filtering=ON\n",
    "Flat Field Correction=ON\n",
    "Rotation Direction=CC\n",
    "Scanning Trajectory=ROUND\n",
    "Type Of Motion=STEP AND SHOOT\n",
    "Study Date and Time=Jan 23, 2016  05:45:50\n",
    "Scan duration=10:06:00\n",
    "[Reconstruction]\n",
    "Reconstruction Program=NRecon\n",
    "Program Version=Version: 1.6.5.8\n",
    "Program Home Directory=C:\\SkyScan\\NRecon_GPU\n",
    "Reconstruction engine=NReconServer\n",
    "Engine version=Version: 1.6.5\n",
    "Reconstruction from batch=No\n",
    "Reconstruction servers= slb-8hlv74j \n",
    "Option for additional F4F float format=OFF\n",
    "Dataset Origin=Skyscan1172\n",
    "Dataset Prefix=Chieftain_Unc_2.8_\n",
    "Dataset Directory=E:\\Results\\Yakimchuk\\2016_Digital Fracture Conductivity\\00_Pre-Study\\01. Sands\\01. Chieftain Sand 20-40 Unconfined\\Raw\n",
    "Output Directory=E:\\Results\\Yakimchuk\\2016_Digital Fracture Conductivity\\00_Pre-Study\\01. Sands\\01. Chieftain Sand 20-40 Unconfined\\Reconstructed\n",
    "Time and Date=Jan 26, 2016  16:58:16\n",
    "First Section=98\n",
    "Last Section=1982\n",
    "Reconstruction duration per slice (seconds)=5.300265\n",
    "Total reconstruction time (1885 slices) in seconds=9991.000000\n",
    "Postalignment=-6.00\n",
    "Section to Section Step=1\n",
    "Sections Count=1885\n",
    "Result File Type=PNG\n",
    "Result File Header Length (bytes)=Unknown: compressed JPG format (100%)\n",
    "Result Image Width (pixels)=4000\n",
    "Result Image Height (pixels)=4000\n",
    "Pixel Size (um)=2.83356\n",
    "Reconstruction Angular Range (deg)=203.00\n",
    "Use 180+=OFF\n",
    "Angular Step (deg)=0.1000\n",
    "Smoothing=0\n",
    "Ring Artifact Correction=20\n",
    "Draw Scales=OFF\n",
    "Object Bigger than FOV=OFF\n",
    "Reconstruction from ROI=OFF\n",
    "Filter cutoff relative to Nyquisit frequency=100\n",
    "Filter type=0\n",
    "Filter type meaning(1)=0: Hamming (Ramp in case of optical scanner); 1: Hann; 2: Ramp; 3: Almost Ramp; \n",
    "Filter type meaning(2)=11: Cosine; 12: Shepp-Logan; [100,200]: Generalized Hamming, alpha=(iFilter-100)/100\n",
    "Undersampling factor=1\n",
    "Threshold for defect pixel mask (%)=0\n",
    "Beam Hardening Correction (%)=60\n",
    "CS Static Rotation (deg)=0.0\n",
    "Minimum for CS to Image Conversion=-0.0250\n",
    "Maximum for CS to Image Conversion=0.0680\n",
    "HU Calibration=OFF\n",
    "BMP LUT=0\n",
    "Cone-beam Angle Horiz.(deg)=11.557156\n",
    "Cone-beam Angle Vert.(deg)=6.070880\n"
   ]
  },
  {
   "cell_type": "code",
   "execution_count": null,
   "metadata": {
    "collapsed": true
   },
   "outputs": [],
   "source": [
    "# %load /diskmnt/a/makov/yaivan/Sand/_tmp/nrecon/bh_0_rc_0/tomo_config.log\n",
    "[System]\n",
    "Scanner = Skyscan1172\n",
    "Instrument S/N = 08G01121\n",
    "Hardware version = A\n",
    "Software = Version 1. 5 (build 23)\n",
    "Home directory = C:\\SkyScan\n",
    "Source Type = Hamamatsu 100/250\n",
    "Camera = Hamamatsu 10Mp camera\n",
    "Camera Pixel Size (um) = 11.40\n",
    "CameraXYRatio = 1.0010\n",
    "Incl.in lifting (um/mm) = -0.4750\n",
    "\n",
    "[User]\n",
    "User Name = IYakimchuk\n",
    "Computer Name = SLB-6BBX74J\n",
    "\n",
    "[Acquisition]\n",
    "Data directory = E:\\Results\\Yakimchuk\\2016_Digital Fracture Conductivity\\00_Pre-Study\\01. Sands\\01. Chieftain Sand 20-40 Unconfined\\Raw\n",
    "Filename Prefix = Chieftain_Unc_2.8_\n",
    "Configuration = C:\\Skyscan1172A_10MP_Hamamatsu\\std\n",
    "Number of Files = 2031\n",
    "Source Voltage (kV) = 100\n",
    "Source Current (uA) = 100\n",
    "Number of Rows = 2096\n",
    "Number of Columns = 4000\n",
    "Image crop origin X = 0\n",
    "Image crop origin Y = 0\n",
    "Camera binning = 1x1\n",
    "Image Rotation = 0.5200\n",
    "Gantry direction = CC\n",
    "Image Pixel Size (um) = 2.83\n",
    "Object to Source (mm) = 56.000\n",
    "Camera to Source (mm) = 225.315\n",
    "Vertical Object Position (mm) = 37.797\n",
    "Optical Axis (line) = 980\n",
    "Filter = Al 0.5 mm\n",
    "Image Format = TIFF\n",
    "Depth (bits) = 16\n",
    "Screen LUT = 0\n",
    "Exposure (ms) = 1767\n",
    "Rotation Step (deg) = 0.100\n",
    "Frame Averaging = ON (9)\n",
    "Random Movement = OFF (10)\n",
    "Use 360 Rotation = NO\n",
    "Geometrical Correction = ON\n",
    "Camera Offset = OFF\n",
    "Median Filtering = ON\n",
    "Flat Field Correction = ON\n",
    "Rotation Direction = CC\n",
    "Scanning Trajectory = ROUND\n",
    "Type Of Motion = STEP AND SHOOT\n",
    "Study Date and Time = Jan 23, 2016  05:45:50\n",
    "Scan duration = 10:06:00\n",
    "\n",
    "[Reconstruction]\n",
    "Reconstruction Program = NRecon\n",
    "Program Version = Version: 1.6.5.8\n",
    "Program Home Directory = C:\\SkyScan\\NRecon_GPU\n",
    "Reconstruction engine = NReconServer\n",
    "Engine version = Version: 1.6.5\n",
    "Reconstruction from batch = No\n",
    "Reconstruction servers = slb-8hlv74j\n",
    "Option for additional F4F float format = OFF\n",
    "Dataset Origin = Skyscan1172\n",
    "Dataset Prefix = Chieftain_Unc_2.8_\n",
    "Dataset Directory = f:\\big\\yaivan\\Sand\\Raw\n",
    "Output Directory = C:\\Users\\makov\\Desktop\\NRecon_out\\Chieftain_Unc_2.8_\\bh_0_rc_0\n",
    "Time and Date = Jan 26, 2016  16:58:16\n",
    "First Section = 980\n",
    "Last Section = 980\n",
    "Reconstruction duration per slice (seconds) = 5.300265\n",
    "Total reconstruction time (1885 slices) in seconds = 9991.000000\n",
    "Postalignment = -6.00\n",
    "Section to Section Step = 1\n",
    "Sections Count = 1885\n",
    "Result File Type = PNG\n",
    "Result File Header Length (bytes) = Unknown: compressed JPG format (100%)\n",
    "Result Image Width (pixels) = 4000\n",
    "Result Image Height (pixels) = 4000\n",
    "Pixel Size (um) = 2.83356\n",
    "Reconstruction Angular Range (deg) = 203.00\n",
    "Use 180+ = OFF\n",
    "Angular Step (deg) = 0.1000\n",
    "Smoothing = 0\n",
    "Ring Artifact Correction = 0\n",
    "Draw Scales = OFF\n",
    "Object Bigger than FOV = OFF\n",
    "Reconstruction from ROI = OFF\n",
    "Filter cutoff relative to Nyquisit frequency = 100\n",
    "Filter type = 0\n",
    "Filter type meaning(1) = 0: Hamming (Ramp in case of optical scanner); 1: Hann; 2: Ramp; 3: Almost Ramp;\n",
    "Filter type meaning(2) = 11: Cosine; 12: Shepp-Logan; [100,200]: Generalized Hamming, alpha=(iFilter-100)/100\n",
    "Undersampling factor = 1\n",
    "Threshold for defect pixel mask (%) = 0\n",
    "Beam Hardening Correction (%) = 0\n",
    "CS Static Rotation (deg) = 0.0\n",
    "Minimum for CS to Image Conversion = -0.0250\n",
    "Maximum for CS to Image Conversion = 0.0680\n",
    "HU Calibration = OFF\n",
    "BMP LUT = 0\n",
    "Cone-beam Angle Horiz.(deg) = 11.557156\n",
    "Cone-beam Angle Vert.(deg) = 6.070880\n",
    "\n"
   ]
  },
  {
   "cell_type": "raw",
   "metadata": {},
   "source": [
    "# %load /diskmnt/a/makov/yaivan/MMC_1/_tmp/nrecon/bh_92_rc_0/tomo_config.log\n",
    "[System]\n",
    "Scanner = Skyscan1172\n",
    "Instrument S/N = 08G01121\n",
    "Hardware version = A\n",
    "Software = Version 1. 5 (build 18)\n",
    "Home directory = C:\\SkyScan\n",
    "Source Type = Hamamatsu 100/250\n",
    "Camera = Hamamatsu 10Mp camera\n",
    "Camera Pixel Size (um) = 11.32\n",
    "CameraXYRatio = 1.0023\n",
    "Incl.in lifting (um/mm) = 0.0000\n",
    "\n",
    "[Acquisition]\n",
    "Data directory = D:\\Results\\Yakimchuk\\2015-Spectrum Reconctruction\\MultiMineral Calibration\\2015.03.18 MMC_1\\Raw\n",
    "Filename Prefix = MMC1_2.82um_\n",
    "Number of Files = 2030\n",
    "Source Voltage (kV) = 100\n",
    "Source Current (uA) = 100\n",
    "Number of Rows = 2096\n",
    "Number of Columns = 4000\n",
    "Image crop origin X = 0\n",
    "Image crop origin Y = 0\n",
    "Camera binning = 1x1\n",
    "Image Rotation = 0.6500\n",
    "Gantry direction = CC\n",
    "Image Pixel Size (um) = 2.82\n",
    "Object to Source (mm) = 56.135\n",
    "Camera to Source (mm) = 225.082\n",
    "Vertical Object Position (mm) = 6.900\n",
    "Optical Axis (line) = 960\n",
    "Filter = Al 0.5 mm\n",
    "Image Format = TIFF\n",
    "Depth (bits) = 16\n",
    "Screen LUT = 0\n",
    "Exposure (ms) = 1767\n",
    "Rotation Step (deg) = 0.100\n",
    "Frame Averaging = ON (15)\n",
    "Random Movement = OFF (10)\n",
    "Use 360 Rotation = NO\n",
    "Geometrical Correction = ON\n",
    "Camera Offset = OFF\n",
    "Median Filtering = ON\n",
    "Flat Field Correction = ON\n",
    "Rotation Direction = CC\n",
    "Scanning Trajectory = ROUND\n",
    "Type Of Motion = STEP AND SHOOT\n",
    "Study Date and Time = Mar 19, 2015  10:11:11\n",
    "Scan duration = 16:08:02\n",
    "\n",
    "[Reconstruction]\n",
    "Reconstruction Program = NRecon\n",
    "Program Version = Version: 1.6.5.8\n",
    "Program Home Directory = C:\\SkyScan\\NRecon_GPU\n",
    "Reconstruction engine = NReconServer\n",
    "Engine version = Version: 1.6.5\n",
    "Reconstruction from batch = No\n",
    "Reconstruction servers = slb-7hlv74j  slb-9hlv74j  slb-7pbv74j\n",
    "Option for additional F4F float format = OFF\n",
    "Dataset Origin = Skyscan1172\n",
    "Dataset Prefix = MMC1_2.82um_\n",
    "Dataset Directory = f:\\big\\yaivan\\MMC_1\\RAW\n",
    "Output Directory = C:\\Users\\makov\\Desktop\\NRecon_out\\MMC1_2.82um_\\bh_92_rc_0\n",
    "Time and Date = Mar 19, 2015  13:00:46\n",
    "First Section = 960\n",
    "Last Section = 960\n",
    "Reconstruction duration per slice (seconds) = 1.859491\n",
    "Total reconstruction time (1886 slices) in seconds = 3507.000000\n",
    "Postalignment = -1.00\n",
    "Section to Section Step = 1\n",
    "Sections Count = 1886\n",
    "Result File Type = PNG\n",
    "Result File Header Length (bytes) = Unknown: compressed JPG format (100%)\n",
    "Result Image Width (pixels) = 4000\n",
    "Result Image Height (pixels) = 4000\n",
    "Pixel Size (um) = 2.82473\n",
    "Reconstruction Angular Range (deg) = 202.90\n",
    "Use 180+ = OFF\n",
    "Angular Step (deg) = 0.1000\n",
    "Smoothing = 0\n",
    "Ring Artifact Correction = 0\n",
    "Draw Scales = OFF\n",
    "Object Bigger than FOV = OFF\n",
    "Reconstruction from ROI = OFF\n",
    "Filter cutoff relative to Nyquisit frequency = 100\n",
    "Filter type = 0\n",
    "Filter type meaning(1) = 0: Hamming (Ramp in case of optical scanner); 1: Hann; 2: Ramp; 3: Almost Ramp;\n",
    "Filter type meaning(2) = 11: Cosine; 12: Shepp-Logan; [100,200]: Generalized Hamming, alpha=(iFilter-100)/100\n",
    "Undersampling factor = 1\n",
    "Threshold for defect pixel mask (%) = 0\n",
    "Beam Hardening Correction (%) = 92\n",
    "CS Static Rotation (deg) = 0.0\n",
    "Minimum for CS to Image Conversion = -0.1800\n",
    "Maximum for CS to Image Conversion = 0.5200\n",
    "HU Calibration = OFF\n",
    "BMP LUT = 0\n",
    "Cone-beam Angle Horiz.(deg) = 11.493867\n",
    "Cone-beam Angle Vert.(deg) = 6.037473\n",
    "\n"
   ]
  },
  {
   "cell_type": "code",
   "execution_count": null,
   "metadata": {},
   "outputs": [],
   "source": [
    "sl_my = log_sinogram(sr)"
   ]
  },
  {
   "cell_type": "code",
   "execution_count": null,
   "metadata": {},
   "outputs": [],
   "source": [
    "sl_my[np.isnan(sl_my)]=65535\n",
    "plt.figure(figsize=(10,10))\n",
    "plt.plot(sl.ravel(), sl_my.ravel(),'o')\n",
    "plt.grid()\n",
    "plt.show()"
   ]
  },
  {
   "cell_type": "code",
   "execution_count": null,
   "metadata": {},
   "outputs": [],
   "source": [
    "sl_my.ravel().min()"
   ]
  },
  {
   "cell_type": "code",
   "execution_count": null,
   "metadata": {},
   "outputs": [],
   "source": [
    "plt.hist(sr.ravel(), bins=100);"
   ]
  },
  {
   "cell_type": "code",
   "execution_count": null,
   "metadata": {},
   "outputs": [],
   "source": [
    "plt.hist(sl.ravel(), bins=100);"
   ]
  },
  {
   "cell_type": "code",
   "execution_count": null,
   "metadata": {},
   "outputs": [],
   "source": [
    "plt.figure(figsize=(12,12))\n",
    "plt.imshow(sl_my-sl, cmap=plt.cm.viridis)\n",
    "plt.colorbar(orientation='horizontal')"
   ]
  },
  {
   "cell_type": "code",
   "execution_count": null,
   "metadata": {
    "collapsed": true
   },
   "outputs": [],
   "source": [
    "from scipy.optimize import curve_fit"
   ]
  },
  {
   "cell_type": "code",
   "execution_count": null,
   "metadata": {},
   "outputs": [],
   "source": [
    "def fitf(x,a,b,c):\n",
    "    return(-c*np.log(b*x-a))\n",
    "\n",
    "p=curve_fit(fitf, np.arange(len(d)),d, [1,-2,-1])"
   ]
  },
  {
   "cell_type": "code",
   "execution_count": null,
   "metadata": {},
   "outputs": [],
   "source": [
    "p[0]"
   ]
  },
  {
   "cell_type": "code",
   "execution_count": null,
   "metadata": {},
   "outputs": [],
   "source": [
    "d=sl[1000, 100:200]/65535\n",
    "dx = np.arange(len(d))\n",
    "plt.figure(figsize=(12,12))\n",
    "plt.plot(d,'o')\n",
    "dy = fitf(dx,p[0][0],p[0][1],p[0][2])\n",
    "plt.plot(dx, dy)\n",
    "plt.grid()"
   ]
  },
  {
   "cell_type": "code",
   "execution_count": null,
   "metadata": {},
   "outputs": [],
   "source": [
    "dx.shape"
   ]
  },
  {
   "cell_type": "code",
   "execution_count": null,
   "metadata": {},
   "outputs": [],
   "source": [
    "plt.figure(figsize=(12,12))\n",
    "plt.plot(sr[1000])\n",
    "plt.grid()"
   ]
  },
  {
   "cell_type": "code",
   "execution_count": null,
   "metadata": {},
   "outputs": [],
   "source": [
    "d[1]/d[0]"
   ]
  },
  {
   "cell_type": "code",
   "execution_count": null,
   "metadata": {},
   "outputs": [],
   "source": [
    "tiffs = glob.glob('/diskmnt/a/makov/yaivan/MMC_1/Raw/*.iif')\n",
    "tiffs = sorted(tiffs)\n",
    "print(len(tiffs))"
   ]
  },
  {
   "cell_type": "code",
   "execution_count": null,
   "metadata": {
    "collapsed": true
   },
   "outputs": [],
   "source": [
    "from PIL import Image"
   ]
  },
  {
   "cell_type": "code",
   "execution_count": null,
   "metadata": {},
   "outputs": [],
   "source": [
    "tt=[]\n",
    "for t in log_progress(tiffs):\n",
    "    with Image.open(t,'r') as im:\n",
    "        tags=im.tag\n",
    "        tt.append(tags)"
   ]
  },
  {
   "cell_type": "code",
   "execution_count": null,
   "metadata": {
    "scrolled": false
   },
   "outputs": [],
   "source": [
    "from pprint import pprint\n",
    "for k, v in tags.items():\n",
    "    print k,':',v"
   ]
  },
  {
   "cell_type": "code",
   "execution_count": null,
   "metadata": {},
   "outputs": [],
   "source": [
    "r = [x[61448][0] for x in tt] \n",
    "plt.figure(figsize=(15,10))\n",
    "plt.plot(r[:-1],'*')\n",
    "plt.grid()"
   ]
  },
  {
   "cell_type": "code",
   "execution_count": null,
   "metadata": {
    "collapsed": true
   },
   "outputs": [],
   "source": []
  }
 ],
 "metadata": {
  "kernelspec": {
   "display_name": "Python 3",
   "language": "python",
   "name": "python3"
  },
  "language_info": {
   "codemirror_mode": {
    "name": "ipython",
    "version": 3
   },
   "file_extension": ".py",
   "mimetype": "text/x-python",
   "name": "python",
   "nbconvert_exporter": "python",
   "pygments_lexer": "ipython3",
   "version": "3.6.2"
  }
 },
 "nbformat": 4,
 "nbformat_minor": 1
}
