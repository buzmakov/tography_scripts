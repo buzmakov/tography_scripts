{
 "cells": [
  {
   "cell_type": "code",
   "execution_count": null,
   "metadata": {
    "collapsed": true
   },
   "outputs": [],
   "source": [
    "%matplotlib inline"
   ]
  },
  {
   "cell_type": "code",
   "execution_count": null,
   "metadata": {
    "collapsed": true
   },
   "outputs": [],
   "source": [
    "import numpy as np\n",
    "import pylab as plt\n",
    "import cv2"
   ]
  },
  {
   "cell_type": "code",
   "execution_count": null,
   "metadata": {
    "collapsed": true
   },
   "outputs": [],
   "source": [
    "data_root = '/diskmnt/a/makov/yaivan/2016-02-11_Pin/'"
   ]
  },
  {
   "cell_type": "markdown",
   "metadata": {},
   "source": [
    "Список файлов:\n",
    "* empty - файл полученный с томографа без коррекций\n",
    "* corr - то же изображение что и empty, но с коррекцией\n",
    "* tomo - то же, что и empty, но полученное в ходе проведения эксперимента\n",
    "* white - пустой пучок используемый для нормировки изображений (получен в тот-же день при калибровке)\n",
    "* black_1, black_2 - темновые токи, полученные в разное время"
   ]
  },
  {
   "cell_type": "code",
   "execution_count": null,
   "metadata": {
    "collapsed": false
   },
   "outputs": [],
   "source": [
    "empty = plt.imread(data_root+'first_projection.tif').astype('float32')\n",
    "corr = plt.imread(data_root+'first_projection_corr.tif').astype('float32')\n",
    "tomo = plt.imread(data_root+'Raw/pin_2.24um_0000.tif').astype('float32')\n",
    "white = np.fromfile(data_root+'white0202_2016-02-11.ffr',dtype='<u2').astype('float32').reshape((2096, 4000))\n",
    "black_1 = np.fromfile(data_root+'black0101_2016-02-09.ffr',dtype='<u2').astype('float32').reshape((2096, 4000))\n",
    "black_2 = np.fromfile(data_root+'black0201_2016-02-16.ffr',dtype='<u2').astype('float32').reshape((2096, 4000))"
   ]
  },
  {
   "cell_type": "code",
   "execution_count": null,
   "metadata": {
    "collapsed": false,
    "scrolled": false
   },
   "outputs": [],
   "source": [
    "def show_frame(data, label):\n",
    "    data_filtered = cv2.medianBlur(data,5)\n",
    "    plt.figure(figsize=(12,10))\n",
    "    plt.imshow(data_filtered)\n",
    "    plt.title(label+' filtered')\n",
    "    plt.colorbar(orientation='horizontal')\n",
    "\n",
    "    plt.show()\n",
    "    plt.figure(figsize=(12,8))\n",
    "    plt.plot(data[1000])\n",
    "    plt.grid(True)\n",
    "    plt.title(label+' filtered: central cut')\n",
    "    plt.show()\n",
    "\n",
    "    plt.figure(figsize=(12,10))\n",
    "    plt.imshow(data_filtered)\n",
    "    plt.colorbar(orientation='horizontal')\n",
    "    plt.title(label)\n",
    "    plt.show()\n",
    "    plt.figure(figsize=(12,8))\n",
    "    plt.plot(data_filtered[1000])\n",
    "    plt.grid(True)\n",
    "    plt.title(label+': central cut')\n",
    "    plt.show()"
   ]
  },
  {
   "cell_type": "markdown",
   "metadata": {},
   "source": [
    "## Вот пучок без объекта. \n",
    "По осям - отсчёты детектора.\n",
    "Здесь и далее первая картинка и центральное сечение - как есть. Вторая картинка - с применениейм медианной фильтрации (чтобы убрать шумы сцинстиллятора).\n",
    "\n"
   ]
  },
  {
   "cell_type": "code",
   "execution_count": null,
   "metadata": {
    "collapsed": false,
    "scrolled": false
   },
   "outputs": [],
   "source": [
    "show_frame(white, 'White')"
   ]
  },
  {
   "cell_type": "markdown",
   "metadata": {},
   "source": [
    "## Вот темновой ток 1\n",
    "по осям - отсчёты детектора"
   ]
  },
  {
   "cell_type": "code",
   "execution_count": null,
   "metadata": {
    "collapsed": false,
    "scrolled": false
   },
   "outputs": [],
   "source": [
    "show_frame(black_1, 'Black_1')"
   ]
  },
  {
   "cell_type": "markdown",
   "metadata": {},
   "source": [
    "## Вот темновой ток 2\n",
    "по осям - отсчёты детектора"
   ]
  },
  {
   "cell_type": "code",
   "execution_count": null,
   "metadata": {
    "collapsed": false,
    "scrolled": false
   },
   "outputs": [],
   "source": [
    "show_frame(black_2, 'Black_2')"
   ]
  },
  {
   "cell_type": "markdown",
   "metadata": {},
   "source": [
    "## Вот разница между темновыми токами"
   ]
  },
  {
   "cell_type": "code",
   "execution_count": null,
   "metadata": {
    "collapsed": false,
    "scrolled": false
   },
   "outputs": [],
   "source": [
    "show_frame(black_1 - black_2, 'Black_1 - Black_2')"
   ]
  },
  {
   "cell_type": "markdown",
   "metadata": {},
   "source": [
    "## Вот никак не скорректированное изображение"
   ]
  },
  {
   "cell_type": "code",
   "execution_count": null,
   "metadata": {
    "collapsed": false,
    "scrolled": false
   },
   "outputs": [],
   "source": [
    "show_frame(empty, 'Empty')"
   ]
  },
  {
   "cell_type": "markdown",
   "metadata": {},
   "source": [
    "## Вот отнормированное изображение (силами томографа)\n",
    "Странно, что на центральном срезе максимум не на 65535 (2^16), а примерно 65535\\*__0.8. Это значит что нам при реконструкции нужно нормироваться не на 65535 при взятии логарифма, а на максимум по синограмме?__"
   ]
  },
  {
   "cell_type": "code",
   "execution_count": null,
   "metadata": {
    "collapsed": false,
    "scrolled": false
   },
   "outputs": [],
   "source": [
    "show_frame(corr, 'Corr')"
   ]
  },
  {
   "cell_type": "markdown",
   "metadata": {},
   "source": [
    "## Вот изображение из томографического зксперимента"
   ]
  },
  {
   "cell_type": "code",
   "execution_count": null,
   "metadata": {
    "collapsed": false,
    "scrolled": false
   },
   "outputs": [],
   "source": [
    "show_frame(tomo, 'tomo image')"
   ]
  },
  {
   "cell_type": "markdown",
   "metadata": {},
   "source": [
    "## Вот разница изображений отнормированных томографом в ручном режиме и режиме томографа\n",
    "Они видимо немого сдвинуты"
   ]
  },
  {
   "cell_type": "code",
   "execution_count": null,
   "metadata": {
    "collapsed": false,
    "scrolled": false
   },
   "outputs": [],
   "source": [
    "show_frame(corr - tomo, 'corr / tomo image')"
   ]
  },
  {
   "cell_type": "markdown",
   "metadata": {},
   "source": [
    "## Вот моя попытка отнормировать изображение\n",
    "Видны следы от прямого пучка (сетка на заднем фоне), но это видимо связано с тем, что прямой пучок зависит от расстояний детектор-источник (сферичность интенсивности), и прямой пучок был померян для другого рассотояния.\n",
    "К тому-же интенсивнось прямого пучка видимо была меньше (в 16 раз?), чем при проведениии зксперимента. (__это надо проверить__)  "
   ]
  },
  {
   "cell_type": "code",
   "execution_count": null,
   "metadata": {
    "collapsed": false,
    "scrolled": false
   },
   "outputs": [],
   "source": [
    "white_norm = (white - black_1)\n",
    "white_norm[white_norm<1] = 1\n",
    "empty_norm = (empty/16 - black_1)\n",
    "empty_norm[empty_norm<1] =1\n",
    "my_corr = empty_norm/white_norm\n",
    "my_corr[my_corr>1.1] = 1.1\n",
    "show_frame(my_corr, 'my_corr image')"
   ]
  },
  {
   "cell_type": "markdown",
   "metadata": {},
   "source": [
    "## Скорректированный пучок нами поделеённый на скорреткироваанный скайсканом.\n",
    "Они вроде совпадают, с точностью до шумов.\n",
    "Отсюда следует, что нормировка происходит по формуле $$Signal=k\\times 2^{16}\\frac{I_1-dark}{I_0-dark}, k=0.87$$"
   ]
  },
  {
   "cell_type": "code",
   "execution_count": null,
   "metadata": {
    "collapsed": false,
    "scrolled": false
   },
   "outputs": [],
   "source": [
    "show_frame(my_corr*65535*0.87/corr, 'my_corr/corr image')"
   ]
  }
 ],
 "metadata": {
  "kernelspec": {
   "display_name": "Python 2",
   "language": "python",
   "name": "python2"
  },
  "language_info": {
   "codemirror_mode": {
    "name": "ipython",
    "version": 2
   },
   "file_extension": ".py",
   "mimetype": "text/x-python",
   "name": "python",
   "nbconvert_exporter": "python",
   "pygments_lexer": "ipython2",
   "version": "2.7.11"
  }
 },
 "nbformat": 4,
 "nbformat_minor": 0
}
