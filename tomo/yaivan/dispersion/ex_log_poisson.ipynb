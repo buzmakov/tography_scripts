{
 "cells": [
  {
   "cell_type": "code",
   "execution_count": null,
   "metadata": {},
   "outputs": [],
   "source": [
    "%matplotlib inline\n",
    "%xmode verbose"
   ]
  },
  {
   "cell_type": "code",
   "execution_count": null,
   "metadata": {
    "collapsed": true
   },
   "outputs": [],
   "source": [
    "import numpy as np \n",
    "import matplotlib.pyplot as plt \n",
    "import astra \n",
    "import scipy\n",
    "import alg \n",
    "import sirt \n",
    "import sirt_noise"
   ]
  },
  {
   "cell_type": "code",
   "execution_count": null,
   "metadata": {
    "collapsed": true
   },
   "outputs": [],
   "source": [
    "def err_l2(img, rec):\n",
    "    return np.sum((img - rec)**2) / (rec.shape[0] * rec.shape[1])"
   ]
  },
  {
   "cell_type": "code",
   "execution_count": null,
   "metadata": {
    "collapsed": true
   },
   "outputs": [],
   "source": [
    "def mean_value(lam, num = 100):\n",
    "    m_v = 0.0\n",
    "    factor = 1.0\n",
    "    for x in np.arange(1, num + 1, 1):\n",
    "        factor = factor * lam / x\n",
    "        m_v -= np.log(x) * factor\n",
    "    m_v = m_v * np.exp(-lam)\n",
    "    return m_v"
   ]
  },
  {
   "cell_type": "code",
   "execution_count": null,
   "metadata": {
    "collapsed": true
   },
   "outputs": [],
   "source": [
    "def var_value(lam, M, num = 100):\n",
    "    d_v = 0.0\n",
    "    factor = 1.0\n",
    "    for x in np.arange(1, num + 1, 1):\n",
    "        factor = factor * lam / x\n",
    "        d_v += (- np.log(x) - M)**2 * factor\n",
    "    d_v = d_v * np.exp(-lam)\n",
    "    return d_v"
   ]
  },
  {
   "cell_type": "code",
   "execution_count": null,
   "metadata": {},
   "outputs": [],
   "source": [
    "# make phantom\n",
    "size = 50\n",
    "mu1 = 0.006\n",
    "mu2 = 0.005\n",
    "mu3 = 0.004\n",
    "phantom = np.zeros((size, size))\n",
    "half_s = size / 2\n",
    "\n",
    "y, x = np.meshgrid(range(size), range(size))\n",
    "xx = (x - half_s).astype('float32')\n",
    "yy = (y - half_s).astype('float32')\n",
    "  \n",
    "mask_ell1 = pow(xx + 0.1*size, 2)/np.power(0.35*size, 2) + pow(yy, 2)/np.power(0.15*size, 2) <= 1\n",
    "mask_ell2 = pow(xx - 0.15*size, 2)/np.power(0.3*size, 2) + pow(yy - 0.15*size, 2)/np.power(0.15*size, 2) <= 1 \n",
    "phantom[mask_ell1] = mu1\n",
    "phantom[mask_ell2] = mu2\n",
    "phantom[np.logical_and(mask_ell1, mask_ell2)] = mu3\n",
    "phantom[int(0.15*size):int(0.35*size), int(0.2*size):int(0.5*size)] = mu3 \n",
    "phantom = 1e+1 * phantom\n",
    "\n",
    "# make sinogram\n",
    "n_angles = 90.0\n",
    "angles = np.arange(0.0, 180.0,  180.0 / n_angles)\n",
    "angles = angles.astype('float32') / 180 * np.pi\n",
    "\n",
    "pg = astra.create_proj_geom('parallel', 1.0, size, angles)\n",
    "vg = astra.create_vol_geom((size, size))\n",
    "sino = alg.gpu_fp(pg, vg, phantom)\n",
    "sino = sino.astype('float64')\n",
    "\n",
    "print(sino.min(), sino.max())\n",
    "i0 = 2e+2\n",
    "sino = i0 * np.exp(-sino)\n",
    "\n",
    "print(sino.min(), sino.max())"
   ]
  },
  {
   "cell_type": "code",
   "execution_count": null,
   "metadata": {},
   "outputs": [],
   "source": [
    "M = np.zeros_like(sino)\n",
    "D = np.zeros_like(sino)\n",
    "for i in np.arange(0, sino.shape[0]):\n",
    "    for j in np.arange(0, sino.shape[1]):\n",
    "        M[i,j] = mean_value(sino[i,j], num = 600)\n",
    "        D[i,j] = var_value(sino[i,j], M[i,j], num = 600)\n",
    "print(D.min(), D.max())\n",
    "\n",
    "Div = D.copy()\n",
    "Div = np.sqrt(D)\n",
    "#Div [Div <= 0.01 ] = 1 #Div[Div != 0.0].min() \n",
    "Div = 1.0 / (Div)\n",
    "print(Div.min(), Div.max())\n",
    "\n",
    "fig = plt.figure(figsize=(15,10))\n",
    "a=fig.add_subplot(1,3,1)\n",
    "imgplot = plt.imshow(sino, interpolation=None, cmap=\"gray\")\n",
    "a.set_title('Sinogram')\n",
    "plt.colorbar(orientation='horizontal');\n",
    "a=fig.add_subplot(1,3,2)\n",
    "imgplot = plt.imshow(D, interpolation=None, cmap=\"gray\")\n",
    "a.set_title('Variance (V)')\n",
    "plt.colorbar(orientation ='horizontal');\n",
    "a=fig.add_subplot(1,3,3)\n",
    "imgplot = plt.imshow(Div, interpolation=None, cmap=\"gray\")\n",
    "a.set_title('1.0 / standard deviation');\n",
    "plt.colorbar(orientation ='horizontal');"
   ]
  },
  {
   "cell_type": "code",
   "execution_count": null,
   "metadata": {},
   "outputs": [],
   "source": [
    "# add noise\n",
    "sino_noise = np.random.poisson(lam=(sino)).astype('float64')\n",
    "sino_noise[sino_noise > i0] = i0\n",
    "print(sino_noise.min(), sino_noise.max())\n",
    "sino_noise = np.log(i0) - np.log(sino_noise)\n",
    "print(sino_noise.min(), sino_noise.max())\n",
    "\n",
    "sino = np.log(i0) - np.log(sino)\n",
    "print(sino.min(), sino.max())\n",
    "\n",
    "sino_new = sino_noise * Div\n",
    "print(sino_new.min(), sino_new.max())\n",
    "\n",
    "fig = plt.figure(figsize=(15,10))\n",
    "a=fig.add_subplot(1,3,1)\n",
    "imgplot = plt.imshow(sino, interpolation=None, cmap=\"gray\")\n",
    "a.set_title('Sinogram')\n",
    "plt.colorbar(orientation='horizontal');\n",
    "a=fig.add_subplot(1,3,2)\n",
    "imgplot = plt.imshow(sino_noise, interpolation=None, cmap=\"gray\")\n",
    "a.set_title('Noisy sinogram')\n",
    "plt.colorbar(orientation ='horizontal');\n",
    "a=fig.add_subplot(1,3,3)\n",
    "imgplot = plt.imshow(sino_new, interpolation=None, cmap=\"gray\")\n",
    "a.set_title('Noisy sinogram / standard deviation');\n",
    "plt.colorbar(orientation ='horizontal');"
   ]
  },
  {
   "cell_type": "code",
   "execution_count": null,
   "metadata": {
    "collapsed": true,
    "scrolled": true
   },
   "outputs": [],
   "source": [
    "proj_id = astra.create_projector('cuda', pg, vg)\n",
    "W = astra.OpTomo(proj_id)\n",
    "x0 = np.zeros_like(phantom)\n",
    "eps = 1e-30\n",
    "\n",
    "x0 = np.zeros_like(phantom)\n",
    "rec_1 = sirt.run(W, sino_noise, x0, eps, 100, 'steepest')\n",
    "en_1 = rec_1['energy'] \n",
    "alpha_1 = rec_1['alpha']\n",
    "rec_1 = rec_1['rec']\n",
    "\n",
    "x0 = np.zeros_like(phantom)\n",
    "#x0 = rec_1.copy()\n",
    "rec_2 = sirt_noise.run(W, sino_new, Div, x0, eps, 100, 'steepest')\n",
    "en_2 = rec_2['energy'] \n",
    "alpha_2 = rec_2['alpha']\n",
    "rec_2 = rec_2['rec']\n",
    "\n",
    "astra.projector.delete(proj_id)"
   ]
  },
  {
   "cell_type": "code",
   "execution_count": null,
   "metadata": {},
   "outputs": [],
   "source": [
    "er_1 = err_l2(phantom, rec_1)\n",
    "er_2 = err_l2(phantom, rec_2)\n",
    "\n",
    "fig = plt.figure(figsize=(15,10))\n",
    "\n",
    "a=fig.add_subplot(2,3,1)\n",
    "imgplot = plt.imshow(sino_noise, interpolation=None, cmap=\"gray\")\n",
    "a.set_title('Noisy sinogram')\n",
    "plt.colorbar(orientation='horizontal');\n",
    "\n",
    "a=fig.add_subplot(2,3,2)\n",
    "imgplot = plt.imshow(D, interpolation=None, cmap=\"gray\")\n",
    "a.set_title('Variance (V)')\n",
    "plt.colorbar(orientation ='horizontal');\n",
    "\n",
    "a=fig.add_subplot(2,3,3)\n",
    "imgplot = plt.imshow(sino_new, interpolation=None, cmap=\"gray\")\n",
    "a.set_title('Noisy sinogram / standard deviation')\n",
    "plt.colorbar(orientation ='horizontal');\n",
    "\n",
    "a=fig.add_subplot(2,3,4)\n",
    "imgplot = plt.imshow(phantom, interpolation=None, cmap=\"gray\")\n",
    "a.set_title('phantom')\n",
    "plt.colorbar(orientation ='horizontal');\n",
    "\n",
    "a=fig.add_subplot(2,3,5)\n",
    "imgplot = plt.imshow(rec_1, interpolation=None, cmap=\"gray\")\n",
    "a.set_title('SIRT, Err=' + str('{:0.2e}'.format(er_1)))\n",
    "plt.colorbar(orientation ='horizontal');\n",
    "\n",
    "a=fig.add_subplot(2,3,6)\n",
    "imgplot = plt.imshow(rec_2, interpolation=None, cmap=\"gray\")\n",
    "a.set_title('Variance SIRT, Err=' + str('{:0.2e}'.format(er_2)))\n",
    "plt.colorbar(orientation ='horizontal');\n",
    "plt.savefig(\"log_poisson_500.png\")"
   ]
  },
  {
   "cell_type": "code",
   "execution_count": null,
   "metadata": {
    "collapsed": true
   },
   "outputs": [],
   "source": []
  }
 ],
 "metadata": {
  "kernelspec": {
   "display_name": "Python 3",
   "language": "python",
   "name": "python3"
  },
  "language_info": {
   "codemirror_mode": {
    "name": "ipython",
    "version": 3
   },
   "file_extension": ".py",
   "mimetype": "text/x-python",
   "name": "python",
   "nbconvert_exporter": "python",
   "pygments_lexer": "ipython3",
   "version": "3.6.2"
  }
 },
 "nbformat": 4,
 "nbformat_minor": 2
}
