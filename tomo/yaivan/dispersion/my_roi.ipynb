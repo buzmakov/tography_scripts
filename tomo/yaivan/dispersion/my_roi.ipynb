{
 "cells": [
  {
   "cell_type": "code",
   "execution_count": null,
   "metadata": {
    "collapsed": true
   },
   "outputs": [],
   "source": [
    "%matplotlib inline"
   ]
  },
  {
   "cell_type": "code",
   "execution_count": null,
   "metadata": {
    "collapsed": true
   },
   "outputs": [],
   "source": [
    "import numpy as np \n",
    "import pylab as plt \n",
    "\n",
    "import scipy\n",
    "\n",
    "import astra \n",
    "import tomopy\n",
    "\n",
    "\n",
    "import alg \n",
    "import sirt \n",
    "import sirt_noise"
   ]
  },
  {
   "cell_type": "code",
   "execution_count": null,
   "metadata": {},
   "outputs": [],
   "source": [
    "plt.gray()"
   ]
  },
  {
   "cell_type": "code",
   "execution_count": null,
   "metadata": {
    "collapsed": true
   },
   "outputs": [],
   "source": [
    "# make phantom\n",
    "\n",
    "size = 128\n",
    "ref_phantom = tomopy.misc.phantom.shepp2d(size=size).astype('float32')\n",
    "ref_phantom = np.squeeze(ref_phantom)/np.max(ref_phantom)\n",
    "\n",
    "pad = 20\n",
    "\n",
    "phantom = np.zeros(np.asarray(ref_phantom.shape)+2*pad, dtype='float32')\n",
    "phantom[pad:-pad, pad:-pad] = ref_phantom\n",
    "\n",
    "# make sinogram\n",
    "n_angles = 180\n",
    "angles = np.arange(0.0, 180.0,  180.0 / n_angles)\n",
    "angles = angles.astype('float32') / 180 * np.pi\n",
    "\n",
    "pg = astra.create_proj_geom('parallel', 1.0, phantom.shape[0], angles)\n",
    "vg = astra.create_vol_geom(phantom.shape)\n",
    "sino = alg.gpu_fp(pg, vg, phantom)\n",
    "sino = sino.astype('float32')\n"
   ]
  },
  {
   "cell_type": "code",
   "execution_count": null,
   "metadata": {
    "collapsed": true
   },
   "outputs": [],
   "source": [
    "D = np.ones_like(sino)"
   ]
  },
  {
   "cell_type": "code",
   "execution_count": null,
   "metadata": {},
   "outputs": [],
   "source": [
    "plt.figure(figsize=(16,7))\n",
    "plt.subplot(131)\n",
    "plt.imshow(phantom)\n",
    "plt.colorbar(orientation='horizontal')\n",
    "\n",
    "plt.subplot(132)\n",
    "plt.imshow(sino)\n",
    "plt.axis('auto')\n",
    "plt.colorbar(orientation='horizontal')\n",
    "\n",
    "plt.subplot(133)\n",
    "plt.imshow(D)\n",
    "plt.axis('auto')\n",
    "plt.colorbar(orientation='horizontal')\n",
    "\n",
    "plt.show()"
   ]
  },
  {
   "cell_type": "code",
   "execution_count": null,
   "metadata": {
    "collapsed": true
   },
   "outputs": [],
   "source": [
    "mask = np.zeros_like(sino)\n",
    "mask[:,32+pad:-32-pad] = 1\n",
    "sino[mask == 0] = 0\n",
    "D[mask==0] = 0"
   ]
  },
  {
   "cell_type": "code",
   "execution_count": null,
   "metadata": {},
   "outputs": [],
   "source": [
    "plt.figure(figsize=(16,7))\n",
    "plt.subplot(131)\n",
    "plt.imshow(phantom)\n",
    "plt.colorbar(orientation='horizontal')\n",
    "\n",
    "plt.subplot(132)\n",
    "plt.imshow(sino)\n",
    "plt.axis('auto')\n",
    "plt.colorbar(orientation='horizontal')\n",
    "\n",
    "plt.subplot(133)\n",
    "plt.imshow(D)\n",
    "plt.axis('auto')\n",
    "plt.colorbar(orientation='horizontal')\n",
    "\n",
    "plt.show()"
   ]
  },
  {
   "cell_type": "code",
   "execution_count": null,
   "metadata": {
    "collapsed": true,
    "scrolled": true
   },
   "outputs": [],
   "source": [
    "# %%timeit\n",
    "proj_id = astra.create_projector('cuda', pg, vg)\n",
    "W = astra.OpTomo(proj_id)\n",
    "eps = 1e-30\n",
    "\n",
    "x0 = np.zeros_like(phantom)\n",
    "#x0 = rec_1.copy()\n",
    "rec = sirt_noise.run(W, sino, D, x0, eps, 100, 'steepest')\n",
    "en_0 = rec['energy']\n",
    "alpha_0 = rec['alpha']\n",
    "rec_0 = rec['rec']\n",
    "\n",
    "astra.projector.delete(proj_id)"
   ]
  },
  {
   "cell_type": "code",
   "execution_count": null,
   "metadata": {},
   "outputs": [],
   "source": [
    "plt.figure(figsize=(16,16))\n",
    "plt.subplot(221)\n",
    "plt.imshow(rec_0)\n",
    "plt.colorbar(orientation='horizontal')\n",
    "\n",
    "plt.subplot(222)\n",
    "plt.semilogy(en_0)\n",
    "plt.grid()\n",
    "\n",
    "plt.subplot(223)\n",
    "plt.imshow((W*rec_0.ravel()).reshape((len(angles),-1)))\n",
    "plt.colorbar(orientation='horizontal')\n",
    "plt.show()"
   ]
  },
  {
   "cell_type": "code",
   "execution_count": null,
   "metadata": {
    "collapsed": true
   },
   "outputs": [],
   "source": [
    "pg = astra.create_proj_geom('parallel', 1.0, phantom.shape[0], angles[0])\n",
    "vg = astra.create_vol_geom(phantom.shape)\n",
    "\n",
    "x0 = np.zeros_like(phantom)\n",
    "\n",
    "en_0 =[]\n",
    "alpha_0 = []\n",
    "\n",
    "ang_index=np.arange(len(angles))\n",
    "for iter_numb in range(10):\n",
    "    np.random.shuffle(ang_index)\n",
    "    for ang_id in np.array_split(ang_index,len(angles)//10):\n",
    "        pg['ProjectionAngles'] = angles[ang_id]\n",
    "        proj_id = astra.create_projector('cuda', pg, vg)\n",
    "        W = astra.OpTomo(proj_id)\n",
    "        eps = 1e-30\n",
    "        rec = sirt_noise.run(W, sino[ang_id], D[ang_id], x0, eps, 1, 'steepest')\n",
    "        x0 = rec['rec']\n",
    "        astra.projector.delete(proj_id)\n",
    "    en_0.extend(rec['energy'])\n",
    "    alpha_0.extend(rec['alpha'])\n",
    "rec_0=x0\n",
    "\n",
    "astra.projector.delete(proj_id)"
   ]
  },
  {
   "cell_type": "code",
   "execution_count": null,
   "metadata": {},
   "outputs": [],
   "source": [
    "plt.figure(figsize=(16,16))\n",
    "plt.subplot(221)\n",
    "plt.imshow(rec_0)\n",
    "plt.colorbar(orientation='horizontal')\n",
    "\n",
    "plt.subplot(222)\n",
    "plt.semilogy(en_0)\n",
    "plt.grid()\n",
    "\n",
    "pg['ProjectionAngles'] = angles\n",
    "proj_id = astra.create_projector('cuda', pg, vg)\n",
    "W = astra.OpTomo(proj_id)\n",
    "        \n",
    "plt.subplot(223)\n",
    "plt.imshow((W*rec_0.ravel()).reshape((len(angles),-1)))\n",
    "plt.colorbar(orientation='horizontal')\n",
    "plt.show()"
   ]
  },
  {
   "cell_type": "code",
   "execution_count": null,
   "metadata": {
    "collapsed": true
   },
   "outputs": [],
   "source": []
  }
 ],
 "metadata": {
  "kernelspec": {
   "display_name": "Python 3",
   "language": "python",
   "name": "python3"
  },
  "language_info": {
   "codemirror_mode": {
    "name": "ipython",
    "version": 3
   },
   "file_extension": ".py",
   "mimetype": "text/x-python",
   "name": "python",
   "nbconvert_exporter": "python",
   "pygments_lexer": "ipython3",
   "version": "3.6.2"
  }
 },
 "nbformat": 4,
 "nbformat_minor": 2
}
