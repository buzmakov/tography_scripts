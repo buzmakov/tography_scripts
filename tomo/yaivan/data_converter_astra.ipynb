{
 "cells": [
  {
   "cell_type": "code",
   "execution_count": null,
   "metadata": {
    "collapsed": false
   },
   "outputs": [],
   "source": [
    "%matplotlib inline"
   ]
  },
  {
   "cell_type": "code",
   "execution_count": null,
   "metadata": {
    "collapsed": false
   },
   "outputs": [],
   "source": [
    "from __future__ import division \n",
    "\n",
    "import os\n",
    "import glob\n",
    "import ConfigParser\n",
    "\n",
    "import numpy as np\n",
    "import h5py\n",
    "import pylab as plt\n",
    "\n",
    "import cv2\n",
    "import astra\n",
    "\n",
    "from ipywidgets import interact\n",
    "from pprint import pprint\n",
    "\n",
    "import tqdm"
   ]
  },
  {
   "cell_type": "code",
   "execution_count": null,
   "metadata": {
    "collapsed": false
   },
   "outputs": [],
   "source": [
    "# Data directory\n",
    "data_root = '/diskmnt/a/makov/yaivan/MMC_1/'\n",
    "raw_root = os.path.join(data_root,'Raw')\n",
    "out_file = os.path.join(data_root, 'raw.h5')"
   ]
  },
  {
   "cell_type": "code",
   "execution_count": null,
   "metadata": {
    "collapsed": false
   },
   "outputs": [],
   "source": [
    "# files = !ls {raw_root}\n",
    "# pprint(sorted(files))"
   ]
  },
  {
   "cell_type": "code",
   "execution_count": null,
   "metadata": {
    "collapsed": false
   },
   "outputs": [],
   "source": [
    "# SkyScan config output\n",
    "def print_config(config):\n",
    "    for k,v in config._sections.iteritems():\n",
    "        print '[{}]'.format(k)\n",
    "        for kk, vv in v.iteritems():\n",
    "            print '\\t{} = {}'.format(kk,vv)\n",
    "\n",
    "config = ConfigParser.RawConfigParser()\n",
    "config.optionxform = str\n",
    "config.read(os.path.join(raw_root,'MMC1_2.82um_.log'))\n",
    "print_config(config)"
   ]
  },
  {
   "cell_type": "markdown",
   "metadata": {},
   "source": [
    "## Some useful parameters:\n",
    "* [System]\n",
    "    * Camera Pixel Size (um) = 11.32\n",
    "\t* CameraXYRatio = 1.0023\n",
    "* [Acquisition]\n",
    "\t* Filename Prefix = MMC1_2.82um_\n",
    "\t* Number of Files = 2030\n",
    "\t* Source Voltage (kV) = 100\n",
    "\t* Source Current (uA) = 100\n",
    "\t* Number of Rows = 2096\n",
    "\t* Number of Columns = 4000\n",
    "\t* Camera binning = 1x1\n",
    "\t* Image Rotation = 0.6500\n",
    "\t* Image Pixel Size (um) = 2.82\n",
    "\t* Object to Source (mm) = 56.135\n",
    "\t* Camera to Source (mm) = 225.082\n",
    "\t* Vertical Object Position (mm) = 6.900\n",
    "\t* Optical Axis (line) = 960\n",
    "\t* Filter = Al 0.5 mm\n",
    "\t* Image Format = TIFF\n",
    "\t* Depth (bits) = 16\n",
    "\t* Exposure (ms) = 1767\n",
    "\t* Rotation Step (deg) = 0.100\n",
    "\t* Frame Averaging = ON (15)\n",
    "\t* Random Movement = OFF (10)\n",
    "\t* Use 360 Rotation = NO\n",
    "\t* Geometrical Correction = ON\n",
    "\t* Camera Offset = OFF\n",
    "\t* Median Filtering = ON\n",
    "\t* Flat Field Correction = ON\n",
    "\t* Rotation Direction = CC\n",
    "\t* Scanning Trajectory = ROUND\n",
    "\t* Study Date and Time = Mar 19, 2015  10:11:11\n",
    "\t* Scan duration = 16:08:02\n",
    "* [Reconstruction]\n",
    "\t* Reconstruction Program = NRecon\n",
    "\t* Program Version = Version: 1.6.5.8\n",
    "\t* Reconstruction engine = NReconServer\n",
    "\t* Dataset Origin = Skyscan1172\n",
    "\t* Dataset Prefix = MMC1_2.82um_\n",
    "\t* First Section = 96\n",
    "\t* Last Section = 1981\n",
    "\t* Reconstruction duration per slice (seconds) = 1.859491\n",
    "\t* Total reconstruction time (1886 slices) in seconds = 3507.000000\n",
    "\t* Postalignment = -1.00\n",
    "\t* Section to Section Step = 1\n",
    "\t* Sections Count = 1886\n",
    "\t* Result File Type = PNG\n",
    "\t* Result File Header Length (bytes) = Unknown: compressed JPG format (100%)\n",
    "\t* Result Image Width (pixels) = 4000\n",
    "\t* Result Image Height (pixels) = 4000\n",
    "\t* Pixel Size (um) = 2.82473\n",
    "\t* Reconstruction Angular Range (deg) = 202.90\n",
    "\t* Use 180+ = OFF\n",
    "\t* Angular Step (deg) = 0.1000\n",
    "\t* Smoothing = 0\n",
    "\t* Ring Artifact Correction = 16\n",
    "\t* Filter cutoff relative to Nyquisit frequency = 100\n",
    "\t* Filter type = 0\n",
    "\t* Filter type meaning(1) = 0: Hamming (Ramp in case of optical scanner); 1: Hann; 2: Ramp; 3: Almost Ramp;\n",
    "\t* Filter type meaning(2) = 11: Cosine; 12: Shepp-Logan; [100,200]: Generalized Hamming, alpha=(iFilter-100)/100\n",
    "\t* Undersampling factor = 1\n",
    "\t* Threshold for defect pixel mask (%) = 0\n",
    "\t* Beam Hardening Correction (%) = 92\n",
    "\t* CS Static Rotation (deg) = 0.0\n",
    "\t* Minimum for CS to Image Conversion = -0.1800\n",
    "\t* Maximum for CS to Image Conversion = 0.5200\n",
    "\t* HU Calibration = OFF\n",
    "\t* Cone-beam Angle Horiz.(deg) = 11.493867\n",
    "\t* Cone-beam Angle Vert.(deg) = 6.037473"
   ]
  },
  {
   "cell_type": "code",
   "execution_count": null,
   "metadata": {
    "collapsed": false
   },
   "outputs": [],
   "source": [
    "object_name = config._sections['Acquisition']['Filename Prefix']\n",
    "print 'Object name:', object_name"
   ]
  },
  {
   "cell_type": "code",
   "execution_count": null,
   "metadata": {
    "collapsed": false
   },
   "outputs": [],
   "source": [
    "data_files  = glob.glob(os.path.join(raw_root,object_name+'[0-9]'*4+'.tif'))\n",
    "data_files = sorted(data_files)\n",
    "print 'Data files found:', len(data_files)\n",
    "print 'First file:', data_files[0]\n",
    "print 'Last file:', data_files[-1]"
   ]
  },
  {
   "cell_type": "code",
   "execution_count": null,
   "metadata": {
    "collapsed": false
   },
   "outputs": [],
   "source": [
    "test_data = plt.imread(data_files[0])\n",
    "print 'Size of image:', test_data.shape\n",
    "print 'Image data type:', test_data.dtype"
   ]
  },
  {
   "cell_type": "code",
   "execution_count": null,
   "metadata": {
    "collapsed": false,
    "scrolled": true
   },
   "outputs": [],
   "source": [
    "# if not packed raw HDF5 file found, create it\n",
    "#TODO: add adittional reference iif files\n",
    "if not os.path.exists(out_file):\n",
    "    with h5py.File(out_file,'w-') as h5f:\n",
    "        h5f.create_dataset('data', (len(data_files), test_data.shape[0], test_data.shape[1]),\n",
    "            chunks=True, dtype=test_data.dtype)\n",
    "        for idf, df in enumerate(data_files):\n",
    "            print idf,\n",
    "            if idf%20 ==0: \n",
    "                print\n",
    "            df = plt.imread(data_files[idf])\n",
    "            h5f['data'][idf]=df        "
   ]
  },
  {
   "cell_type": "code",
   "execution_count": null,
   "metadata": {
    "collapsed": true
   },
   "outputs": [],
   "source": [
    "def build_reconstruction_geomety(detector_size, angles):\n",
    "    \n",
    "    # proj_geom = astra.create_proj_geom('parallel', 1.0, detector_size, angles)\n",
    "    \n",
    "    #Object to Source (mm) = 56.135\n",
    "    #Camera to Source (mm) = 225.082\n",
    "    \n",
    "    # All distances in [pixels]\n",
    "    pixel_size = 2.82473e-3\n",
    "    os_distance = 56.135/pixel_size\n",
    "    ds_distance = 225.082/pixel_size\n",
    "    \n",
    "    proj_geom = astra.create_proj_geom('fanflat', ds_distance/os_distance, detector_size, angles,\n",
    "                                       os_distance, (ds_distance-os_distance))\n",
    "    return proj_geom"
   ]
  },
  {
   "cell_type": "code",
   "execution_count": null,
   "metadata": {
    "collapsed": false
   },
   "outputs": [],
   "source": [
    "def astra_tomo2d_fanflat_fbp(sinogram, angles):\n",
    "    angles = angles.astype('float64') # hack for astra stability, may be removed in future releases\n",
    "    detector_size = sinogram.shape[1]\n",
    "    \n",
    "\n",
    "    rec_size = detector_size # size of reconstruction region\n",
    "    vol_geom = astra.create_vol_geom(rec_size, rec_size)\n",
    "\n",
    "    proj_geom = build_reconstruction_geomety(detector_size, angles)\n",
    "    \n",
    "    sinogram_id = astra.data2d.create('-sino', proj_geom, data=sinogram)\n",
    "    # Create a data object for the reconstruction\n",
    "    rec_id = astra.data2d.create('-vol', vol_geom)\n",
    "\n",
    "    # Set up the parameters for a reconstruction algorithm using the GPU\n",
    "    cfg = astra.astra_dict('FBP_CUDA')\n",
    "    cfg['ReconstructionDataId'] = rec_id\n",
    "    cfg['ProjectionDataId'] = sinogram_id\n",
    "    cfg['option'] = {}\n",
    "    cfg['option']['ShortScan'] = True\n",
    "#     cfg['option']['MinConstraint'] = 0\n",
    "    # cfg['option']['MaxConstraint'] = 5\n",
    "\n",
    "    # Available algorithms:\n",
    "    # SIRT_CUDA, SART_CUDA, EM_CUDA, FBP_CUDA (see the FBP sample)\n",
    "\n",
    "    # Create the algorithm object from the configuration structure\n",
    "    alg_id = astra.algorithm.create(cfg)\n",
    "\n",
    "    # Run 150 iterations of the algorithm\n",
    "    astra.algorithm.run(alg_id,  1)\n",
    "\n",
    "    # Get the result\n",
    "    rec = astra.data2d.get(rec_id)\n",
    "\n",
    "    # Clean up. Note that GPU memory is tied up in the algorithm object,\n",
    "    # and main RAM in the data objects.\n",
    "    astra.algorithm.delete(alg_id)\n",
    "    astra.data2d.delete(rec_id)\n",
    "    astra.data2d.delete(sinogram_id)\n",
    "    astra.clear()\n",
    "    return rec\n",
    "\n",
    "def astra_tomo2d_fanflat_sirt(sinogram, angles):\n",
    "    angles = angles.astype('float64') # hack for astra stability, may be removed in future releases\n",
    "    detector_size = sinogram.shape[1]\n",
    "    \n",
    "\n",
    "    rec_size = detector_size # size of reconstruction region\n",
    "    vol_geom = astra.create_vol_geom(rec_size, rec_size)\n",
    "\n",
    "    proj_geom = build_reconstruction_geomety(detector_size, angles)\n",
    "    \n",
    "    sinogram_id = astra.data2d.create('-sino', proj_geom, data=sinogram)\n",
    "    # Create a data object for the reconstruction\n",
    "    rec_id = astra.data2d.create('-vol', vol_geom)\n",
    "\n",
    "    # Set up the parameters for a reconstruction algorithm using the GPU\n",
    "    cfg = astra.astra_dict('SIRT_CUDA')\n",
    "    cfg['ReconstructionDataId'] = rec_id\n",
    "    cfg['ProjectionDataId'] = sinogram_id\n",
    "    cfg['option'] = {}\n",
    "#     cfg['option']['MinConstraint'] = 0\n",
    "    # cfg['option']['MaxConstraint'] = 5\n",
    "\n",
    "    # Available algorithms:\n",
    "    # SIRT_CUDA, SART_CUDA, EM_CUDA, FBP_CUDA (see the FBP sample)\n",
    "\n",
    "    # Create the algorithm object from the configuration structure\n",
    "    alg_id = astra.algorithm.create(cfg)\n",
    "\n",
    "    # Run 150 iterations of the algorithm\n",
    "    astra.algorithm.run(alg_id,  2000)\n",
    "\n",
    "    # Get the result\n",
    "    rec = astra.data2d.get(rec_id)\n",
    "\n",
    "    # Clean up. Note that GPU memory is tied up in the algorithm object,\n",
    "    # and main RAM in the data objects.\n",
    "    astra.algorithm.delete(alg_id)\n",
    "    astra.data2d.delete(rec_id)\n",
    "    astra.data2d.delete(sinogram_id)\n",
    "    astra.clear()\n",
    "    return rec\n",
    "\n",
    "# Define the plugin class (has to subclass astra.plugin.base)\n",
    "# Note that usually, these will be defined in a separate package/module\n",
    "class SIRTPlugin(astra.plugin.base):\n",
    "    \"\"\"Example of an ASTRA plugin class, implementing a simple 2D SIRT algorithm.\n",
    "\n",
    "    Options:\n",
    "\n",
    "    'rel_factor': relaxation factor (optional)\n",
    "    \"\"\"\n",
    "\n",
    "    # The astra_name variable defines the name to use to\n",
    "    # call the plugin from ASTRA\n",
    "    astra_name = \"SIRT-PLUGIN\"\n",
    "\n",
    "    def initialize(self,cfg, rel_factor = 1):\n",
    "        self.W = astra.OpTomo(cfg['ProjectorId'])\n",
    "        self.vid = cfg['ReconstructionDataId']\n",
    "        self.sid = cfg['ProjectionDataId']\n",
    "        self.rel = rel_factor\n",
    "\n",
    "    def run(self, its):\n",
    "        v = astra.data2d.get_shared(self.vid)\n",
    "        s = astra.data2d.get_shared(self.sid)\n",
    "        print s.shape\n",
    "        W = self.W\n",
    "        for i in range(its):\n",
    "            v[:] += self.rel*(W.T*(s - (W*v).reshape(s.shape))).reshape(v.shape)/s.size\n",
    "            \n",
    "# from plugin import SIRTPlugin            \n",
    "def astra_tomo2d_fanflat_plugin(sinogram, angles):\n",
    "    angles = angles.astype('float64') # hack for astra stability, may be removed in future releases\n",
    "    detector_size = sinogram.shape[1]\n",
    "    \n",
    "\n",
    "    rec_size = detector_size # size of reconstruction region\n",
    "    \n",
    "    vol_geom = astra.create_vol_geom(rec_size, rec_size)\n",
    "    proj_geom = build_reconstruction_geomety(detector_size, angles)\n",
    "    proj_id = astra.create_projector('cuda',proj_geom,vol_geom)\n",
    "    \n",
    "    sinogram_id = astra.data2d.create('-sino', proj_geom, data=sinogram)\n",
    "    # Create a data object for the reconstruction\n",
    "    rec_id = astra.data2d.create('-vol', vol_geom)\n",
    "    \n",
    "    astra.plugin.register(SIRTPlugin)\n",
    "    print astra.plugin.get_registered()\n",
    "    \n",
    "    # Set up the parameters for a reconstruction algorithm using the GPU\n",
    "    cfg = astra.astra_dict('SIRT-PLUGIN')\n",
    "    cfg['ProjectorId'] = proj_id\n",
    "    cfg['ReconstructionDataId'] = rec_id\n",
    "    cfg['ProjectionDataId'] = sinogram_id\n",
    "    cfg['option'] = {}\n",
    "    cfg['option']['rel_factor'] = 1.5\n",
    "#     cfg['option']['MinConstraint'] = 0\n",
    "    # cfg['option']['MaxConstraint'] = 5\n",
    "\n",
    "    # Available algorithms:\n",
    "    # SIRT_CUDA, SART_CUDA, EM_CUDA, FBP_CUDA (see the FBP sample)\n",
    "\n",
    "    # Create the algorithm object from the configuration structure\n",
    "    alg_id = astra.algorithm.create(cfg)\n",
    "\n",
    "    # Run 150 iterations of the algorithm\n",
    "    astra.algorithm.run(alg_id,  10)\n",
    "\n",
    "    # Get the result\n",
    "    rec = astra.data2d.get(rec_id)\n",
    "\n",
    "    # Clean up. Note that GPU memory is tied up in the algorithm object,\n",
    "    # and main RAM in the data objects.\n",
    "    astra.algorithm.delete(alg_id)\n",
    "    astra.data2d.delete(rec_id)\n",
    "    astra.data2d.delete(sinogram_id)\n",
    "    astra.clear()\n",
    "    return rec\n",
    "\n",
    "def create_sinogram(data, angles):  \n",
    "    angles = angles.astype('float64') # hack for astra stability, may be removed in future releases\n",
    "    detector_size = data.shape[1]\n",
    "\n",
    "    rec_size = detector_size # size of reconstruction region\n",
    "    vol_geom = astra.create_vol_geom(rec_size, rec_size)\n",
    "\n",
    "    proj_geom = build_reconstruction_geomety(detector_size, angles)\n",
    "    proj_id = astra.create_projector('cuda',proj_geom,vol_geom)\n",
    "    \n",
    "    W = astra.OpTomo(proj_id)\n",
    "    P = data\n",
    "    sinogram = W * P\n",
    "    sinogram = sinogram.reshape([len(angles), detector_size])\n",
    "    return np.rot90(sinogram,3)"
   ]
  },
  {
   "cell_type": "code",
   "execution_count": null,
   "metadata": {
    "collapsed": false
   },
   "outputs": [],
   "source": [
    "from functools32 import lru_cache\n",
    "\n",
    "def cv_rotate(x,angle):\n",
    "    \"\"\"\n",
    "    Rotate square array using OpenCV2 around center of the array\n",
    "    :param x: numpy array\n",
    "    :param angle: angle in degrees\n",
    "    :return: rotated array\n",
    "    \"\"\"\n",
    "    x_center=tuple(np.array((x.shape[1],x.shape[0]),dtype='float32')/2.0-0.5)\n",
    "    rot_mat=cv2.getRotationMatrix2D(x_center,angle,1.0)\n",
    "    xro=cv2.warpAffine(x,rot_mat,(x.shape[1],x.shape[0]),flags=cv2.INTER_LINEAR)\n",
    "    return xro\n",
    "\n",
    "\n",
    "@lru_cache(maxsize=32)\n",
    "def load_sinogram(sinogram_number):\n",
    "    \n",
    "    # Without thermal correction\n",
    "    with h5py.File(out_file,'r') as h5f:\n",
    "        sinogram = h5f['data'][:,-sinogram_number,:]\n",
    "            \n",
    "    # With thermal correction \n",
    "    # Loading geometrical correction map generated by NRecon\n",
    "#     corrections_map = np.loadtxt(os.path.join(raw_root,'MMC1_2.82um__TS.crv'),skiprows=2)\n",
    "    \n",
    "#     with h5py.File(out_file,'r') as h5f:\n",
    "#         sinogram = np.zeros_like(h5f['data'][:,-sinogram_number,:])\n",
    "#         for ii in tqdm.tqdm(range(sinogram.shape[0])):\n",
    "#             sinogram[ii] = np.roll(\n",
    "#                 h5f['data'][ii,-sinogram_number-int(corrections_map[ii,2]),:],\n",
    "#                 -int(corrections_map[ii,1])\n",
    "#             )\n",
    "            \n",
    "          \n",
    "            \n",
    "    \n",
    "    # select only central 180 deg for reconstruction\n",
    "#     sinogram = sinogram[int(sinogram.shape[0]/2-900):1800-int(sinogram.shape[0]/2-900)] \n",
    "#     sinogram = sinogram[:1800]\n",
    "    \n",
    "    sinogram = np.array(sinogram/2.**16)\n",
    "    \n",
    "    return sinogram"
   ]
  },
  {
   "cell_type": "code",
   "execution_count": null,
   "metadata": {
    "collapsed": false,
    "scrolled": false
   },
   "outputs": [],
   "source": [
    "def get_sinogram(sinogram_number):\n",
    "    sinogram = load_sinogram(sinogram_number)\n",
    "    \n",
    "#     sinogram_max = np.mean(sinogram, axis=1)\n",
    "\n",
    "\n",
    "#     for ii in range(sinogram.shape[0]):\n",
    "#         sinogram[ii] *= sinogram_max[ii]/sinogram_max.mean()\n",
    "\n",
    "#         plt.plot(np.max(sinogram, axis=1))\n",
    "#         plt.show()\n",
    "#         np.savetxt('sinogram.txt', sinogram)\n",
    "\n",
    "#     angles_reduce = 1\n",
    "#     size_reduce = 1\n",
    "#     sinogram = cv2.resize(sinogram,(sinogram.shape[1]//size_reduce, sinogram.shape[0]//angles_reduce))     \n",
    "#     print sinogram.min(),sinogram.max()\n",
    "#     sinogram[sinogram<1e-3] = 1\n",
    "\n",
    "\n",
    "    sinogram = np.rot90(sinogram)         \n",
    "    sinogram = -np.log(sinogram)\n",
    "    \n",
    "    # Corrections here !!!\n",
    "    \n",
    "    sinoram_max = sinogram.max()\n",
    "#     for i in range(sinogram.shape[0]):\n",
    "#         sinogram[i] = sinogram[i] - sinogram[i].min()        \n",
    "\n",
    "    sinogram = sinogram/sinoram_max\n",
    "    return sinogram\n",
    "\n",
    "def get_reconstruction(sinogram, reconstruction_function):\n",
    "    angles = np.arange(sinogram.shape[1])*0.1-11.493867*2\n",
    "    angles = angles.astype('float64')/180.*np.pi\n",
    "#     angles = angles + (angles.max()+angles.min())/2.\n",
    "#     angles = angles - np.pi\n",
    "    astra_data = np.rot90(sinogram)\n",
    "    astra_rec = reconstruction_function(astra_data, angles)\n",
    "    astra_rec = np.rot90(astra_rec)\n",
    "    return astra_rec\n",
    "\n",
    "def get_reconstruction_fbp(sinogram):\n",
    "    return get_reconstruction(sinogram, astra_tomo2d_fanflat_fbp)\n",
    "\n",
    "def get_reconstruction_sirt(sinogram):\n",
    "    return get_reconstruction(sinogram, astra_tomo2d_fanflat_sirt)\n",
    "\n",
    "def get_reconstruction_plugin(sinogram):\n",
    "    return get_reconstruction(sinogram, astra_tomo2d_fanflat_plugin)\n",
    "\n",
    "astra_tomo2d_fanflat_plugin\n",
    "\n",
    "def show_sinogram(sinogram_number):\n",
    "    sinogram = get_sinogram(sinogram_number)\n",
    "    \n",
    "    plt.figure(figsize=(7,7))\n",
    "    plt.imshow(sinogram, cmap=plt.cm.gray_r)\n",
    "    plt.colorbar()\n",
    "    plt.axis('tight')\n",
    "    plt.title('Original')\n",
    "    plt.show()\n",
    "\n",
    "def show_reconstruction(rec, roi, title=None):\n",
    "#     plt.figure(figsize=(12,10))\n",
    "    plt.imshow(rec[roi], cmap=plt.cm.gray, interpolation='nearest')\n",
    "#     plt.colorbar(orientation='vertical')\n",
    "    if title is None:\n",
    "        plt.title('Astra')\n",
    "    else:\n",
    "        plt.title('Astra {}'.format(title))\n",
    "#     plt.show()\n",
    "    \n",
    "def show_original(sinogram_number, roi):\n",
    "#     plt.figure(figsize=(12,10))\n",
    "    source_rec = plt.imread(os.path.join(data_root,\n",
    "                        'Reconstructed','{}_rec{:04d}.png'.format(object_name, sinogram_number)))[...,0]\n",
    "    source_rec = np.rot90(source_rec) \n",
    "    source_rec = np.array(source_rec)*(0.52+0.18)-0.18\n",
    "\n",
    "    plt.imshow(source_rec[roi], cmap=plt.cm.gray, interpolation='nearest')\n",
    "#     plt.colorbar(orientation='vertical')\n",
    "    plt.title('Skyscan')\n",
    "#     plt.show()\n"
   ]
  },
  {
   "cell_type": "code",
   "execution_count": null,
   "metadata": {
    "collapsed": false,
    "scrolled": false
   },
   "outputs": [],
   "source": [
    "N=960\n",
    "sinogram_orig = get_sinogram(N)\n",
    "rec_fbp = get_reconstruction_fbp(sinogram_orig)\n",
    "angles = np.arange(sinogram_orig.shape[1])*0.1+90-11.493867*2\n",
    "sinogram_fbp = create_sinogram(rec_fbp, angles*np.pi/180)\n",
    "# # rec_plugin = get_reconstruction_plugin(sinogram)\n",
    "# rec_sirt = get_reconstruction_sirt(sinogram)\n",
    "\n",
    "rois = []\n",
    "# rois.append(np.ix_(np.r_[1900:2400],np.r_[2000:2500]))\n",
    "# rois.append(np.ix_(np.r_[1100:1700],np.r_[2500:3200]))\n",
    "# rois.append(np.ix_(np.r_[2660:2800],np.r_[2200:2400]))\n",
    "# rois.append(np.ix_(np.r_[2750:2900],np.r_[2600:2800]))\n",
    "# rois.append(np.ix_(np.r_[3000:3500],np.r_[2000:3000]))\n",
    "# rois.append(np.ix_(np.r_[2700:3500],np.r_[1300:2100]))\n",
    "# rois.append(np.ix_(np.r_[1000:1600],np.r_[1600:2200]))\n",
    "rois.append(np.ix_(np.r_[0:4000],np.r_[0:4000]))\n",
    "# for roi in rois:\n",
    "#     plt.figure(figsize = (20,20))\n",
    "#     plt.subplot(121)\n",
    "#     show_original(N ,roi)\n",
    "#     plt.subplot(122)\n",
    "#     show_reconstruction(rec_fbp, roi, 'FBP')\n",
    "# #     plt.subplot(224)\n",
    "# #     show_reconstruction(rec_sirt, roi, 'SIRT')\n",
    "# #     plt.show()\n",
    "# #     show_reconstruction(rec_plugin, roi, 'SIRT-PLUGIN')\n",
    "# #     show_reconstruction(rec_sirt, roi, 'SIRT')\n",
    "for roi in rois:\n",
    "    plt.figure(figsize = (10,10))\n",
    "    show_reconstruction(rec_fbp, roi, 'FBP')\n",
    "    plt.savefig('fbp_no_corrections.png')\n",
    "\n",
    "# show_sinogram(N)\n",
    "\n",
    "# plt.figure(figsize=(7,7))\n",
    "# plt.imshow(sinogram_fbp, cmap=plt.cm.gray_r)\n",
    "# plt.colorbar()\n",
    "# plt.axis('tight')\n",
    "# plt.title('FBP')\n",
    "# plt.show()\n",
    "\n",
    "# save_marina_txt(sinogram_orig,'sinogram_original_no_corrections')\n",
    "# save_marina_txt(sinogram_fbp, 'sinogram_fbp_no_corrections')\n",
    "# save_marina_txt(rec_fbp, 'rec_fbp_no_corrections')"
   ]
  },
  {
   "cell_type": "code",
   "execution_count": null,
   "metadata": {
    "collapsed": true
   },
   "outputs": [],
   "source": [
    "# gamma corractions\n",
    "from skimage.exposure import  adjust_gamma\n",
    "N=960\n",
    "for gamma in np.arange(0.5,2,0.1):\n",
    "    sinogram_orig = get_sinogram(N)\n",
    "    sinogram_orig = adjust_gamma(sinogram_orig, gamma)\n",
    "    rec_fbp = get_reconstruction_fbp(sinogram_orig)\n",
    "    angles = np.arange(sinogram_orig.shape[1])*0.1+90-11.493867*2\n",
    "    sinogram_fbp = create_sinogram(rec_fbp, angles*np.pi/180)\n",
    "    # # rec_plugin = get_reconstruction_plugin(sinogram)\n",
    "    # rec_sirt = get_reconstruction_sirt(sinogram)\n",
    "\n",
    "    rois = []\n",
    "    # rois.append(np.ix_(np.r_[1900:2400],np.r_[2000:2500]))\n",
    "    # rois.append(np.ix_(np.r_[1100:1700],np.r_[2500:3200]))\n",
    "    # rois.append(np.ix_(np.r_[2660:2800],np.r_[2200:2400]))\n",
    "    # rois.append(np.ix_(np.r_[2750:2900],np.r_[2600:2800]))\n",
    "    # rois.append(np.ix_(np.r_[3000:3500],np.r_[2000:3000]))\n",
    "    # rois.append(np.ix_(np.r_[2700:3500],np.r_[1300:2100]))\n",
    "    # rois.append(np.ix_(np.r_[1000:1600],np.r_[1600:2200]))\n",
    "    rois.append(np.ix_(np.r_[0:4000],np.r_[0:4000]))\n",
    "    for roi in rois:\n",
    "        plt.figure(figsize = (20,20))\n",
    "        plt.subplot(121)\n",
    "        show_original(N ,roi)\n",
    "        plt.subplot(122)\n",
    "        show_reconstruction(rec_fbp, roi, 'FBP')\n",
    "    # #     plt.subplot(224)\n",
    "    # #     show_reconstruction(rec_sirt, roi, 'SIRT')\n",
    "    # #     plt.show()\n",
    "    # #     show_reconstruction(rec_plugin, roi, 'SIRT-PLUGIN')\n",
    "    # #     show_reconstruction(rec_sirt, roi, 'SIRT')\n",
    "\n",
    "    show_sinogram(N)\n",
    "\n",
    "    plt.figure(figsize=(7,7))\n",
    "    plt.imshow(sinogram_fbp, cmap=plt.cm.gray_r)\n",
    "    plt.colorbar()\n",
    "    plt.axis('tight')\n",
    "    plt.title('FBP')\n",
    "    plt.show()\n",
    "\n",
    "    save_marina_txt(sinogram_orig,'sinogram_original_gamma_{}'.format(gamma))\n",
    "    save_marina_txt(sinogram_fbp, 'sinogram_fbp_gamma_{}'.format(gamma))\n",
    "    save_marina_txt(rec_fbp, 'rec_fbp_gamma_{}'.format(gamma))"
   ]
  },
  {
   "cell_type": "code",
   "execution_count": null,
   "metadata": {
    "collapsed": false
   },
   "outputs": [],
   "source": [
    "def save_marina_txt(data, name):\n",
    "    file_name = '{}_{}_{}.txt'.format(name, data.shape[0], data.shape[1])\n",
    "    print name, data.shape, data.dtype, file_name\n",
    "    np.savetxt(file_name, data.reshape(np.prod(data.shape),1), fmt='%0.3e')"
   ]
  },
  {
   "cell_type": "code",
   "execution_count": null,
   "metadata": {
    "collapsed": false
   },
   "outputs": [],
   "source": [
    "np.save('rec_sirt',rec_sirt)\n",
    "np.save('rec_fbp',rec_fbp)\n",
    "source_rec = plt.imread(os.path.join(data_root,\n",
    "                        'Reconstructed','{}_rec{:04d}.png'.format(object_name, N)))[...,0]\n",
    "np.save('rec_orig',source_rec)"
   ]
  },
  {
   "cell_type": "code",
   "execution_count": null,
   "metadata": {
    "collapsed": true
   },
   "outputs": [],
   "source": [
    "rec_sirt = np.load('rec_sirt.npy')\n",
    "rec_fbp = np.load('rec_fbp.npy')"
   ]
  },
  {
   "cell_type": "code",
   "execution_count": null,
   "metadata": {
    "collapsed": false
   },
   "outputs": [],
   "source": [
    "for name in ['rec_sirt', 'rec_fbp', 'rec_orig']:\n",
    "    x = np.load(name+'.npy')\n",
    "    print name, x.shape, x.dtype\n",
    "    np.savetxt('{}_{}_{}.txt'.format(name, x.shape[0], x.shape[1]), x.reshape(np.prod(x.shape),1), fmt='%0.3e')"
   ]
  },
  {
   "cell_type": "code",
   "execution_count": null,
   "metadata": {
    "collapsed": false
   },
   "outputs": [],
   "source": [
    "!head rec_sirt_4000_4000.txt"
   ]
  },
  {
   "cell_type": "code",
   "execution_count": null,
   "metadata": {
    "collapsed": true
   },
   "outputs": [],
   "source": [
    "!gzip *.txt rec.zip"
   ]
  },
  {
   "cell_type": "code",
   "execution_count": null,
   "metadata": {
    "collapsed": false
   },
   "outputs": [],
   "source": [
    "save_marina_txt(sinogram_orig,'sinogram_original_normalized')"
   ]
  },
  {
   "cell_type": "code",
   "execution_count": null,
   "metadata": {
    "collapsed": true
   },
   "outputs": [],
   "source": [
    "import tomopy"
   ]
  },
  {
   "cell_type": "code",
   "execution_count": null,
   "metadata": {
    "collapsed": false
   },
   "outputs": [],
   "source": [
    "data_orig = np.load('rec_sirt.npy')\n",
    "print data_orig.shape"
   ]
  },
  {
   "cell_type": "code",
   "execution_count": null,
   "metadata": {
    "collapsed": false
   },
   "outputs": [],
   "source": [
    "data = np.zeros(shape=(1, data_orig.shape[0], data_orig.shape[1]))\n",
    "data[0] = data_orig*1e3"
   ]
  },
  {
   "cell_type": "code",
   "execution_count": null,
   "metadata": {
    "collapsed": true
   },
   "outputs": [],
   "source": [
    "data_corr = tomopy.misc.corr.remove_ring(data)"
   ]
  },
  {
   "cell_type": "code",
   "execution_count": null,
   "metadata": {
    "collapsed": false,
    "scrolled": true
   },
   "outputs": [],
   "source": [
    "plt.imshow(data_corr[0,1900:2100,1900:2100])\n",
    "plt.colorbar()"
   ]
  },
  {
   "cell_type": "code",
   "execution_count": null,
   "metadata": {
    "collapsed": false
   },
   "outputs": [],
   "source": [
    "plt.imshow(data[0,1900:2100,1900:2100])\n",
    "plt.colorbar()"
   ]
  },
  {
   "cell_type": "code",
   "execution_count": null,
   "metadata": {
    "collapsed": false
   },
   "outputs": [],
   "source": [
    "save_marina_txt(data[0],'rec_sirt_norings')"
   ]
  },
  {
   "cell_type": "code",
   "execution_count": null,
   "metadata": {
    "collapsed": true
   },
   "outputs": [],
   "source": [
    "!gzip rec_sirt_norings_4000_4000.txt"
   ]
  },
  {
   "cell_type": "code",
   "execution_count": null,
   "metadata": {
    "collapsed": false
   },
   "outputs": [],
   "source": [
    "N=980\n",
    "sinogram_orig = get_sinogram(N)\n",
    "rec_fbp = get_reconstruction_fbp(sinogram_orig)"
   ]
  },
  {
   "cell_type": "code",
   "execution_count": null,
   "metadata": {
    "collapsed": false
   },
   "outputs": [],
   "source": [
    "save_marina_txt(rec_fbp,'rec_fbp_980')"
   ]
  },
  {
   "cell_type": "code",
   "execution_count": null,
   "metadata": {
    "collapsed": true
   },
   "outputs": [],
   "source": [
    "!gzip rec_fbp_980_4000_4000.txt"
   ]
  },
  {
   "cell_type": "code",
   "execution_count": null,
   "metadata": {
    "collapsed": true
   },
   "outputs": [],
   "source": []
  }
 ],
 "metadata": {
  "kernelspec": {
   "display_name": "Python 2",
   "language": "python",
   "name": "python2"
  },
  "language_info": {
   "codemirror_mode": {
    "name": "ipython",
    "version": 2
   },
   "file_extension": ".py",
   "mimetype": "text/x-python",
   "name": "python",
   "nbconvert_exporter": "python",
   "pygments_lexer": "ipython2",
   "version": "2.7.11"
  }
 },
 "nbformat": 4,
 "nbformat_minor": 0
}
