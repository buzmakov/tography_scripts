{
 "cells": [
  {
   "cell_type": "code",
   "execution_count": 2,
   "metadata": {},
   "outputs": [
    {
     "name": "stdout",
     "output_type": "stream",
     "text": [
      "The autoreload extension is already loaded. To reload it, use:\n",
      "  %reload_ext autoreload\n"
     ]
    }
   ],
   "source": [
    "%matplotlib inline\n",
    "%load_ext autoreload\n",
    "%autoreload 2"
   ]
  },
  {
   "cell_type": "code",
   "execution_count": 3,
   "metadata": {
    "collapsed": true
   },
   "outputs": [],
   "source": [
    "import json\n",
    "import requests\n",
    "import tomotools\n",
    "import configparser\n",
    "from pprint import pprint"
   ]
  },
  {
   "cell_type": "code",
   "execution_count": 4,
   "metadata": {
    "collapsed": true
   },
   "outputs": [],
   "source": [
    "import subprocess\n",
    "import nbformat\n",
    "import os\n",
    "\n",
    "def _notebook_run(notebook = 'reconstructor-v.1.4.ipynb'):\n",
    "    \"\"\"Execute a notebook via nbconvert and collect output.\n",
    "       :returns (parsed nb object, execution errors)\n",
    "    \"\"\"\n",
    "    \n",
    "    path = notebook\n",
    "    args = [\"jupyter\", \"nbconvert\", \"--execute\", \"--allow-errors\",\n",
    "            \"--ExecutePreprocessor.timeout=-1\", \"--NotebookApp.iopub_data_rate_limit=1.0e10\", \n",
    "            \"--to\", \"notebook\", '--output', notebook, path]\n",
    "    subprocess.check_call(args)\n",
    "\n",
    "    args = [\"jupyter\", \"nbconvert\", \"--to\", \"html\",\n",
    "            os.path.join(notebook)]\n",
    "    subprocess.check_call(args)\n",
    "\n",
    "    nb = nbformat.read(path, nbformat.current_nbformat)\n",
    "    errors = [output for cell in nb.cells if \"outputs\" in cell\n",
    "              for output in cell[\"outputs\"]\n",
    "              if output.output_type == \"error\"]\n",
    "    return nb, errors\n"
   ]
  },
  {
   "cell_type": "code",
   "execution_count": 5,
   "metadata": {
    "collapsed": true
   },
   "outputs": [],
   "source": [
    "tomo_objects = [\"17850398-bb2b-4588-8cb1-400da8fb5a70\"]"
   ]
  },
  {
   "cell_type": "code",
   "execution_count": 6,
   "metadata": {},
   "outputs": [
    {
     "data": {
      "application/vnd.jupyter.widget-view+json": {
       "model_id": "44b5f060355f4a4b8be32d5884f47892",
       "version_major": 2,
       "version_minor": 0
      },
      "text/plain": [
       "VBox(children=(HTML(value=''), IntProgress(value=0, max=1)))"
      ]
     },
     "metadata": {},
     "output_type": "display_data"
    },
    {
     "name": "stdout",
     "output_type": "stream",
     "text": [
      "Mo_40-20_M-unguiculatus_Cosmoc-Photon-M3_bone_N3\n",
      "cp: cannot stat ‘tomo.html’: No such file or directory\n"
     ]
    }
   ],
   "source": [
    "storage_dir = '/diskmnt/a/makov/robotom/'\n",
    "\n",
    "for to in tomotools.log_progress(tomo_objects):\n",
    "    tomo_info = tomotools.get_tomoobject_info(to) \n",
    "    experiment_id = tomo_info['_id']\n",
    "    print(tomo_info['specimen'])\n",
    "    config = configparser.ConfigParser()\n",
    "    config[\"SAMPLE\"] = tomo_info \n",
    "    with open ('tomo.ini', 'w') as cf:\n",
    "        config.write(cf)\n",
    "        \n",
    "    nb, errors = _notebook_run()\n",
    "    for e in errors:\n",
    "        pprint(e)\n",
    "    !cp reconstructor-v.1.4.ipynb {os.path.join(storage_dir, experiment_id)}/ \n",
    "    !cp reconstructor-v.1.4.html {os.path.join(storage_dir, experiment_id)}/\n",
    "    !cp tomo.ini {os.path.join(storage_dir, experiment_id)}/\n",
    "#     !cp tomo.html {os.path.join(storage_dir, experiment_id)}/"
   ]
  },
  {
   "cell_type": "code",
   "execution_count": 21,
   "metadata": {
    "collapsed": true
   },
   "outputs": [],
   "source": [
    "# !git add autotom.ipynb reconstructor-v.1.4.ipynb tomotools.py"
   ]
  },
  {
   "cell_type": "code",
   "execution_count": null,
   "metadata": {
    "collapsed": true
   },
   "outputs": [],
   "source": []
  }
 ],
 "metadata": {
  "kernelspec": {
   "display_name": "Python 3",
   "language": "python",
   "name": "python3"
  },
  "language_info": {
   "codemirror_mode": {
    "name": "ipython",
    "version": 3
   },
   "file_extension": ".py",
   "mimetype": "text/x-python",
   "name": "python",
   "nbconvert_exporter": "python",
   "pygments_lexer": "ipython3",
   "version": "3.6.4"
  }
 },
 "nbformat": 4,
 "nbformat_minor": 2
}
