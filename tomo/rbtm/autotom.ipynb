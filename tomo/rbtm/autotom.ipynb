{
 "cells": [
  {
   "cell_type": "code",
   "execution_count": null,
   "metadata": {},
   "outputs": [],
   "source": [
    "%matplotlib inline\n",
    "%load_ext autoreload\n",
    "%autoreload 2"
   ]
  },
  {
   "cell_type": "code",
   "execution_count": null,
   "metadata": {
    "collapsed": true
   },
   "outputs": [],
   "source": [
    "import json\n",
    "import requests\n",
    "import tomotools\n",
    "import configparser\n",
    "from pprint import pprint"
   ]
  },
  {
   "cell_type": "code",
   "execution_count": null,
   "metadata": {
    "collapsed": true
   },
   "outputs": [],
   "source": [
    "import subprocess\n",
    "import nbformat\n",
    "import os\n",
    "\n",
    "def _notebook_run(notebook = 'reconstructor-v.1.2.ipynb'):\n",
    "    \"\"\"Execute a notebook via nbconvert and collect output.\n",
    "       :returns (parsed nb object, execution errors)\n",
    "    \"\"\"\n",
    "    \n",
    "    path = notebook\n",
    "    args = [\"jupyter\", \"nbconvert\", \"--execute\", \"--allow-errors\",\n",
    "            \"--ExecutePreprocessor.timeout=-1\",\n",
    "            \"--to\", \"notebook\", '--output', notebook, path]\n",
    "    subprocess.check_call(args)\n",
    "\n",
    "    args = [\"jupyter\", \"nbconvert\", \"--to\", \"html\",\n",
    "            os.path.join(notebook)]\n",
    "    subprocess.check_call(args)\n",
    "\n",
    "    nb = nbformat.read(path, nbformat.current_nbformat)\n",
    "    errors = [output for cell in nb.cells if \"outputs\" in cell\n",
    "              for output in cell[\"outputs\"]\n",
    "              if output.output_type == \"error\"]\n",
    "    return nb, errors\n"
   ]
  },
  {
   "cell_type": "code",
   "execution_count": null,
   "metadata": {
    "collapsed": true
   },
   "outputs": [],
   "source": [
    "tomo_objects = ['cc0a8c13-34e3-4551-a27f-74224d00b06c',\n",
    "                ]"
   ]
  },
  {
   "cell_type": "code",
   "execution_count": null,
   "metadata": {},
   "outputs": [],
   "source": [
    "storage_dir = '/diskmnt/a/makov/robotom/'\n",
    "\n",
    "for to in tomotools.log_progress(tomo_objects):\n",
    "    tomo_info = tomotools.get_tomoobject_info(to) \n",
    "    experiment_id = tomo_info['_id']\n",
    "    print(tomo_info['specimen'])\n",
    "    config = configparser.ConfigParser()\n",
    "    config[\"SAMPLE\"] = tomo_info \n",
    "    with open ('tomo.ini', 'w') as cf:\n",
    "        config.write(cf)\n",
    "        \n",
    "    nb, errors = _notebook_run()\n",
    "    for e in errors:\n",
    "        pprint(e)\n",
    "    !cp reconstructor-v.1.2.ipynb {os.path.join(storage_dir, experiment_id)}/ \n",
    "    !cp reconstructor-v.1.2.html {os.path.join(storage_dir, experiment_id)}/"
   ]
  },
  {
   "cell_type": "code",
   "execution_count": null,
   "metadata": {
    "collapsed": true
   },
   "outputs": [],
   "source": [
    "# !git add autotom.ipynb reconstructor.ipynb tomotools.py"
   ]
  },
  {
   "cell_type": "code",
   "execution_count": null,
   "metadata": {
    "collapsed": true
   },
   "outputs": [],
   "source": []
  }
 ],
 "metadata": {
  "kernelspec": {
   "display_name": "Python 3",
   "language": "python",
   "name": "python3"
  },
  "language_info": {
   "codemirror_mode": {
    "name": "ipython",
    "version": 3
   },
   "file_extension": ".py",
   "mimetype": "text/x-python",
   "name": "python",
   "nbconvert_exporter": "python",
   "pygments_lexer": "ipython3",
   "version": "3.6.2"
  }
 },
 "nbformat": 4,
 "nbformat_minor": 2
}
