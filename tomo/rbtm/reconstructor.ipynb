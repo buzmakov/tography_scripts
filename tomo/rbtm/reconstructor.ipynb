{
 "cells": [
  {
   "cell_type": "code",
   "execution_count": null,
   "metadata": {
    "collapsed": false
   },
   "outputs": [],
   "source": [
    "%pylab inline"
   ]
  },
  {
   "cell_type": "markdown",
   "metadata": {},
   "source": [
    "Installation instructions\n",
    "\n",
    "conda create -n astra jupyter\n",
    "\n",
    "source activate astra\n",
    "\n",
    "conda install -c https://conda.anaconda.org/astra-toolbox astra-toolbox\n",
    "\n",
    "conda install -c dgursoy tomopy\n",
    "\n",
    "conda install  numpy==1.9.3 h5py matplotlib cudatoolkit opencv"
   ]
  },
  {
   "cell_type": "code",
   "execution_count": null,
   "metadata": {
    "collapsed": false
   },
   "outputs": [],
   "source": [
    "import os\n",
    "import numpy as np\n",
    "import pylab as plt\n",
    "import h5py\n",
    "import astra\n",
    "import cv2\n",
    "import json\n",
    "from pprint import pprint"
   ]
  },
  {
   "cell_type": "code",
   "execution_count": null,
   "metadata": {
    "collapsed": true
   },
   "outputs": [],
   "source": [
    "#Исходный файл с данными\n",
    "data_file = './8b3c11c2-371c-48a6-85ad-972b33151b43.h5'"
   ]
  },
  {
   "cell_type": "code",
   "execution_count": null,
   "metadata": {
    "collapsed": false
   },
   "outputs": [],
   "source": [
    "# Загружаем пустые пучки и темновой ток\n",
    "with h5py.File(data_file,'r') as h5f:\n",
    "    empty_images_count = len(h5f['empty'])\n",
    "    empty_images = None\n",
    "    empty_file_number = 0\n",
    "    for k,v in h5f['empty'].iteritems():\n",
    "        if empty_images is None:\n",
    "            empty_images = np.zeros(shape=(empty_images_count, v.shape[1], v.shape[0]), dtype='float32')\n",
    "        attributes = json.loads(v.attrs.items()[0][1])[0]\n",
    "        exposure = attributes['frame']['image_data']['exposure']\n",
    "        empty_images[empty_file_number] = np.flipud(v.value.astype('float32').swapaxes(0,1)) / exposure\n",
    "        empty_file_number = empty_file_number + 1\n",
    "    \n",
    "    dark_images_count = len(h5f['dark'])\n",
    "    dark_images = None\n",
    "    dark_file_number = 0\n",
    "    for k,v in h5f['dark'].iteritems():\n",
    "        if dark_images is None:\n",
    "            dark_images = np.zeros(shape=(dark_images_count, v.shape[1], v.shape[0]), dtype='float32')\n",
    "        \n",
    "        attributes = json.loads(v.attrs.items()[0][1])[0]\n",
    "        exposure = int(attributes['frame']['image_data']['exposure'])\n",
    "        dark_images[dark_file_number] = np.flipud(v.value.astype('float32').swapaxes(0,1)) / exposure\n",
    "        dark_file_number = dark_file_number + 1"
   ]
  },
  {
   "cell_type": "code",
   "execution_count": null,
   "metadata": {
    "collapsed": false
   },
   "outputs": [],
   "source": [
    "# считаем среднее значение\n",
    "empty_image = empty_images.sum(axis=0)/len(empty_images)\n",
    "dark_image = dark_images.sum(axis=0)/len(empty_images)\n",
    "\n",
    "%xdel empty_images\n",
    "%xdel dark_images"
   ]
  },
  {
   "cell_type": "code",
   "execution_count": null,
   "metadata": {
    "collapsed": false
   },
   "outputs": [],
   "source": [
    "plt.figure(figsize=(10,10))\n",
    "plt.subplot(221)\n",
    "plt.imshow(empty_image, vmin=0)\n",
    "plt.colorbar(orientation='horizontal')\n",
    "plt.title('Empty beam')\n",
    "\n",
    "plt.subplot(222)\n",
    "plt.imshow(dark_image, vmin=0)\n",
    "plt.colorbar(orientation='horizontal')\n",
    "plt.title('Dark beam')\n",
    "\n",
    "empty_beam = empty_image-dark_image\n",
    "plt.subplot(223)\n",
    "plt.imshow(empty_beam, vmin=0)\n",
    "plt.colorbar(orientation='horizontal')\n",
    "plt.title('Empty-Dark beam')\n",
    "\n",
    "mask = empty_beam > 0.01\n",
    "plt.subplot(224)\n",
    "plt.imshow(mask)\n",
    "plt.colorbar(orientation='horizontal')\n",
    "plt.title('Mask')\n",
    "#TODO: Check thresshold automaticaly\n",
    "# plt.plot([sum(empty_beam > i) for i in np.arange(100)])"
   ]
  },
  {
   "cell_type": "code",
   "execution_count": null,
   "metadata": {
    "collapsed": false
   },
   "outputs": [],
   "source": [
    "# try find automatic threshold for mask\n",
    "x_range = np.arange(0,0.2,0.01)\n",
    "plt.plot(x_range, [sum(empty_beam > x).astype('float32')/np.prod(empty_beam.shape) for x in x_range])"
   ]
  },
  {
   "cell_type": "code",
   "execution_count": null,
   "metadata": {
    "collapsed": false
   },
   "outputs": [],
   "source": [
    "#build mask\n",
    "threshold = 100\n",
    "mask_x_profile = mask.sum(axis=1)\n",
    "mask_x_min = np.argwhere(mask_x_profile>threshold).min()+200 # up border\n",
    "mask_x_max = np.argwhere(mask_x_profile>threshold).max()-200 # bottom border\n",
    "print mask_x_min, mask_x_max\n",
    "\n",
    "mask_y_profile = mask.sum(axis=0)\n",
    "mask_y_min = np.argwhere(mask_y_profile>threshold).min()+300 # left border\n",
    "mask_y_max = np.argwhere(mask_y_profile>threshold).max()-500 # right border\n",
    "print mask_y_min, mask_y_max\n",
    "\n",
    "plt.imshow(mask[mask_x_min:mask_x_max,mask_y_min:mask_y_max])"
   ]
  },
  {
   "cell_type": "code",
   "execution_count": null,
   "metadata": {
    "collapsed": false
   },
   "outputs": [],
   "source": [
    "mask = mask[mask_x_min:mask_x_max,mask_y_min:mask_y_max]\n",
    "empty_beam = empty_beam[mask_x_min:mask_x_max,mask_y_min:mask_y_max]\n",
    "dark_image = dark_image[mask_x_min:mask_x_max,mask_y_min:mask_y_max]\n",
    "\n",
    "plt.imshow(empty_beam)\n",
    "plt.colorbar(orientation='horizontal')"
   ]
  },
  {
   "cell_type": "code",
   "execution_count": null,
   "metadata": {
    "collapsed": false
   },
   "outputs": [],
   "source": [
    "# Загружаем кадры с даннымии\n",
    "#TODO: добавить поддержку, когда много кадров на одном угле\n",
    "with h5py.File(data_file,'r') as h5f:\n",
    "    data_images_count = len(h5f['data'])\n",
    "    data_images = None\n",
    "    data_file_number = 0\n",
    "    data_angles = None\n",
    "    for k,v in h5f['data'].iteritems():\n",
    "        if data_images is None:\n",
    "            data_images = np.zeros(shape=(data_images_count,\n",
    "                                          mask_x_max-mask_x_min,\n",
    "                                          mask_y_max-mask_y_min\n",
    "                                          ),\n",
    "                                   dtype='float32')\n",
    "\n",
    "        if data_angles is None:\n",
    "            data_angles = np.zeros(shape=(data_images_count,), dtype='float32')\n",
    "\n",
    "        attributes = json.loads(v.attrs.items()[0][1])[0]\n",
    "        exposure = attributes['frame']['image_data']['exposure']\n",
    "        data_angles[data_file_number] = attributes['frame']['object']['angle position']\n",
    "        # вырезаем область под маску\n",
    "        data_images[data_file_number] = np.flipud(\n",
    "            v[mask_y_min:mask_y_max,-mask_x_max:-mask_x_min].astype('float32').swapaxes(0,1)) / exposure\n",
    "        data_file_number = data_file_number + 1"
   ]
  },
  {
   "cell_type": "code",
   "execution_count": null,
   "metadata": {
    "collapsed": false
   },
   "outputs": [],
   "source": [
    "# remove dark current from data frames and remove min/max values\n",
    "data_beam = data_images - dark_image\n",
    "data_beam[data_beam <= 0] = 1e-6\n",
    "empty_beam[empty_beam <= 0] = 1e-6\n",
    "%xdel data_images"
   ]
  },
  {
   "cell_type": "code",
   "execution_count": null,
   "metadata": {
    "collapsed": false
   },
   "outputs": [],
   "source": [
    "plt.figure(figsize=(10,10))\n",
    "plt.imshow(cv2.medianBlur(data_beam[5],3))\n",
    "plt.colorbar(orientation='horizontal')"
   ]
  },
  {
   "cell_type": "code",
   "execution_count": null,
   "metadata": {
    "collapsed": false
   },
   "outputs": [],
   "source": [
    "#normalize data frames and calculate sinograms\n",
    "data_beam/=empty_beam\n",
    "data_beam*=mask\n",
    "data_beam[data_beam>1] = 1\n",
    "data_beam[np.isclose(data_beam,0)]=1\n",
    "data_beam[data_beam<1e-6] = 1e-6"
   ]
  },
  {
   "cell_type": "code",
   "execution_count": null,
   "metadata": {
    "collapsed": true
   },
   "outputs": [],
   "source": [
    "sinogram = -np.log(data_beam)"
   ]
  },
  {
   "cell_type": "code",
   "execution_count": null,
   "metadata": {
    "collapsed": true
   },
   "outputs": [],
   "source": [
    "# %xdel data_beam"
   ]
  },
  {
   "cell_type": "code",
   "execution_count": null,
   "metadata": {
    "collapsed": false
   },
   "outputs": [],
   "source": [
    "plt.figure(figsize=(10,10))\n",
    "plt.imshow(sinogram[np.argsort(data_angles),500, :])\n",
    "plt.axis('tight')\n",
    "plt.colorbar(orientation='horizontal')"
   ]
  },
  {
   "cell_type": "code",
   "execution_count": null,
   "metadata": {
    "collapsed": false
   },
   "outputs": [],
   "source": [
    "# seraching detector rotation angle\n",
    "position_0 = np.argwhere(np.isclose(data_angles, 19, atol=0.05))[0][0]\n",
    "print position_0\n",
    "\n",
    "position_180 = np.argwhere(np.isclose(data_angles, 199, atol=0.05))[0][0]\n",
    "print position_180\n",
    "def get_region(position):\n",
    "    return cv2.medianBlur(sinogram[position,:,:],3)\n",
    "\n",
    "def cv_rotate(x, angle):\n",
    "    \"\"\"\n",
    "    Rotate square array using OpenCV2 around center of the array\n",
    "    :param x: 2d numpy array\n",
    "    :param angle: angle in degrees\n",
    "    :return: rotated array\n",
    "    \"\"\"\n",
    "    x_center = tuple(\n",
    "        np.array((x.shape[1], x.shape[0]), dtype='float32') / 2.0 - 0.5)\n",
    "    rot_mat = cv2.getRotationMatrix2D(x_center, angle, 1.0)\n",
    "    xro = cv2.warpAffine(\n",
    "        x, rot_mat, (x.shape[1], x.shape[0]), flags=cv2.INTER_LINEAR)\n",
    "    return xro\n",
    "\n",
    "data_0 = get_region(position_0)\n",
    "data_180 = get_region(position_180)\n",
    "plt.figure(figsize=(15,15))\n",
    "plt.subplot(221)\n",
    "plt.imshow(data_0)\n",
    "plt.axis('tight')\n",
    "plt.colorbar(orientation='horizontal')\n",
    "plt.subplot(222)\n",
    "plt.imshow(data_180)\n",
    "plt.axis('tight')\n",
    "plt.colorbar(orientation='horizontal')\n",
    "plt.subplot(223)\n",
    "plt.imshow(np.fliplr(data_180))\n",
    "plt.axis('tight')\n",
    "plt.colorbar(orientation='horizontal')\n",
    "plt.subplot(224)\n",
    "alfa = 1.21\n",
    "shift = -126\n",
    "plt.imshow(np.fliplr(cv_rotate(data_180[:,:shift],alfa))-cv_rotate(data_0[:,:shift],alfa))\n",
    "plt.axis('tight')\n",
    "plt.colorbar(orientation='horizontal')"
   ]
  },
  {
   "cell_type": "code",
   "execution_count": null,
   "metadata": {
    "collapsed": false
   },
   "outputs": [],
   "source": [
    "# ff0 = np.abs(np.fft.fftshift(np.fft.fft2(data_0)))\n",
    "# ff180 = np.abs(np.fft.fftshift(np.fft.fft2(np.fliplr(data_180))))\n",
    "\n",
    "plt.figure(figsize=(15,15))\n",
    "plt.subplot(221)\n",
    "plt.imshow(np.log(ff0))\n",
    "plt.axis('tight')\n",
    "plt.colorbar(orientation='horizontal')\n",
    "plt.subplot(222)\n",
    "plt.imshow(np.log(ff180))\n",
    "plt.axis('tight')\n",
    "plt.colorbar(orientation='horizontal')\n",
    "plt.subplot(223)\n",
    "plt.imshow(np.log(np.abs(cv2.medianBlur(ff180.astype('float32'),5)-cv2.medianBlur(ff0.astype('float32'),5))))\n",
    "plt.axis('tight')\n",
    "plt.colorbar(orientation='horizontal')"
   ]
  },
  {
   "cell_type": "code",
   "execution_count": null,
   "metadata": {
    "collapsed": true
   },
   "outputs": [],
   "source": []
  },
  {
   "cell_type": "code",
   "execution_count": null,
   "metadata": {
    "collapsed": false
   },
   "outputs": [],
   "source": [
    "print (data_0.shape[1]+shift)/2."
   ]
  },
  {
   "cell_type": "code",
   "execution_count": null,
   "metadata": {
    "collapsed": false
   },
   "outputs": [],
   "source": [
    "import tomopy"
   ]
  },
  {
   "cell_type": "code",
   "execution_count": null,
   "metadata": {
    "collapsed": false
   },
   "outputs": [],
   "source": [
    "#fix axis tlit\n",
    "for i in range(sinogram.shape[0]):\n",
    "    sinogram[i] = cv_rotate(sinogram[i,:],1.21)"
   ]
  },
  {
   "cell_type": "code",
   "execution_count": null,
   "metadata": {
    "collapsed": false,
    "scrolled": false
   },
   "outputs": [],
   "source": [
    "# rot_center = tomopy.find_center(sinogram[:,1200:1400,:], data_angles/180*np.pi, ind = 0, emission=True)\n",
    "# print rot_center\n",
    "rot_center = 467\n",
    "rec = tomopy.recon(sinogram[:,1300:1302,:], data_angles/180*np.pi,\n",
    "                   center=rot_center, algorithm='art', emission=True)\n",
    "\n",
    "plt.figure(figsize=(10,10))\n",
    "plt.imshow(rec[0],vmin=0)\n",
    "plt.colorbar(orientation='horizontal')\n",
    "plt.show()"
   ]
  },
  {
   "cell_type": "code",
   "execution_count": null,
   "metadata": {
    "collapsed": false
   },
   "outputs": [],
   "source": [
    "plt.figure(figsize=(15,15))\n",
    "plt.imshow(rec[0],vmin=0.0, vmax=0.03)\n",
    "plt.colorbar(orientation='horizontal')\n",
    "plt.show()"
   ]
  },
  {
   "cell_type": "code",
   "execution_count": null,
   "metadata": {
    "collapsed": false
   },
   "outputs": [],
   "source": [
    "plt.imshow(data_beam[:,500,:])"
   ]
  },
  {
   "cell_type": "code",
   "execution_count": null,
   "metadata": {
    "collapsed": false
   },
   "outputs": [],
   "source": [
    "import astra\n",
    "def astra_tomo2d_parallel(sinogram, angles):\n",
    "    angles = angles.astype('float64')\n",
    "    detector_size = sinogram.shape[1]\n",
    "    \n",
    "\n",
    "    rec_size = detector_size\n",
    "    vol_geom = astra.create_vol_geom(rec_size, rec_size)\n",
    "    proj_geom = astra.create_proj_geom('parallel', 1.0, detector_size, angles)\n",
    "\n",
    "\n",
    "    sinogram_id = astra.data2d.create('-sino', proj_geom, data=sinogram)\n",
    "    # Create a data object for the reconstruction\n",
    "    rec_id = astra.data2d.create('-vol', vol_geom)\n",
    "#     proj_id = astra.create_projector('strip', proj_geom, vol_geom) # for CPU reconstruction only\n",
    "    # Set up the parameters for a reconstruction algorithm using the GPU\n",
    "    cfg = astra.astra_dict('SIRT_CUDA')\n",
    "    cfg['ReconstructionDataId'] = rec_id\n",
    "    cfg['ProjectionDataId'] = sinogram_id\n",
    "#     cfg['ProjectorId'] = proj_id # for CPU reconstruction only\n",
    "    cfg['option'] = {}\n",
    "    #cfg['option']['MinConstraint'] = 0\n",
    "    # cfg['option']['MaxConstraint'] = 5\n",
    "\n",
    "    # Available algorithms:\n",
    "    # SIRT_CUDA, SART_CUDA, EM_CUDA, FBP_CUDA (see the FBP sample)\n",
    "\n",
    "    # Create the algorithm object from the configuration structure\n",
    "    alg_id = astra.algorithm.create(cfg)\n",
    "\n",
    "    # Run 150 iterations of the algorithm\n",
    "    astra.algorithm.run(alg_id, 150)\n",
    "\n",
    "    # Get the result\n",
    "    rec = astra.data2d.get(rec_id)\n",
    "\n",
    "    # Clean up. Note that GPU memory is tied up in the algorithm object,\n",
    "    # and main RAM in the data objects.\n",
    "    astra.algorithm.delete(alg_id)\n",
    "    astra.data2d.delete(rec_id)\n",
    "    astra.data2d.delete(sinogram_id)\n",
    "    astra.clear()\n",
    "    return rec\n",
    "\n",
    "def astra_tomo3d_parallel(sinogram, angles):\n",
    "    angles = angles.astype('float64')\n",
    "    detector_size = sinogram.shape[-1]\n",
    "    slices_number = sinogram.shape[0]\n",
    "\n",
    "    rec_size = detector_size\n",
    "    vol_geom = astra.create_vol_geom(rec_size, rec_size, slices_number)\n",
    "    proj_geom = astra.create_proj_geom('parallel3d', 1.0, 1.0,  slices_number, detector_size, angles)\n",
    "\n",
    "#     print proj_geom\n",
    "#     print sinogram.shape\n",
    "    sinogram_id = astra.data3d.create('-sino', proj_geom, data=sinogram)\n",
    "    # Create a data object for the reconstruction\n",
    "    rec_id = astra.data3d.create('-vol', vol_geom)\n",
    "#     proj_id = astra.create_projector('strip', proj_geom, vol_geom) # for CPU reconstruction only\n",
    "    # Set up the parameters for a reconstruction algorithm using the GPU\n",
    "    cfg = astra.astra_dict('SIRT3D_CUDA')\n",
    "    cfg['ReconstructionDataId'] = rec_id\n",
    "    cfg['ProjectionDataId'] = sinogram_id\n",
    "#     cfg['ProjectorId'] = proj_id # for CPU reconstruction only\n",
    "    cfg['option'] = {}\n",
    "    #cfg['option']['MinConstraint'] = 0\n",
    "    # cfg['option']['MaxConstraint'] = 5\n",
    "\n",
    "    # Available algorithms:\n",
    "    # SIRT_CUDA, SART_CUDA, EM_CUDA, FBP_CUDA (see the FBP sample)\n",
    "\n",
    "    # Create the algorithm object from the configuration structure\n",
    "    alg_id = astra.algorithm.create(cfg)\n",
    "\n",
    "    # Run 150 iterations of the algorithm\n",
    "    astra.algorithm.run(alg_id, 150)\n",
    "\n",
    "    # Get the result\n",
    "    rec = astra.data3d.get(rec_id)\n",
    "\n",
    "    # Clean up. Note that GPU memory is tied up in the algorithm object,\n",
    "    # and main RAM in the data objects.\n",
    "    astra.algorithm.delete(alg_id)\n",
    "    astra.data3d.delete(rec_id)\n",
    "    astra.data3d.delete(sinogram_id)\n",
    "    astra.clear()\n",
    "    return rec"
   ]
  },
  {
   "cell_type": "code",
   "execution_count": null,
   "metadata": {
    "collapsed": false
   },
   "outputs": [],
   "source": [
    "s1 = np.require(sinogram[:,1300:1400,:shift].swapaxes(0,1),dtype=np.float32, requirements=['C'])"
   ]
  },
  {
   "cell_type": "code",
   "execution_count": null,
   "metadata": {
    "collapsed": false
   },
   "outputs": [],
   "source": [
    "s1.flags"
   ]
  },
  {
   "cell_type": "code",
   "execution_count": null,
   "metadata": {
    "collapsed": false
   },
   "outputs": [],
   "source": [
    "%time rec_slice = astra_tomo3d_parallel(s1, data_angles*np.pi/180)"
   ]
  },
  {
   "cell_type": "code",
   "execution_count": null,
   "metadata": {
    "collapsed": true
   },
   "outputs": [],
   "source": [
    "from time import time"
   ]
  },
  {
   "cell_type": "code",
   "execution_count": null,
   "metadata": {
    "collapsed": false,
    "scrolled": false
   },
   "outputs": [],
   "source": [
    "res = None\n",
    "t0 = time()\n",
    "total_slices = sinogram.shape[1]\n",
    "for i in range(total_slices):\n",
    "    if i%10==0:\n",
    "        print i, (time()-t0), (time()-t0)/(i+1), (time()-t0)/(i+1)*total_slices\n",
    "    rec_slice = astra_tomo2d_parallel(sinogram[:,i,:shift], data_angles*np.pi/180)\n",
    "    if res is None:\n",
    "        res = np.zeros(shape=(total_slices, rec_slice.shape[0], rec_slice.shape[1]),\n",
    "                       dtype='float32')\n",
    "    res[i] = rec_slice"
   ]
  },
  {
   "cell_type": "code",
   "execution_count": null,
   "metadata": {
    "collapsed": false
   },
   "outputs": [],
   "source": [
    "data_file_parts = os.path.splitext(data_file)\n",
    "out_file = '{}_reconstruction.h5'.format(''.join(data_file_parts[:-1]))\n",
    "print out_file\n",
    "with h5py.File(out_file,'w') as h5f:\n",
    "    h5f.create_dataset('Result', data=res[::2,::2,::2], dtype=np.float32)"
   ]
  },
  {
   "cell_type": "code",
   "execution_count": null,
   "metadata": {
    "collapsed": false
   },
   "outputs": [],
   "source": [
    "def save_amira(result_file):\n",
    "    \"\"\"\n",
    "    Функция сохраняет реконструированные слои в формате Amira raw file\n",
    "\n",
    "    Inputs:\n",
    "        data_path - путь к директории, где находиться файл res_tomo.hdf5 в формате HDF5\n",
    "            в этом файде должен быть раздел (node) /Results в котором в виде 3D массива\n",
    "            записаны реконструированный объём\n",
    "    Outputs:\n",
    "        Файлы amira.raw и tomo.hx. Если файлы уже существуют, то они перезаписываются.\n",
    "        Тип данных: float32 little endian\n",
    "    \"\"\"\n",
    "    data_path = os.path.dirname(result_file)\n",
    "    with open(os.path.join(data_path, 'amira.raw'), 'wb') as amira_file:\n",
    "        with h5py.File(result_file, 'r') as h5f:\n",
    "            x = h5f['Result']\n",
    "            for i in range(x.shape[0]):\n",
    "                numpy.array(x[i, :, :]).tofile(amira_file)\n",
    "\n",
    "            file_shape = x.shape\n",
    "\n",
    "            with open(os.path.join(data_path, 'tomo.hx'), 'w') as af:\n",
    "                af.write('# Amira Script\\n')\n",
    "                af.write('remove -all\\n')\n",
    "                af.write(r'[ load -raw ${SCRIPTDIR}/amira.raw little xfastest float 1 '+\n",
    "                         str(file_shape[1])+' '+str(file_shape[2])+' '+str(file_shape[0])+\n",
    "                         ' 0 '+str(file_shape[1]-1)+' 0 '+str(file_shape[2]-1)+' 0 '+str(file_shape[0]-1)+\n",
    "                         ' ] setLabel tomo.raw\\n')"
   ]
  },
  {
   "cell_type": "code",
   "execution_count": null,
   "metadata": {
    "collapsed": false
   },
   "outputs": [],
   "source": [
    "save_amira(out_file)"
   ]
  },
  {
   "cell_type": "code",
   "execution_count": null,
   "metadata": {
    "collapsed": false
   },
   "outputs": [],
   "source": [
    "!ls -la"
   ]
  },
  {
   "cell_type": "code",
   "execution_count": null,
   "metadata": {
    "collapsed": true
   },
   "outputs": [],
   "source": []
  }
 ],
 "metadata": {
  "kernelspec": {
   "display_name": "Python 2",
   "language": "python",
   "name": "python2"
  },
  "language_info": {
   "codemirror_mode": {
    "name": "ipython",
    "version": 2
   },
   "file_extension": ".py",
   "mimetype": "text/x-python",
   "name": "python",
   "nbconvert_exporter": "python",
   "pygments_lexer": "ipython2",
   "version": "2.7.11"
  }
 },
 "nbformat": 4,
 "nbformat_minor": 0
}
