{
 "cells": [
  {
   "cell_type": "code",
   "execution_count": null,
   "metadata": {
    "collapsed": false
   },
   "outputs": [],
   "source": [
    "%matplotlib inline"
   ]
  },
  {
   "cell_type": "markdown",
   "metadata": {},
   "source": [
    "Installation instructions\n",
    "\n",
    "conda create -n astra jupyter\n",
    "\n",
    "source activate astra\n",
    "\n",
    "conda install -c https://conda.anaconda.org/astra-toolbox astra-toolbox\n",
    "\n",
    "conda install -c dgursoy tomopy\n",
    "\n",
    "conda install  numpy==1.9.3 h5py matplotlib cudatoolkit opencv"
   ]
  },
  {
   "cell_type": "code",
   "execution_count": null,
   "metadata": {
    "collapsed": false
   },
   "outputs": [],
   "source": [
    "import os\n",
    "import json\n",
    "\n",
    "import numpy as np\n",
    "import pylab as plt\n",
    "\n",
    "import h5py\n",
    "import astra\n",
    "import cv2\n",
    "\n",
    "from pprint import pprint\n",
    "from glob import glob\n",
    "\n",
    "import dask.array as da"
   ]
  },
  {
   "cell_type": "code",
   "execution_count": null,
   "metadata": {
    "collapsed": true
   },
   "outputs": [],
   "source": [
    "def log_progress(sequence, every=None, size=None):\n",
    "    from ipywidgets import IntProgress, HTML, VBox\n",
    "    from IPython.display import display\n",
    "\n",
    "    is_iterator = False\n",
    "    if size is None:\n",
    "        try:\n",
    "            size = len(sequence)\n",
    "        except TypeError:\n",
    "            is_iterator = True\n",
    "    if size is not None:\n",
    "        if every is None:\n",
    "            if size <= 200:\n",
    "                every = 1\n",
    "            else:\n",
    "                every = size / 200     # every 0.5%\n",
    "    else:\n",
    "        assert every is not None, 'sequence is iterator, set every'\n",
    "\n",
    "    if is_iterator:\n",
    "        progress = IntProgress(min=0, max=1, value=1)\n",
    "        progress.bar_style = 'info'\n",
    "    else:\n",
    "        progress = IntProgress(min=0, max=size, value=0)\n",
    "    label = HTML()\n",
    "    box = VBox(children=[label, progress])\n",
    "    display(box)\n",
    "\n",
    "    index = 0\n",
    "    try:\n",
    "        for index, record in enumerate(sequence, 1):\n",
    "            if index == 1 or index % every == 0:\n",
    "                if is_iterator:\n",
    "                    label.value = '{index} / ?'.format(index=index)\n",
    "                else:\n",
    "                    progress.value = index\n",
    "                    label.value = u'{index} / {size}'.format(\n",
    "                        index=index,\n",
    "                        size=size\n",
    "                    )\n",
    "            yield record\n",
    "    except:\n",
    "        progress.bar_style = 'danger'\n",
    "        raise\n",
    "    else:\n",
    "        progress.bar_style = 'success'\n",
    "        progress.value = index\n",
    "        label.value = unicode(index or '?')"
   ]
  },
  {
   "cell_type": "code",
   "execution_count": null,
   "metadata": {
    "collapsed": false
   },
   "outputs": [],
   "source": [
    "# file_id = 'a789cd0f-f718-4ff2-9f89-01b015cd13c8'\n",
    "# file_id = '8eee41d5-8c4e-49d8-a496-898200bed0d5'\n",
    "# file_id = '5e233c53-2925-4774-b680-0d71f73eb8e1'\n",
    "# file_id = 'f3e80ec9-324f-41bb-a93e-605bcbbcde98'\n",
    "# file_id = '1032b444-3eeb-4b30-90c6-64f571dc25de'\n",
    "file_id = '7efa3f65-ec22-4981-a0dd-40797b15db69'\n",
    "data_dir = '/diskmnt/fast/makov/robotom/'\n",
    "data_file = os.path.join(data_dir, file_id+'.h5')\n",
    "if not os.path.isfile(data_file):\n",
    "    !wget  http://10.0.7.153:5006/storage/experiments/{file_id}/hdf5 -O {data_file}"
   ]
  },
  {
   "cell_type": "code",
   "execution_count": null,
   "metadata": {
    "collapsed": false
   },
   "outputs": [],
   "source": [
    "frame_count = len(h5py.File(data_file,'r')['data'])\n",
    "print frame_count\n",
    "s=[]\n",
    "with h5py.File(data_file,'r') as h5f:\n",
    "     for k,v in log_progress(h5f['data'].items()):\n",
    "#         x = v.value\n",
    "        s.append([int(k), np.sum(np.log(v.value+1))])\n"
   ]
  },
  {
   "cell_type": "code",
   "execution_count": null,
   "metadata": {
    "collapsed": false
   },
   "outputs": [],
   "source": [
    "y = [d[1] for d in s]\n",
    "x = [d[0] for d in s]\n",
    "plt.figure(figsize=(7,5))\n",
    "plt.plot(x,y,'o')\n",
    "# plt.gca().set_ylim([np.min(y)*0.9,np.max(y)*1.05])\n",
    "plt.grid(True)\n",
    "plt.ylabel('Frame number')\n",
    "plt.ylabel('Total intensity')\n",
    "plt.show()"
   ]
  },
  {
   "cell_type": "code",
   "execution_count": null,
   "metadata": {
    "collapsed": false
   },
   "outputs": [],
   "source": [
    "with h5py.File(data_file,'r') as h5f:\n",
    "    e = h5f['data']\n",
    "    print len(e)"
   ]
  },
  {
   "cell_type": "code",
   "execution_count": null,
   "metadata": {
    "collapsed": false
   },
   "outputs": [],
   "source": [
    "# Загружаем пустые пучки и темновой ток\n",
    "with h5py.File(data_file,'r') as h5f:\n",
    "    empty_images_count = len(h5f['empty'])\n",
    "    empty_images = None\n",
    "    empty_file_number = 0\n",
    "    for k,v in log_progress(h5f['empty'].items()):\n",
    "        if empty_images is None:\n",
    "            empty_images = np.zeros(shape=(empty_images_count, v.shape[1], v.shape[0]), dtype='float32')\n",
    "        attributes = json.loads(v.attrs.items()[0][1])[0]\n",
    "        exposure = attributes['frame']['image_data']['exposure']\n",
    "        empty_images[empty_file_number] = np.flipud(v.value.astype('float32').swapaxes(0,1)) / exposure\n",
    "        empty_file_number = empty_file_number + 1\n",
    "    \n",
    "    dark_images_count = len(h5f['dark'])\n",
    "    dark_images = None\n",
    "    dark_file_number = 0\n",
    "    for k,v in log_progress(h5f['dark'].items()):\n",
    "        if dark_images is None:\n",
    "            dark_images = np.zeros(shape=(dark_images_count, v.shape[1], v.shape[0]), dtype='float32')\n",
    "        \n",
    "        attributes = json.loads(v.attrs.items()[0][1])[0]\n",
    "        exposure = int(attributes['frame']['image_data']['exposure'])\n",
    "        dark_images[dark_file_number] = np.flipud(v.value.astype('float32').swapaxes(0,1)) / exposure\n",
    "        dark_file_number = dark_file_number + 1"
   ]
  },
  {
   "cell_type": "code",
   "execution_count": null,
   "metadata": {
    "collapsed": false
   },
   "outputs": [],
   "source": [
    "# считаем среднее значение\n",
    "empty_image = empty_images.sum(axis=0)/len(empty_images)\n",
    "dark_image = dark_images.sum(axis=0)/len(empty_images)\n",
    "\n",
    "%xdel empty_images\n",
    "%xdel dark_images"
   ]
  },
  {
   "cell_type": "code",
   "execution_count": null,
   "metadata": {
    "collapsed": false
   },
   "outputs": [],
   "source": [
    "plt.figure(figsize=(10,10))\n",
    "plt.subplot(221)\n",
    "plt.imshow(empty_image, vmin=0)\n",
    "plt.colorbar(orientation='horizontal')\n",
    "plt.title('Empty beam')\n",
    "\n",
    "plt.subplot(222)\n",
    "plt.imshow(dark_image, vmin=0)\n",
    "plt.colorbar(orientation='horizontal')\n",
    "plt.title('Dark beam')\n",
    "\n",
    "empty_beam = empty_image-dark_image\n",
    "plt.subplot(223)\n",
    "plt.imshow(empty_beam, vmin=0)\n",
    "plt.colorbar(orientation='horizontal')\n",
    "plt.title('Empty-Dark beam')\n",
    "\n",
    "mask = empty_beam > 0.01\n",
    "plt.subplot(224)\n",
    "plt.imshow(mask)\n",
    "plt.colorbar(orientation='horizontal')\n",
    "plt.title('Mask')\n",
    "#TODO: Check thresshold automaticaly\n",
    "# plt.plot([sum(empty_beam > i) for i in np.arange(100)])"
   ]
  },
  {
   "cell_type": "code",
   "execution_count": null,
   "metadata": {
    "collapsed": false
   },
   "outputs": [],
   "source": [
    "# try find automatic threshold for mask\n",
    "x_range = np.arange(0,0.2,0.01)\n",
    "plt.plot(x_range, [(empty_beam > x).sum().astype('float32')/np.prod(empty_beam.shape) for x in x_range])"
   ]
  },
  {
   "cell_type": "code",
   "execution_count": null,
   "metadata": {
    "collapsed": false
   },
   "outputs": [],
   "source": [
    "#build mask\n",
    "threshold = 100\n",
    "mask_x_profile = mask.sum(axis=1)\n",
    "mask_x_min = np.argwhere(mask_x_profile>threshold).min()+10 # up border\n",
    "mask_x_max = np.argwhere(mask_x_profile>threshold).max()-10 # bottom border\n",
    "print mask_x_min, mask_x_max\n",
    "\n",
    "mask_y_profile = mask.sum(axis=0)\n",
    "mask_y_min = np.argwhere(mask_y_profile>threshold).min()+10 # left border\n",
    "mask_y_max = np.argwhere(mask_y_profile>threshold).max()-10 # right border\n",
    "print mask_y_min, mask_y_max\n",
    "\n",
    "plt.imshow(mask[mask_x_min:mask_x_max,mask_y_min:mask_y_max])"
   ]
  },
  {
   "cell_type": "code",
   "execution_count": null,
   "metadata": {
    "collapsed": false
   },
   "outputs": [],
   "source": [
    "mask_new = np.copy(mask[mask_x_min:mask_x_max,mask_y_min:mask_y_max])\n",
    "empty_beam = empty_beam[mask_x_min:mask_x_max,mask_y_min:mask_y_max]\n",
    "dark_image = dark_image[mask_x_min:mask_x_max,mask_y_min:mask_y_max]\n",
    "\n",
    "plt.imshow(empty_beam)\n",
    "plt.colorbar(orientation='horizontal')"
   ]
  },
  {
   "cell_type": "code",
   "execution_count": null,
   "metadata": {
    "collapsed": false
   },
   "outputs": [],
   "source": [
    "# Загружаем кадры с даннымии\n",
    "#TODO: добавить поддержку, когда много кадров на одном угле\n",
    "with h5py.File(data_file,'r') as h5f:\n",
    "    data_images_count = len(h5f['data'])\n",
    "    data_images = None\n",
    "    data_file_number = 0\n",
    "    data_angles = None\n",
    "    for k,v in log_progress(h5f['data'].items()):\n",
    "        if data_images is None:\n",
    "            data_images = np.zeros(shape=(data_images_count,\n",
    "                                          mask_x_max-mask_x_min,\n",
    "                                          mask_y_max-mask_y_min\n",
    "                                          ),\n",
    "                                   dtype='float32')\n",
    "\n",
    "        if data_angles is None:\n",
    "            data_angles = np.zeros(shape=(data_images_count,), dtype='float32')\n",
    "\n",
    "        attributes = json.loads(v.attrs.items()[0][1])[0]\n",
    "        exposure = attributes['frame']['image_data']['exposure']\n",
    "        data_angles[data_file_number] = attributes['frame']['object']['angle position']\n",
    "        # вырезаем область под маску\n",
    "        data_images[data_file_number] = np.flipud(\n",
    "            v[mask_y_min:mask_y_max,-mask_x_max:-mask_x_min].astype('float32').swapaxes(0,1)) / exposure\n",
    "        data_file_number = data_file_number + 1"
   ]
  },
  {
   "cell_type": "code",
   "execution_count": null,
   "metadata": {
    "collapsed": false
   },
   "outputs": [],
   "source": [
    "# remove dark current from data frames and remove min/max values\n",
    "data_beam = data_images - dark_image\n",
    "data_beam[data_beam <= 0] = 1e-8\n",
    "empty_beam[empty_beam <= 0] = 1e-8\n",
    "# %xdel data_images"
   ]
  },
  {
   "cell_type": "code",
   "execution_count": null,
   "metadata": {
    "collapsed": false
   },
   "outputs": [],
   "source": [
    "plt.figure(figsize=(15,15))\n",
    "plt.imshow(cv2.medianBlur(data_beam[100],3),cmap=plt.cm.viridis)\n",
    "plt.colorbar(orientation='horizontal')"
   ]
  },
  {
   "cell_type": "code",
   "execution_count": null,
   "metadata": {
    "collapsed": false
   },
   "outputs": [],
   "source": [
    "#normalize data frames and calculate sinograms\n",
    "data_beam/=empty_beam\n",
    "data_beam*=mask_new\n",
    "data_beam[data_beam>1] = 1\n",
    "data_beam[np.isclose(data_beam,0)]=1\n",
    "data_beam[data_beam<1e-6] = 1e-6"
   ]
  },
  {
   "cell_type": "code",
   "execution_count": null,
   "metadata": {
    "collapsed": true
   },
   "outputs": [],
   "source": [
    "sinogram = -np.log(data_beam)"
   ]
  },
  {
   "cell_type": "code",
   "execution_count": null,
   "metadata": {
    "collapsed": true
   },
   "outputs": [],
   "source": [
    "# %xdel data_beam"
   ]
  },
  {
   "cell_type": "code",
   "execution_count": null,
   "metadata": {
    "collapsed": false
   },
   "outputs": [],
   "source": [
    "plt.figure(figsize=(10,10))\n",
    "plt.imshow(sinogram[np.argsort(data_angles),800, :],cmap=plt.cm.viridis)\n",
    "plt.axis('tight')\n",
    "plt.colorbar(orientation='horizontal')"
   ]
  },
  {
   "cell_type": "code",
   "execution_count": null,
   "metadata": {
    "collapsed": false
   },
   "outputs": [],
   "source": [
    "# seraching detector rotation angle\n",
    "position_0 = np.argwhere(np.isclose(data_angles, 0, atol=0.05))[0][0]\n",
    "print data_angles[position_0], position_0\n",
    "\n",
    "position_180 = np.argwhere(np.isclose(data_angles, 180, atol=0.05))[0][0]\n",
    "print data_angles[position_180], position_180\n",
    "def get_region(position):\n",
    "    return cv2.medianBlur(sinogram[position,:,:],3)\n",
    "\n",
    "def cv_rotate(x, angle):\n",
    "    \"\"\"\n",
    "    Rotate square array using OpenCV2 around center of the array\n",
    "    :param x: 2d numpy array\n",
    "    :param angle: angle in degrees\n",
    "    :return: rotated array\n",
    "    \"\"\"\n",
    "    x_center = tuple(\n",
    "        np.array((x.shape[1], x.shape[0]), dtype='float32') / 2.0 - 0.5)\n",
    "    rot_mat = cv2.getRotationMatrix2D(x_center, angle, 1.0)\n",
    "    xro = cv2.warpAffine(\n",
    "        x, rot_mat, (x.shape[1], x.shape[0]), flags=cv2.INTER_LINEAR)\n",
    "    return xro\n",
    "\n",
    "\n",
    "data_0 = get_region(position_0)\n",
    "data_180 = get_region(position_180)"
   ]
  },
  {
   "cell_type": "code",
   "execution_count": null,
   "metadata": {
    "collapsed": false
   },
   "outputs": [],
   "source": [
    "plt.figure(figsize=(10,10))\n",
    "plt.plot(data_angles)\n",
    "plt.grid(True)\n",
    "plt.show()"
   ]
  },
  {
   "cell_type": "code",
   "execution_count": null,
   "metadata": {
    "collapsed": false
   },
   "outputs": [],
   "source": [
    "from scipy.optimize import minimize\n",
    "def f(x):\n",
    "    alfa= x[0]\n",
    "    shift = int(x[1])\n",
    "    if shift >= 0:\n",
    "        t = enp.fliplr(cv_rotate(data_180[:,shift:],alfa))-cv_rotate(data_0[:,shift:],alfa)\n",
    "    else:\n",
    "        t = np.fliplr(cv_rotate(data_180[:,:shift],alfa))-cv_rotate(data_0[:,shift],alfa)\n",
    "        \n",
    "    res = np.sum(t*t)/np.prod(t.shape)\n",
    "    return res\n",
    "\n",
    "def corr(x):\n",
    "    alfa= x[0]*10.\n",
    "    shift = int(x[1])\n",
    "    if shift >= 0:\n",
    "        t_180 = data_180[:,shift:]\n",
    "        t_0 = data_0[:,shift:]\n",
    "    else:\n",
    "        t_180 = data_180[:,:shift]\n",
    "        t_0 = data_0[:,:shift]\n",
    "    \n",
    "    \n",
    "    t_mask = np.zeros_like(t_0)\n",
    "    shape_min = np.min(t_mask.shape)\n",
    "    r_mask = shape_min//2\n",
    "    X,Y = np.meshgrid(np.arange(t_mask.shape[1])-t_mask.shape[1]//2,\n",
    "                      np.arange(t_mask.shape[0])-t_mask.shape[0]//2)\n",
    "    t_mask = X**2+Y**2<r_mask**2    \n",
    "    \n",
    "    tt_180 = np.fliplr(cv_rotate(t_180,alfa))*t_mask\n",
    "    tt_0 = cv_rotate(t_0,alfa)*t_mask\n",
    "#     TODO: add mask support \n",
    "    res = -np.sum(tt_0*tt_180)/np.sqrt(np.sum(tt_0**2)*np.sum(tt_180**2))*np.prod(t_mask.shape)\n",
    "    return res\n",
    "\n",
    "x0 = [0.1,-70]\n",
    "res= minimize(corr, x0, method='Nelder-Mead')\n",
    "print res"
   ]
  },
  {
   "cell_type": "code",
   "execution_count": null,
   "metadata": {
    "collapsed": false
   },
   "outputs": [],
   "source": [
    "alfa, shift = res.x[0]*10., int(res.x[1])\n",
    "\n",
    "if shift >= 0:\n",
    "    t_180 = data_180[:,shift:]\n",
    "    t_0 = data_0[:,shift:]\n",
    "else:\n",
    "    t_180 = data_180[:,:shift]\n",
    "    t_0 = data_0[:,:shift]\n",
    "    \n",
    "tt_180 = np.fliplr(cv_rotate(t_180,alfa))\n",
    "tt_0 = cv_rotate(t_0,alfa)\n",
    "    \n",
    "plt.figure(figsize=(15,15))\n",
    "plt.imshow(tt_180-tt_0, cmap=plt.cm.viridis)\n",
    "plt.title('a={}, s={}'.format(alfa,shift))\n",
    "plt.colorbar()\n",
    "plt.show()\n"
   ]
  },
  {
   "cell_type": "code",
   "execution_count": null,
   "metadata": {
    "collapsed": false
   },
   "outputs": [],
   "source": [
    "plt.figure(figsize=(15,15))\n",
    "plt.subplot(221)\n",
    "plt.imshow(data_0,cmap=plt.cm.viridis)\n",
    "plt.axis('tight')\n",
    "plt.colorbar(orientation='horizontal')\n",
    "plt.subplot(222)\n",
    "plt.imshow(data_180,cmap=plt.cm.viridis)\n",
    "plt.axis('tight')\n",
    "plt.colorbar(orientation='horizontal')\n",
    "plt.subplot(223)\n",
    "plt.imshow(np.fliplr(data_180),cmap=plt.cm.viridis)\n",
    "plt.axis('tight')\n",
    "plt.colorbar(orientation='horizontal')\n",
    "plt.subplot(224)\n",
    "# alfa = 0.1\n",
    "# shift = -77\n",
    "plt.imshow(tt_180-tt_0, cmap=plt.cm.viridis)\n",
    "plt.axis('tight')\n",
    "plt.colorbar(orientation='horizontal')"
   ]
  },
  {
   "cell_type": "code",
   "execution_count": null,
   "metadata": {
    "collapsed": false
   },
   "outputs": [],
   "source": [
    "sinogram_fixed = np.zeros(shape=(sinogram.shape[0], sinogram.shape[1]-abs(shift),sinogram.shape[2]),\n",
    "                                dtype='float32')\n",
    "#fix axis tlit\n",
    "for i in range(sinogram.shape[0]):\n",
    "    if shift >= 0:\n",
    "        t = cv_rotate(sinogram[i,shift:],alfa)\n",
    "    else:\n",
    "        t = cv_rotate(sinogram[i,:shift],alfa)\n",
    "    sinogram_fixed[i] = t"
   ]
  },
  {
   "cell_type": "code",
   "execution_count": null,
   "metadata": {
    "collapsed": false
   },
   "outputs": [],
   "source": [
    "print (data_0.shape[1]+shift)/2."
   ]
  },
  {
   "cell_type": "code",
   "execution_count": null,
   "metadata": {
    "collapsed": false
   },
   "outputs": [],
   "source": [
    "s1 = np.require(sinogram_fixed[:,1300,:],dtype=np.float32, requirements=['C'])"
   ]
  },
  {
   "cell_type": "code",
   "execution_count": null,
   "metadata": {
    "collapsed": true
   },
   "outputs": [],
   "source": [
    "#3d case\n",
    "# s1 = np.require(sinogram_fixed[:,1220:1221,:].swapaxes(0,1),dtype=np.float32, requirements=['C'])"
   ]
  },
  {
   "cell_type": "code",
   "execution_count": null,
   "metadata": {
    "collapsed": false
   },
   "outputs": [],
   "source": [
    "s1_t = np.copy(s1)\n",
    "mask = s1_t>s1_t.max()*0.7\n",
    "s1_t[mask] = cv2.medianBlur(s1_t,5)[mask]\n",
    "plt.figure(figsize=(10,10))\n",
    "plt.imshow(s1_t[np.argsort(data_angles)], cmap=plt.cm.viridis)\n",
    "plt.axis('tight')\n",
    "plt.colorbar()\n",
    "plt.show()"
   ]
  },
  {
   "cell_type": "code",
   "execution_count": null,
   "metadata": {
    "collapsed": false
   },
   "outputs": [],
   "source": [
    "plt.figure(figsize=(10,10))\n",
    "plt.plot(s1_t[np.argsort(data_angles)].sum(axis=-1))\n",
    "plt.grid()\n",
    "plt.show()"
   ]
  },
  {
   "cell_type": "code",
   "execution_count": null,
   "metadata": {
    "collapsed": false
   },
   "outputs": [],
   "source": [
    "import astra\n",
    "def astra_tomo2d_parallel(sinogram, angles):\n",
    "    angles = angles.astype('float64')\n",
    "    detector_size = sinogram.shape[1]\n",
    "    \n",
    "\n",
    "    rec_size = detector_size\n",
    "    vol_geom = astra.create_vol_geom(rec_size, rec_size)\n",
    "    proj_geom = astra.create_proj_geom('parallel', 1.0, detector_size, angles)\n",
    "\n",
    "\n",
    "    sinogram_id = astra.data2d.create('-sino', proj_geom, data=sinogram)\n",
    "    # Create a data object for the reconstruction\n",
    "    rec_id = astra.data2d.create('-vol', vol_geom)\n",
    "#     proj_id = astra.create_projector('strip', proj_geom, vol_geom) # for CPU reconstruction only\n",
    "    # Set up the parameters for a reconstruction algorithm using the GPU\n",
    "    cfg = astra.astra_dict('SART_CUDA')\n",
    "    cfg['ReconstructionDataId'] = rec_id\n",
    "    cfg['ProjectionDataId'] = sinogram_id\n",
    "#     cfg['ProjectorId'] = proj_id # for CPU reconstruction only\n",
    "    cfg['option'] = {}\n",
    "    cfg['option']['MinConstraint'] = -0.001\n",
    "    # cfg['option']['MaxConstraint'] = 5\n",
    "\n",
    "    # Available algorithms:\n",
    "    # SIRT_CUDA, SART_CUDA, EM_CUDA, FBP_CUDA (see the FBP sample)\n",
    "\n",
    "    # Create the algorithm object from the configuration structure\n",
    "    alg_id = astra.algorithm.create(cfg)\n",
    "\n",
    "    # Run 150 iterations of the algorithm\n",
    "    astra.algorithm.run(alg_id, 1500)\n",
    "\n",
    "    # Get the result\n",
    "    rec = astra.data2d.get(rec_id)\n",
    "\n",
    "    # Clean up. Note that GPU memory is tied up in the algorithm object,\n",
    "    # and main RAM in the data objects.\n",
    "    astra.algorithm.delete(alg_id)\n",
    "    astra.data2d.delete(rec_id)\n",
    "    astra.data2d.delete(sinogram_id)\n",
    "    astra.clear()\n",
    "    return rec\n",
    "\n",
    "def astra_tomo3d_parallel(sinogram, angles):\n",
    "    angles = angles.astype('float64')\n",
    "    detector_size = sinogram.shape[-1]\n",
    "    slices_number = sinogram.shape[0]\n",
    "\n",
    "    rec_size = detector_size\n",
    "    vol_geom = astra.create_vol_geom(rec_size, rec_size, slices_number)\n",
    "    proj_geom = astra.create_proj_geom('parallel3d', 1.0, 1.0,  slices_number, detector_size, angles)\n",
    "\n",
    "#     print proj_geom\n",
    "#     print sinogram.shape\n",
    "    sinogram_id = astra.data3d.create('-sino', proj_geom, data=sinogram)\n",
    "    # Create a data object for the reconstruction\n",
    "    rec_id = astra.data3d.create('-vol', vol_geom)\n",
    "#     proj_id = astra.create_projector('strip', proj_geom, vol_geom) # for CPU reconstruction only\n",
    "    # Set up the parameters for a reconstruction algorithm using the GPU\n",
    "    cfg = astra.astra_dict('SIRT3D_CUDA')\n",
    "    cfg['ReconstructionDataId'] = rec_id\n",
    "    cfg['ProjectionDataId'] = sinogram_id\n",
    "#     cfg['ProjectorId'] = proj_id # for CPU reconstruction only\n",
    "    cfg['option'] = {}\n",
    "    #cfg['option']['MinConstraint'] = 0\n",
    "    # cfg['option']['MaxConstraint'] = 5\n",
    "\n",
    "    # Available algorithms:\n",
    "    # SIRT_CUDA, SART_CUDA, EM_CUDA, FBP_CUDA (see the FBP sample)\n",
    "\n",
    "    # Create the algorithm object from the configuration structure\n",
    "    alg_id = astra.algorithm.create(cfg)\n",
    "\n",
    "    # Run 150 iterations of the algorithm\n",
    "    astra.algorithm.run(alg_id, 150)\n",
    "\n",
    "    # Get the result\n",
    "    rec = astra.data3d.get(rec_id)\n",
    "\n",
    "    # Clean up. Note that GPU memory is tied up in the algorithm object,\n",
    "    # and main RAM in the data objects.\n",
    "    astra.algorithm.delete(alg_id)\n",
    "    astra.data3d.delete(rec_id)\n",
    "    astra.data3d.delete(sinogram_id)\n",
    "    astra.clear()\n",
    "    return rec"
   ]
  },
  {
   "cell_type": "code",
   "execution_count": null,
   "metadata": {
    "collapsed": false
   },
   "outputs": [],
   "source": [
    "s1_t.flags"
   ]
  },
  {
   "cell_type": "code",
   "execution_count": null,
   "metadata": {
    "collapsed": false
   },
   "outputs": [],
   "source": [
    "%time rec_slice = astra_tomo2d_parallel(s1_t, data_angles*np.pi/180)"
   ]
  },
  {
   "cell_type": "code",
   "execution_count": null,
   "metadata": {
    "collapsed": false
   },
   "outputs": [],
   "source": [
    "rec_slice = astra_tomo2d_parallel(s1_t, data_angles*np.pi/180)"
   ]
  },
  {
   "cell_type": "code",
   "execution_count": null,
   "metadata": {
    "collapsed": false
   },
   "outputs": [],
   "source": [
    "plt.figure(figsize=(15,15))\n",
    "plt.imshow(rec_slice, cmap=plt.cm.viridis, vmin=0)\n",
    "plt.colorbar()\n",
    "plt.show()"
   ]
  },
  {
   "cell_type": "code",
   "execution_count": null,
   "metadata": {
    "collapsed": false,
    "scrolled": false
   },
   "outputs": [],
   "source": [
    "res = None\n",
    "total_slices = sinogram_fixed.shape[1]\n",
    "for i in log_progress(range(total_slices)):\n",
    "    st = np.copy(sinogram_fixed[:,i,:])\n",
    "    mask = st>st.max()*0.7\n",
    "    st[mask] = cv2.medianBlur(st,5)[mask]\n",
    "    rec_slice = astra_tomo2d_parallel(st, data_angles*np.pi/180)\n",
    "    if res is None:\n",
    "        res = np.zeros(shape=(total_slices, rec_slice.shape[0], rec_slice.shape[1]),\n",
    "                       dtype='float32')\n",
    "    res[i] = rec_slice"
   ]
  },
  {
   "cell_type": "code",
   "execution_count": null,
   "metadata": {
    "collapsed": false
   },
   "outputs": [],
   "source": [
    "data_file_parts = os.path.splitext(data_file)\n",
    "out_file = '{}_reconstruction.h5'.format(''.join(data_file_parts[:-1]))\n",
    "print out_file\n",
    "with h5py.File(out_file,'w') as h5f:\n",
    "    h5f.create_dataset('Result', data=res[::2,::2,::2], dtype=np.float32)"
   ]
  },
  {
   "cell_type": "code",
   "execution_count": null,
   "metadata": {
    "collapsed": false
   },
   "outputs": [],
   "source": [
    "def save_amira(result_file):\n",
    "    \"\"\"\n",
    "    Функция сохраняет реконструированные слои в формате Amira raw file\n",
    "\n",
    "    Inputs:\n",
    "        data_path - путь к директории, где находиться файл res_tomo.hdf5 в формате HDF5\n",
    "            в этом файде должен быть раздел (node) /Results в котором в виде 3D массива\n",
    "            записаны реконструированный объём\n",
    "    Outputs:\n",
    "        Файлы amira.raw и tomo.hx. Если файлы уже существуют, то они перезаписываются.\n",
    "        Тип данных: float32 little endian\n",
    "    \"\"\"\n",
    "    data_path = os.path.dirname(result_file)\n",
    "    with open(os.path.join(data_path, 'amira.raw'), 'wb') as amira_file:\n",
    "        with h5py.File(result_file, 'r') as h5f:\n",
    "            x = h5f['Result']\n",
    "            for i in range(x.shape[0]):\n",
    "                np.array(x[i, :, :]).tofile(amira_file)\n",
    "\n",
    "            file_shape = x.shape\n",
    "\n",
    "            with open(os.path.join(data_path, 'tomo.hx'), 'w') as af:\n",
    "                af.write('# Amira Script\\n')\n",
    "                af.write('remove -all\\n')\n",
    "                af.write(r'[ load -raw ${SCRIPTDIR}/amira.raw little xfastest float 1 '+\n",
    "                         str(file_shape[1])+' '+str(file_shape[2])+' '+str(file_shape[0])+\n",
    "                         ' 0 '+str(file_shape[1]-1)+' 0 '+str(file_shape[2]-1)+' 0 '+str(file_shape[0]-1)+\n",
    "                         ' ] setLabel tomo.raw\\n')"
   ]
  },
  {
   "cell_type": "code",
   "execution_count": null,
   "metadata": {
    "collapsed": false
   },
   "outputs": [],
   "source": [
    "save_amira(out_file)"
   ]
  },
  {
   "cell_type": "code",
   "execution_count": null,
   "metadata": {
    "collapsed": false
   },
   "outputs": [],
   "source": [
    "!ls -lah"
   ]
  },
  {
   "cell_type": "code",
   "execution_count": null,
   "metadata": {
    "collapsed": false
   },
   "outputs": [],
   "source": [
    "out_dir = '/diskmnt/fast/makov/robotom/tmp'\n",
    "# %mkdir out_dir\n",
    "plt.figure(figsize=(10,10))\n",
    "for idi,i in log_progress(list(enumerate(np.argsort(data_angles)))):\n",
    "    plt.imsave(os.path.join(out_dir,'{:03}.png'.format(idi)),\n",
    "                cv2.resize(data_beam[i],tuple(np.array(data_beam[i].shape)//2)), cmap=plt.cm.gray)"
   ]
  },
  {
   "cell_type": "code",
   "execution_count": null,
   "metadata": {
    "collapsed": false
   },
   "outputs": [],
   "source": [
    "!avconv -i '/diskmnt/fast/makov/robotom/tmp/%03d.png' -c:v libx264 -r 30  '/diskmnt/fast/makov/robotom/tmp/out.mp4'"
   ]
  },
  {
   "cell_type": "code",
   "execution_count": null,
   "metadata": {
    "collapsed": false
   },
   "outputs": [],
   "source": [
    "!rm '/diskmnt/fast/makov/robotom/tmp/out.mp4'\n",
    "!avconv -framerate 25 -i '/diskmnt/fast/makov/robotom/tmp/%03d.png' -c:v h264 -crf 1 '/diskmnt/fast/makov/robotom/tmp/out.mp4'"
   ]
  },
  {
   "cell_type": "code",
   "execution_count": null,
   "metadata": {
    "collapsed": false
   },
   "outputs": [],
   "source": [
    "!rm '/diskmnt/fast/makov/robotom/tmp/out.mp4'\n",
    "!avconv -i '/diskmnt/fast/makov/robotom/tmp/%03d.png' '/diskmnt/fast/makov/robotom/tmp/out.mp4'"
   ]
  },
  {
   "cell_type": "code",
   "execution_count": null,
   "metadata": {
    "collapsed": true
   },
   "outputs": [],
   "source": []
  }
 ],
 "metadata": {
  "kernelspec": {
   "display_name": "Python [astra2]",
   "language": "python",
   "name": "Python [astra2]"
  },
  "language_info": {
   "codemirror_mode": {
    "name": "ipython",
    "version": 2
   },
   "file_extension": ".py",
   "mimetype": "text/x-python",
   "name": "python",
   "nbconvert_exporter": "python",
   "pygments_lexer": "ipython2",
   "version": "2.7.12"
  }
 },
 "nbformat": 4,
 "nbformat_minor": 0
}
