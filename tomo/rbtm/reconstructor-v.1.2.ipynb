{
 "cells": [
  {
   "cell_type": "markdown",
   "metadata": {},
   "source": [
    "# Changelog:\n",
    "\n",
    "* 1.2 (2018.06.04)\n",
    " - Change threshold\n",
    "* 1.1 (2018.03.14) \n",
    " - Add NLM filtering\n",
    "* 1.0 (2017.02.01) \n",
    " - First automation version."
   ]
  },
  {
   "cell_type": "code",
   "execution_count": null,
   "metadata": {
    "collapsed": true
   },
   "outputs": [],
   "source": [
    "%matplotlib inline\n",
    "%load_ext autoreload\n",
    "%autoreload 2"
   ]
  },
  {
   "cell_type": "code",
   "execution_count": null,
   "metadata": {
    "collapsed": true
   },
   "outputs": [],
   "source": [
    "import logging\n",
    "logger = logging.getLogger()\n",
    "logger.setLevel(logging.DEBUG)\n",
    "import os\n",
    "\n",
    "import pylab as plt\n",
    "import numpy as np\n",
    "import numexpr as ne\n",
    "import cv2\n",
    "import time\n",
    "import astra\n",
    "import tomopy\n",
    "import requests, json\n",
    "import imp\n",
    "import configparser\n",
    "from skimage.restoration import denoise_nl_means, estimate_sigma\n",
    "from skimage.measure import compare_psnr\n",
    "from skimage.transform import resize"
   ]
  },
  {
   "cell_type": "code",
   "execution_count": null,
   "metadata": {},
   "outputs": [],
   "source": [
    "plt.viridis();"
   ]
  },
  {
   "cell_type": "code",
   "execution_count": null,
   "metadata": {},
   "outputs": [],
   "source": [
    "config = configparser.ConfigParser()\n",
    "config.read('tomo.ini')\n",
    "experiment_id = config['SAMPLE']['_id']\n",
    "print(experiment_id)"
   ]
  },
  {
   "cell_type": "code",
   "execution_count": null,
   "metadata": {
    "collapsed": true
   },
   "outputs": [],
   "source": [
    "# import sys\n",
    "# sys.path.insert(0,'/home/makov/workspace/tomography_scripts/tomo/rbtm')\n",
    "# experiment_id = 'edba59e6-6442-4b9f-8e5b-2444cbf8e8a3'"
   ]
  },
  {
   "cell_type": "code",
   "execution_count": null,
   "metadata": {
    "collapsed": true
   },
   "outputs": [],
   "source": [
    "import tomotools"
   ]
  },
  {
   "cell_type": "code",
   "execution_count": null,
   "metadata": {},
   "outputs": [],
   "source": [
    "data_dir = '/diskmnt/fast/makov/robotom/'\n",
    "\n",
    "tmp_dir = os.path.join(data_dir, experiment_id)\n",
    "tomotools.mkdir_p(tmp_dir)\n",
    "data_file = tomotools.get_experiment_hdf5(experiment_id, data_dir)\n"
   ]
  },
  {
   "cell_type": "code",
   "execution_count": null,
   "metadata": {},
   "outputs": [],
   "source": [
    "empty_images, empty_angles = tomotools.get_frame_group(data_file, 'empty', tmp_dir)\n",
    "dark_images, dark_angles = tomotools.get_frame_group(data_file, 'dark', tmp_dir)\n",
    "\n",
    "empty_image = np.median(empty_images,axis=0) \n",
    "dark_image = np.median(dark_images,axis=0)\n",
    "\n",
    "\n",
    "empty_beam = empty_image - dark_image\n",
    "\n",
    "\n",
    "mask = empty_beam > 0.01\n",
    "\n",
    "# Загружаем кадры с даннымии\n",
    "#TODO: добавить поддержку, когда много кадров на одном угле\n",
    "data_images, data_angles = tomotools.get_frame_group(data_file, 'data', tmp_dir)\n",
    "\n",
    "data_images_clear, _  = tomotools.load_create_mm(os.path.join(tmp_dir,'data_images_clear.tmp'),\n",
    "                        shape=data_images.shape,dtype='float32')\n",
    "\n",
    "ne.evaluate('data_images - dark_image', out = data_images_clear);"
   ]
  },
  {
   "cell_type": "code",
   "execution_count": null,
   "metadata": {
    "scrolled": false
   },
   "outputs": [],
   "source": [
    "plt.figure(figsize=(10,10))\n",
    "plt.subplot(221)\n",
    "plt.imshow(empty_image, vmin=0, interpolation='nearest')\n",
    "plt.colorbar(orientation='horizontal')\n",
    "plt.title('Empty beam')\n",
    "\n",
    "plt.subplot(222)\n",
    "plt.imshow(data_images_clear[0], vmin=0, interpolation='nearest')\n",
    "plt.colorbar(orientation='horizontal')\n",
    "plt.title('Data beam')\n",
    "\n",
    "\n",
    "plt.subplot(223)\n",
    "plt.imshow(dark_image, vmin=0, interpolation='nearest')\n",
    "plt.colorbar(orientation='horizontal')\n",
    "plt.title('Dark beam')\n",
    "\n",
    "\n",
    "# plt.subplot(224)\n",
    "# plt.imshow(mask.astype('int'), interpolation='nearest')\n",
    "# # plt.colorbar(orientation='horizontal')\n",
    "# plt.title('Mask')\n",
    "# #TODO: Check thresshold automaticaly\n",
    "# # plt.plot([sum(empty_beam > i) for i in np.arange(100)])"
   ]
  },
  {
   "cell_type": "code",
   "execution_count": null,
   "metadata": {
    "collapsed": true
   },
   "outputs": [],
   "source": [
    "del data_images\n",
    "# del data_angles\n",
    "del empty_image\n",
    "del empty_images\n",
    "del dark_images\n",
    "del dark_image\n"
   ]
  },
  {
   "cell_type": "code",
   "execution_count": null,
   "metadata": {
    "collapsed": true
   },
   "outputs": [],
   "source": [
    "data_std = np.std(data_images_clear,axis=0)\n",
    "data_std = cv2.medianBlur(data_std,3)\n",
    "data_mean = np.mean(data_images_clear,axis=0)\n",
    "data_mean = cv2.medianBlur(data_mean,3)\n",
    "data_mean[data_mean<=1] = 1"
   ]
  },
  {
   "cell_type": "code",
   "execution_count": null,
   "metadata": {},
   "outputs": [],
   "source": [
    "k  = data_std.sum(axis=-1)/(data_mean**0.5).sum(axis=-1)\n",
    "\n",
    "curve = []\n",
    "for i in range(1,99):\n",
    "    curve.append(k[k>np.percentile(k,i)].sum())\n",
    "    \n",
    "kd = np.diff(curve)\n",
    "# kd = kd-kd[0]\n",
    "\n",
    "# thrh_d = kd[0:10].mean()\n",
    "thrh_d = (kd[0]+kd[-1])/3.\n",
    "thrh_pos = np.min(np.argwhere(kd[11:]<thrh_d))+11\n",
    "thrh = np.percentile(k,thrh_pos)\n",
    "\n",
    "x_min = np.min(np.argwhere(k>thrh))\n",
    "x_min = np.max([200, x_min-100])\n",
    "x_max = np.max(np.argwhere(k>thrh))\n",
    "x_max = np.min([len(k)-200, x_max+100])\n",
    "\n",
    "print(thrh_pos)\n",
    "plt.figure(figsize=(10,10))\n",
    "plt.plot(kd,'x')\n",
    "\n",
    "plt.grid()\n",
    "\n",
    "plt.figure(figsize=(10,10))\n",
    "plt.plot(k)\n",
    "plt.hlines(np.percentile(k,thrh_pos),0,len(k))\n",
    "# plt.hlines(thrh,0,3000)\n",
    "plt.hlines(np.percentile(k,95),0,len(k))\n",
    "plt.vlines([x_min, x_max], 0,k.max())\n",
    "# plt.plot(data_std.sum(axis=-1))\n",
    "# plt.plot(data_mean.sum(axis=-1))\n",
    "# plt.plot(data_max.sum(axis=-1))\n",
    "plt.grid()\n",
    "\n"
   ]
  },
  {
   "cell_type": "code",
   "execution_count": null,
   "metadata": {},
   "outputs": [],
   "source": [
    "plt.figure(figsize=(10,10))\n",
    "plt.imshow(data_std[x_min:x_max,:], interpolation='nearest')\n",
    "plt.colorbar()"
   ]
  },
  {
   "cell_type": "code",
   "execution_count": null,
   "metadata": {
    "collapsed": true
   },
   "outputs": [],
   "source": [
    "# def crop_mask(mask, up, bottom, left, right):\n",
    "#     threshold = 100\n",
    "#     mask_x_profile = mask.sum(axis=1)\n",
    "#     mask_x_min = np.argwhere(mask_x_profile>threshold).min()+up # up border\n",
    "#     mask_x_max = np.argwhere(mask_x_profile>threshold).max()-bottom # bottom border\n",
    "\n",
    "#     mask_y_profile = mask.sum(axis=0)\n",
    "#     mask_y_min = np.argwhere(mask_y_profile>threshold).min()+left # left border\n",
    "#     mask_y_max = np.argwhere(mask_y_profile>threshold).max()-right # right border\n",
    "#     return  mask_x_min, mask_x_max, mask_y_min, mask_y_max"
   ]
  },
  {
   "cell_type": "code",
   "execution_count": null,
   "metadata": {},
   "outputs": [],
   "source": [
    "# mask_x_min, mask_x_max, mask_y_min, mask_y_max = crop_mask(mask, 400, 400, 100, 100)\n",
    "\n",
    "mask_x_min, mask_x_max, mask_y_min, mask_y_max = x_min, x_max, 100, mask.shape[1]-100\n",
    "mask_new = np.copy(mask[mask_x_min:mask_x_max,mask_y_min:mask_y_max])\n",
    "# empty_beam = empty_beam[mask_x_min:mask_x_max,mask_y_min:mask_y_max]\n",
    "## FIX IT\n",
    "# data_images_croped = data_images_croped[:, mask_x_min:mask_x_max,mask_y_min:mask_y_max]\n",
    "\n",
    "data_images_masked, _ = tomotools.load_create_mm(os.path.join(tmp_dir,'data_images_masked.tmp'),\n",
    "                                   shape = (data_angles.shape[0],\n",
    "                                           mask_new.shape[0], mask_new.shape[1]), dtype='float32',\n",
    "                                   force_create=True)\n",
    "\n",
    "empty_masked, _ = tomotools.load_create_mm(os.path.join(tmp_dir,'empty_images_masked.tmp'),\n",
    "                                   shape = (mask_new.shape[0], mask_new.shape[1]), dtype='float32',\n",
    "                                   force_create=True)\n",
    "\n",
    "empty_masked[:] = empty_beam[mask_x_min:mask_x_max,mask_y_min:mask_y_max]\n",
    "\n",
    "\n",
    "plt.figure()\n",
    "plt.imshow(data_images_clear[0, mask_x_min:mask_x_max,mask_y_min:mask_y_max], interpolation='nearest')\n",
    "plt.colorbar(orientation='horizontal')\n",
    "\n",
    "for di in range(data_images_masked.shape[0]):\n",
    "    data_images_masked[di] = data_images_clear[di, mask_x_min:mask_x_max,mask_y_min:mask_y_max]\n",
    "#     data_images_masked[di] = cv2.medianBlur(data_images_masked[di],3)"
   ]
  },
  {
   "cell_type": "code",
   "execution_count": null,
   "metadata": {
    "collapsed": true
   },
   "outputs": [],
   "source": [
    "# plt.figure(figsize=(10,10))\n",
    "# plt.imshow(data_images_masked[:,:,501]/empty_masked[:,501], cmap=plt.cm.viridis, interpolation='nearest')\n",
    "# plt.axis('tight')\n",
    "# plt.colorbar(orientation='horizontal')"
   ]
  },
  {
   "cell_type": "code",
   "execution_count": null,
   "metadata": {
    "collapsed": true
   },
   "outputs": [],
   "source": [
    "del empty_beam\n",
    "del data_images_clear"
   ]
  },
  {
   "cell_type": "code",
   "execution_count": null,
   "metadata": {},
   "outputs": [],
   "source": [
    "def group_data(data_images,data_angles,  mmap_file_dir):\n",
    "    uniq_angles,_ = tomotools.load_create_mm(\n",
    "        os.path.join(mmap_file_dir,'uniq_angles.tmp'),\n",
    "        shape=(len(list(set(data_angles))),),\n",
    "        dtype='float32',force_create=True)\n",
    "    uniq_angles[:] = list(set(data_angles))\n",
    "    \n",
    "    uniq_data_images,_ = tomotools.load_create_mm(\n",
    "        os.path.join(mmap_file_dir,'uniq_data_images.tmp'),\n",
    "        shape=(len(uniq_angles), data_images.shape[1], data_images.shape[2]),\n",
    "        dtype='float32',force_create=True)\n",
    "\n",
    "    for ua_id, ua in enumerate(uniq_angles):\n",
    "        indexes = np.argwhere(data_angles==uniq_angles[ua_id])\n",
    "        if len(indexes)>1:\n",
    "            tmp_images = data_images[indexes]\n",
    "            tmp_images = np.squeeze(tmp_images)\n",
    "            mean_image = np.mean(tmp_images, axis=0)\n",
    "            uniq_data_images[ua_id] = mean_image\n",
    "        else:\n",
    "            uniq_data_images[ua_id]=data_images[indexes]\n",
    "    return uniq_data_images, uniq_angles\n",
    "\n",
    "uniq_data_images, uniq_angles = group_data(data_images_masked, data_angles, tmp_dir)\n",
    "del data_images_masked, data_angles"
   ]
  },
  {
   "cell_type": "code",
   "execution_count": null,
   "metadata": {
    "collapsed": true
   },
   "outputs": [],
   "source": [
    "#normalize data frames and calculate sinograms\n",
    "# empty_masked[empty_masked <= 0] = 1e-9\n",
    "\n",
    "for di in range(uniq_data_images.shape[0]):\n",
    "    t = uniq_data_images[di]\n",
    "    t = t/empty_masked\n",
    "    t[t<1e-8] = 1e-8\n",
    "    t[t>1] = 1\n",
    "    uniq_data_images[di] = cv2.medianBlur(t,3)\n",
    "#     t[t<1e-8] = 1e-8\n",
    "#     t[t>1] = 1\n",
    "\n",
    "del empty_masked"
   ]
  },
  {
   "cell_type": "code",
   "execution_count": null,
   "metadata": {},
   "outputs": [],
   "source": [
    "sinogram, _ = tomotools.load_create_mm(os.path.join(tmp_dir, 'sinogram.tmp'), shape=uniq_data_images.shape,\n",
    "                         dtype='float32') \n",
    "ne.evaluate('-log(uniq_data_images)', out=sinogram);  "
   ]
  },
  {
   "cell_type": "code",
   "execution_count": null,
   "metadata": {
    "collapsed": true
   },
   "outputs": [],
   "source": [
    "# sinogram /= np.float32(9e-3)**2 # Normalize to pixel size"
   ]
  },
  {
   "cell_type": "code",
   "execution_count": null,
   "metadata": {
    "collapsed": true
   },
   "outputs": [],
   "source": [
    "# plt.figure(figsize=(7,5))\n",
    "# plt.imshow(uniq_data_images[np.argsort(uniq_angles),:,int(sinogram.shape[-1]/1.75)])\n",
    "# plt.axis('tight')\n",
    "# # plt.colorbar()"
   ]
  },
  {
   "cell_type": "code",
   "execution_count": null,
   "metadata": {
    "collapsed": true
   },
   "outputs": [],
   "source": [
    "del uniq_data_images"
   ]
  },
  {
   "cell_type": "code",
   "execution_count": null,
   "metadata": {
    "collapsed": true
   },
   "outputs": [],
   "source": [
    "# # build frames for video\n",
    "# images_dir = os.path.join(tmp_dir,'images')\n",
    "# tomotools.mkdir_p(images_dir)\n",
    "# im_max=np.max(sinogram)\n",
    "# im_min=np.min(sinogram)\n",
    "# print(im_min, im_max)\n",
    "# for ia, a in tomotools.log_progress(list(enumerate(np.argsort(uniq_angles)))):\n",
    "# #     print('{:34}'.format(ia))\n",
    "#     plt.imsave(os.path.join(images_dir,'prj_{:03}.png'.format(ia)),\n",
    "#                np.rot90(sinogram[a],3), vmin=im_min, vmax=im_max,\n",
    "#                cmap=plt.cm.gray_r)"
   ]
  },
  {
   "cell_type": "code",
   "execution_count": null,
   "metadata": {
    "collapsed": true
   },
   "outputs": [],
   "source": [
    "# !cd {images_dir} && avconv -r 10 -i \"prj_%03d.png\" -b:v 1000k prj.avi"
   ]
  },
  {
   "cell_type": "code",
   "execution_count": null,
   "metadata": {
    "collapsed": true
   },
   "outputs": [],
   "source": [
    "# !cd {images_dir} && rm prj.mp4"
   ]
  },
  {
   "cell_type": "code",
   "execution_count": null,
   "metadata": {},
   "outputs": [],
   "source": [
    "tmp_sinogram = sinogram[np.argsort(uniq_angles),:,int(sinogram.shape[-1]//2)+3]\n",
    "\n",
    "plt.figure(figsize=(10,10))\n",
    "plt.imshow(tmp_sinogram, cmap=plt.cm.viridis, interpolation='nearest')\n",
    "plt.axis('tight')\n",
    "plt.colorbar(orientation='horizontal')"
   ]
  },
  {
   "cell_type": "code",
   "execution_count": null,
   "metadata": {
    "collapsed": true
   },
   "outputs": [],
   "source": [
    "import scipy.ndimage\n",
    "def my_rc(sino0, level):\n",
    "    def get_my_b(level):\n",
    "        t= np.mean(sino0, axis=0)\n",
    "        gt = scipy.ndimage.filters.gaussian_filter1d(t,level/2.)\n",
    "        return gt-t\n",
    "    \n",
    "    def get_my_a(level):\n",
    "        my_b = get_my_b(level)\n",
    "        return np.mean(my_b)/my_b.shape[0]\n",
    "    \n",
    "    my_a = get_my_a(level)\n",
    "    my_b = get_my_b(level)\n",
    "    \n",
    "    res = sino0.copy()\n",
    "    if not level==0:\n",
    "        res+= sino0*my_a+my_b\n",
    "    \n",
    "    return res"
   ]
  },
  {
   "cell_type": "code",
   "execution_count": null,
   "metadata": {
    "collapsed": true
   },
   "outputs": [],
   "source": [
    "rc_level = 20"
   ]
  },
  {
   "cell_type": "code",
   "execution_count": null,
   "metadata": {},
   "outputs": [],
   "source": [
    "plt.figure(figsize=(10,10))\n",
    "plt.imshow(my_rc(tmp_sinogram, rc_level), cmap=plt.cm.viridis, interpolation='nearest')\n",
    "plt.axis('tight')\n",
    "plt.colorbar(orientation='horizontal')"
   ]
  },
  {
   "cell_type": "code",
   "execution_count": null,
   "metadata": {},
   "outputs": [],
   "source": [
    "for s in tomotools.log_progress(range(sinogram.shape[1])):\n",
    "    sinogram[:,s,:] = my_rc(sinogram[:,s,:], rc_level)"
   ]
  },
  {
   "cell_type": "code",
   "execution_count": null,
   "metadata": {},
   "outputs": [],
   "source": [
    "tmp_sinogram = sinogram[np.argsort(uniq_angles),:,int(sinogram.shape[-1]//2)+3]\n",
    "\n",
    "plt.figure(figsize=(10,10))\n",
    "plt.imshow(tmp_sinogram, cmap=plt.cm.viridis, interpolation='nearest')\n",
    "plt.axis('tight')\n",
    "plt.colorbar(orientation='horizontal')"
   ]
  },
  {
   "cell_type": "code",
   "execution_count": null,
   "metadata": {},
   "outputs": [],
   "source": [
    "# seraching detector rotation angle\n",
    "for zero_angle in uniq_angles:\n",
    "#     zero_angle = np.min(uniq_angles)\n",
    "    position_0 = np.argwhere(np.isclose(uniq_angles, zero_angle, atol=0.05))[0][0]\n",
    "    position_180 = np.argwhere(np.isclose(uniq_angles, 180+zero_angle, atol=0.05))\n",
    "    if len(position_180)>0:\n",
    "        position_180=position_180[0][0]\n",
    "        print(uniq_angles[position_0], position_0)\n",
    "        print(uniq_angles[position_180], position_180)\n",
    "        break\n",
    "\n",
    "def cv_rotate(x, angle):\n",
    "    \"\"\"\n",
    "    Rotate square array using OpenCV2 around center of the array\n",
    "    :param x: 2d numpy array\n",
    "    :param angle: angle in degrees\n",
    "    :return: rotated array\n",
    "    \"\"\"\n",
    "    x_center = tuple(\n",
    "        np.array((x.shape[1], x.shape[0]), dtype='float32') / 2.0 - 0.5)\n",
    "    rot_mat = cv2.getRotationMatrix2D(x_center, angle, 1.0)\n",
    "    xro = cv2.warpAffine(\n",
    "        x, rot_mat, (x.shape[1], x.shape[0]), flags=cv2.INTER_LINEAR)\n",
    "    return xro\n",
    "\n",
    "\n",
    "data_0_orig = np.rot90(sinogram[position_0]).copy()\n",
    "data_180_orig = np.rot90(sinogram[position_180]).copy()"
   ]
  },
  {
   "cell_type": "code",
   "execution_count": null,
   "metadata": {
    "collapsed": true
   },
   "outputs": [],
   "source": [
    "def grad(x):\n",
    "    return np.sqrt((np.diff(x, axis=0)**2)[:,:-1]+(np.diff(x, axis=1)**2)[:-1,:])\n",
    "\n",
    "data_0 = cv2.medianBlur(data_0_orig,3)\n",
    "data_180 = cv2.medianBlur(data_180_orig,3)\n",
    "\n",
    "data_0 = grad(data_0)\n",
    "data_180 = grad(data_180)"
   ]
  },
  {
   "cell_type": "code",
   "execution_count": null,
   "metadata": {},
   "outputs": [],
   "source": [
    "from scipy.optimize import minimize\n",
    "from scipy.linalg import norm\n",
    "# def f(x):\n",
    "#     alfa= x[0]/10\n",
    "#     shift = int(x[1]*10.)\n",
    "#     if shift >= 0:\n",
    "#         t = enp.fliplr(cv_rotate(data_180[:,shift:],alfa))-cv_rotate(data_0[:,shift:],alfa)\n",
    "#     else:\n",
    "#         t = np.fliplr(cv_rotate(data_180[:,:shift],alfa))-cv_rotate(data_0[:,shift],alfa)\n",
    "        \n",
    "#     res = np.sum(t*t)/np.prod(t.shape)\n",
    "#     return res\n",
    "\n",
    "def corr(x):\n",
    "    alfa= x[0]/10.\n",
    "    shift_x = int(x[1])\n",
    "    if shift_x >= 0:\n",
    "        t_180 = data_180[:,shift_x:]\n",
    "        t_0 = data_0[:,shift_x:]\n",
    "    else:\n",
    "        t_180 = data_180[:,:shift_x]\n",
    "        t_0 = data_0[:,:shift_x]\n",
    "        \n",
    "#     shift_y = int(x[2])//10\n",
    "#     if shift_y > 0:\n",
    "#         t_180 = t_180[shift_y:,:]\n",
    "#         t_0 = t_0[:-shift_y,:]\n",
    "#     elif shift_y < 0:\n",
    "#         t_180 = t_180[:shift_y,:]\n",
    "#         t_0 = t_0[-shift_y:,:]\n",
    "    \n",
    "    \n",
    "#     t_mask = np.zeros_like(t_0)\n",
    "#     shape_min = np.min(t_mask.shape)\n",
    "#     r_mask = shape_min//2\n",
    "#     X,Y = np.meshgrid(np.arange(t_mask.shape[1])-t_mask.shape[1]//2,\n",
    "#                       np.arange(t_mask.shape[0])-t_mask.shape[0]//2)\n",
    "#     t_mask = X**2+Y**2<r_mask**2    \n",
    "    \n",
    "    tt_180 = np.fliplr(cv_rotate(t_180,alfa))\n",
    "    tt_180 = cv2.medianBlur(tt_180,5) #*t_mask\n",
    "    tt_0 = cv_rotate(t_0,alfa)\n",
    "    tt_0 = cv2.medianBlur(tt_0,5) #*t_mask\n",
    "#     res = -np.correlate(tt_0.flat,tt_180.flat)\n",
    "    res = np.mean((tt_0-tt_180)**2)**0.5*np.mean(np.abs(tt_0-tt_180))\n",
    "\n",
    "    return res\n",
    "\n",
    "s180 = data_180_orig.sum(axis=0)\n",
    "r180 = np.flipud(np.arange(len(s180)))\n",
    "p180 = (s180*r180).sum()/s180.sum()\n",
    "\n",
    "\n",
    "s0 = data_0_orig.sum(axis=0)\n",
    "r0 = np.arange(len(s0))\n",
    "p0 = (s0*r0).sum()/s0.sum()\n",
    "\n",
    "x0 = [1.,0.5*(p0-p180)]\n",
    "\n",
    "qq = [corr([0,q]) for q in np.arange(x0[1]-200,x0[1]+200)]\n",
    "\n",
    "plt.figure()\n",
    "plt.plot(np.arange(x0[1]-200,x0[1]+200),qq)\n",
    "plt.grid()\n",
    "plt.show()\n",
    "shift_0 = np.argmin(qq)-200\n",
    "x0 = [1.,shift_0]\n",
    "res= minimize(corr, x0, method='Powell')\n",
    "print(res)"
   ]
  },
  {
   "cell_type": "code",
   "execution_count": null,
   "metadata": {
    "scrolled": false
   },
   "outputs": [],
   "source": [
    "# alfa, shift_x, shift_y = res.x[0]/10, int(res.x[1]), int(res.x[2])//10\n",
    "\n",
    "alfa, shift_x, shift_y = res.x[0]/10., int(res.x[1]), 0\n",
    "\n",
    "if shift_x >= 0:\n",
    "    t_180 = data_180_orig[:,shift_x:]\n",
    "    t_0 = data_0_orig[:,shift_x:]\n",
    "else:\n",
    "    t_180 = data_180_orig[:,:shift_x]\n",
    "    t_0 = data_0_orig[:,:shift_x]\n",
    "\n",
    "if shift_y > 0:\n",
    "    t_180 = t_180[shift_y:,:]\n",
    "    t_0 = t_0[:-shift_y,:]\n",
    "elif shift_y < 0:\n",
    "    t_180 = t_180[:shift_y,:]\n",
    "    t_0 = t_0[-shift_y:,:]\n",
    "    \n",
    "    \n",
    "tt_180 = np.fliplr(cv_rotate(t_180,alfa))\n",
    "tt_0 = cv_rotate(t_0,alfa)\n",
    "    \n",
    "plt.figure(figsize=(15,15))\n",
    "plt.imshow(tt_180-tt_0, cmap=plt.cm.viridis)\n",
    "plt.title('a={}, sx={} sy={}'.format(alfa,shift_x, shift_y))\n",
    "plt.colorbar()\n",
    "plt.show()"
   ]
  },
  {
   "cell_type": "code",
   "execution_count": null,
   "metadata": {},
   "outputs": [],
   "source": [
    "plt.figure(figsize=(15,15))\n",
    "plt.subplot(221)\n",
    "plt.imshow(data_0_orig,cmap=plt.cm.viridis)\n",
    "plt.axis('tight')\n",
    "plt.colorbar(orientation='horizontal')\n",
    "plt.subplot(222)\n",
    "plt.imshow(data_180_orig,cmap=plt.cm.viridis)\n",
    "plt.axis('tight')\n",
    "plt.colorbar(orientation='horizontal')\n",
    "plt.subplot(223)\n",
    "plt.imshow(data_0_orig - np.fliplr(data_180_orig),cmap=plt.cm.viridis)\n",
    "plt.axis('tight')\n",
    "plt.colorbar(orientation='horizontal')\n",
    "plt.subplot(224)\n",
    "# alfa = 0.1\n",
    "# shift = -77\n",
    "plt.imshow(tt_180-tt_0, cmap=plt.cm.viridis)\n",
    "plt.axis('tight')\n",
    "plt.colorbar(orientation='horizontal')"
   ]
  },
  {
   "cell_type": "code",
   "execution_count": null,
   "metadata": {},
   "outputs": [],
   "source": [
    "sinogram_fixed, _ = tomotools.load_create_mm(os.path.join(tmp_dir,'sinogram_fixed.tmp'),\n",
    "                                shape=(sinogram.shape[0], sinogram.shape[1]-abs(shift_x),sinogram.shape[2]),\n",
    "                                dtype='float32', force_create=True)\n",
    "\n",
    "#fix axis tlit\n",
    "for i in range(sinogram.shape[0]):\n",
    "    t = sinogram[i].copy()\n",
    "    if shift_x > 0:\n",
    "        t = t[shift_x:]\n",
    "    elif shift_x < 0:\n",
    "        t = t[:shift_x]\n",
    "    t_angle = uniq_angles[i]\n",
    "    \n",
    "    if not shift_y ==0 :\n",
    "        delta_angle = t_angle - uniq_angles[position_0]+90\n",
    "        tmp_shift_y = int(np.sin(delta_angle/180.*np.pi)*shift_y)\n",
    "        t = np.roll(t, -tmp_shift_y, -1)\n",
    "        t[:,0:np.abs(shift_y)]=0\n",
    "        t[:,-np.abs(shift_y):]=0\n",
    "        \n",
    "    t = cv_rotate(t, alfa)\n",
    "    sinogram_fixed[i] = t\n",
    "    \n",
    "# del sinogram"
   ]
  },
  {
   "cell_type": "code",
   "execution_count": null,
   "metadata": {
    "collapsed": true
   },
   "outputs": [],
   "source": [
    "s1 = np.require(sinogram_fixed[...,int(sinogram_fixed.shape[-1]/1.5)],\n",
    "                dtype=np.float32, requirements=['C'])"
   ]
  },
  {
   "cell_type": "code",
   "execution_count": null,
   "metadata": {},
   "outputs": [],
   "source": [
    "plt.figure(figsize=(10,10))\n",
    "plt.imshow(sinogram_fixed[np.argsort(uniq_angles),:,int(sinogram_fixed.shape[-1]/1.5)], cmap=plt.cm.viridis)\n",
    "plt.axis('tight')\n",
    "plt.colorbar()\n",
    "plt.show()"
   ]
  },
  {
   "cell_type": "code",
   "execution_count": null,
   "metadata": {
    "collapsed": true
   },
   "outputs": [],
   "source": [
    "del sinogram_fixed"
   ]
  },
  {
   "cell_type": "code",
   "execution_count": null,
   "metadata": {
    "collapsed": true
   },
   "outputs": [],
   "source": [
    "del data_0, data_180 ,tmp_sinogram, uniq_angles"
   ]
  },
  {
   "cell_type": "code",
   "execution_count": null,
   "metadata": {
    "collapsed": true
   },
   "outputs": [],
   "source": [
    "del mask, t_0, t_180, zero_angle"
   ]
  },
  {
   "cell_type": "code",
   "execution_count": null,
   "metadata": {},
   "outputs": [],
   "source": [
    "uniq_angles, _ = tomotools.load_create_mm(os.path.join(tmp_dir,'uniq_angles.tmp'),\n",
    "                             shape= None,\n",
    "                             dtype='float32')\n",
    "s1, _ = tomotools.load_create_mm(os.path.join(tmp_dir,'sinogram_fixed.tmp'),\n",
    "                                shape= None,\n",
    "                                dtype='float32')\n",
    "\n",
    "rec_vol, _ = tomotools.load_create_mm(os.path.join(tmp_dir,'rec.tmp'),\n",
    "               dtype=np.float32,\n",
    "               shape = (s1.shape[-1],s1.shape[1],s1.shape[1]))\n",
    "\n"
   ]
  },
  {
   "cell_type": "code",
   "execution_count": null,
   "metadata": {
    "collapsed": true
   },
   "outputs": [],
   "source": [
    "pixel_size = 9e-3\n",
    "def astra_tomo2d_parallel(sinogram, angles):\n",
    "    astra.astra.set_gpu_index([1,])\n",
    "    angles = angles.astype('float64')\n",
    "    detector_size = sinogram.shape[1]\n",
    "    \n",
    "\n",
    "    rec_size = detector_size\n",
    "    vol_geom = astra.create_vol_geom(rec_size, rec_size)\n",
    "    proj_geom = astra.create_proj_geom('parallel', 1.0, detector_size, angles)\n",
    "\n",
    "\n",
    "    sinogram_id = astra.data2d.create('-sino', proj_geom, data=sinogram)\n",
    "    # Create a data object for the reconstruction\n",
    "    rec_id = astra.data2d.create('-vol', vol_geom)\n",
    "#     proj_id = astra.create_projector('strip', proj_geom, vol_geom) # for CPU reconstruction only\n",
    "    # Set up the parameters for a reconstruction algorithm using the GPU\n",
    "    cfg = astra.astra_dict('FBP_CUDA')\n",
    "    cfg['ReconstructionDataId'] = rec_id\n",
    "    cfg['ProjectionDataId'] = sinogram_id\n",
    "#     cfg['ProjectorId'] = proj_id # for CPU reconstruction only\n",
    "    cfg['option'] = {}\n",
    "    \n",
    "    alg_id = astra.algorithm.create(cfg)\n",
    "    astra.algorithm.run(alg_id, 1)\n",
    "    \n",
    "    cfg = astra.astra_dict('CGLS_CUDA')\n",
    "    cfg['ReconstructionDataId'] = rec_id\n",
    "    cfg['ProjectionDataId'] = sinogram_id\n",
    "#     cfg['ProjectorId'] = proj_id # for CPU reconstruction only\n",
    "    cfg['option'] = {}\n",
    "#     cfg['option']['MinConstraint'] = -0.01\n",
    "\n",
    "    alg_id = astra.algorithm.create(cfg)\n",
    "    \n",
    "    # Run 150 iterations of the algorithm\n",
    "    astra.algorithm.run(alg_id, 10)\n",
    "    \n",
    "    # Get the result\n",
    "    rec = astra.data2d.get(rec_id)/pixel_size  #fixit\n",
    "    \n",
    "    # Clean up. Note that GPU memory is tied up in the algorithm object,\n",
    "    # and main RAM in the data objects.\n",
    "    astra.algorithm.delete(alg_id)\n",
    "    astra.data2d.delete(rec_id)\n",
    "    astra.data2d.delete(sinogram_id)\n",
    "    astra.clear()\n",
    "    return rec\n",
    "\n",
    "def astra_tomo3d_parallel(sinogram, angles, rec_vol, slice_start, slice_stop):\n",
    "    astra.astra.set_gpu_index([1,])\n",
    "    angles = angles.astype('float64')\n",
    "    detector_size = sinogram.shape[1]\n",
    "#         slices_number = sinogram.shape[0]\n",
    "    slices_number = slice_stop - slice_start\n",
    "        \n",
    "    rec_size = detector_size\n",
    "    vol_geom = astra.create_vol_geom(rec_size, rec_size, slices_number)\n",
    "    proj_geom = astra.create_proj_geom('parallel3d', 1.0, 1.0,  slices_number, detector_size, angles)\n",
    "\n",
    "\n",
    "    sinogram_id = astra.data3d.create('-sino', proj_geom, np.rollaxis(sinogram,-1)[slice_start:slice_stop])\n",
    "    # Create a data object for the reconstruction\n",
    "#     rec_id = astra.data3d.link('-vol', vol_geom, rec_vol[slice_start:slice_stop])\n",
    "    rec_id = astra.data3d.create('-vol', vol_geom)\n",
    "    # Set up the parameters for a reconstruction algorithm using the GPU\n",
    "    cfg = astra.astra_dict('CGLS3D_CUDA')\n",
    "    cfg['ReconstructionDataId'] = rec_id\n",
    "    cfg['ProjectionDataId'] = sinogram_id\n",
    "#     cfg['ProjectorId'] = proj_id # for CPU reconstruction only\n",
    "    cfg['option'] = {}\n",
    "#     cfg['option']['GPUindex'] = 1\n",
    "    cfg['option']['MinConstraint'] = -0.01\n",
    "\n",
    "    # Available algorithms:\n",
    "    # SIRT_CUDA, SART_CUDA, EM_CUDA, FBP_CUDA (see the FBP sample)\n",
    "\n",
    "    # Create the algorithm object from the configuration structure\n",
    "    alg_id = astra.algorithm.create(cfg)\n",
    "#     astra.data3d.info()\n",
    "    # Run 150 iterations of the algorithm\n",
    "    astra.algorithm.run(alg_id, 30)\n",
    "    \n",
    "    # Get the result\n",
    "    rec = astra.data3d.get(rec_id)/pixel_size  #fixit\n",
    "\n",
    "    # Clean up. Note that GPU memory is tied up in the algorithm object,\n",
    "    # and main RAM in the data objects.\n",
    "    astra.algorithm.delete(alg_id)\n",
    "    astra.data3d.delete(rec_id)\n",
    "    astra.data3d.delete(sinogram_id)\n",
    "    astra.clear()\n",
    "    return rec"
   ]
  },
  {
   "cell_type": "code",
   "execution_count": null,
   "metadata": {},
   "outputs": [],
   "source": [
    "# %%timeit\n",
    "#preview\n",
    "sss = s1[...,int(s1.shape[-1]/2)]\n",
    "t_angles = (uniq_angles-uniq_angles.min())<=180 # remove angles >180\n",
    "rec_slice = astra_tomo2d_parallel(sss[t_angles], uniq_angles[t_angles]*np.pi/180)\n",
    "\n",
    "plt.figure(figsize=(10,10))\n",
    "plt.imshow(rec_slice, vmin=0)\n",
    "plt.axis('equal')\n",
    "plt.colorbar()\n",
    "plt.show()"
   ]
  },
  {
   "cell_type": "code",
   "execution_count": null,
   "metadata": {},
   "outputs": [],
   "source": [
    "#multi 2d case\n",
    "t = time.time()\n",
    "print(s1.shape)\n",
    "t_angles = (uniq_angles-uniq_angles.min())<=180  # remove angles >180\n",
    "angles =np.array(uniq_angles)*np.pi/180\n",
    "# for i in log_progress(range(1500, 1700, step)):\n",
    "for i in tomotools.log_progress(range(0, s1.shape[-1])):\n",
    "    sino = s1[t_angles,:,i]\n",
    "    rec_vol[i] = astra_tomo2d_parallel(sino, angles[t_angles])\n",
    "print(time.time()-t)"
   ]
  },
  {
   "cell_type": "code",
   "execution_count": null,
   "metadata": {},
   "outputs": [],
   "source": [
    "plt.figure(figsize=(10,10))\n",
    "plt.imshow(rec_vol[int(rec_vol.shape[0]/2)], cmap=plt.cm.viridis, vmin=0)\n",
    "plt.axis('equal')\n",
    "plt.colorbar()\n",
    "plt.show()"
   ]
  },
  {
   "cell_type": "code",
   "execution_count": null,
   "metadata": {},
   "outputs": [],
   "source": [
    "rec_vol_filtered, _ = tomotools.load_create_mm(os.path.join(tmp_dir,'rec_filtered.tmp'),\n",
    "               dtype=np.float32,\n",
    "               shape = rec_vol.shape)"
   ]
  },
  {
   "cell_type": "code",
   "execution_count": null,
   "metadata": {},
   "outputs": [],
   "source": [
    "t = time.time()\n",
    "print(rec_vol.shape)\n",
    "step = 200\n",
    "angles =np.array(uniq_angles)*np.pi/180\n",
    "# for i in log_progress(range(1500, 1700, step)):\n",
    "for i in tomotools.log_progress(range(0, rec_vol.shape[0], step)):\n",
    "    slice_start= i \n",
    "    slice_stop= min(i+step, s1.shape[-1])\n",
    "    rec_vol_filtered[slice_start:slice_stop] = tomopy.remove_ring(\n",
    "        rec_vol[slice_start:slice_stop],\n",
    "        thresh=0.0005,  theta_min=90, rwidth=10)\n",
    "print(time.time()-t)"
   ]
  },
  {
   "cell_type": "code",
   "execution_count": null,
   "metadata": {},
   "outputs": [],
   "source": [
    "plt.figure(figsize=(10,10))\n",
    "plt.imshow(rec_vol_filtered[int(rec_vol_filtered.shape[0]/2)], cmap=plt.cm.viridis, vmin=0)\n",
    "plt.axis('equal')\n",
    "plt.colorbar()\n",
    "plt.show()"
   ]
  },
  {
   "cell_type": "code",
   "execution_count": null,
   "metadata": {
    "collapsed": true
   },
   "outputs": [],
   "source": [
    "# rec_vol_filtered_size = np.loadtxt(os.path.join(tmp_dir,'rec_filtered.tmp.size')).astype('uint32')\n",
    "# rec_vol_filtered, _ = tomotools.load_create_mm(os.path.join(tmp_dir,'rec_filtered.tmp'),\n",
    "#                dtype=np.float32,\n",
    "#                shape = tuple(rec_vol_filtered_size))"
   ]
  },
  {
   "cell_type": "code",
   "execution_count": null,
   "metadata": {
    "collapsed": true
   },
   "outputs": [],
   "source": [
    "# %%timeit \n",
    "# denoise = denoise_nl_means(noisy, h=1.5 * sigma_est, fast_mode=True,\n",
    "#                            **patch_kw)"
   ]
  },
  {
   "cell_type": "code",
   "execution_count": null,
   "metadata": {
    "scrolled": false
   },
   "outputs": [],
   "source": [
    "noisy = rec_vol_filtered[int(rec_vol_filtered.shape[0]*0.75)].astype('float64')\n",
    "noisy = resize(noisy, (noisy.shape[0]//1, noisy.shape[1]//1))\n",
    "# noisy = rec_vol_filtered[int(rec_vol_filtered.shape[0]*0.75)][::1,::1]\n",
    "sigma_est = np.mean(estimate_sigma(noisy, multichannel=False))\n",
    "print(\"estimated noise standard deviation = {}\".format(sigma_est))\n",
    "\n",
    "patch_kw = dict(patch_size=7,      # 5x5 patches\n",
    "                patch_distance=15,  # 13x13 search area\n",
    "                multichannel=False)\n",
    "\n",
    "# 1 algorithm\n",
    "denoise = denoise_nl_means(noisy, h=1.5 * sigma_est, fast_mode=True,\n",
    "                           **patch_kw)\n",
    "\n",
    "\n",
    "\n",
    "# 2 algorithm\n",
    "denoise_fast = denoise_nl_means(noisy,  h=0.8 * sigma_est, fast_mode=True,\n",
    "                                **patch_kw)\n",
    "\n",
    "\n",
    "plt.figure(figsize=(15, 30))\n",
    "plt.subplot(311)\n",
    "plt.imshow(noisy, interpolation='bilinear')\n",
    "plt.axis('off')\n",
    "plt.colorbar()\n",
    "plt.title('noisy')\n",
    "\n",
    "plt.subplot(312)\n",
    "plt.imshow(denoise, interpolation='bilinear')\n",
    "plt.axis('off')\n",
    "plt.colorbar()\n",
    "plt.title('non-local means\\n(1)')\n",
    "\n",
    "plt.subplot(313)\n",
    "plt.imshow(denoise_fast, interpolation='bilinear')\n",
    "plt.axis('off')\n",
    "plt.colorbar()\n",
    "plt.title('non-local means\\n(2)')\n",
    "\n",
    "plt.show()\n",
    "\n",
    "plt.figure(figsize=(15, 30))\n",
    "plt.subplot(321)\n",
    "plt.imshow(noisy, interpolation='bilinear')\n",
    "plt.axis('off')\n",
    "plt.colorbar()\n",
    "plt.title('noisy')\n",
    "\n",
    "plt.subplot(322)\n",
    "plt.hist(noisy.ravel(), bins=100);\n",
    "plt.grid()\n",
    "\n",
    "plt.subplot(323)\n",
    "plt.imshow(denoise, interpolation='bilinear')\n",
    "plt.axis('off')\n",
    "plt.colorbar()\n",
    "plt.title('non-local means\\n(1)')\n",
    "\n",
    "plt.subplot(324)\n",
    "plt.hist(denoise.ravel(), bins=100);\n",
    "plt.grid()\n",
    "\n",
    "plt.subplot(325)\n",
    "plt.imshow(denoise_fast, interpolation='bilinear')\n",
    "plt.axis('off')\n",
    "plt.colorbar()\n",
    "plt.title('non-local means\\n(2)')\n",
    "\n",
    "plt.subplot(326)\n",
    "plt.hist(denoise_fast.ravel(), bins=100);\n",
    "plt.grid()\n",
    "\n",
    "plt.show()"
   ]
  },
  {
   "cell_type": "code",
   "execution_count": null,
   "metadata": {
    "collapsed": true
   },
   "outputs": [],
   "source": [
    "# def denoise_slice(args):\n",
    "#     rec_vol_filtered, slice_number = agrs\n",
    "#     noisy = rec_vol_filtered[slice_number]\n",
    "#     sigma_est = np.mean(estimate_sigma(noisy, multichannel=False))\n",
    "#     patch_kw = dict(patch_size=3,      # 5x5 patches\n",
    "#                 patch_distance=7,  # 13x13 search area\n",
    "#                 multichannel=False)\n",
    "\n",
    "#     denoise = denoise_nl_means(noisy, h=1.2 * sigma_est, fast_mode=True,\n",
    "#                            **patch_kw)\n",
    "#     rec_vol_filtered[slice_number] = noisy\n",
    "    \n",
    "# from multiprocessing import Pool, cpu_count\n",
    "# p = Pool(processes=cpu_count())\n",
    "# p.map(denoise_slice,[(rec_vol_filtered, i) for i in range(rec_vol_filtered.shape[0])])"
   ]
  },
  {
   "cell_type": "code",
   "execution_count": null,
   "metadata": {
    "collapsed": true
   },
   "outputs": [],
   "source": [
    "def save_amira(in_array, out_path, reshape=3):\n",
    "    data_path = out_path\n",
    "    with open(os.path.join(data_path, 'amira.raw'), 'wb') as amira_file:\n",
    "        in_array[::reshape,::reshape,::reshape].tofile(amira_file)\n",
    "#         resize(in_array, (noisy.shape[0]//reshape, noisy.shape[1]//reshape))\n",
    "        file_shape = in_array[::reshape,::reshape,::reshape].shape\n",
    "        with open(os.path.join(data_path, 'tomo.hx'), 'w') as af:\n",
    "                af.write('# Amira Script\\n')\n",
    "                af.write('remove -all\\n')\n",
    "                af.write(r'[ load -raw ${SCRIPTDIR}/amira.raw little xfastest float 1 '+\n",
    "                         str(file_shape[1])+' '+str(file_shape[2])+' '+str(file_shape[0])+\n",
    "                         ' 0 '+str(file_shape[1]-1)+' 0 '+str(file_shape[2]-1)+' 0 '+str(file_shape[0]-1)+\n",
    "                         ' ] setLabel tomo.raw\\n')\n"
   ]
  },
  {
   "cell_type": "code",
   "execution_count": null,
   "metadata": {
    "collapsed": true
   },
   "outputs": [],
   "source": [
    "save_amira(rec_vol_filtered, tmp_dir)"
   ]
  },
  {
   "cell_type": "code",
   "execution_count": null,
   "metadata": {
    "collapsed": true
   },
   "outputs": [],
   "source": [
    "storage_dir = '/diskmnt/a/makov/robotom/'"
   ]
  },
  {
   "cell_type": "code",
   "execution_count": null,
   "metadata": {
    "collapsed": true
   },
   "outputs": [],
   "source": [
    "files_to_remove =  ['data_images_clear.tmp','data_images_masked.tmp',\n",
    "                    'empty_images_masked.tmp',\n",
    "                    'uniq_data_images.tmp','sinogram.tmp',\n",
    "                    'group_empty.tmp','group_empty_angles.tmp',\n",
    "                    'group_dark.tmp','group_dark_angles.tmp',\n",
    "                    'group_data.tmp','group_data_angles.tmp',\n",
    "                    'rec.tmp', 'rec_filtered.tmp',\n",
    "                    'sinogram_fixed.tmp', 'uniq_angles.tmp']\n",
    "for fr in files_to_remove:\n",
    "    try:\n",
    "        os.remove(os.path.join(tmp_dir,fr))\n",
    "    except:\n",
    "        pass\n",
    "    try:\n",
    "        os.remove(os.path.join(tmp_dir,fr+'.size'))\n",
    "    except:\n",
    "        pass\n"
   ]
  },
  {
   "cell_type": "code",
   "execution_count": null,
   "metadata": {
    "collapsed": true
   },
   "outputs": [],
   "source": [
    "tomotools.mkdir_p(os.path.join(storage_dir, experiment_id))"
   ]
  },
  {
   "cell_type": "code",
   "execution_count": null,
   "metadata": {
    "collapsed": true
   },
   "outputs": [],
   "source": [
    "!cp 'tomo.ini'  {os.path.join(storage_dir, experiment_id)}"
   ]
  },
  {
   "cell_type": "code",
   "execution_count": null,
   "metadata": {
    "collapsed": true
   },
   "outputs": [],
   "source": [
    "!cp -r {os.path.join(data_dir, experiment_id)} {storage_dir}"
   ]
  },
  {
   "cell_type": "code",
   "execution_count": null,
   "metadata": {
    "collapsed": true
   },
   "outputs": [],
   "source": [
    "!rm -rf {os.path.join(data_dir, experiment_id)}"
   ]
  },
  {
   "cell_type": "code",
   "execution_count": null,
   "metadata": {
    "collapsed": true
   },
   "outputs": [],
   "source": [
    "!mv {os.path.join(data_dir, experiment_id+'.h5')} {storage_dir}"
   ]
  },
  {
   "cell_type": "code",
   "execution_count": null,
   "metadata": {
    "collapsed": true
   },
   "outputs": [],
   "source": []
  }
 ],
 "metadata": {
  "anaconda-cloud": {},
  "kernelspec": {
   "display_name": "Python 3",
   "language": "python",
   "name": "python3"
  },
  "language_info": {
   "codemirror_mode": {
    "name": "ipython",
    "version": 3
   },
   "file_extension": ".py",
   "mimetype": "text/x-python",
   "name": "python",
   "nbconvert_exporter": "python",
   "pygments_lexer": "ipython3",
   "version": "3.6.2"
  },
  "widgets": {
   "state": {
    "024e7ee72bda4d7d8fc579678bb7aa47": {
     "views": [
      {
       "cell_index": 7
      }
     ]
    },
    "3ca1d18f62ac4971bd372c8eb63dd777": {
     "views": [
      {
       "cell_index": 7
      }
     ]
    },
    "4935c1050ad043a2b08a41cd95fddd70": {
     "views": [
      {
       "cell_index": 27
      }
     ]
    },
    "64f990374a504773b714bf77b8f89cf9": {
     "views": [
      {
       "cell_index": 49
      }
     ]
    },
    "64fdfaab7ce646d386d585111e1f67c4": {
     "views": [
      {
       "cell_index": 7
      }
     ]
    },
    "6873cf27b0c345158e17f6e64eb85f9f": {
     "views": [
      {
       "cell_index": 7
      }
     ]
    },
    "68dbb3a428ba48a287dd731725f9e3e4": {
     "views": [
      {
       "cell_index": 7
      }
     ]
    },
    "9492ef2190e541049b54df491c1892f1": {
     "views": [
      {
       "cell_index": 7
      }
     ]
    },
    "c4d6ab80c2204b22a09811f3cfa49f02": {
     "views": [
      {
       "cell_index": 7
      }
     ]
    },
    "e2ec830883244b4185ecb629719a23c5": {
     "views": [
      {
       "cell_index": 7
      }
     ]
    }
   },
   "version": "1.2.0"
  }
 },
 "nbformat": 4,
 "nbformat_minor": 1
}
