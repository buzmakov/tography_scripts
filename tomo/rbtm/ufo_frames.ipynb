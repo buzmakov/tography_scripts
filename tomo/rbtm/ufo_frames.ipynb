{
 "cells": [
  {
   "cell_type": "code",
   "execution_count": null,
   "metadata": {
    "collapsed": true
   },
   "outputs": [],
   "source": [
    "%matplotlib inline"
   ]
  },
  {
   "cell_type": "code",
   "execution_count": null,
   "metadata": {
    "collapsed": true
   },
   "outputs": [],
   "source": [
    "import numpy as np\n",
    "import pylab as plt\n",
    "import h5py\n",
    "from glob import glob\n",
    "import os\n",
    "from skimage.filters import median\n",
    "import cv2"
   ]
  },
  {
   "cell_type": "code",
   "execution_count": null,
   "metadata": {
    "collapsed": true
   },
   "outputs": [],
   "source": [
    "def log_progress(sequence, every=None, size=None, name='Items'):\n",
    "    from ipywidgets import IntProgress, HTML, VBox\n",
    "    from IPython.display import display\n",
    "\n",
    "    is_iterator = False\n",
    "    if size is None:\n",
    "        try:\n",
    "            size = len(sequence)\n",
    "        except TypeError:\n",
    "            is_iterator = True\n",
    "    if size is not None:\n",
    "        if every is None:\n",
    "            if size <= 200:\n",
    "                every = 1\n",
    "            else:\n",
    "                every = int(size / 200)     # every 0.5%\n",
    "    else:\n",
    "        assert every is not None, 'sequence is iterator, set every'\n",
    "\n",
    "    if is_iterator:\n",
    "        progress = IntProgress(min=0, max=1, value=1)\n",
    "        progress.bar_style = 'info'\n",
    "    else:\n",
    "        progress = IntProgress(min=0, max=size, value=0)\n",
    "    label = HTML()\n",
    "    box = VBox(children=[label, progress])\n",
    "    display(box)\n",
    "\n",
    "    index = 0\n",
    "    try:\n",
    "        for index, record in enumerate(sequence, 1):\n",
    "            if index == 1 or index % every == 0:\n",
    "                if is_iterator:\n",
    "                    label.value = '{name}: {index} / ?'.format(\n",
    "                        name=name,\n",
    "                        index=index\n",
    "                    )\n",
    "                else:\n",
    "                    progress.value = index\n",
    "                    label.value = u'{name}: {index} / {size}'.format(\n",
    "                        name=name,\n",
    "                        index=index,\n",
    "                        size=size\n",
    "                    )\n",
    "            yield record\n",
    "    except:\n",
    "        progress.bar_style = 'danger'\n",
    "        raise\n",
    "    else:\n",
    "        progress.bar_style = 'success'\n",
    "        progress.value = index\n",
    "        label.value = \"{name}: {index}\".format(\n",
    "            name=name,\n",
    "            index=str(index or '?')\n",
    "        )"
   ]
  },
  {
   "cell_type": "code",
   "execution_count": null,
   "metadata": {
    "collapsed": true
   },
   "outputs": [],
   "source": [
    "ufo_dir = '/diskmnt/a/makov/tomo_data/ufo/test/raw/'\n",
    "files = glob(os.path.join(ufo_dir, '*.raw'))"
   ]
  },
  {
   "cell_type": "code",
   "execution_count": null,
   "metadata": {},
   "outputs": [],
   "source": [
    "def read_file(file_path):\n",
    "    frames = np.fromfile(file_path, dtype='<u2')\n",
    "    x = frames.reshape(-1,3840, 5120)\n",
    "    x = np.mean(x, axis=0).astype(np.float32)\n",
    "    x = cv2.medianBlur(x,3)\n",
    "    return x\n",
    "\n",
    "with h5py.File('frames.h5') as h5f:\n",
    "    for frame_file in log_progress(files):\n",
    "        try:\n",
    "            x = read_file(frame_file)\n",
    "            name = os.path.split(frame_file)[-1].split('.')[0]\n",
    "            h5f[name] = x\n",
    "        except Exception as e:\n",
    "            print(e)"
   ]
  },
  {
   "cell_type": "code",
   "execution_count": null,
   "metadata": {
    "collapsed": true,
    "scrolled": false
   },
   "outputs": [],
   "source": [
    "with h5py.File('frames.h5') as h5f:\n",
    "    empty_keys = [k for k in h5f if k.endswith('_e') if not k == 'mult2_e']\n",
    "    empty = None\n",
    "    \n",
    "    for ek in empty_keys:\n",
    "        t = h5f[ek].value\n",
    "        if empty is None:\n",
    "            empty = t\n",
    "        else:\n",
    "            empty += t\n",
    "            \n",
    "#         plt.figure(figsize=(10,10))\n",
    "#         plt.imshow(t)\n",
    "#         plt.title(ek)\n",
    "#         plt.colorbar(orientation = 'horizontal')\n",
    "#         plt.show()\n",
    "    \n",
    "    empty /= len(empty_keys)\n",
    "    \n",
    "    dark_keys = [k for k in h5f if k.endswith('_d')]\n",
    "    \n",
    "    dark = None\n",
    "    for dk in dark_keys:\n",
    "        t = h5f[dk].value\n",
    "        if dark is None:\n",
    "            dark = t\n",
    "        else:\n",
    "            dark += t\n",
    "            \n",
    "#         plt.figure(figsize=(10,10))\n",
    "#         plt.imshow(t)\n",
    "#         plt.title(dk)\n",
    "#         plt.colorbar(orientation = 'horizontal')\n",
    "#         plt.show()\n",
    "    \n",
    "    dark /= len(dark_keys)\n"
   ]
  },
  {
   "cell_type": "code",
   "execution_count": null,
   "metadata": {
    "collapsed": true
   },
   "outputs": [],
   "source": [
    "with h5py.File('frames.h5') as h5f:\n",
    "    data_keys = [k for k in h5f if not k.endswith('_e') if not k.endswith('_d')]\n",
    "#     print(list(data_keys))\n",
    "    \n",
    "    data_frames = {}\n",
    "    for dk in data_keys:\n",
    "        data_frames[int(dk[4:])] = h5f[dk].value"
   ]
  },
  {
   "cell_type": "code",
   "execution_count": null,
   "metadata": {},
   "outputs": [],
   "source": [
    "for k, v in data_frames.items():\n",
    "    plt.imsave('{:003}.png'.format(k),\n",
    "               np.rot90((data_frames[k]-dark)/(empty-dark), 3)[1000:4500,500:3000],\n",
    "               vmin=0, vmax=1, cmap='gray')"
   ]
  },
  {
   "cell_type": "code",
   "execution_count": null,
   "metadata": {},
   "outputs": [],
   "source": [
    "plt.figure(figsize=(10,10))\n",
    "plt.imshow(empty)\n",
    "plt.title('empty')\n",
    "plt.colorbar(orientation = 'horizontal')\n"
   ]
  },
  {
   "cell_type": "code",
   "execution_count": null,
   "metadata": {},
   "outputs": [],
   "source": [
    "plt.figure(figsize=(10,10))\n",
    "plt.imshow(dark)\n",
    "plt.title('dark')\n",
    "plt.colorbar(orientation = 'horizontal')\n"
   ]
  },
  {
   "cell_type": "code",
   "execution_count": null,
   "metadata": {},
   "outputs": [],
   "source": [
    "plt.figure(figsize=(10,10))\n",
    "plt.imshow(empty-dark)\n",
    "plt.title('empty-dark')\n",
    "plt.colorbar(orientation = 'horizontal')\n"
   ]
  },
  {
   "cell_type": "code",
   "execution_count": null,
   "metadata": {
    "collapsed": true
   },
   "outputs": [],
   "source": []
  }
 ],
 "metadata": {
  "kernelspec": {
   "display_name": "Python 3",
   "language": "python",
   "name": "python3"
  },
  "language_info": {
   "codemirror_mode": {
    "name": "ipython",
    "version": 3
   },
   "file_extension": ".py",
   "mimetype": "text/x-python",
   "name": "python",
   "nbconvert_exporter": "python",
   "pygments_lexer": "ipython3",
   "version": "3.6.2"
  }
 },
 "nbformat": 4,
 "nbformat_minor": 2
}
