{
 "cells": [
  {
   "cell_type": "code",
   "execution_count": null,
   "metadata": {
    "collapsed": false
   },
   "outputs": [],
   "source": [
    "%matplotlib inline"
   ]
  },
  {
   "cell_type": "code",
   "execution_count": null,
   "metadata": {
    "collapsed": false
   },
   "outputs": [],
   "source": [
    "import os\n",
    "import json\n",
    "\n",
    "import numpy as np\n",
    "from scipy.ndimage import median_filter\n",
    "import pylab as plt\n",
    "\n",
    "import h5py\n",
    "import cv2\n",
    "\n",
    "from pprint import pprint\n",
    "from glob import glob\n",
    "\n",
    "import dask.array as da\n",
    "\n",
    "import sys\n",
    "sys.path.insert(0, '/opt/usr/python/')\n",
    "import astra\n",
    "import time"
   ]
  },
  {
   "cell_type": "code",
   "execution_count": null,
   "metadata": {
    "collapsed": true
   },
   "outputs": [],
   "source": [
    "from scipy.ndimage import median_filter"
   ]
  },
  {
   "cell_type": "code",
   "execution_count": null,
   "metadata": {
    "collapsed": false
   },
   "outputs": [],
   "source": [
    "from tomopy.misc.corr import remove_ring"
   ]
  },
  {
   "cell_type": "code",
   "execution_count": null,
   "metadata": {
    "collapsed": false
   },
   "outputs": [],
   "source": [
    "plt.viridis();"
   ]
  },
  {
   "cell_type": "code",
   "execution_count": null,
   "metadata": {
    "collapsed": true
   },
   "outputs": [],
   "source": [
    "def log_progress(sequence, every=None, size=None):\n",
    "    from ipywidgets import IntProgress, HTML, VBox\n",
    "    from IPython.display import display\n",
    "\n",
    "    is_iterator = False\n",
    "    if size is None:\n",
    "        try:\n",
    "            size = len(sequence)\n",
    "        except TypeError:\n",
    "            is_iterator = True\n",
    "    if size is not None:\n",
    "        if every is None:\n",
    "            if size <= 200:\n",
    "                every = 1\n",
    "            else:\n",
    "                every = size / 200     # every 0.5%\n",
    "    else:\n",
    "        assert every is not None, 'sequence is iterator, set every'\n",
    "\n",
    "    if is_iterator:\n",
    "        progress = IntProgress(min=0, max=1, value=1)\n",
    "        progress.bar_style = 'info'\n",
    "    else:\n",
    "        progress = IntProgress(min=0, max=size, value=0)\n",
    "    label = HTML()\n",
    "    box = VBox(children=[label, progress])\n",
    "    display(box)\n",
    "\n",
    "    index = 0\n",
    "    try:\n",
    "        for index, record in enumerate(sequence, 1):\n",
    "            if index == 1 or index % every == 0:\n",
    "                if is_iterator:\n",
    "                    label.value = '{index} / ?'.format(index=index)\n",
    "                else:\n",
    "                    progress.value = index\n",
    "                    label.value = u'{index} / {size}'.format(\n",
    "                        index=index,\n",
    "                        size=size\n",
    "                    )\n",
    "            yield record\n",
    "    except:\n",
    "        progress.bar_style = 'danger'\n",
    "        raise\n",
    "    else:\n",
    "        progress.bar_style = 'success'\n",
    "        progress.value = index\n",
    "        label.value = unicode(index or '?')"
   ]
  },
  {
   "cell_type": "code",
   "execution_count": null,
   "metadata": {
    "collapsed": true
   },
   "outputs": [],
   "source": [
    "import errno    \n",
    "import os\n",
    "\n",
    "\n",
    "def mkdir_p(path):\n",
    "    try:\n",
    "        os.makedirs(path)\n",
    "    except OSError as exc:  # Python >2.5\n",
    "        if exc.errno == errno.EEXIST and os.path.isdir(path):\n",
    "            pass\n",
    "        else:\n",
    "            raise"
   ]
  },
  {
   "cell_type": "code",
   "execution_count": null,
   "metadata": {
    "collapsed": false
   },
   "outputs": [],
   "source": [
    "# file_id = 'a789cd0f-f718-4ff2-9f89-01b015cd13c8'\n",
    "# file_id = '8eee41d5-8c4e-49d8-a496-898200bed0d5'\n",
    "# file_id = '5e233c53-2925-4774-b680-0d71f73eb8e1'\n",
    "# file_id = 'f3e80ec9-324f-41bb-a93e-605bcbbcde98'\n",
    "# file_id = '1032b444-3eeb-4b30-90c6-64f571dc25de'\n",
    "# file_id = '7efa3f65-ec22-4981-a0dd-40797b15db69'\n",
    "# file_id = 'e6fe4ea1-79ef-47bc-bc06-d1d62c4fa03d'\n",
    "file_id = 'c69910c3-df64-4957-9d06-b1655957e174'  # hand_113_17_40\n",
    "# file_id = '294e75e0-b24c-4c22-8bfa-79fb9d98bcfa'  # hand_113_15_40\n",
    "data_dir = '/diskmnt/fast/makov/robotom/'\n",
    "tmp_dir = os.path.join(data_dir, file_id)\n",
    "mkdir_p(tmp_dir)\n",
    "data_file = os.path.join(data_dir, file_id+'.h5')\n",
    "if not os.path.isfile(data_file):\n",
    "    !wget  http://10.0.7.153:5006/storage/experiments/{file_id}/hdf5 -O {data_file}"
   ]
  },
  {
   "cell_type": "code",
   "execution_count": null,
   "metadata": {
    "collapsed": false
   },
   "outputs": [],
   "source": [
    "def check_data(data_file):\n",
    "    \"\"\"\n",
    "    lad data and show intesity\n",
    "    \"\"\"\n",
    "    frame_count = len(h5py.File(data_file,'r')['data'])\n",
    "    print frame_count\n",
    "    s=[]\n",
    "    with h5py.File(data_file,'r') as h5f:\n",
    "         for k,v in log_progress(h5f['data'].items()):\n",
    "    #         x = v.value\n",
    "            s.append([int(k), np.sum(np.log(v.value+1))])\n",
    "            del v\n",
    "            \n",
    "    y = [d[1] for d in s]\n",
    "    x = [d[0] for d in s]\n",
    "    plt.figure(figsize=(7,5))\n",
    "    plt.plot(x,y,'o')\n",
    "    # plt.gca().set_ylim([np.min(y)*0.9,np.max(y)*1.05])\n",
    "    plt.grid(True)\n",
    "    plt.ylabel('Frame number')\n",
    "    plt.ylabel('Total intensity')\n",
    "    plt.show()"
   ]
  },
  {
   "cell_type": "code",
   "execution_count": null,
   "metadata": {
    "collapsed": false
   },
   "outputs": [],
   "source": [
    "# check_data(data_file)"
   ]
  },
  {
   "cell_type": "code",
   "execution_count": null,
   "metadata": {
    "collapsed": false
   },
   "outputs": [],
   "source": [
    "def get_frame_group(data_file, group_name, mmap_file_dir = None):\n",
    "    with h5py.File(data_file,'r') as h5f:\n",
    "        images_count = len(h5f[group_name])\n",
    "        images = None\n",
    "        file_number = 0\n",
    "        angles = None\n",
    "        for k,v in log_progress(h5f[group_name].items()):\n",
    "            if images is None:\n",
    "                if mmap_file_dir is None:\n",
    "                    images = np.zeros(shape=(images_count, v.shape[1], v.shape[0]), dtype='float32')\n",
    "                else:\n",
    "                    images = np.memmap(\n",
    "                        os.path.join(mmap_file_dir,'group_'+group_name+'.tmp'),\n",
    "                        mode=\"w+\",\n",
    "                        shape=(images_count, v.shape[1], v.shape[0]),\n",
    "                        dtype='float32')\n",
    "            if angles is None:\n",
    "                angles = np.zeros(shape=(images_count,), dtype='float32')\n",
    "                \n",
    "            attributes = json.loads(v.attrs.items()[0][1])[0]\n",
    "            exposure = attributes['frame']['image_data']['exposure']\n",
    "            angles[file_number] = attributes['frame']['object']['angle position']\n",
    "            tmp_image = np.flipud(v.value.astype('float32').swapaxes(0,1))\n",
    "#             tmp_image = median_filter(tmp_image,3)\n",
    "            tmp_image = cv2.medianBlur(tmp_image,3)\n",
    "            images[file_number] = tmp_image / exposure\n",
    "            file_number = file_number + 1\n",
    "    return images, angles"
   ]
  },
  {
   "cell_type": "code",
   "execution_count": null,
   "metadata": {
    "collapsed": false
   },
   "outputs": [],
   "source": [
    "empty_images, _ = get_frame_group(data_file, 'empty', tmp_dir)\n",
    "dark_images, _ = get_frame_group(data_file, 'dark', tmp_dir)\n",
    "# считаем среднее значение\n",
    "empty_image = empty_images.sum(axis=0)/len(empty_images)\n",
    "dark_image = dark_images.sum(axis=0)/len(empty_images)\n",
    "\n",
    "# Загружаем кадры с даннымии\n",
    "#TODO: добавить поддержку, когда много кадров на одном угле\n",
    "data_images, data_angles = get_frame_group(data_file, 'data', tmp_dir)\n",
    "\n",
    "#TODO: Fix it hack\n",
    "data_indexes = (data_angles-data_angles.min())<181\n",
    "data_images_croped = np.memmap(\n",
    "                        os.path.join(tmp_dir,'data_images_croped.tmp'),\n",
    "                        mode=\"w+\",\n",
    "                        shape=(data_indexes.sum(),\n",
    "                               data_images.shape[1],\n",
    "                               data_images.shape[2]),dtype='float32')\n",
    "data_angles_croped = np.memmap(\n",
    "                        os.path.join(tmp_dir,'data_angles_croped.tmp'),\n",
    "                        mode=\"w+\",\n",
    "                        shape=(data_indexes.sum(),),\n",
    "                    dtype='float32')\n",
    "\n",
    "pos = 0\n",
    "for edi, di in enumerate(data_indexes):    \n",
    "    if di:\n",
    "        data_images_croped[pos] = data_images[edi]\n",
    "        data_angles_croped[pos] = data_angles[edi]\n",
    "        pos = pos+1\n",
    "\n",
    "empty_beam = empty_image-dark_image\n",
    "\n",
    "mask = empty_beam > 0.01\n",
    "\n",
    "del data_images\n",
    "del data_angles\n",
    "del empty_images\n",
    "del dark_images"
   ]
  },
  {
   "cell_type": "code",
   "execution_count": null,
   "metadata": {
    "collapsed": false
   },
   "outputs": [],
   "source": [
    "plt.plot(data_angles_croped-data_angles_croped.min())"
   ]
  },
  {
   "cell_type": "code",
   "execution_count": null,
   "metadata": {
    "collapsed": false
   },
   "outputs": [],
   "source": [
    "plt.figure(figsize=(10,10))\n",
    "plt.subplot(221)\n",
    "plt.imshow(empty_image, vmin=0)\n",
    "plt.colorbar(orientation='horizontal')\n",
    "plt.title('Empty beam')\n",
    "\n",
    "plt.subplot(222)\n",
    "plt.imshow(dark_image, vmin=0)\n",
    "plt.colorbar(orientation='horizontal')\n",
    "plt.title('Dark beam')\n",
    "\n",
    "\n",
    "plt.subplot(223)\n",
    "plt.imshow(empty_beam, vmin=0)\n",
    "plt.colorbar(orientation='horizontal')\n",
    "plt.title('Empty-Dark beam')\n",
    "\n",
    "\n",
    "plt.subplot(224)\n",
    "plt.imshow(mask)\n",
    "plt.colorbar(orientation='horizontal')\n",
    "plt.title('Mask')\n",
    "#TODO: Check thresshold automaticaly\n",
    "# plt.plot([sum(empty_beam > i) for i in np.arange(100)])"
   ]
  },
  {
   "cell_type": "code",
   "execution_count": null,
   "metadata": {
    "collapsed": false
   },
   "outputs": [],
   "source": [
    "# # try find automatic threshold for mask\n",
    "# x_range = np.arange(0,0.2,0.01)\n",
    "# plt.plot(x_range, [(empty_beam > x).sum().astype('float32')/np.prod(empty_beam.shape) for x in x_range])"
   ]
  },
  {
   "cell_type": "code",
   "execution_count": null,
   "metadata": {
    "collapsed": false
   },
   "outputs": [],
   "source": [
    "def crop_mask(mask, up, bottom, left, right):\n",
    "    threshold = 100\n",
    "    mask_x_profile = mask.sum(axis=1)\n",
    "    mask_x_min = np.argwhere(mask_x_profile>threshold).min()+up # up border\n",
    "    mask_x_max = np.argwhere(mask_x_profile>threshold).max()-bottom # bottom border\n",
    "\n",
    "    mask_y_profile = mask.sum(axis=0)\n",
    "    mask_y_min = np.argwhere(mask_y_profile>threshold).min()+left # left border\n",
    "    mask_y_max = np.argwhere(mask_y_profile>threshold).max()-right # right border\n",
    "    return  mask_x_min, mask_x_max, mask_y_min, mask_y_max"
   ]
  },
  {
   "cell_type": "code",
   "execution_count": null,
   "metadata": {
    "collapsed": false
   },
   "outputs": [],
   "source": [
    "mask_x_min, mask_x_max, mask_y_min, mask_y_max = crop_mask(mask, 700, 700, 10, 10)\n",
    "\n",
    "mask_new = np.copy(mask[mask_x_min:mask_x_max,mask_y_min:mask_y_max])\n",
    "empty_beam = empty_beam[mask_x_min:mask_x_max,mask_y_min:mask_y_max]\n",
    "dark_image = dark_image[mask_x_min:mask_x_max,mask_y_min:mask_y_max]\n",
    "## FIX IT\n",
    "data_images = data_images[:, mask_x_min:mask_x_max,mask_y_min:mask_y_max]\n",
    "\n",
    "plt.imshow(data_images[0])\n",
    "plt.colorbar(orientation='horizontal')"
   ]
  },
  {
   "cell_type": "code",
   "execution_count": null,
   "metadata": {
    "collapsed": false
   },
   "outputs": [],
   "source": [
    "def group_data(data_images,data_angles,  mmap_file_dir = None):\n",
    "    uniq_angles = list(set(data_angles))\n",
    "    if mmap_file_dir is None:\n",
    "        uniq_data_images = np.zeros(shape=(len(uniq_angles), data_images.shape[1], data_images.shape[2]),\n",
    "                               dtype=np.float32)\n",
    "    else:\n",
    "        uniq_data_image = np.memmap(\n",
    "            os.path.join(mmap_file_dir,'uniq_data_images.tmp'),\n",
    "            mode=\"w+\",\n",
    "            shape=(len(uniq_angles), data_images.shape[1], data_images.shape[2]),\n",
    "            dtype='float32')\n",
    "\n",
    "    for ua_id, ua in enumerate(uniq_angles):\n",
    "        indexes = np.argwhere(data_angles==uniq_angles[ua_id])\n",
    "        if len(indexes)>1:\n",
    "            tmp_images = data_images[indexes]\n",
    "            tmp_images = np.squeeze(tmp_images)\n",
    "            mean_image = np.mean(tmp_images, axis=0)\n",
    "            uniq_data_images[ua_id] = mean_image\n",
    "        else:\n",
    "            uniq_data_images[ua_id]=data_images[indexes]\n",
    "    return uniq_data_images, uniq_angles\n",
    "\n",
    "uniq_data_images, uniq_angles = group_data(data_images, data_angles, tmp_dir)"
   ]
  },
  {
   "cell_type": "code",
   "execution_count": null,
   "metadata": {
    "collapsed": false
   },
   "outputs": [],
   "source": [
    "plt.figure(figsize=(7,7))\n",
    "plt.imshow(uniq_data_images[1], vmax=0.2)\n",
    "plt.colorbar()"
   ]
  },
  {
   "cell_type": "code",
   "execution_count": null,
   "metadata": {
    "collapsed": false
   },
   "outputs": [],
   "source": [
    "# remove dark current from data frames and remove min/max values\n",
    "# data_beam = data_images - dark_image\n",
    "data_beam = uniq_data_images - dark_image\n",
    "data_beam[data_beam <= 0] = 1e-9\n",
    "empty_beam[empty_beam <= 0] = 1e-9"
   ]
  },
  {
   "cell_type": "code",
   "execution_count": null,
   "metadata": {
    "collapsed": false
   },
   "outputs": [],
   "source": [
    "plt.figure(figsize=(7,7))\n",
    "plt.imshow(data_beam[1], vmax=0.2)\n",
    "plt.colorbar()"
   ]
  },
  {
   "cell_type": "code",
   "execution_count": null,
   "metadata": {
    "collapsed": true
   },
   "outputs": [],
   "source": [
    "%xdel data_images\n",
    "%xdel uniq_data_images"
   ]
  },
  {
   "cell_type": "code",
   "execution_count": null,
   "metadata": {
    "collapsed": false
   },
   "outputs": [],
   "source": [
    "#normalize data frames and calculate sinograms\n",
    "data_beam/=empty_beam\n",
    "# data_beam*=mask_new\n",
    "data_beam[data_beam>1] = 1\n",
    "# data_beam[np.isclose(data_beam,0)] = 1\n",
    "data_beam[data_beam<1e-8] = 1e-8"
   ]
  },
  {
   "cell_type": "code",
   "execution_count": null,
   "metadata": {
    "collapsed": false
   },
   "outputs": [],
   "source": [
    "plt.figure(figsize=(7,5))\n",
    "plt.imshow(data_beam[1])\n",
    "plt.colorbar()"
   ]
  },
  {
   "cell_type": "code",
   "execution_count": null,
   "metadata": {
    "collapsed": true
   },
   "outputs": [],
   "source": [
    "sinogram = -np.log(data_beam)"
   ]
  },
  {
   "cell_type": "code",
   "execution_count": null,
   "metadata": {
    "collapsed": false
   },
   "outputs": [],
   "source": [
    "%xdel data_beam"
   ]
  },
  {
   "cell_type": "code",
   "execution_count": null,
   "metadata": {
    "collapsed": false
   },
   "outputs": [],
   "source": [
    "tmp_sinogram = sinogram[np.argsort(uniq_angles),:,sinogram.shape[-1]/2 ]\n",
    "\n",
    "plt.figure(figsize=(10,10))\n",
    "plt.imshow(tmp_sinogram, cmap=plt.cm.viridis)\n",
    "plt.axis('tight')\n",
    "plt.colorbar(orientation='horizontal')"
   ]
  },
  {
   "cell_type": "code",
   "execution_count": null,
   "metadata": {
    "collapsed": false
   },
   "outputs": [],
   "source": [
    "# seraching detector rotation angle\n",
    "zero_angle = np.min(uniq_angles)\n",
    "position_0 = np.argwhere(np.isclose(uniq_angles, zero_angle, atol=0.05))[0][0]\n",
    "print uniq_angles[position_0], position_0\n",
    "\n",
    "position_180 = np.argwhere(np.isclose(uniq_angles, 180+zero_angle, atol=0.05))[0][0]\n",
    "print uniq_angles[position_180], position_180\n",
    "\n",
    "def cv_rotate(x, angle):\n",
    "    \"\"\"\n",
    "    Rotate square array using OpenCV2 around center of the array\n",
    "    :param x: 2d numpy array\n",
    "    :param angle: angle in degrees\n",
    "    :return: rotated array\n",
    "    \"\"\"\n",
    "    x_center = tuple(\n",
    "        np.array((x.shape[1], x.shape[0]), dtype='float32') / 2.0 - 0.5)\n",
    "    rot_mat = cv2.getRotationMatrix2D(x_center, angle, 1.0)\n",
    "    xro = cv2.warpAffine(\n",
    "        x, rot_mat, (x.shape[1], x.shape[0]), flags=cv2.INTER_LINEAR)\n",
    "    return xro\n",
    "\n",
    "\n",
    "data_0 = np.rot90(sinogram[position_0])\n",
    "data_180 = np.rot90(sinogram[position_180])"
   ]
  },
  {
   "cell_type": "code",
   "execution_count": null,
   "metadata": {
    "collapsed": false
   },
   "outputs": [],
   "source": [
    "plt.figure(figsize=(5,5))\n",
    "plt.plot(sorted(uniq_angles))\n",
    "plt.grid(True)\n",
    "plt.show()"
   ]
  },
  {
   "cell_type": "code",
   "execution_count": null,
   "metadata": {
    "collapsed": false
   },
   "outputs": [],
   "source": [
    "from scipy.optimize import minimize\n",
    "def f(x):\n",
    "    alfa= x[0]\n",
    "    shift = int(x[1])\n",
    "    if shift >= 0:\n",
    "        t = enp.fliplr(cv_rotate(data_180[:,shift:],alfa))-cv_rotate(data_0[:,shift:],alfa)\n",
    "    else:\n",
    "        t = np.fliplr(cv_rotate(data_180[:,:shift],alfa))-cv_rotate(data_0[:,shift],alfa)\n",
    "        \n",
    "    res = np.sum(t*t)/np.prod(t.shape)\n",
    "    return res\n",
    "\n",
    "def corr(x):\n",
    "    alfa= x[0]*10.\n",
    "    shift = int(x[1])\n",
    "    if shift >= 0:\n",
    "        t_180 = data_180[:,shift:]\n",
    "        t_0 = data_0[:,shift:]\n",
    "    else:\n",
    "        t_180 = data_180[:,:shift]\n",
    "        t_0 = data_0[:,:shift]\n",
    "    \n",
    "    \n",
    "#     t_mask = np.zeros_like(t_0)\n",
    "#     shape_min = np.min(t_mask.shape)\n",
    "#     r_mask = shape_min//2\n",
    "#     X,Y = np.meshgrid(np.arange(t_mask.shape[1])-t_mask.shape[1]//2,\n",
    "#                       np.arange(t_mask.shape[0])-t_mask.shape[0]//2)\n",
    "#     t_mask = X**2+Y**2<r_mask**2    \n",
    "    \n",
    "    tt_180 = np.fliplr(cv_rotate(t_180,alfa))\n",
    "    tt_180 = cv2.medianBlur(tt_180,5) #*t_mask\n",
    "    tt_0 = cv_rotate(t_0,alfa)\n",
    "    tt_0 = cv2.medianBlur(tt_0,5) #*t_mask\n",
    "    res = -np.correlate(tt_0.flat,tt_180.flat)\n",
    "#     TODO: add mask support \n",
    "#     res = -np.sum(tt_0*tt_180)/np.sqrt(np.sum(tt_0**2)*np.sum(tt_180**2))*np.prod(tt_0.shape) #*np.prod(t_mask.shape)\n",
    "    return res\n",
    "\n",
    "x0 = [0.1,-355]\n",
    "res= minimize(corr, x0, method='Nelder-Mead')\n",
    "print res"
   ]
  },
  {
   "cell_type": "code",
   "execution_count": null,
   "metadata": {
    "collapsed": false
   },
   "outputs": [],
   "source": [
    "alfa, shift = res.x[0]*10., int(res.x[1])\n",
    "\n",
    "if shift >= 0:\n",
    "    t_180 = data_180[:,shift:]\n",
    "    t_0 = data_0[:,shift:]\n",
    "else:\n",
    "    t_180 = data_180[:,:shift]\n",
    "    t_0 = data_0[:,:shift]\n",
    "    \n",
    "tt_180 = np.fliplr(cv_rotate(t_180,alfa))\n",
    "tt_0 = cv_rotate(t_0,alfa)\n",
    "    \n",
    "plt.figure(figsize=(15,15))\n",
    "plt.imshow(tt_180-tt_0, cmap=plt.cm.viridis)\n",
    "plt.title('a={}, s={}'.format(alfa,shift))\n",
    "plt.colorbar()\n",
    "plt.show()\n"
   ]
  },
  {
   "cell_type": "code",
   "execution_count": null,
   "metadata": {
    "collapsed": false
   },
   "outputs": [],
   "source": [
    "plt.figure(figsize=(15,15))\n",
    "plt.subplot(221)\n",
    "plt.imshow(data_0,cmap=plt.cm.viridis)\n",
    "plt.axis('tight')\n",
    "plt.colorbar(orientation='horizontal')\n",
    "plt.subplot(222)\n",
    "plt.imshow(data_180,cmap=plt.cm.viridis)\n",
    "plt.axis('tight')\n",
    "plt.colorbar(orientation='horizontal')\n",
    "plt.subplot(223)\n",
    "plt.imshow(np.fliplr(data_180),cmap=plt.cm.viridis)\n",
    "plt.axis('tight')\n",
    "plt.colorbar(orientation='horizontal')\n",
    "plt.subplot(224)\n",
    "# alfa = 0.1\n",
    "# shift = -77\n",
    "plt.imshow(tt_180-tt_0, cmap=plt.cm.viridis)\n",
    "plt.axis('tight')\n",
    "plt.colorbar(orientation='horizontal')"
   ]
  },
  {
   "cell_type": "code",
   "execution_count": null,
   "metadata": {
    "collapsed": false
   },
   "outputs": [],
   "source": [
    "sinogram_fixed = np.zeros(shape=(sinogram.shape[0], sinogram.shape[1]-abs(shift),sinogram.shape[2]),\n",
    "                                dtype='float32')\n",
    "#fix axis tlit\n",
    "for i in range(sinogram.shape[0]):\n",
    "    if shift >= 0:\n",
    "        t = cv_rotate(sinogram[i,shift:],alfa)\n",
    "    else:\n",
    "        t = cv_rotate(sinogram[i,:shift],alfa)\n",
    "    sinogram_fixed[i] = t\n",
    "%xdel sinogram"
   ]
  },
  {
   "cell_type": "code",
   "execution_count": null,
   "metadata": {
    "collapsed": false
   },
   "outputs": [],
   "source": [
    "s1 = np.require(sinogram_fixed[...,sinogram_fixed.shape[-1]/2],\n",
    "                dtype=np.float32, requirements=['C'])"
   ]
  },
  {
   "cell_type": "code",
   "execution_count": null,
   "metadata": {
    "collapsed": false
   },
   "outputs": [],
   "source": [
    "plt.figure(figsize=(10,10))\n",
    "plt.imshow(s1[np.argsort(uniq_angles)], cmap=plt.cm.viridis)\n",
    "plt.axis('tight')\n",
    "plt.colorbar()\n",
    "plt.show()"
   ]
  },
  {
   "cell_type": "code",
   "execution_count": null,
   "metadata": {
    "collapsed": false
   },
   "outputs": [],
   "source": [
    "# 3d case\n",
    "s1 = np.memmap(os.path.join(tmp_dir,'sinogram.tmp'),\n",
    "               mode='w+',\n",
    "               dtype=np.float32,\n",
    "               shape = sinogram_fixed.shape)\n",
    "\n",
    "s1[:] = sinogram_fixed\n",
    "np.save(os.path.join(tmp_dir,'sinogram_shape.npy'), s1.shape)\n",
    "np.save(os.path.join(tmp_dir,'angles.npy'), uniq_angles)\n",
    "del s1"
   ]
  },
  {
   "cell_type": "code",
   "execution_count": null,
   "metadata": {
    "collapsed": true
   },
   "outputs": [],
   "source": [
    "%xdel sinogram_fixed"
   ]
  },
  {
   "cell_type": "code",
   "execution_count": null,
   "metadata": {
    "collapsed": false
   },
   "outputs": [],
   "source": [
    "# rec_vol = np.memmap(os.path.join(tmp_dir,'rec.tmp'),\n",
    "#                mode='w+',\n",
    "#                dtype=np.float32,\n",
    "#                shape = (s1.shape[0],s1.shape[-1],s1.shape[-1]))\n",
    "# rec_vol[:] = 0"
   ]
  },
  {
   "cell_type": "code",
   "execution_count": null,
   "metadata": {
    "collapsed": false
   },
   "outputs": [],
   "source": [
    "sinogram_shape = np.load(os.path.join(tmp_dir,'sinogram_shape.npy'))\n",
    "s1 = np.memmap(os.path.join(tmp_dir,'sinogram.tmp'),\n",
    "               mode='r+',\n",
    "               dtype=np.float32,\n",
    "               shape = tuple(sinogram_shape)\n",
    "              )\n",
    "rec_vol = np.memmap(os.path.join(tmp_dir,'rec.tmp'),\n",
    "               mode='w+',\n",
    "               dtype=np.float32,\n",
    "               shape = (s1.shape[-1],s1.shape[1],s1.shape[1]))\n",
    "uniq_angles = np.load(os.path.join(tmp_dir,'angles.npy'))"
   ]
  },
  {
   "cell_type": "code",
   "execution_count": null,
   "metadata": {
    "collapsed": false
   },
   "outputs": [],
   "source": [
    "plt.figure(figsize=(10,10))\n",
    "plt.imshow(s1[np.argsort(uniq_angles),:,s1.shape[-1]/2], cmap=plt.cm.viridis)\n",
    "plt.colorbar(orientation='horizontal')\n",
    "plt.axis('tight')\n",
    "plt.show()"
   ]
  },
  {
   "cell_type": "code",
   "execution_count": null,
   "metadata": {
    "collapsed": false
   },
   "outputs": [],
   "source": [
    "def astra_tomo2d_parallel(sinogram, angles):\n",
    "    astra.astra.set_gpu_index([1,])\n",
    "    angles = angles.astype('float64')\n",
    "    detector_size = sinogram.shape[1]\n",
    "    \n",
    "\n",
    "    rec_size = detector_size\n",
    "    vol_geom = astra.create_vol_geom(rec_size, rec_size)\n",
    "    proj_geom = astra.create_proj_geom('parallel', 1.0, detector_size, angles)\n",
    "\n",
    "\n",
    "    sinogram_id = astra.data2d.create('-sino', proj_geom, data=sinogram)\n",
    "    # Create a data object for the reconstruction\n",
    "    rec_id = astra.data2d.create('-vol', vol_geom)\n",
    "#     proj_id = astra.create_projector('strip', proj_geom, vol_geom) # for CPU reconstruction only\n",
    "    # Set up the parameters for a reconstruction algorithm using the GPU\n",
    "    cfg = astra.astra_dict('CGLS_CUDA')\n",
    "    cfg['ReconstructionDataId'] = rec_id\n",
    "    cfg['ProjectionDataId'] = sinogram_id\n",
    "#     cfg['ProjectorId'] = proj_id # for CPU reconstruction only\n",
    "    cfg['option'] = {}\n",
    "    cfg['option']['MinConstraint'] = -0.01\n",
    "    # cfg['option']['MaxConstraint'] = 5\n",
    "\n",
    "    # Available algorithms:\n",
    "    # SIRT_CUDA, SART_CUDA, EM_CUDA, FBP_CUDA (see the FBP sample)\n",
    "\n",
    "    # Create the algorithm object from the configuration structure\n",
    "    \n",
    "    alg_id = astra.algorithm.create(cfg)\n",
    "    \n",
    "    # Run 150 iterations of the algorithm\n",
    "    astra.algorithm.run(alg_id, 30)\n",
    "    # Get the result\n",
    "    rec = astra.data2d.get(rec_id)\n",
    "    \n",
    "    # Clean up. Note that GPU memory is tied up in the algorithm object,\n",
    "    # and main RAM in the data objects.\n",
    "    astra.algorithm.delete(alg_id)\n",
    "    astra.data2d.delete(rec_id)\n",
    "    astra.data2d.delete(sinogram_id)\n",
    "    astra.clear()\n",
    "    return rec\n",
    "\n",
    "#BROKEN\n",
    "def astra_tomo3d_parallel(sinogram, angles, rec_vol, slice_start, slice_stop):\n",
    "    astra.astra.set_gpu_index([1,])\n",
    "    angles = angles.astype('float64')\n",
    "    detector_size = sinogram.shape[1]\n",
    "#         slices_number = sinogram.shape[0]\n",
    "    slices_number = slice_stop - slice_start\n",
    "        \n",
    "    rec_size = detector_size\n",
    "    vol_geom = astra.create_vol_geom(rec_size, rec_size, slices_number)\n",
    "    proj_geom = astra.create_proj_geom('parallel3d', 1.0, 1.0,  slices_number, detector_size, angles)\n",
    "\n",
    "\n",
    "    sinogram_id = astra.data3d.create('-sino', proj_geom, np.rollaxis(sinogram,-1)[slice_start:slice_stop])\n",
    "    # Create a data object for the reconstruction\n",
    "#     rec_id = astra.data3d.link('-vol', vol_geom, rec_vol[slice_start:slice_stop])\n",
    "    rec_id = astra.data3d.create('-vol', vol_geom)\n",
    "    # Set up the parameters for a reconstruction algorithm using the GPU\n",
    "    cfg = astra.astra_dict('CGLS3D_CUDA')\n",
    "    cfg['ReconstructionDataId'] = rec_id\n",
    "    cfg['ProjectionDataId'] = sinogram_id\n",
    "#     cfg['ProjectorId'] = proj_id # for CPU reconstruction only\n",
    "    cfg['option'] = {}\n",
    "    #cfg['option']['MinConstraint'] = 0\n",
    "    cfg['option']['MinConstraint'] = -0.01\n",
    "\n",
    "    # Available algorithms:\n",
    "    # SIRT_CUDA, SART_CUDA, EM_CUDA, FBP_CUDA (see the FBP sample)\n",
    "\n",
    "    # Create the algorithm object from the configuration structure\n",
    "    alg_id = astra.algorithm.create(cfg)\n",
    "    \n",
    "    # Run 150 iterations of the algorithm\n",
    "    astra.algorithm.run(alg_id, 30)\n",
    "    \n",
    "    # Get the result\n",
    "    rec = astra.data3d.get(rec_id)\n",
    "\n",
    "    # Clean up. Note that GPU memory is tied up in the algorithm object,\n",
    "    # and main RAM in the data objects.\n",
    "    astra.algorithm.delete(alg_id)\n",
    "    astra.data3d.delete(rec_id)\n",
    "    astra.data3d.delete(sinogram_id)\n",
    "    astra.clear()\n",
    "    return rec"
   ]
  },
  {
   "cell_type": "code",
   "execution_count": null,
   "metadata": {
    "collapsed": false
   },
   "outputs": [],
   "source": [
    "t = time.time()\n",
    "print s1.shape\n",
    "step = 200\n",
    "angles =np.array(uniq_angles)*np.pi/180\n",
    "# for i in log_progress(range(1500, 1700, step)):\n",
    "for i in log_progress(range(0, s1.shape[-1], step)):\n",
    "    slice_start= i \n",
    "    slice_stop= min(i+step, s1.shape[-1])\n",
    "    rec_vol[slice_start:slice_stop] = astra_tomo3d_parallel(s1, angles, rec_vol,\n",
    "                                       slice_start=slice_start, slice_stop=slice_stop\n",
    "                                  )\n",
    "print(time.time()-t)"
   ]
  },
  {
   "cell_type": "code",
   "execution_count": null,
   "metadata": {
    "collapsed": false
   },
   "outputs": [],
   "source": [
    "rec_vol.shape"
   ]
  },
  {
   "cell_type": "code",
   "execution_count": null,
   "metadata": {
    "collapsed": false
   },
   "outputs": [],
   "source": [
    "plt.figure(figsize=(10,10))\n",
    "plt.imshow(rec_vol[rec_vol.shape[0]/2], cmap=plt.cm.viridis, vmin=0)\n",
    "plt.axis('tight')\n",
    "plt.colorbar()\n",
    "plt.show()"
   ]
  },
  {
   "cell_type": "code",
   "execution_count": null,
   "metadata": {
    "collapsed": false
   },
   "outputs": [],
   "source": [
    "rec_vol_filtered = np.memmap(os.path.join(tmp_dir,'rec_filtered.tmp'),\n",
    "               mode='w+',\n",
    "               dtype=np.float32,\n",
    "               shape = rec_vol.shape)"
   ]
  },
  {
   "cell_type": "code",
   "execution_count": null,
   "metadata": {
    "collapsed": false
   },
   "outputs": [],
   "source": [
    "t = time.time()\n",
    "print rec_vol.shape\n",
    "step = 200\n",
    "angles =np.array(uniq_angles)*np.pi/180\n",
    "# for i in log_progress(range(1500, 1700, step)):\n",
    "for i in log_progress(range(0, rec_vol.shape[0], step)):\n",
    "    slice_start= i \n",
    "    slice_stop= min(i+step, s1.shape[-1])\n",
    "    rec_vol_filtered[slice_start:slice_stop] = remove_ring(\n",
    "        rec_vol[slice_start:slice_stop],\n",
    "        thresh=0.0005,  theta_min=90, rwidth=10)\n",
    "print(time.time()-t)"
   ]
  },
  {
   "cell_type": "code",
   "execution_count": null,
   "metadata": {
    "collapsed": false
   },
   "outputs": [],
   "source": [
    "plt.figure(figsize=(10,10))\n",
    "plt.imshow(rec_vol_filtered[rec_vol_filtered.shape[0]/2], cmap=plt.cm.viridis, vmin=0)\n",
    "plt.axis('tight')\n",
    "plt.colorbar()\n",
    "plt.show()"
   ]
  },
  {
   "cell_type": "code",
   "execution_count": null,
   "metadata": {
    "collapsed": false
   },
   "outputs": [],
   "source": [
    "def save_amira(in_array, out_path, reshape=3):\n",
    "    data_path = out_path\n",
    "    with open(os.path.join(data_path, 'amira.raw'), 'wb') as amira_file:\n",
    "        in_array[::reshape,::reshape,::reshape].tofile(amira_file)\n",
    "        file_shape = in_array[::reshape,::reshape,::reshape].shape\n",
    "        with open(os.path.join(data_path, 'tomo.hx'), 'w') as af:\n",
    "                af.write('# Amira Script\\n')\n",
    "                af.write('remove -all\\n')\n",
    "                af.write(r'[ load -raw ${SCRIPTDIR}/amira.raw little xfastest float 1 '+\n",
    "                         str(file_shape[1])+' '+str(file_shape[2])+' '+str(file_shape[0])+\n",
    "                         ' 0 '+str(file_shape[1]-1)+' 0 '+str(file_shape[2]-1)+' 0 '+str(file_shape[0]-1)+\n",
    "                         ' ] setLabel tomo.raw\\n')\n"
   ]
  },
  {
   "cell_type": "code",
   "execution_count": null,
   "metadata": {
    "collapsed": true
   },
   "outputs": [],
   "source": [
    "save_amira(rec_vol_filtered, tmp_dir)"
   ]
  },
  {
   "cell_type": "code",
   "execution_count": null,
   "metadata": {
    "collapsed": true
   },
   "outputs": [],
   "source": [
    "# angles = np.array(uniq_angles)*np.pi/180\n",
    "# for slice_numb in log_progress(range(s1.shape[-1])):\n",
    "#     rec_vol[slice_numb] = astra_tomo2d_parallel(s1[...,slice_numb], angles)"
   ]
  },
  {
   "cell_type": "code",
   "execution_count": null,
   "metadata": {
    "collapsed": false
   },
   "outputs": [],
   "source": [
    "# %timeit rec_slice = astra_tomo2d_parallel(s1[...,1600], uniq_angles*np.pi/180)"
   ]
  },
  {
   "cell_type": "code",
   "execution_count": null,
   "metadata": {
    "collapsed": false
   },
   "outputs": [],
   "source": [
    "# rec_slice = astra_tomo2d_parallel(s1[...,1550], uniq_angles*np.pi/180)\n",
    "# plt.figure(figsize=(10,10))\n",
    "# plt.imshow(rec_slice, cmap=plt.cm.viridis, vmin=0)\n",
    "# plt.axis('tight')\n",
    "# plt.colorbar()\n",
    "# plt.show()"
   ]
  },
  {
   "cell_type": "code",
   "execution_count": null,
   "metadata": {
    "collapsed": true
   },
   "outputs": [],
   "source": []
  }
 ],
 "metadata": {
  "anaconda-cloud": {},
  "kernelspec": {
   "display_name": "Python [conda env:astra2-master]",
   "language": "python",
   "name": "conda-env-astra2-master-py"
  },
  "language_info": {
   "codemirror_mode": {
    "name": "ipython",
    "version": 2
   },
   "file_extension": ".py",
   "mimetype": "text/x-python",
   "name": "python",
   "nbconvert_exporter": "python",
   "pygments_lexer": "ipython2",
   "version": "2.7.12"
  },
  "widgets": {
   "state": {
    "1ffe9829fb1d40bba399a45ca8536d9c": {
     "views": [
      {
       "cell_index": 11
      }
     ]
    },
    "25a40af1f84d494e8e18f1fcad958c39": {
     "views": [
      {
       "cell_index": 11
      }
     ]
    },
    "6a278d033a064da9bd6fb3ec349b9323": {
     "views": [
      {
       "cell_index": 11
      }
     ]
    },
    "7a28bd40aa7442a1adae3d85b4817787": {
     "views": [
      {
       "cell_index": 11
      }
     ]
    },
    "7b4b25beb86c44d2acfcb4f0111298bd": {
     "views": [
      {
       "cell_index": 11
      }
     ]
    },
    "7b565fbddef443b3a433b7620401291a": {
     "views": [
      {
       "cell_index": 11
      }
     ]
    },
    "7ef7ec570939413d8bea049ea882b8bb": {
     "views": [
      {
       "cell_index": 11
      }
     ]
    },
    "abfb3821f1454206b9d7c4c5b2f903d8": {
     "views": [
      {
       "cell_index": 11
      }
     ]
    },
    "c76af9cfd14e4cada5a2ecad10ff957c": {
     "views": [
      {
       "cell_index": 11
      }
     ]
    },
    "ccf45647585a4d4db451d67bbd3b59cb": {
     "views": [
      {
       "cell_index": 11
      }
     ]
    },
    "e9eb5b8b9cfb47bdba88b38f11943102": {
     "views": [
      {
       "cell_index": 11
      }
     ]
    },
    "fa21c3e07aba459c9604e5b2273a6a34": {
     "views": [
      {
       "cell_index": 11
      }
     ]
    },
    "fd1780cdb00d49bab7cac719ee3b95ca": {
     "views": [
      {
       "cell_index": 11
      }
     ]
    },
    "fd2f328a67d143e68a9e6c724da6cc7d": {
     "views": [
      {
       "cell_index": 11
      }
     ]
    }
   },
   "version": "1.2.0"
  }
 },
 "nbformat": 4,
 "nbformat_minor": 0
}
