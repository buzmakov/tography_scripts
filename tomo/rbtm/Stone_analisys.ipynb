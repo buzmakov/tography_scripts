{
 "cells": [
  {
   "cell_type": "code",
   "execution_count": null,
   "metadata": {
    "collapsed": true
   },
   "outputs": [],
   "source": [
    "%matplotlib inline"
   ]
  },
  {
   "cell_type": "code",
   "execution_count": null,
   "metadata": {
    "collapsed": true
   },
   "outputs": [],
   "source": [
    "import numpy as np\n",
    "import scipy as sp\n",
    "import pylab as plt\n",
    "import tomotools\n",
    "import os"
   ]
  },
  {
   "cell_type": "code",
   "execution_count": null,
   "metadata": {
    "collapsed": true
   },
   "outputs": [],
   "source": [
    "tomo_objects = [\n",
    "                'a12f2b09-b505-4b5b-be81-55db317f5197',\n",
    "                '98f78673-92ec-4b60-a784-7d5d8280bc4b',\n",
    "                '5514c001-5748-4029-885e-b27ccb684682',\n",
    "                '23c3a8a9-048d-408a-b676-24a564ab553c',\n",
    "                'f88e99e9-23ae-40af-8e50-5f32229cd929',\n",
    "                '14ee3d50-6b99-481f-b61b-34496a82a616',\n",
    "                '392b7a4b-36f6-4d30-8ca1-0cf5ee0c6de4',\n",
    "                '0f21251a-1ed6-4b89-a36c-db8078e30aec',\n",
    "                'efee4c82-2e1d-487a-9b2f-95e0cc7dd34d',\n",
    "                'd4c33336-ab3f-4539-9aac-3a32a0ee905b',\n",
    "                '1c3e2f04-239c-4793-ab62-d6ca1af73a12',\n",
    "                '6fb4e2f3-8893-40d9-9246-ef37565a9592',\n",
    "                '173f4f99-0a99-46c3-a3aa-681fa84cca0b'\n",
    "                ]"
   ]
  },
  {
   "cell_type": "code",
   "execution_count": null,
   "metadata": {},
   "outputs": [],
   "source": [
    "storage_dir = '/diskmnt/a/makov/robotom/'\n",
    "\n",
    "plt.figure(figsize=(14,10))\n",
    "for to in tomotools.log_progress(tomo_objects):\n",
    "    tomo_info = tomotools.get_tomoobject_info(to) \n",
    "    experiment_id = tomo_info['_id']\n",
    "    print(tomo_info['specimen'], experiment_id)\n",
    "    data_file = os.path.join(storage_dir, experiment_id,'amira.raw')\n",
    "    data = np.fromfile(data_file, dtype='float32')\n",
    "    \n",
    "    x,y = np.histogram(data,bins=1000);\n",
    "    plt.semilogy(y[:-1],x, label=tomo_info['specimen'])\n",
    "\n",
    "plt.xlim([0, 3])\n",
    "plt.grid()\n",
    "plt.legend(loc=0)"
   ]
  },
  {
   "cell_type": "code",
   "execution_count": null,
   "metadata": {},
   "outputs": [],
   "source": [
    "plt.imshow(data.reshape(817,536,536)[200])"
   ]
  },
  {
   "cell_type": "code",
   "execution_count": null,
   "metadata": {},
   "outputs": [],
   "source": [
    "data.shape[0]/536./536"
   ]
  },
  {
   "cell_type": "code",
   "execution_count": null,
   "metadata": {
    "collapsed": true
   },
   "outputs": [],
   "source": []
  }
 ],
 "metadata": {
  "kernelspec": {
   "display_name": "Python 3",
   "language": "python",
   "name": "python3"
  },
  "language_info": {
   "codemirror_mode": {
    "name": "ipython",
    "version": 3
   },
   "file_extension": ".py",
   "mimetype": "text/x-python",
   "name": "python",
   "nbconvert_exporter": "python",
   "pygments_lexer": "ipython3",
   "version": "3.6.2"
  }
 },
 "nbformat": 4,
 "nbformat_minor": 2
}
