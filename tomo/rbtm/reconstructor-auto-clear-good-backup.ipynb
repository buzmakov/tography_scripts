{
 "cells": [
  {
   "cell_type": "code",
   "execution_count": null,
   "metadata": {
    "collapsed": false
   },
   "outputs": [],
   "source": [
    "%matplotlib inline"
   ]
  },
  {
   "cell_type": "code",
   "execution_count": null,
   "metadata": {
    "collapsed": false
   },
   "outputs": [],
   "source": [
    "import logging\n",
    "logger = logging.getLogger()\n",
    "logger.setLevel(logging.DEBUG)\n",
    "import os\n",
    "\n",
    "import pylab as plt\n",
    "import numpy as np\n",
    "import numexpr as ne\n",
    "import cv2\n",
    "import time\n",
    "import astra\n",
    "import tomopy\n",
    "import requests, json"
   ]
  },
  {
   "cell_type": "code",
   "execution_count": null,
   "metadata": {
    "collapsed": false
   },
   "outputs": [],
   "source": [
    "plt.viridis();"
   ]
  },
  {
   "cell_type": "code",
   "execution_count": null,
   "metadata": {
    "collapsed": false
   },
   "outputs": [],
   "source": [
    "import tomotools\n",
    "reload(tomotools)"
   ]
  },
  {
   "cell_type": "code",
   "execution_count": null,
   "metadata": {
    "collapsed": false
   },
   "outputs": [],
   "source": [
    "# file_id = 'a789cd0f-f718-4ff2-9f89-01b015cd13c8'\n",
    "# file_id = '8eee41d5-8c4e-49d8-a496-898200bed0d5'\n",
    "# file_id = '5e233c53-2925-4774-b680-0d71f73eb8e1'\n",
    "# file_id = 'f3e80ec9-324f-41bb-a93e-605bcbbcde98'\n",
    "# file_id = '1032b444-3eeb-4b30-90c6-64f571dc25de'\n",
    "# file_id = '7efa3f65-ec22-4981-a0dd-40797b15db69'\n",
    "# file_id = 'e6fe4ea1-79ef-47bc-bc06-d1d62c4fa03d'\n",
    "# file_id = 'c69910c3-df64-4957-9d06-b1655957e174'  # hand_113_17_40\n",
    "# file_id = '294e75e0-b24c-4c22-8bfa-79fb9d98bcfa'  # hand_113_15_40\n",
    "# file_id = 'b564953e-302e-43c5-96cd-3172f8ab94b2'\n",
    "# file_id = '6953bebf-4c50-4da1-8fa5-a6987a6ca36c'\n",
    "# experiment_id = '6cdba5b0-f172-4d12-bd21-ea4352109583' #ckp_kuzina_25_20\n",
    "# experiment_id = 'faa784f4-f653-4765-9dd2-abbf732e2dce' #ckp_bulygina_25_20\n",
    "# experiment_id = '80f547c3-8761-4f7c-902b-7a9b2e51955b' #ckp_fedulova_17_20\n",
    "# experiment_id = '32518375-b859-4e95-9a0f-b8ebf8724527' # ckp_kuzina_25_20 _new\n",
    "\n",
    "# experiment_id = '45b60f9b-0af2-400f-9d48-edc772c22214' #  stone_1_40_25\n",
    "# experiment_id = '2e5800e3-b4a6-4454-b46f-3e2067ed6559'  # kuzina_mono_mo_40_35\n",
    "# experiment_id = '7ed638fb-7779-4c3d-b369-27b648c63f29'  # fedulova_mono_mo_40_35\n",
    "# experiment_id = 'e2d17231-4ae1-4711-8ce7-363a07a159d4'  #bulygina_mono_mo_40_35\n",
    "# experiment_id = '1a58662a-003c-47e4-a90e-ad9ab525761a' # hand_3_16_17_20\n",
    "experiment_id = '7532b9f8-7303-4d94-8510-0c414cb63358'\n",
    "data_dir = '/diskmnt/fast/makov/robotom/'\n",
    "\n",
    "tmp_dir = os.path.join(data_dir, experiment_id)\n",
    "tomotools.mkdir_p(tmp_dir)\n",
    "data_file = tomotools.get_experiment_hdf5(experiment_id, data_dir)\n"
   ]
  },
  {
   "cell_type": "code",
   "execution_count": null,
   "metadata": {
    "collapsed": false
   },
   "outputs": [],
   "source": [
    "#move it in statistisc\n",
    "# import h5py\n",
    "# import json\n",
    "# from pprint import pprint\n",
    "# with h5py.File(data_file,'a') as h5f:\n",
    "#     for k,v in h5f['empty'].iteritems():\n",
    "#         print(k)\n",
    "#         if int(k) < 400:\n",
    "#             del h5f['empty'][k]\n",
    "#     for k,v in h5f['dark'].iteritems():\n",
    "#         print(k)\n",
    "#         if int(k) < 400:\n",
    "#             del h5f['dark'][k]\n",
    "#     for k,v in h5f['data'].iteritems():\n",
    "#         if int(k)<19:\n",
    "#             print(k)\n",
    "#             pprint(json.loads(v.attrs.items()[0][1])[0]['frame']['object']['angle position'])\n",
    "#             del h5f['data'][k]"
   ]
  },
  {
   "cell_type": "code",
   "execution_count": null,
   "metadata": {
    "collapsed": false
   },
   "outputs": [],
   "source": [
    "# tomotools.show_statistics(data_file)"
   ]
  },
  {
   "cell_type": "code",
   "execution_count": null,
   "metadata": {
    "collapsed": false
   },
   "outputs": [],
   "source": [
    "empty_images, empty_angles = tomotools.get_frame_group(data_file, 'empty', tmp_dir)\n",
    "\n",
    "# ea = np.min(empty_angles)\n",
    "# print np.sum(empty_angles==ea)\n",
    "dark_images, dark_angles = tomotools.get_frame_group(data_file, 'dark', tmp_dir)\n",
    "# da = np.min(dark_angles)\n",
    "# print np.sum(dark_angles==da)\n",
    "# считаем среднее значение\n",
    "# empty_image = empty_images.sum(axis=0)/len(empty_images) # empty_images[np.argmin(np.sum(empty_images))] # \n",
    "# dark_image = dark_images.sum(axis=0)/len(dark_images) #dark_images.min(axis=0)\n",
    "\n",
    "\n",
    "empty_image = np.median(empty_images,axis=0) \n",
    "dark_image = np.median(dark_images,axis=0)\n",
    "\n",
    "# dark_image = cv2.medianBlur(dark_image,3)\n",
    "# empty_image = cv2.medianBlur(empty_image,3)\n",
    "\n",
    "empty_beam = empty_image - dark_image\n",
    "\n",
    "\n",
    "mask = empty_beam > 0.01\n",
    "\n",
    "# Загружаем кадры с даннымии\n",
    "#TODO: добавить поддержку, когда много кадров на одном угле\n",
    "data_images, data_angles = tomotools.get_frame_group(data_file, 'data', tmp_dir)\n",
    "\n",
    "data_images_clear, _  = tomotools.load_create_mm(os.path.join(tmp_dir,'data_images_clear.tmp'),\n",
    "                        shape=data_images.shape,dtype='float32')\n",
    "\n",
    "ne.evaluate('data_images - dark_image', out = data_images_clear);\n",
    "# ne.evaluate('data_images', out = data_images_clear);\n",
    "\n",
    "# #TODO: Fix it hack\n",
    "\n",
    "# data_indexes = (data_angles-data_angles.min())<181\n",
    "# data_images_180, _  = tomotools.load_create_mm(os.path.join(tmp_dir,'data_images_180.tmp'),\n",
    "#                         shape=(data_indexes.sum(),\n",
    "#                                data_images.shape[1],\n",
    "#                                data_images.shape[2]),dtype='float32')\n",
    "            \n",
    "# data_angles_180, _ = tomotools.load_create_mm(\n",
    "#                         os.path.join(tmp_dir,'data_angles_180.tmp'),\n",
    "#                         shape=(data_indexes.sum(),), dtype='float32')\n",
    "\n",
    "# pos = 0\n",
    "# for edi, di in enumerate(data_indexes):    \n",
    "#     if di:\n",
    "#         data_images_180[pos] = data_images[edi]-dark_image\n",
    "#         data_angles_180[pos] = data_angles[edi]\n",
    "#         pos = pos+1\n",
    "\n",
    "# del data_images\n",
    "# del empty_images"
   ]
  },
  {
   "cell_type": "code",
   "execution_count": null,
   "metadata": {
    "collapsed": false,
    "scrolled": false
   },
   "outputs": [],
   "source": [
    "plt.figure(figsize=(10,10))\n",
    "plt.subplot(221)\n",
    "plt.imshow(empty_image, vmin=0)\n",
    "plt.colorbar(orientation='horizontal')\n",
    "plt.title('Empty beam')\n",
    "\n",
    "plt.subplot(222)\n",
    "plt.imshow(data_images_clear[0], vmin=0)\n",
    "plt.colorbar(orientation='horizontal')\n",
    "plt.title('Data beam')\n",
    "\n",
    "\n",
    "plt.subplot(223)\n",
    "plt.imshow(dark_image, vmin=0)\n",
    "plt.colorbar(orientation='horizontal')\n",
    "plt.title('Dark beam')\n",
    "\n",
    "\n",
    "plt.subplot(224)\n",
    "plt.imshow(mask.astype('int'))\n",
    "# plt.colorbar(orientation='horizontal')\n",
    "plt.title('Mask')\n",
    "#TODO: Check thresshold automaticaly\n",
    "# plt.plot([sum(empty_beam > i) for i in np.arange(100)])"
   ]
  },
  {
   "cell_type": "code",
   "execution_count": null,
   "metadata": {
    "collapsed": false
   },
   "outputs": [],
   "source": [
    "# plt.figure(figsize=(10,10))\n",
    "# plt.imshow(data_images_clear[:,500:1500,501]/empty_beam[500:1500,501], cmap=plt.cm.viridis, interpolation='nearest')\n",
    "# plt.axis('tight')\n",
    "# plt.colorbar(orientation='horizontal')"
   ]
  },
  {
   "cell_type": "code",
   "execution_count": null,
   "metadata": {
    "collapsed": false
   },
   "outputs": [],
   "source": [
    "del data_images\n",
    "# del data_angles\n",
    "del empty_image\n",
    "del empty_images\n",
    "del dark_images\n",
    "del dark_image\n"
   ]
  },
  {
   "cell_type": "code",
   "execution_count": null,
   "metadata": {
    "collapsed": false
   },
   "outputs": [],
   "source": [
    "def crop_mask(mask, up, bottom, left, right):\n",
    "    threshold = 100\n",
    "    mask_x_profile = mask.sum(axis=1)\n",
    "    mask_x_min = np.argwhere(mask_x_profile>threshold).min()+up # up border\n",
    "    mask_x_max = np.argwhere(mask_x_profile>threshold).max()-bottom # bottom border\n",
    "\n",
    "    mask_y_profile = mask.sum(axis=0)\n",
    "    mask_y_min = np.argwhere(mask_y_profile>threshold).min()+left # left border\n",
    "    mask_y_max = np.argwhere(mask_y_profile>threshold).max()-right # right border\n",
    "    return  mask_x_min, mask_x_max, mask_y_min, mask_y_max"
   ]
  },
  {
   "cell_type": "code",
   "execution_count": null,
   "metadata": {
    "collapsed": false
   },
   "outputs": [],
   "source": [
    "mask_x_min, mask_x_max, mask_y_min, mask_y_max = crop_mask(mask, 700, 700, 200, 200) #400, 400, 100, 100)\n",
    "\n",
    "mask_new = np.copy(mask[mask_x_min:mask_x_max,mask_y_min:mask_y_max])\n",
    "# empty_beam = empty_beam[mask_x_min:mask_x_max,mask_y_min:mask_y_max]\n",
    "## FIX IT\n",
    "# data_images_croped = data_images_croped[:, mask_x_min:mask_x_max,mask_y_min:mask_y_max]\n",
    "\n",
    "data_images_masked, _ = tomotools.load_create_mm(os.path.join(tmp_dir,'data_images_masked.tmp'),\n",
    "                                   shape = (data_angles.shape[0],\n",
    "                                           mask_new.shape[0], mask_new.shape[1]), dtype='float32',\n",
    "                                   force_create=True)\n",
    "\n",
    "empty_masked, _ = tomotools.load_create_mm(os.path.join(tmp_dir,'empty_images_masked.tmp'),\n",
    "                                   shape = (mask_new.shape[0], mask_new.shape[1]), dtype='float32',\n",
    "                                   force_create=True)\n",
    "\n",
    "empty_masked[:] = empty_beam[mask_x_min:mask_x_max,mask_y_min:mask_y_max]\n",
    "\n",
    "\n",
    "plt.figure()\n",
    "plt.imshow(data_images_clear[0, mask_x_min:mask_x_max,mask_y_min:mask_y_max])\n",
    "plt.colorbar(orientation='horizontal')\n",
    "\n",
    "for di in range(data_images_masked.shape[0]):\n",
    "    data_images_masked[di] = data_images_clear[di, mask_x_min:mask_x_max,mask_y_min:mask_y_max]\n",
    "#     data_images_masked[di] = cv2.medianBlur(data_images_masked[di],3)"
   ]
  },
  {
   "cell_type": "code",
   "execution_count": null,
   "metadata": {
    "collapsed": false
   },
   "outputs": [],
   "source": [
    "# plt.figure(figsize=(10,10))\n",
    "# plt.imshow(data_images_masked[:,:,501]/empty_masked[:,501], cmap=plt.cm.viridis, interpolation='nearest')\n",
    "# plt.axis('tight')\n",
    "# plt.colorbar(orientation='horizontal')"
   ]
  },
  {
   "cell_type": "code",
   "execution_count": null,
   "metadata": {
    "collapsed": true
   },
   "outputs": [],
   "source": [
    "del empty_beam\n",
    "del data_images_clear"
   ]
  },
  {
   "cell_type": "code",
   "execution_count": null,
   "metadata": {
    "collapsed": false
   },
   "outputs": [],
   "source": [
    "def group_data(data_images,data_angles,  mmap_file_dir):\n",
    "    uniq_angles,_ = tomotools.load_create_mm(\n",
    "        os.path.join(mmap_file_dir,'uniq_angles.tmp'),\n",
    "        shape=(len(list(set(data_angles))),),\n",
    "        dtype='float32',force_create=True)\n",
    "    uniq_angles[:] = list(set(data_angles))\n",
    "    \n",
    "    uniq_data_images,_ = tomotools.load_create_mm(\n",
    "        os.path.join(mmap_file_dir,'uniq_data_images.tmp'),\n",
    "        shape=(len(uniq_angles), data_images.shape[1], data_images.shape[2]),\n",
    "        dtype='float32',force_create=True)\n",
    "\n",
    "    for ua_id, ua in enumerate(uniq_angles):\n",
    "        indexes = np.argwhere(data_angles==uniq_angles[ua_id])\n",
    "        if len(indexes)>1:\n",
    "            tmp_images = data_images[indexes]\n",
    "            tmp_images = np.squeeze(tmp_images)\n",
    "            mean_image = np.mean(tmp_images, axis=0)\n",
    "            uniq_data_images[ua_id] = mean_image\n",
    "        else:\n",
    "            uniq_data_images[ua_id]=data_images[indexes]\n",
    "    return uniq_data_images, uniq_angles\n",
    "\n",
    "uniq_data_images, uniq_angles = group_data(data_images_masked, data_angles, tmp_dir)\n",
    "del data_images_masked, data_angles"
   ]
  },
  {
   "cell_type": "code",
   "execution_count": null,
   "metadata": {
    "collapsed": false
   },
   "outputs": [],
   "source": [
    "#normalize data frames and calculate sinograms\n",
    "# empty_masked[empty_masked <= 0] = 1e-9\n",
    "\n",
    "for di in range(uniq_data_images.shape[0]):\n",
    "    t = uniq_data_images[di]\n",
    "    t=t/empty_masked\n",
    "    t[t<0] = 1e-9\n",
    "    t[t>1] = 1\n",
    "    t[t<1e-8] = 1e-8\n",
    "    uniq_data_images[di] = cv2.medianBlur(t,3)\n",
    "\n",
    "del empty_masked"
   ]
  },
  {
   "cell_type": "code",
   "execution_count": null,
   "metadata": {
    "collapsed": false
   },
   "outputs": [],
   "source": [
    "sinogram, _ = tomotools.load_create_mm(os.path.join(tmp_dir, 'sinogram.tmp'), shape=uniq_data_images.shape,\n",
    "                         dtype='float32') \n",
    "ne.evaluate('-log(uniq_data_images)', out=sinogram);"
   ]
  },
  {
   "cell_type": "code",
   "execution_count": null,
   "metadata": {
    "collapsed": false
   },
   "outputs": [],
   "source": [
    "# plt.figure(figsize=(7,5))\n",
    "# plt.imshow(uniq_data_images[np.argsort(uniq_angles),:,int(sinogram.shape[-1]/1.75)])\n",
    "# plt.axis('tight')\n",
    "# # plt.colorbar()"
   ]
  },
  {
   "cell_type": "code",
   "execution_count": null,
   "metadata": {
    "collapsed": false
   },
   "outputs": [],
   "source": [
    "del uniq_data_images"
   ]
  },
  {
   "cell_type": "code",
   "execution_count": null,
   "metadata": {
    "collapsed": false
   },
   "outputs": [],
   "source": [
    "# # build frames for video\n",
    "# images_dir = os.path.join(tmp_dir,'images')\n",
    "# tomotools.mkdir_p(images_dir)\n",
    "# im_max=np.max(sinogram)\n",
    "# im_min=np.min(sinogram)\n",
    "# print(im_min, im_max)\n",
    "# for ia, a in tomotools.log_progress(list(enumerate(np.argsort(uniq_angles)))):\n",
    "# #     print('{:34}'.format(ia))\n",
    "#     plt.imsave(os.path.join(images_dir,'prj_{:03}.png'.format(ia)),\n",
    "#                np.rot90(sinogram[a],3), vmin=im_min, vmax=im_max,\n",
    "#                cmap=plt.cm.gray_r)"
   ]
  },
  {
   "cell_type": "code",
   "execution_count": null,
   "metadata": {
    "collapsed": false
   },
   "outputs": [],
   "source": [
    "# !cd {images_dir} && avconv -r 10 -i \"prj_%03d.png\" -b:v 1000k prj.avi"
   ]
  },
  {
   "cell_type": "code",
   "execution_count": null,
   "metadata": {
    "collapsed": false
   },
   "outputs": [],
   "source": [
    "# !cd {images_dir} && rm prj.mp4"
   ]
  },
  {
   "cell_type": "code",
   "execution_count": null,
   "metadata": {
    "collapsed": false
   },
   "outputs": [],
   "source": [
    "tmp_sinogram = sinogram[np.argsort(uniq_angles),:,int(sinogram.shape[-1]//2)+3]\n",
    "\n",
    "plt.figure(figsize=(10,10))\n",
    "plt.imshow(np.exp(tmp_sinogram), cmap=plt.cm.viridis, interpolation='nearest')\n",
    "plt.axis('tight')\n",
    "plt.colorbar(orientation='horizontal')"
   ]
  },
  {
   "cell_type": "code",
   "execution_count": null,
   "metadata": {
    "collapsed": true
   },
   "outputs": [],
   "source": [
    "import scipy.ndimage\n",
    "def my_rc(sino0, level):\n",
    "    def get_my_b(level):\n",
    "        t= np.mean(sino0, axis=0)\n",
    "        gt = scipy.ndimage.filters.gaussian_filter1d(t,level/2.)\n",
    "        return gt-t\n",
    "    \n",
    "    def get_my_a(level):\n",
    "        my_b = get_my_b(level)\n",
    "        return np.mean(my_b)/my_b.shape[0]\n",
    "    \n",
    "    my_a = get_my_a(level)\n",
    "    my_b = get_my_b(level)\n",
    "    \n",
    "    res = sino0.copy()\n",
    "    if not level==0:\n",
    "        res+= sino0*my_a+my_b\n",
    "    \n",
    "    return res"
   ]
  },
  {
   "cell_type": "code",
   "execution_count": null,
   "metadata": {
    "collapsed": false
   },
   "outputs": [],
   "source": [
    "rc_level = 10\n",
    "plt.figure(figsize=(10,5))\n",
    "plt.plot(tmp_sinogram.sum(axis=0))\n",
    "plt.plot(my_rc(tmp_sinogram,rc_level).sum(axis=0), lw=2)\n",
    "plt.plot(my_rc(tmp_sinogram,rc_level).sum(axis=0)-tmp_sinogram.sum(axis=0))\n",
    "plt.grid()"
   ]
  },
  {
   "cell_type": "code",
   "execution_count": null,
   "metadata": {
    "collapsed": false
   },
   "outputs": [],
   "source": [
    "plt.figure(figsize=(10,10))\n",
    "plt.imshow(np.exp(my_rc(tmp_sinogram, rc_level)), cmap=plt.cm.viridis, interpolation='nearest')\n",
    "plt.axis('tight')\n",
    "plt.colorbar(orientation='horizontal')"
   ]
  },
  {
   "cell_type": "code",
   "execution_count": null,
   "metadata": {
    "collapsed": false
   },
   "outputs": [],
   "source": [
    "for s in tomotools.log_progress(range(sinogram.shape[1])):\n",
    "    sinogram[:,s,:] = my_rc(sinogram[:,s,:],10)"
   ]
  },
  {
   "cell_type": "code",
   "execution_count": null,
   "metadata": {
    "collapsed": false
   },
   "outputs": [],
   "source": [
    "tmp_sinogram = sinogram[np.argsort(uniq_angles),:,int(sinogram.shape[-1]//2)+3]\n",
    "\n",
    "plt.figure(figsize=(10,10))\n",
    "plt.imshow(np.exp(tmp_sinogram), cmap=plt.cm.viridis, interpolation='nearest')\n",
    "plt.axis('tight')\n",
    "plt.colorbar(orientation='horizontal')"
   ]
  },
  {
   "cell_type": "code",
   "execution_count": null,
   "metadata": {
    "collapsed": false
   },
   "outputs": [],
   "source": [
    "# seraching detector rotation angle\n",
    "for zero_angle in uniq_angles:\n",
    "#     zero_angle = np.min(uniq_angles)\n",
    "    position_0 = np.argwhere(np.isclose(uniq_angles, zero_angle, atol=0.05))[0][0]\n",
    "    position_180 = np.argwhere(np.isclose(uniq_angles, 180+zero_angle, atol=0.05))\n",
    "    if len(position_180)>0:\n",
    "        position_180=position_180[0][0]\n",
    "        print uniq_angles[position_0], position_0\n",
    "        print uniq_angles[position_180], position_180\n",
    "        break\n",
    "\n",
    "def cv_rotate(x, angle):\n",
    "    \"\"\"\n",
    "    Rotate square array using OpenCV2 around center of the array\n",
    "    :param x: 2d numpy array\n",
    "    :param angle: angle in degrees\n",
    "    :return: rotated array\n",
    "    \"\"\"\n",
    "    x_center = tuple(\n",
    "        np.array((x.shape[1], x.shape[0]), dtype='float32') / 2.0 - 0.5)\n",
    "    rot_mat = cv2.getRotationMatrix2D(x_center, angle, 1.0)\n",
    "    xro = cv2.warpAffine(\n",
    "        x, rot_mat, (x.shape[1], x.shape[0]), flags=cv2.INTER_LINEAR)\n",
    "    return xro\n",
    "\n",
    "\n",
    "data_0 = np.rot90(sinogram[position_0]).copy()\n",
    "data_180 = np.rot90(sinogram[position_180]).copy()"
   ]
  },
  {
   "cell_type": "code",
   "execution_count": null,
   "metadata": {
    "collapsed": false
   },
   "outputs": [],
   "source": [
    "from scipy.optimize import minimize\n",
    "def f(x):\n",
    "    alfa= x[0]\n",
    "    shift = int(x[1])\n",
    "    if shift >= 0:\n",
    "        t = enp.fliplr(cv_rotate(data_180[:,shift:],alfa))-cv_rotate(data_0[:,shift:],alfa)\n",
    "    else:\n",
    "        t = np.fliplr(cv_rotate(data_180[:,:shift],alfa))-cv_rotate(data_0[:,shift],alfa)\n",
    "        \n",
    "    res = np.sum(t*t)/np.prod(t.shape)\n",
    "    return res\n",
    "\n",
    "def corr(x):\n",
    "    alfa= x[0]*10.\n",
    "    shift = int(x[1])\n",
    "    if shift >= 0:\n",
    "        t_180 = data_180[:,shift:]\n",
    "        t_0 = data_0[:,shift:]\n",
    "    else:\n",
    "        t_180 = data_180[:,:shift]\n",
    "        t_0 = data_0[:,:shift]\n",
    "    \n",
    "    \n",
    "#     t_mask = np.zeros_like(t_0)\n",
    "#     shape_min = np.min(t_mask.shape)\n",
    "#     r_mask = shape_min//2\n",
    "#     X,Y = np.meshgrid(np.arange(t_mask.shape[1])-t_mask.shape[1]//2,\n",
    "#                       np.arange(t_mask.shape[0])-t_mask.shape[0]//2)\n",
    "#     t_mask = X**2+Y**2<r_mask**2    \n",
    "    \n",
    "    tt_180 = np.fliplr(cv_rotate(t_180,alfa))\n",
    "    tt_180 = cv2.medianBlur(tt_180,5) #*t_mask\n",
    "    tt_0 = cv_rotate(t_0,alfa)\n",
    "    tt_0 = cv2.medianBlur(tt_0,5) #*t_mask\n",
    "    res = -np.correlate(tt_0.flat,tt_180.flat)\n",
    "#     TODO: add mask support \n",
    "#     res = -np.sum(tt_0*tt_180)/np.sqrt(np.sum(tt_0**2)*np.sum(tt_180**2))*np.prod(tt_0.shape) #*np.prod(t_mask.shape)\n",
    "    return res\n",
    "\n",
    "x0 = [0.1,-355]\n",
    "res= minimize(corr, x0, method='Nelder-Mead')\n",
    "print res"
   ]
  },
  {
   "cell_type": "code",
   "execution_count": null,
   "metadata": {
    "collapsed": false
   },
   "outputs": [],
   "source": [
    "alfa, shift = res.x[0]*10., int(res.x[1])\n",
    "\n",
    "if shift >= 0:\n",
    "    t_180 = data_180[:,shift:]\n",
    "    t_0 = data_0[:,shift:]\n",
    "else:\n",
    "    t_180 = data_180[:,:shift]\n",
    "    t_0 = data_0[:,:shift]\n",
    "    \n",
    "tt_180 = np.fliplr(cv_rotate(t_180,alfa))\n",
    "tt_0 = cv_rotate(t_0,alfa)\n",
    "    \n",
    "plt.figure(figsize=(15,15))\n",
    "plt.imshow(tt_180-tt_0, cmap=plt.cm.viridis, vmin=-0.5, vmax=0.5)\n",
    "plt.title('a={}, s={}'.format(alfa,shift))\n",
    "plt.colorbar()\n",
    "plt.show()\n"
   ]
  },
  {
   "cell_type": "code",
   "execution_count": null,
   "metadata": {
    "collapsed": false
   },
   "outputs": [],
   "source": [
    "plt.figure(figsize=(15,15))\n",
    "plt.subplot(221)\n",
    "plt.imshow(data_0,cmap=plt.cm.viridis)\n",
    "plt.axis('tight')\n",
    "plt.colorbar(orientation='horizontal')\n",
    "plt.subplot(222)\n",
    "plt.imshow(data_180,cmap=plt.cm.viridis)\n",
    "plt.axis('tight')\n",
    "plt.colorbar(orientation='horizontal')\n",
    "plt.subplot(223)\n",
    "plt.imshow(data_0 - np.fliplr(data_180),cmap=plt.cm.viridis)\n",
    "plt.axis('tight')\n",
    "plt.colorbar(orientation='horizontal')\n",
    "plt.subplot(224)\n",
    "# alfa = 0.1\n",
    "# shift = -77\n",
    "plt.imshow(tt_180-tt_0, cmap=plt.cm.viridis)\n",
    "plt.axis('tight')\n",
    "plt.colorbar(orientation='horizontal')"
   ]
  },
  {
   "cell_type": "code",
   "execution_count": null,
   "metadata": {
    "collapsed": false
   },
   "outputs": [],
   "source": [
    "sinogram_fixed, _ = tomotools.load_create_mm(os.path.join(tmp_dir,'sinogram_fixed.tmp'),\n",
    "                                shape=(sinogram.shape[0], sinogram.shape[1]-abs(shift),sinogram.shape[2]),\n",
    "                                dtype='float32')\n",
    "\n",
    "#fix axis tlit\n",
    "for i in range(sinogram.shape[0]):\n",
    "    if shift >= 0:\n",
    "        t = cv_rotate(sinogram[i,shift:],alfa)\n",
    "    else:\n",
    "        t = cv_rotate(sinogram[i,:shift],alfa)\n",
    "    sinogram_fixed[i] = t\n",
    "del sinogram"
   ]
  },
  {
   "cell_type": "code",
   "execution_count": null,
   "metadata": {
    "collapsed": true
   },
   "outputs": [],
   "source": []
  },
  {
   "cell_type": "code",
   "execution_count": null,
   "metadata": {
    "collapsed": false
   },
   "outputs": [],
   "source": [
    "s1 = np.require(sinogram_fixed[...,int(sinogram_fixed.shape[-1]/1.5)],\n",
    "                dtype=np.float32, requirements=['C'])"
   ]
  },
  {
   "cell_type": "code",
   "execution_count": null,
   "metadata": {
    "collapsed": false
   },
   "outputs": [],
   "source": [
    "plt.figure(figsize=(10,10))\n",
    "plt.imshow(sinogram_fixed[np.argsort(uniq_angles),:,int(sinogram_fixed.shape[-1]/1.5)], cmap=plt.cm.viridis)\n",
    "plt.axis('tight')\n",
    "plt.colorbar()\n",
    "plt.show()"
   ]
  },
  {
   "cell_type": "code",
   "execution_count": null,
   "metadata": {
    "collapsed": false
   },
   "outputs": [],
   "source": [
    "del sinogram_fixed"
   ]
  },
  {
   "cell_type": "code",
   "execution_count": null,
   "metadata": {
    "collapsed": true
   },
   "outputs": [],
   "source": [
    "del data_0, data_180 ,tmp_sinogram, uniq_angles"
   ]
  },
  {
   "cell_type": "code",
   "execution_count": null,
   "metadata": {
    "collapsed": false
   },
   "outputs": [],
   "source": [
    "del mask, t_0, t_180, zero_angle"
   ]
  },
  {
   "cell_type": "code",
   "execution_count": null,
   "metadata": {
    "collapsed": false
   },
   "outputs": [],
   "source": [
    "uniq_angles, _ = tomotools.load_create_mm(os.path.join(tmp_dir,'uniq_angles.tmp'),\n",
    "                             shape= None,\n",
    "                             dtype='float32')\n",
    "s1, _ = tomotools.load_create_mm(os.path.join(tmp_dir,'sinogram_fixed.tmp'),\n",
    "                                shape= None,\n",
    "                                dtype='float32')\n",
    "\n",
    "rec_vol, _ = tomotools.load_create_mm(os.path.join(tmp_dir,'rec.tmp'),\n",
    "               dtype=np.float32,\n",
    "               shape = (s1.shape[-1],s1.shape[1],s1.shape[1]))\n",
    "\n"
   ]
  },
  {
   "cell_type": "code",
   "execution_count": null,
   "metadata": {
    "collapsed": false
   },
   "outputs": [],
   "source": [
    "# import h5py\n",
    "# with h5py.File('zub_pb.h5','w') as h5f:\n",
    "#     h5f.create_dataset('sinogram',dtype='float32',\n",
    "#                        data = s1[np.argsort(uniq_angles),...], \n",
    "#                        compression=\"gzip\", compression_opts=1)"
   ]
  },
  {
   "cell_type": "code",
   "execution_count": null,
   "metadata": {
    "collapsed": false
   },
   "outputs": [],
   "source": [
    "# import h5py\n",
    "# with h5py.File('zub_pb.h5') as h5f:\n",
    "#     sino = h5f['sinogram'][:,:,500]\n",
    "\n",
    "# plt.figure(figsize=(10,10))\n",
    "# plt.imshow(sino, cmap=plt.cm.viridis)\n",
    "# plt.colorbar(orientation='horizontal')\n",
    "# plt.axis('tight')\n",
    "# plt.show()"
   ]
  },
  {
   "cell_type": "code",
   "execution_count": null,
   "metadata": {
    "collapsed": false
   },
   "outputs": [],
   "source": [
    "# plt.figure(figsize=(10,10))\n",
    "# plt.imshow(s1[np.argsort(uniq_angles),:,int(s1.shape[-1]/1.75)], cmap=plt.cm.viridis)\n",
    "# plt.colorbar(orientation='horizontal')\n",
    "# plt.axis('tight')\n",
    "# plt.show()"
   ]
  },
  {
   "cell_type": "code",
   "execution_count": null,
   "metadata": {
    "collapsed": false
   },
   "outputs": [],
   "source": [
    "def astra_tomo2d_parallel(sinogram, angles):\n",
    "    astra.astra.set_gpu_index([1,])\n",
    "    angles = angles.astype('float64')\n",
    "    detector_size = sinogram.shape[1]\n",
    "    \n",
    "\n",
    "    rec_size = detector_size\n",
    "    vol_geom = astra.create_vol_geom(rec_size, rec_size)\n",
    "    proj_geom = astra.create_proj_geom('parallel', 1.0, detector_size, angles)\n",
    "\n",
    "\n",
    "    sinogram_id = astra.data2d.create('-sino', proj_geom, data=sinogram)\n",
    "    # Create a data object for the reconstruction\n",
    "    rec_id = astra.data2d.create('-vol', vol_geom)\n",
    "#     proj_id = astra.create_projector('strip', proj_geom, vol_geom) # for CPU reconstruction only\n",
    "    # Set up the parameters for a reconstruction algorithm using the GPU\n",
    "    cfg = astra.astra_dict('FBP_CUDA')\n",
    "    cfg['ReconstructionDataId'] = rec_id\n",
    "    cfg['ProjectionDataId'] = sinogram_id\n",
    "#     cfg['ProjectorId'] = proj_id # for CPU reconstruction only\n",
    "    cfg['option'] = {}\n",
    "    \n",
    "    alg_id = astra.algorithm.create(cfg)\n",
    "    astra.algorithm.run(alg_id, 1)\n",
    "    \n",
    "    cfg = astra.astra_dict('CGLS_CUDA')\n",
    "    cfg['ReconstructionDataId'] = rec_id\n",
    "    cfg['ProjectionDataId'] = sinogram_id\n",
    "#     cfg['ProjectorId'] = proj_id # for CPU reconstruction only\n",
    "    cfg['option'] = {}\n",
    "\n",
    "    alg_id = astra.algorithm.create(cfg)\n",
    "    \n",
    "    # Run 150 iterations of the algorithm\n",
    "    astra.algorithm.run(alg_id, 10)\n",
    "    \n",
    "    # Get the result\n",
    "    rec = astra.data2d.get(rec_id)\n",
    "    \n",
    "    # Clean up. Note that GPU memory is tied up in the algorithm object,\n",
    "    # and main RAM in the data objects.\n",
    "    astra.algorithm.delete(alg_id)\n",
    "    astra.data2d.delete(rec_id)\n",
    "    astra.data2d.delete(sinogram_id)\n",
    "    astra.clear()\n",
    "    return rec\n",
    "\n",
    "def astra_tomo3d_parallel(sinogram, angles, rec_vol, slice_start, slice_stop):\n",
    "    astra.astra.set_gpu_index([1,])\n",
    "    angles = angles.astype('float64')\n",
    "    detector_size = sinogram.shape[1]\n",
    "#         slices_number = sinogram.shape[0]\n",
    "    slices_number = slice_stop - slice_start\n",
    "        \n",
    "    rec_size = detector_size\n",
    "    vol_geom = astra.create_vol_geom(rec_size, rec_size, slices_number)\n",
    "    proj_geom = astra.create_proj_geom('parallel3d', 1.0, 1.0,  slices_number, detector_size, angles)\n",
    "\n",
    "\n",
    "    sinogram_id = astra.data3d.create('-sino', proj_geom, np.rollaxis(sinogram,-1)[slice_start:slice_stop])\n",
    "    # Create a data object for the reconstruction\n",
    "#     rec_id = astra.data3d.link('-vol', vol_geom, rec_vol[slice_start:slice_stop])\n",
    "    rec_id = astra.data3d.create('-vol', vol_geom)\n",
    "    # Set up the parameters for a reconstruction algorithm using the GPU\n",
    "    cfg = astra.astra_dict('CGLS3D_CUDA')\n",
    "    cfg['ReconstructionDataId'] = rec_id\n",
    "    cfg['ProjectionDataId'] = sinogram_id\n",
    "#     cfg['ProjectorId'] = proj_id # for CPU reconstruction only\n",
    "    cfg['option'] = {}\n",
    "    #cfg['option']['MinConstraint'] = 0\n",
    "    cfg['option']['MinConstraint'] = -0.01\n",
    "\n",
    "    # Available algorithms:\n",
    "    # SIRT_CUDA, SART_CUDA, EM_CUDA, FBP_CUDA (see the FBP sample)\n",
    "\n",
    "    # Create the algorithm object from the configuration structure\n",
    "    alg_id = astra.algorithm.create(cfg)\n",
    "#     astra.data3d.info()\n",
    "    # Run 150 iterations of the algorithm\n",
    "    astra.algorithm.run(alg_id, 30)\n",
    "    \n",
    "    # Get the result\n",
    "    rec = astra.data3d.get(rec_id)\n",
    "\n",
    "    # Clean up. Note that GPU memory is tied up in the algorithm object,\n",
    "    # and main RAM in the data objects.\n",
    "    astra.algorithm.delete(alg_id)\n",
    "    astra.data3d.delete(rec_id)\n",
    "    astra.data3d.delete(sinogram_id)\n",
    "    astra.clear()\n",
    "    return rec"
   ]
  },
  {
   "cell_type": "code",
   "execution_count": null,
   "metadata": {
    "collapsed": false
   },
   "outputs": [],
   "source": [
    "# %%timeit\n",
    "#preview\n",
    "sss = s1[...,int(s1.shape[-1]*0.5)]\n",
    "rec_slice = astra_tomo2d_parallel(sss, uniq_angles*np.pi/180)\n",
    "\n",
    "plt.figure(figsize=(10,10))\n",
    "plt.imshow(rec_slice, vmin=0)\n",
    "plt.axis('tight')\n",
    "plt.colorbar()\n",
    "plt.show()"
   ]
  },
  {
   "cell_type": "code",
   "execution_count": null,
   "metadata": {
    "collapsed": false
   },
   "outputs": [],
   "source": [
    "# t = time.time()\n",
    "# angles =np.array(uniq_angles)*np.pi/180\n",
    "# t_rec_vol = astra_tomo2d_parallel(s1[...,600], angles)\n",
    "# print(time.time()-t)"
   ]
  },
  {
   "cell_type": "code",
   "execution_count": null,
   "metadata": {
    "collapsed": false
   },
   "outputs": [],
   "source": [
    "# plt.figure(figsize=(10,10))\n",
    "# plt.imshow(t_rec_vol, vmin=0)\n",
    "# plt.axis('tight')\n",
    "# plt.colorbar()\n",
    "# plt.show()"
   ]
  },
  {
   "cell_type": "code",
   "execution_count": null,
   "metadata": {
    "collapsed": false
   },
   "outputs": [],
   "source": [
    "# #3d case\n",
    "# t = time.time()\n",
    "# print s1.shape\n",
    "# step = 50\n",
    "# angles =np.array(uniq_angles)*np.pi/180\n",
    "# # for i in log_progress(range(1500, 1700, step)):\n",
    "# for i in tomotools.log_progress(range(0, s1.shape[-1], step)):\n",
    "#     slice_start= i \n",
    "#     slice_stop= min(i+step, s1.shape[-1])\n",
    "#     rec_vol[slice_start:slice_stop] = astra_tomo3d_parallel(s1, angles,\n",
    "#                                        slice_start=slice_start, slice_stop=slice_stop\n",
    "#                                   )\n",
    "# print(time.time()-t)"
   ]
  },
  {
   "cell_type": "code",
   "execution_count": null,
   "metadata": {
    "collapsed": false
   },
   "outputs": [],
   "source": [
    "#multi 2d case\n",
    "t = time.time()\n",
    "print s1.shape\n",
    "angles =np.array(uniq_angles)*np.pi/180\n",
    "# for i in log_progress(range(1500, 1700, step)):\n",
    "for i in tomotools.log_progress(range(0, s1.shape[-1])):\n",
    "    rec_vol[i] = astra_tomo2d_parallel(s1[:,:,i], angles)\n",
    "print(time.time()-t)"
   ]
  },
  {
   "cell_type": "code",
   "execution_count": null,
   "metadata": {
    "collapsed": false
   },
   "outputs": [],
   "source": [
    "plt.figure(figsize=(10,10))\n",
    "plt.imshow(rec_vol[int(rec_vol.shape[0]/2)], cmap=plt.cm.viridis, vmin=0)\n",
    "plt.axis('tight')\n",
    "plt.colorbar()\n",
    "plt.show()"
   ]
  },
  {
   "cell_type": "code",
   "execution_count": null,
   "metadata": {
    "collapsed": false
   },
   "outputs": [],
   "source": [
    "rec_vol_filtered, _ = tomotools.load_create_mm(os.path.join(tmp_dir,'rec_filtered.tmp'),\n",
    "               dtype=np.float32,\n",
    "               shape = rec_vol.shape)"
   ]
  },
  {
   "cell_type": "code",
   "execution_count": null,
   "metadata": {
    "collapsed": false
   },
   "outputs": [],
   "source": [
    "t = time.time()\n",
    "print rec_vol.shape\n",
    "step = 200\n",
    "angles =np.array(uniq_angles)*np.pi/180\n",
    "# for i in log_progress(range(1500, 1700, step)):\n",
    "for i in tomotools.log_progress(range(0, rec_vol.shape[0], step)):\n",
    "    slice_start= i \n",
    "    slice_stop= min(i+step, s1.shape[-1])\n",
    "    rec_vol_filtered[slice_start:slice_stop] = tomopy.remove_ring(\n",
    "        rec_vol[slice_start:slice_stop],\n",
    "        thresh=0.0005,  theta_min=90, rwidth=10)\n",
    "print(time.time()-t)"
   ]
  },
  {
   "cell_type": "code",
   "execution_count": null,
   "metadata": {
    "collapsed": false
   },
   "outputs": [],
   "source": [
    "plt.figure(figsize=(10,10))\n",
    "plt.imshow(rec_vol_filtered[int(rec_vol_filtered.shape[0]/2)], cmap=plt.cm.viridis, vmin=0)\n",
    "plt.axis('tight')\n",
    "plt.colorbar()\n",
    "plt.show()"
   ]
  },
  {
   "cell_type": "code",
   "execution_count": null,
   "metadata": {
    "collapsed": false
   },
   "outputs": [],
   "source": [
    "def save_amira(in_array, out_path, reshape=3):\n",
    "    data_path = out_path\n",
    "    with open(os.path.join(data_path, 'amira.raw'), 'wb') as amira_file:\n",
    "        in_array[::reshape,::reshape,::reshape].tofile(amira_file)\n",
    "        file_shape = in_array[::reshape,::reshape,::reshape].shape\n",
    "        with open(os.path.join(data_path, 'tomo.hx'), 'w') as af:\n",
    "                af.write('# Amira Script\\n')\n",
    "                af.write('remove -all\\n')\n",
    "                af.write(r'[ load -raw ${SCRIPTDIR}/amira.raw little xfastest float 1 '+\n",
    "                         str(file_shape[1])+' '+str(file_shape[2])+' '+str(file_shape[0])+\n",
    "                         ' 0 '+str(file_shape[1]-1)+' 0 '+str(file_shape[2]-1)+' 0 '+str(file_shape[0]-1)+\n",
    "                         ' ] setLabel tomo.raw\\n')\n"
   ]
  },
  {
   "cell_type": "code",
   "execution_count": null,
   "metadata": {
    "collapsed": true
   },
   "outputs": [],
   "source": [
    "save_amira(rec_vol_filtered, tmp_dir)"
   ]
  },
  {
   "cell_type": "code",
   "execution_count": null,
   "metadata": {
    "collapsed": true
   },
   "outputs": [],
   "source": [
    "storage_dir = '/diskmnt/a/makov/'"
   ]
  },
  {
   "cell_type": "code",
   "execution_count": null,
   "metadata": {
    "collapsed": true
   },
   "outputs": [],
   "source": [
    "files_to_remove =  ['data_images_clear.tmp','data_images_masked.tmp',\n",
    "                    'empty_images_masked.tmp',\n",
    "                    'uniq_data_images.tmp','sinogram.tmp',\n",
    "                    'group_empty.tmp','group_empty_angles.tmp',\n",
    "                    'group_dark.tmp','group_dark_angles.tmp',\n",
    "                    'group_data.tmp','group_data_angles.tmp']\n",
    "for fr in files_to_remove:\n",
    "    try:\n",
    "        os.remove(os.path.join(tmp_dir,fr))\n",
    "    except:\n",
    "        pass\n",
    "    try:\n",
    "        os.remove(os.path.join(tmp_dir,fr+'.size'))\n",
    "    except:\n",
    "        pass\n"
   ]
  },
  {
   "cell_type": "code",
   "execution_count": null,
   "metadata": {
    "collapsed": false
   },
   "outputs": [],
   "source": [
    "!cp -r {data_dir} {storage_dir}"
   ]
  },
  {
   "cell_type": "code",
   "execution_count": null,
   "metadata": {
    "collapsed": true
   },
   "outputs": [],
   "source": []
  }
 ],
 "metadata": {
  "anaconda-cloud": {},
  "kernelspec": {
   "display_name": "Python 2",
   "language": "python",
   "name": "python2"
  },
  "language_info": {
   "codemirror_mode": {
    "name": "ipython",
    "version": 2
   },
   "file_extension": ".py",
   "mimetype": "text/x-python",
   "name": "python",
   "nbconvert_exporter": "python",
   "pygments_lexer": "ipython2",
   "version": "2.7.12"
  }
 },
 "nbformat": 4,
 "nbformat_minor": 0
}
