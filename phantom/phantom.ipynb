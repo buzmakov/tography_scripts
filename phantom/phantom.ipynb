{
 "cells": [
  {
   "cell_type": "code",
   "execution_count": null,
   "metadata": {
    "collapsed": true
   },
   "outputs": [],
   "source": [
    "%matplotlib inline"
   ]
  },
  {
   "cell_type": "code",
   "execution_count": null,
   "metadata": {
    "collapsed": true
   },
   "outputs": [],
   "source": [
    "from __future__ import print_function\n",
    "import numpy as np\n",
    "import pylab as plt\n",
    "import xraylib\n",
    "import numba"
   ]
  },
  {
   "cell_type": "code",
   "execution_count": null,
   "metadata": {
    "collapsed": false
   },
   "outputs": [],
   "source": [
    "@numba.jit\n",
    "def create_phantom_tooth(sx, energy, elem1, elem2, pixel_size, isimplant):\n",
    "    \"\"\"\n",
    "    Create phantom, share is two flowers (with 3 and 6 petals)\n",
    "\n",
    "    :param sx: size of phantom\n",
    "    :param energy: energy, set in keV\n",
    "    :param elem1: Number of the chemical element\n",
    "    :param elem2: Number of the chemical element\n",
    "    :param pixel_size: size of one pixel, set in microns\n",
    "    :return: 2d array of phantom\n",
    "    \"\"\"\n",
    "    xraylib.XRayInit()\n",
    "    phantom = np.zeros((sx, sx))\n",
    "    sx_half = sx / 2\n",
    "    sq = sx / 14\n",
    "    \n",
    "    density_1 = xraylib.ElementDensity(elem1)\n",
    "    cross_section_1 = xraylib.CS_Total(elem1, energy)\n",
    "    mu_1 = density_1 * cross_section_1 \n",
    "    \n",
    "    density_2 = xraylib.ElementDensity(elem2)\n",
    "    cross_section_2 = xraylib.CS_Total(elem2, energy)\n",
    "    mu_2 = density_2 * cross_section_2\n",
    "    \n",
    "    for x in range(sx):\n",
    "        for y in range(sx):\n",
    "            xx = float(x - sx_half)\n",
    "            yy = float(y - sx_half)\n",
    "            r = np.sqrt(xx*xx + yy*yy)\n",
    "            tetta = np.arctan2(yy, xx)\n",
    "\n",
    "            if r <= sq*(1 + np.cos(2*tetta) + pow(np.sin(2*tetta), 2)) and xx != 0:\n",
    "                phantom[x, y] = mu_1\n",
    "            if pow(xx, 2) + pow(yy, 2) <= pow(0.09*sx, 2):\n",
    "                phantom[x, y] = mu_1\n",
    "                if (isimplant):\n",
    "                    if pow(xx / (0.11*sx), 2) + pow(yy / (0.07*sx), 2) < 1 and y <= 128.0 and pow(xx / (0.11*sx), 2) + pow(((yy - 0.025*sx) / (0.07*sx)), 2) > 1:\n",
    "                        phantom[x, y] = mu_2\n",
    "            xx = float(x - 5 * sx / 6)\n",
    "            yy = float(y - sx_half + 1)\n",
    "            r = np.sqrt(xx*xx + yy*yy)\n",
    "            tetta = np.arctan2(yy, xx)\n",
    "\n",
    "            if r <= sq*(1 + np.cos(2*tetta) + pow(np.sin(2*tetta), 2)) and xx != 0:\n",
    "                phantom[x, y] = mu_1\n",
    "            if pow(xx, 2) + pow(yy, 2) <= pow(0.09*sx, 2):\n",
    "                phantom[x, y] = mu_1\n",
    "            xx = float(x - sx / 6)\n",
    "            yy = float(y - sx_half - 1)\n",
    "            r = np.sqrt(xx*xx + yy*yy)\n",
    "            tetta = np.arctan2(yy, xx)\n",
    "            if r <= sq * (1 + np.cos(2*tetta) + pow(np.sin(2*tetta), 2)) and xx != 0:\n",
    "                phantom[x, y] = mu_1\n",
    "            if pow(xx, 2) + pow(yy, 2) <= pow(0.09*sx, 2):\n",
    "                phantom[x, y] = mu_1\n",
    "                \n",
    "    phantom *= pixel_size\n",
    "    print(\"for Ca:\")\n",
    "    print(mu_1*pixel_size)\n",
    "    print(\"for Ti\")\n",
    "    print(mu_2*pixel_size)\n",
    "    return phantom\n",
    "\n",
    "def create_phantom(size):\n",
    "    energy = 35.0\n",
    "    elem1 = 20  # Ca\n",
    "    elem2 = 81  # Ti\n",
    "    pixel_size = 0.04\n",
    "    return create_phantom_tooth(size, energy, elem1, elem2, pixel_size, True)"
   ]
  },
  {
   "cell_type": "code",
   "execution_count": null,
   "metadata": {
    "collapsed": false
   },
   "outputs": [],
   "source": [
    "size = 512\n",
    "%timeit original = create_phantom(size)"
   ]
  },
  {
   "cell_type": "code",
   "execution_count": null,
   "metadata": {
    "collapsed": false
   },
   "outputs": [],
   "source": [
    "plt.imshow(original, cmap=plt.cm.pink)\n"
   ]
  },
  {
   "cell_type": "code",
   "execution_count": null,
   "metadata": {
    "collapsed": true
   },
   "outputs": [],
   "source": []
  }
 ],
 "metadata": {
  "kernelspec": {
   "display_name": "Python 2",
   "language": "python",
   "name": "python2"
  },
  "language_info": {
   "codemirror_mode": {
    "name": "ipython",
    "version": 2
   },
   "file_extension": ".py",
   "mimetype": "text/x-python",
   "name": "python",
   "nbconvert_exporter": "python",
   "pygments_lexer": "ipython2",
   "version": "2.7.11"
  }
 },
 "nbformat": 4,
 "nbformat_minor": 0
}
