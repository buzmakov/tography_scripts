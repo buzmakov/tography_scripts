{
 "cells": [
  {
   "cell_type": "code",
   "execution_count": null,
   "metadata": {
    "collapsed": true
   },
   "outputs": [],
   "source": [
    "%matplotlib inline"
   ]
  },
  {
   "cell_type": "code",
   "execution_count": null,
   "metadata": {
    "collapsed": true
   },
   "outputs": [],
   "source": [
    "from __future__ import print_function\n",
    "import numpy as np\n",
    "import pylab as plt\n",
    "import xraylib\n",
    "import tomopy\n",
    "import astra"
   ]
  },
  {
   "cell_type": "code",
   "execution_count": null,
   "metadata": {
    "collapsed": false
   },
   "outputs": [],
   "source": [
    "def create_phantom_tooth_orig(size_x, energy, elem_tooth, elem_implant, pixel_size, isimplant):\n",
    "    \"\"\"\n",
    "    Create phantom, share is two flowers (with 3 and 6 petals)\n",
    "\n",
    "    :param size_x: size of phantom\n",
    "    :param energy: energy, set in keV\n",
    "    :param elem_tooth: Number of the tooth chemical element\n",
    "    :param elem_implant: Number of the chemical element\n",
    "    :param pixel_size: size of one pixel, set in microns\n",
    "    :return: 2d array of phantom\n",
    "    \"\"\"\n",
    "    xraylib.XRayInit()\n",
    "    phantom = np.zeros((size_x, size_x))\n",
    "    sx_half = size_x / 2\n",
    "    sq = size_x / 14\n",
    "    \n",
    "    #calculate mu\n",
    "    density_tooth = xraylib.ElementDensity(elem_tooth)\n",
    "    cross_section_tooth = xraylib.CS_Total(elem_tooth, energy)\n",
    "    mu_tooth = density_tooth * cross_section_tooth \n",
    "    \n",
    "    density_implant = xraylib.ElementDensity(elem_implant)\n",
    "    cross_section_implant = xraylib.CS_Total(elem_implant, energy)\n",
    "    mu_implant = density_implant * cross_section_implant\n",
    "    \n",
    "    #buld mesh\n",
    "    y, x = np.meshgrid(range(size_x), range(size_x))\n",
    "    xx = (x - sx_half).astype('float32')\n",
    "    yy = (y - sx_half).astype('float32')\n",
    "    r = np.sqrt(xx*xx + yy*yy)\n",
    "    tetta = np.arctan2(yy, xx)\n",
    "    \n",
    "    #make teeth\n",
    "    mask_tooth = r <= sq*(1 + np.cos(2*tetta) + np.sin(2*tetta)**2)\n",
    "    mask_tooth += (xx*xx + yy*yy) <=(0.09*size_x)**2\n",
    "    mask_tooth += np.roll(mask_tooth, size_x//3, axis=0) + np.roll(mask_tooth, -size_x//3, axis=0) #  make 3 teeth\n",
    "    phantom[mask_tooth] = mu_tooth\n",
    "    \n",
    "    #make implant\n",
    "    mask_implant = (xx / (0.11*size_x))**2 + (yy / (0.07*size_x))**2 < 1\n",
    "    mask_implant *= y <= sx_half\n",
    "    mask_implant *= ((xx / (0.11*size_x))**2 + (((yy - 0.025*size_x) / (0.07*size_x)))**2) > 1\n",
    "    \n",
    "    if(isimplant):\n",
    "        phantom[mask_implant] = mu_implant\n",
    "            \n",
    "    phantom *= pixel_size\n",
    "#     print(\"for Ca:\")\n",
    "#     print(mu_1*pixel_size)\n",
    "#     print(\"for Ti\")\n",
    "#     print(mu_2*pixel_size)\n",
    "    return phantom\n",
    "\n",
    "def create_phantom(size):\n",
    "    xraylib.XRayInit()\n",
    "    energy = 35.0\n",
    "    elem1 = xraylib.SymbolToAtomicNumber('Ca')\n",
    "    elem2 = xraylib.SymbolToAtomicNumber('Ti')\n",
    "    pixel_size = 0.04\n",
    "    return create_phantom_tooth_orig(size, energy, elem1, elem2, pixel_size, True)"
   ]
  },
  {
   "cell_type": "code",
   "execution_count": null,
   "metadata": {
    "collapsed": false
   },
   "outputs": [],
   "source": [
    "size = 512\n",
    "%timeit original = create_phantom(size)"
   ]
  },
  {
   "cell_type": "code",
   "execution_count": null,
   "metadata": {
    "collapsed": false
   },
   "outputs": [],
   "source": [
    "original = create_phantom(size)\n",
    "plt.imshow(original, cmap=plt.cm.pink)\n",
    "plt.colorbar()"
   ]
  },
  {
   "cell_type": "code",
   "execution_count": null,
   "metadata": {
    "collapsed": false
   },
   "outputs": [],
   "source": [
    "class Spectrum(object):\n",
    "    \"\"\"Object to describe spectrum\"\"\"\n",
    "\n",
    "    def __init__(self, energy, intensity, label):\n",
    "        \"\"\"\n",
    "        :param energy: Energy points, keV\n",
    "        :param intensity: Intensity in au.\n",
    "        :param label: Spectrum label\n",
    "        \n",
    "        \"\"\"\n",
    "        super(Spectrum, self).__init__()\n",
    "        if not len(intensity) == len(energy):\n",
    "            raise ValueError(\n",
    "                'Parameters energy and intansity mast have equal length')\n",
    "        self.energy = energy\n",
    "        self.intensity = intensity\n",
    "        self.label = label"
   ]
  },
  {
   "cell_type": "code",
   "execution_count": null,
   "metadata": {
    "collapsed": false
   },
   "outputs": [],
   "source": [
    "spectra = []\n",
    "spectra.append(Spectrum(\n",
    "        energy= [10, 15, 20, 25, 30, 35, 40, 45, 50, 55, 60, 65, 70, 75, 80, 85, 90],\n",
    "        intensity = [5.50e+16, 1.10e+16, 1.10e+16, 8.00e+15, 4.60e+15, 2.70e+15, 1.75e+15,\n",
    "                     1.25e+15, 7.50e+14, 2.00e+15, 2.80e+15, 1.00e+15, 6.00e+14, 3.80e+14,\n",
    "                     2.70e+14, 1.60e+14, 1.00e+14],\n",
    "        label = '100 kev, no filter'))\n",
    "\n",
    "spectra.append(Spectrum(\n",
    "        energy= [10, 15, 20, 25, 30, 35, 40, 45, 50, 55, 60, 65, 70, 75, 80, 85, 90],\n",
    "        intensity = [2.00e+15, 1.10e+16, 1.10e+16, 8.00e+15, 4.60e+15, 2.70e+15, 1.75e+15,\n",
    "                      1.25e+15, 7.50e+14, 2.00e+15, 2.80e+15, 1.00e+15, 6.00e+14, 3.80e+14,\n",
    "                      2.70e+14, 1.60e+14, 1.00e+14],\n",
    "        label = '100 kev, Al 0.5 mm'))\n",
    "\n",
    "spectra.append(Spectrum(\n",
    "        energy= [10, 15, 20, 25, 30, 35, 40, 43.5, 50, 55, 60, 65, 70, 75, 80, 85, 90],\n",
    "        intensity = [1.00e+00, 1.00e+00, 1.00e+00, 1.00e+00, 1.00e+14, 2.80e+14, 7.00e+14,\n",
    "                      1.35e+15, 7.50e+14, 2.00e+15, 2.80e+15, 1.00e+15, 6.00e+14, 3.80e+14,\n",
    "                      2.70e+14, 1.60e+14, 1.00e+14],\n",
    "        label = '100 kev, Cu 0.25 mm'))\n",
    "\n",
    "spectra.append(Spectrum(\n",
    "        energy=  [10, 11, 13, 15, 17, 20, 23, 25, 30, 33, 35, 40, 43, 45],\n",
    "        intensity = [3.20e+16, 1.40e+16, 6.80e+15, 7.00e+15, 6.50e+15, 5.00e+15, 3.80e+15,\n",
    "                      3.20e+15, 1.60e+15, 1.05e+15, 7.20e+14, 3.80e+14, 2.50e+14, 1.60e+14],\n",
    "        label = '50 kev, no filter'))"
   ]
  },
  {
   "cell_type": "code",
   "execution_count": null,
   "metadata": {
    "collapsed": false
   },
   "outputs": [],
   "source": [
    "plt.figure(figsize=(10,10))\n",
    "colormap = plt.cm.gist_ncar\n",
    "plt.gca().set_prop_cycle('color',[colormap(i) for i in np.linspace(0, 0.9, 4)])\n",
    "for spectrum in spectra:\n",
    "    label = spectrum.label\n",
    "    plt.plot(spectrum.energy, spectrum.intensity, lw=2,label=label)\n",
    "    plt.hold(True)\n",
    "plt.grid(True)\n",
    "plt.legend()\n",
    "plt.show()"
   ]
  },
  {
   "cell_type": "code",
   "execution_count": null,
   "metadata": {
    "collapsed": false
   },
   "outputs": [],
   "source": [
    "class Phantom(object):\n",
    "    \"\"\"Object to describe 2D phantom\"\"\"\n",
    "\n",
    "    def __init__(self, pixel_size=None, shape=None, label=None):\n",
    "        \"\"\"\n",
    "        :param pixel_size: Pixel size mkm\n",
    "        :param shape: Shape of 2D data slices\n",
    "        :param label: Phantom label\n",
    "        \"\"\"\n",
    "        super(Phantom, self).__init__()\n",
    "        self.label = label\n",
    "        self.shape = shape\n",
    "        self.pixel_size = pixel_size\n",
    "        self.slices = {}\n",
    "        \n",
    "        xraylib.XRayInit()\n",
    "        \n",
    "        \n",
    "    def add_slice(self, phantom_slice, element_name):\n",
    "        if self.shape is None:\n",
    "            raise ValueError('Phantom shape is None, please define it')\n",
    "        if not phantom_slice.shape == self.shape:\n",
    "            raise ValueError('Phantom shape is not equal phantom_slice shape')\n",
    "        \n",
    "        element_atomic_number = xraylib.SymbolToAtomicNumber(element_name)\n",
    "        \n",
    "        slice_name = element_name\n",
    "        if not slice_name in self.slices:\n",
    "            self.slices[slice_name] = phantom_slice\n",
    "        else:\n",
    "            self.slices[slice_name] += phantom_slice\n",
    "    \n",
    "    def get_attanuation_map(self, energy):\n",
    "        \"\"\"\n",
    "        :param energy: Energy in kev\n",
    "        \"\"\"\n",
    "       \n",
    "        res = np.zeros(shape = self.shape)\n",
    "        for element_name, element_map in self.slices.iteritems():\n",
    "            element_atomic_number = xraylib.SymbolToAtomicNumber(element_name)\n",
    "            cs = xraylib.CS_Total(element_atomic_number, energy)\n",
    "#             print(element_atomic_number)\n",
    "            res += element_map*cs\n",
    "        return res\n"
   ]
  },
  {
   "cell_type": "code",
   "execution_count": null,
   "metadata": {
    "collapsed": true
   },
   "outputs": [],
   "source": [
    "def create_phantom_tooth(size_x, element_name='Ca'):\n",
    "    \"\"\"\n",
    "    Create phantom, share is two flowers (with 3 petals)\n",
    "\n",
    "    :param size_x: size of phantom\n",
    "    :param element_name: Name of the tooth chemical element\n",
    "    \n",
    "    :return: 2d array of phantom\n",
    "    \"\"\"\n",
    "    xraylib.XRayInit()\n",
    "    phantom = np.zeros((size_x, size_x))\n",
    "    sx_half = size_x / 2\n",
    "    sq = size_x / 14\n",
    "    \n",
    "    #calculate density\n",
    "    elem_tooth = xraylib.SymbolToAtomicNumber(element_name)\n",
    "    density_tooth = xraylib.ElementDensity(elem_tooth)\n",
    "    \n",
    "    \n",
    "    #buld mesh\n",
    "    y, x = np.meshgrid(range(size_x), range(size_x))\n",
    "    xx = (x - sx_half).astype('float32')\n",
    "    yy = (y - sx_half).astype('float32')\n",
    "    r = np.sqrt(xx*xx + yy*yy)\n",
    "    tetta = np.arctan2(yy, xx)\n",
    "    \n",
    "    #make teeth\n",
    "    mask_tooth = r <= sq*(1 + np.cos(2*tetta) + np.sin(2*tetta)**2)\n",
    "    mask_tooth += (xx*xx + yy*yy) <=(0.09*size_x)**2\n",
    "    mask_tooth += np.roll(mask_tooth, size_x//3, axis=0) + np.roll(mask_tooth, -size_x//3, axis=0) #  make 3 teeth\n",
    "    phantom[mask_tooth] = density_tooth\n",
    "    \n",
    "            \n",
    "    return phantom    "
   ]
  },
  {
   "cell_type": "code",
   "execution_count": null,
   "metadata": {
    "collapsed": true
   },
   "outputs": [],
   "source": [
    "def create_phantom_implant(size_x, element_name='Ti'):\n",
    "    \"\"\"\n",
    "    Create phantom implant\n",
    "\n",
    "    :param size_x: size of phantom\n",
    "    :param element_name: Name of the implant chemical element\n",
    "    \n",
    "    :return: 2d array of phantom\n",
    "    \"\"\"\n",
    "    xraylib.XRayInit()\n",
    "    phantom = np.zeros((size_x, size_x))\n",
    "    sx_half = size_x / 2\n",
    "    sq = size_x / 14\n",
    "    \n",
    "    \n",
    "    elem_implant = xraylib.SymbolToAtomicNumber(element_name)\n",
    "    density_implant = xraylib.ElementDensity(elem_implant)\n",
    "    \n",
    "    #buld mesh\n",
    "    y, x = np.meshgrid(range(size_x), range(size_x))\n",
    "    xx = (x - sx_half).astype('float32')\n",
    "    yy = (y - sx_half).astype('float32')\n",
    "    r = np.sqrt(xx*xx + yy*yy)\n",
    "    tetta = np.arctan2(yy, xx)\n",
    "    \n",
    "   \n",
    "    #make implant\n",
    "    mask_implant = (xx / (0.11*size_x))**2 + (yy / (0.07*size_x))**2 < 1\n",
    "    mask_implant *= y <= sx_half\n",
    "    mask_implant *= ((xx / (0.11*size_x))**2 + (((yy - 0.025*size_x) / (0.07*size_x)))**2) > 1\n",
    "    \n",
    "    phantom[mask_implant] = density_implant\n",
    "            \n",
    "    return phantom "
   ]
  },
  {
   "cell_type": "code",
   "execution_count": null,
   "metadata": {
    "collapsed": true
   },
   "outputs": [],
   "source": [
    "def create_phantom_sl(size_x, element_name='Al'):\n",
    "    \"\"\"\n",
    "    Create Shepp-Logan phantom\n",
    "\n",
    "    :param size_x: size of phantom\n",
    "    :param element_name: Name of the implant chemical element\n",
    "    \n",
    "    :return: 2d array of phantom\n",
    "    \"\"\"\n",
    "    xraylib.XRayInit()\n",
    "    \n",
    "    elem = xraylib.SymbolToAtomicNumber(element_name)\n",
    "    density = xraylib.ElementDensity(elem)\n",
    "    \n",
    "    phantom = tomopy.shepp2d(size=size_x)\n",
    "    phantom = np.squeeze(phantom/phantom.max())\n",
    "    return phantom*density"
   ]
  },
  {
   "cell_type": "code",
   "execution_count": null,
   "metadata": {
    "collapsed": false
   },
   "outputs": [],
   "source": [
    "size = 256\n",
    "phantom = Phantom(shape=(size,size), pixel_size=10e-4)\n",
    "\n",
    "tooth = create_phantom_tooth(size, 'Ca')\n",
    "implant = create_phantom_implant(size, 'Ti')\n",
    "sl = create_phantom_sl(size, 'Al')\n",
    "\n",
    "tooth[implant>0] = 0\n",
    "\n",
    "phantom.add_slice(tooth, 'Ca')\n",
    "phantom.add_slice(implant, 'Ti')\n",
    "phantom.add_slice(sl, 'Al')"
   ]
  },
  {
   "cell_type": "code",
   "execution_count": null,
   "metadata": {
    "collapsed": false
   },
   "outputs": [],
   "source": [
    "total = None\n",
    "for k,v in phantom.slices.iteritems():\n",
    "    if total is None:\n",
    "        total = v\n",
    "    else:\n",
    "        total+=v\n",
    "        \n",
    "    plt.figure()\n",
    "    plt.imshow(v)\n",
    "    plt.title(k)\n",
    "    plt.colorbar()\n",
    "    plt.show()\n",
    "    \n",
    "plt.figure()\n",
    "plt.imshow(total)\n",
    "plt.title('Total density')\n",
    "plt.colorbar()\n",
    "plt.show()"
   ]
  },
  {
   "cell_type": "code",
   "execution_count": null,
   "metadata": {
    "collapsed": false,
    "scrolled": false
   },
   "outputs": [],
   "source": [
    "for e in range(1,10,1):\n",
    "    p = phantom.get_attanuation_map(e)\n",
    "    plt.figure()\n",
    "    plt.imshow(p)\n",
    "    plt.title(e)\n",
    "    plt.colorbar()\n",
    "    plt.show()"
   ]
  },
  {
   "cell_type": "code",
   "execution_count": null,
   "metadata": {
    "collapsed": false
   },
   "outputs": [],
   "source": [
    "plt.figure(figsize=(10,10))\n",
    "colormap = plt.cm.gist_ncar\n",
    "plt.gca().set_prop_cycle('color',[colormap(i) for i in np.linspace(0, 0.9, 4)])\n",
    "\n",
    "for e_name in phantom.slices:\n",
    "    element_atomic_number = xraylib.SymbolToAtomicNumber(e_name)\n",
    "    energy = np.arange(2,100,.1)\n",
    "    cs = [xraylib.CS_Total(element_atomic_number, e)*xraylib.ElementDensity(element_atomic_number) for e in energy]\n",
    "    cs = np.array(cs)\n",
    "    plt.semilogy(energy, 1.e4/cs, label = e_name)\n",
    "    plt.legend()\n",
    "    plt.grid(True)\n",
    "    plt.xlabel('keV')\n",
    "    plt.ylabel('mkm')\n",
    "    "
   ]
  },
  {
   "cell_type": "markdown",
   "metadata": {
    "collapsed": true
   },
   "source": [
    "# Как происходит построение синограммы.\n",
    "## В монохроматическом случае:\n",
    "\n",
    "Интенсивность прошедшего пучка $I_1$ зависит от интенсивность падающего пучка $I_0$ так: $$I_1=I_0 \\int_l {-\\mu(x)dx},$$\n",
    "при этом, т.к. излучение монохроматично, то $$I=N \\times E,$$ где $I$ - интенсивнось излучения (поток энергии), $N$ - число упавших квантов, $E$ - энергия одного кванта.\n",
    "\n",
    "Отсюда следует, что независимо от того, регистрируется-ли суммарная энергия или число квантов, синограмма выглядит так: $$s = I_1/I_0 = \\int_l {-\\mu(x)dx} $$ \n",
    "\n",
    "\n",
    "## В монохроматическом случае:\n",
    "Если излучение полихроматичное, то: $$I_1(E)=I_0(E) \\int_l {-\\mu(x,E)dx},$$\n",
    "\n",
    "Суммарное излучение на детекторе:  $$I=\\int_0^{E_{max}} I(E) dE $$\n"
   ]
  },
  {
   "cell_type": "code",
   "execution_count": null,
   "metadata": {
    "collapsed": true
   },
   "outputs": [],
   "source": [
    "spectr = [s for s in spectra if s.label == '100 kev, Al 0.5 mm'][0]"
   ]
  },
  {
   "cell_type": "code",
   "execution_count": null,
   "metadata": {
    "collapsed": false
   },
   "outputs": [],
   "source": [
    "spectr.label"
   ]
  },
  {
   "cell_type": "code",
   "execution_count": null,
   "metadata": {
    "collapsed": true
   },
   "outputs": [],
   "source": [
    "def create_sinogram(data, angles):\n",
    "    detector_size = int(data.shape[0]*np.sqrt(2))\n",
    "    \n",
    "    vol_geom = astra.create_vol_geom(data.shape[0], data.shape[1])\n",
    "    proj_geom = astra.create_proj_geom('parallel', 1.0, detector_size, angles)\n",
    "    proj_id = astra.create_projector('cuda',proj_geom,vol_geom)\n",
    "    \n",
    "    W = astra.OpTomo(proj_id)\n",
    "    P = data\n",
    "    sinogram = W * P\n",
    "    sinogram = sinogram.reshape([len(angles), detector_size])\n",
    "    return sinogram"
   ]
  },
  {
   "cell_type": "code",
   "execution_count": null,
   "metadata": {
    "collapsed": false,
    "scrolled": false
   },
   "outputs": [],
   "source": [
    "for i in range(1,10):\n",
    "    p = phantom.get_attanuation_map(i)\n",
    "    s = create_sinogram(p, np.linspace(-np.pi/2,np.pi/2,180,False))\n",
    "#     plt.figure()\n",
    "#     plt.imshow(s)\n",
    "# #     plt.colorbar()\n",
    "#     plt.title(i)\n",
    "#     plt.savefig('{}.png'.format(i))\n",
    "    np.savetxt('{}.txt'.format(i),\n",
    "               s,fmt='%d',\n",
    "               header='# {} {}'.format(s.shape[0],s.shape[1]))"
   ]
  },
  {
   "cell_type": "code",
   "execution_count": null,
   "metadata": {
    "collapsed": true
   },
   "outputs": [],
   "source": []
  }
 ],
 "metadata": {
  "kernelspec": {
   "display_name": "Python 2",
   "language": "python",
   "name": "python2"
  },
  "language_info": {
   "codemirror_mode": {
    "name": "ipython",
    "version": 2
   },
   "file_extension": ".py",
   "mimetype": "text/x-python",
   "name": "python",
   "nbconvert_exporter": "python",
   "pygments_lexer": "ipython2",
   "version": "2.7.11"
  }
 },
 "nbformat": 4,
 "nbformat_minor": 0
}
